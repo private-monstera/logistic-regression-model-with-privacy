{
 "cells": [
  {
   "cell_type": "code",
   "execution_count": 68,
   "metadata": {},
   "outputs": [],
   "source": [
    "import json\n",
    "import pickle\n",
    "import numpy as np\n",
    "from operator import itemgetter\n",
    "from sklearn.linear_model import LogisticRegression\n",
    "from sklearn.metrics import classification_report\n",
    "from sklearn.metrics import confusion_matrix\n",
    "from sklearn.metrics import precision_score\n",
    "from sklearn.metrics import recall_score\n",
    "from sklearn.metrics import roc_auc_score\n",
    "from sklearn.externals import joblib"
   ]
  },
  {
   "cell_type": "code",
   "execution_count": 69,
   "metadata": {},
   "outputs": [],
   "source": [
    "# Read files\n",
    "with open('clean_data_leap/visit_mappings.pkl', 'rb') as f:\n",
    "        visit_mappings = pickle.load(f)\n",
    "\n",
    "with open('clean_data_leap/sorted_diag_list.pkl', 'rb') as f:\n",
    "        sorted_diag_list = pickle.load(f)\n",
    "\n",
    "with open('clean_data_leap/sorted_drug_list.pkl', 'rb') as f:\n",
    "        sorted_drug_list = pickle.load(f)\n",
    "\n",
    "with open('clean_data_leap/diag_order.pkl', 'rb') as f:\n",
    "        diag_order = pickle.load(f)"
   ]
  },
  {
   "cell_type": "code",
   "execution_count": 70,
   "metadata": {},
   "outputs": [],
   "source": [
    "# One hot encoding and buid matrix\n",
    "def feature_matrix(visit_mappings, order):\n",
    "    one_hot_matrix = list()\n",
    "    for mapping in visit_mappings:\n",
    "        matrix_row = [0 for _ in range(2001)]\n",
    "        for diag in mapping['diag_list']:\n",
    "            matrix_row[order[diag]] = 1\n",
    "        one_hot_matrix.append(matrix_row)\n",
    "    return one_hot_matrix"
   ]
  },
  {
   "cell_type": "code",
   "execution_count": 71,
   "metadata": {},
   "outputs": [],
   "source": [
    "# One hot encoding and buid vector\n",
    "def feature_vector(visit_mappings, label):\n",
    "    one_hot_vec = [0 for _ in range(len(visit_mappings))]\n",
    "    for i in range(len(one_hot_vec)):\n",
    "        if label[0] in visit_mappings[i]['drug_list']:\n",
    "            one_hot_vec[i] = 1\n",
    "    return one_hot_vec"
   ]
  },
  {
   "cell_type": "code",
   "execution_count": 72,
   "metadata": {},
   "outputs": [],
   "source": [
    "# Split data by year and generate indices\n",
    "def split_indices(visit_mappings, year):\n",
    "    train = list()\n",
    "    test = list()\n",
    "    for i in range(len(visit_mappings)):\n",
    "        if int(visit_mappings[i]['visit_year']) >= int(year):\n",
    "            test.append(i)\n",
    "        else:\n",
    "            train.append(i)\n",
    "    return train, test"
   ]
  },
  {
   "cell_type": "code",
   "execution_count": 73,
   "metadata": {},
   "outputs": [],
   "source": [
    "# Find the relationship between medicine and diagnosis by logistic regression\n",
    "# @return: a list: 0-array:intercept, 1-dict:decisive diags & coef, 2-dict:strong positive diags & coef, 3-dict:negative diags & coefs\n",
    "#                  4-float:precision, 5-float:recall, 6-float:AUC, 7-lr object:logistic regression model\n",
    "def logistic_regression(matrix, vec, train, test):\n",
    "\n",
    "    key_info = list()\n",
    "\n",
    "    # Split data into training set and test set\n",
    "    X_train = np.matrix([matrix[i] for i in train])\n",
    "    X_test = np.matrix([matrix[i] for i in test])\n",
    "    y_train = [vec[i] for i in train]\n",
    "    y_test = [vec[i] for i in test]\n",
    "\n",
    "    # Build logistic model\n",
    "    lr = LogisticRegression()\n",
    "    lr.fit(X_train, y_train)\n",
    "\n",
    "    # Prediction\n",
    "    y_predict = lr.predict(X_test)\n",
    "\n",
    "    # Evaluate prediction\n",
    "    print(\"\\n---------------------Classification Report--------------------\\n\")\n",
    "    print(classification_report(y_test, y_predict))\n",
    "    print(\"\\n-----------------------Confusion Matrix-----------------------\\n\")\n",
    "    print(confusion_matrix(y_test, y_predict))\n",
    "    for ele in y_test:\n",
    "        if ele == 1:\n",
    "            auc = roc_auc_score(y_test, y_predict)\n",
    "            break\n",
    "        else:\n",
    "            auc = 0\n",
    "    print(\"\\n------------------------ROC/AUC SCORE-------------------------\\n\")\n",
    "    print(\"%-10.4f\" %(auc))\n",
    "    key_info.append(precision_score(y_test, y_predict))\n",
    "    key_info.append(recall_score(y_test, y_predict))\n",
    "    key_info.append(auc)\n",
    "\n",
    "    key_info.append(lr)\n",
    "\n",
    "    return key_info"
   ]
  },
  {
   "cell_type": "code",
   "execution_count": 74,
   "metadata": {},
   "outputs": [
    {
     "name": "stderr",
     "output_type": "stream",
     "text": [
      "/anaconda3/lib/python3.7/site-packages/sklearn/linear_model/logistic.py:432: FutureWarning: Default solver will be changed to 'lbfgs' in 0.22. Specify a solver to silence this warning.\n",
      "  FutureWarning)\n"
     ]
    },
    {
     "name": "stdout",
     "output_type": "stream",
     "text": [
      "\n",
      "---------------------Classification Report--------------------\n",
      "\n",
      "              precision    recall  f1-score   support\n",
      "\n",
      "           0       0.75      0.80      0.77      3968\n",
      "           1       0.73      0.67      0.70      3192\n",
      "\n",
      "    accuracy                           0.74      7160\n",
      "   macro avg       0.74      0.73      0.73      7160\n",
      "weighted avg       0.74      0.74      0.74      7160\n",
      "\n",
      "\n",
      "-----------------------Confusion Matrix-----------------------\n",
      "\n",
      "[[3166  802]\n",
      " [1063 2129]]\n",
      "\n",
      "------------------------ROC/AUC SCORE-------------------------\n",
      "\n",
      "0.7324    \n"
     ]
    },
    {
     "name": "stderr",
     "output_type": "stream",
     "text": [
      "/anaconda3/lib/python3.7/site-packages/sklearn/linear_model/logistic.py:432: FutureWarning: Default solver will be changed to 'lbfgs' in 0.22. Specify a solver to silence this warning.\n",
      "  FutureWarning)\n"
     ]
    },
    {
     "name": "stdout",
     "output_type": "stream",
     "text": [
      "\n",
      "---------------------Classification Report--------------------\n",
      "\n",
      "              precision    recall  f1-score   support\n",
      "\n",
      "           0       0.75      0.82      0.79      4214\n",
      "           1       0.71      0.61      0.66      2946\n",
      "\n",
      "    accuracy                           0.74      7160\n",
      "   macro avg       0.73      0.72      0.72      7160\n",
      "weighted avg       0.73      0.74      0.73      7160\n",
      "\n",
      "\n",
      "-----------------------Confusion Matrix-----------------------\n",
      "\n",
      "[[3476  738]\n",
      " [1147 1799]]\n",
      "\n",
      "------------------------ROC/AUC SCORE-------------------------\n",
      "\n",
      "0.7178    \n"
     ]
    },
    {
     "name": "stderr",
     "output_type": "stream",
     "text": [
      "/anaconda3/lib/python3.7/site-packages/sklearn/linear_model/logistic.py:432: FutureWarning: Default solver will be changed to 'lbfgs' in 0.22. Specify a solver to silence this warning.\n",
      "  FutureWarning)\n"
     ]
    },
    {
     "name": "stdout",
     "output_type": "stream",
     "text": [
      "\n",
      "---------------------Classification Report--------------------\n",
      "\n",
      "              precision    recall  f1-score   support\n",
      "\n",
      "           0       0.71      0.81      0.76      4309\n",
      "           1       0.63      0.51      0.56      2851\n",
      "\n",
      "    accuracy                           0.69      7160\n",
      "   macro avg       0.67      0.66      0.66      7160\n",
      "weighted avg       0.68      0.69      0.68      7160\n",
      "\n",
      "\n",
      "-----------------------Confusion Matrix-----------------------\n",
      "\n",
      "[[3469  840]\n",
      " [1400 1451]]\n",
      "\n",
      "------------------------ROC/AUC SCORE-------------------------\n",
      "\n",
      "0.6570    \n"
     ]
    },
    {
     "name": "stderr",
     "output_type": "stream",
     "text": [
      "/anaconda3/lib/python3.7/site-packages/sklearn/linear_model/logistic.py:432: FutureWarning: Default solver will be changed to 'lbfgs' in 0.22. Specify a solver to silence this warning.\n",
      "  FutureWarning)\n"
     ]
    },
    {
     "name": "stdout",
     "output_type": "stream",
     "text": [
      "\n",
      "---------------------Classification Report--------------------\n",
      "\n",
      "              precision    recall  f1-score   support\n",
      "\n",
      "           0       0.77      0.82      0.79      4407\n",
      "           1       0.68      0.61      0.64      2753\n",
      "\n",
      "    accuracy                           0.74      7160\n",
      "   macro avg       0.72      0.71      0.72      7160\n",
      "weighted avg       0.73      0.74      0.73      7160\n",
      "\n",
      "\n",
      "-----------------------Confusion Matrix-----------------------\n",
      "\n",
      "[[3613  794]\n",
      " [1087 1666]]\n",
      "\n",
      "------------------------ROC/AUC SCORE-------------------------\n",
      "\n",
      "0.7125    \n"
     ]
    },
    {
     "name": "stderr",
     "output_type": "stream",
     "text": [
      "/anaconda3/lib/python3.7/site-packages/sklearn/linear_model/logistic.py:432: FutureWarning: Default solver will be changed to 'lbfgs' in 0.22. Specify a solver to silence this warning.\n",
      "  FutureWarning)\n"
     ]
    },
    {
     "name": "stdout",
     "output_type": "stream",
     "text": [
      "\n",
      "---------------------Classification Report--------------------\n",
      "\n",
      "              precision    recall  f1-score   support\n",
      "\n",
      "           0       0.76      0.83      0.79      4534\n",
      "           1       0.65      0.55      0.60      2626\n",
      "\n",
      "    accuracy                           0.73      7160\n",
      "   macro avg       0.71      0.69      0.70      7160\n",
      "weighted avg       0.72      0.73      0.72      7160\n",
      "\n",
      "\n",
      "-----------------------Confusion Matrix-----------------------\n",
      "\n",
      "[[3761  773]\n",
      " [1173 1453]]\n",
      "\n",
      "------------------------ROC/AUC SCORE-------------------------\n",
      "\n",
      "0.6914    \n"
     ]
    },
    {
     "name": "stderr",
     "output_type": "stream",
     "text": [
      "/anaconda3/lib/python3.7/site-packages/sklearn/linear_model/logistic.py:432: FutureWarning: Default solver will be changed to 'lbfgs' in 0.22. Specify a solver to silence this warning.\n",
      "  FutureWarning)\n"
     ]
    },
    {
     "name": "stdout",
     "output_type": "stream",
     "text": [
      "\n",
      "---------------------Classification Report--------------------\n",
      "\n",
      "              precision    recall  f1-score   support\n",
      "\n",
      "           0       0.80      0.86      0.83      4613\n",
      "           1       0.71      0.61      0.65      2547\n",
      "\n",
      "    accuracy                           0.77      7160\n",
      "   macro avg       0.75      0.73      0.74      7160\n",
      "weighted avg       0.77      0.77      0.77      7160\n",
      "\n",
      "\n",
      "-----------------------Confusion Matrix-----------------------\n",
      "\n",
      "[[3972  641]\n",
      " [1004 1543]]\n",
      "\n",
      "------------------------ROC/AUC SCORE-------------------------\n",
      "\n",
      "0.7334    \n"
     ]
    },
    {
     "name": "stderr",
     "output_type": "stream",
     "text": [
      "/anaconda3/lib/python3.7/site-packages/sklearn/linear_model/logistic.py:432: FutureWarning: Default solver will be changed to 'lbfgs' in 0.22. Specify a solver to silence this warning.\n",
      "  FutureWarning)\n"
     ]
    },
    {
     "name": "stdout",
     "output_type": "stream",
     "text": [
      "\n",
      "---------------------Classification Report--------------------\n",
      "\n",
      "              precision    recall  f1-score   support\n",
      "\n",
      "           0       0.75      0.82      0.79      4535\n",
      "           1       0.64      0.54      0.58      2625\n",
      "\n",
      "    accuracy                           0.72      7160\n",
      "   macro avg       0.69      0.68      0.68      7160\n",
      "weighted avg       0.71      0.72      0.71      7160\n",
      "\n",
      "\n",
      "-----------------------Confusion Matrix-----------------------\n",
      "\n",
      "[[3731  804]\n",
      " [1220 1405]]\n",
      "\n",
      "------------------------ROC/AUC SCORE-------------------------\n",
      "\n",
      "0.6790    \n"
     ]
    },
    {
     "name": "stderr",
     "output_type": "stream",
     "text": [
      "/anaconda3/lib/python3.7/site-packages/sklearn/linear_model/logistic.py:432: FutureWarning: Default solver will be changed to 'lbfgs' in 0.22. Specify a solver to silence this warning.\n",
      "  FutureWarning)\n"
     ]
    },
    {
     "name": "stdout",
     "output_type": "stream",
     "text": [
      "\n",
      "---------------------Classification Report--------------------\n",
      "\n",
      "              precision    recall  f1-score   support\n",
      "\n",
      "           0       0.78      0.86      0.82      4697\n",
      "           1       0.67      0.53      0.59      2463\n",
      "\n",
      "    accuracy                           0.75      7160\n",
      "   macro avg       0.72      0.70      0.71      7160\n",
      "weighted avg       0.74      0.75      0.74      7160\n",
      "\n",
      "\n",
      "-----------------------Confusion Matrix-----------------------\n",
      "\n",
      "[[4046  651]\n",
      " [1147 1316]]\n",
      "\n",
      "------------------------ROC/AUC SCORE-------------------------\n",
      "\n",
      "0.6979    \n"
     ]
    },
    {
     "name": "stderr",
     "output_type": "stream",
     "text": [
      "/anaconda3/lib/python3.7/site-packages/sklearn/linear_model/logistic.py:432: FutureWarning: Default solver will be changed to 'lbfgs' in 0.22. Specify a solver to silence this warning.\n",
      "  FutureWarning)\n"
     ]
    },
    {
     "name": "stdout",
     "output_type": "stream",
     "text": [
      "\n",
      "---------------------Classification Report--------------------\n",
      "\n",
      "              precision    recall  f1-score   support\n",
      "\n",
      "           0       0.76      0.86      0.81      4748\n",
      "           1       0.63      0.46      0.53      2412\n",
      "\n",
      "    accuracy                           0.73      7160\n",
      "   macro avg       0.69      0.66      0.67      7160\n",
      "weighted avg       0.71      0.73      0.71      7160\n",
      "\n",
      "\n",
      "-----------------------Confusion Matrix-----------------------\n",
      "\n",
      "[[4083  665]\n",
      " [1303 1109]]\n",
      "\n",
      "------------------------ROC/AUC SCORE-------------------------\n",
      "\n",
      "0.6599    \n"
     ]
    },
    {
     "name": "stderr",
     "output_type": "stream",
     "text": [
      "/anaconda3/lib/python3.7/site-packages/sklearn/linear_model/logistic.py:432: FutureWarning: Default solver will be changed to 'lbfgs' in 0.22. Specify a solver to silence this warning.\n",
      "  FutureWarning)\n"
     ]
    },
    {
     "name": "stdout",
     "output_type": "stream",
     "text": [
      "\n",
      "---------------------Classification Report--------------------\n",
      "\n",
      "              precision    recall  f1-score   support\n",
      "\n",
      "           0       0.74      0.88      0.80      4909\n",
      "           1       0.55      0.32      0.40      2251\n",
      "\n",
      "    accuracy                           0.70      7160\n",
      "   macro avg       0.64      0.60      0.60      7160\n",
      "weighted avg       0.68      0.70      0.68      7160\n",
      "\n",
      "\n",
      "-----------------------Confusion Matrix-----------------------\n",
      "\n",
      "[[4310  599]\n",
      " [1528  723]]\n",
      "\n",
      "------------------------ROC/AUC SCORE-------------------------\n",
      "\n",
      "0.5996    \n"
     ]
    },
    {
     "name": "stderr",
     "output_type": "stream",
     "text": [
      "/anaconda3/lib/python3.7/site-packages/sklearn/linear_model/logistic.py:432: FutureWarning: Default solver will be changed to 'lbfgs' in 0.22. Specify a solver to silence this warning.\n",
      "  FutureWarning)\n"
     ]
    },
    {
     "name": "stdout",
     "output_type": "stream",
     "text": [
      "\n",
      "---------------------Classification Report--------------------\n",
      "\n",
      "              precision    recall  f1-score   support\n",
      "\n",
      "           0       0.83      0.89      0.86      4817\n",
      "           1       0.73      0.62      0.67      2343\n",
      "\n",
      "    accuracy                           0.80      7160\n",
      "   macro avg       0.78      0.75      0.76      7160\n",
      "weighted avg       0.80      0.80      0.80      7160\n",
      "\n",
      "\n",
      "-----------------------Confusion Matrix-----------------------\n",
      "\n",
      "[[4279  538]\n",
      " [ 894 1449]]\n",
      "\n",
      "------------------------ROC/AUC SCORE-------------------------\n",
      "\n",
      "0.7534    \n"
     ]
    },
    {
     "name": "stderr",
     "output_type": "stream",
     "text": [
      "/anaconda3/lib/python3.7/site-packages/sklearn/linear_model/logistic.py:432: FutureWarning: Default solver will be changed to 'lbfgs' in 0.22. Specify a solver to silence this warning.\n",
      "  FutureWarning)\n"
     ]
    },
    {
     "name": "stdout",
     "output_type": "stream",
     "text": [
      "\n",
      "---------------------Classification Report--------------------\n",
      "\n",
      "              precision    recall  f1-score   support\n",
      "\n",
      "           0       0.82      0.91      0.86      4973\n",
      "           1       0.73      0.55      0.63      2187\n",
      "\n",
      "    accuracy                           0.80      7160\n",
      "   macro avg       0.77      0.73      0.75      7160\n",
      "weighted avg       0.79      0.80      0.79      7160\n",
      "\n",
      "\n",
      "-----------------------Confusion Matrix-----------------------\n",
      "\n",
      "[[4514  459]\n",
      " [ 976 1211]]\n",
      "\n",
      "------------------------ROC/AUC SCORE-------------------------\n",
      "\n",
      "0.7307    \n"
     ]
    },
    {
     "name": "stderr",
     "output_type": "stream",
     "text": [
      "/anaconda3/lib/python3.7/site-packages/sklearn/linear_model/logistic.py:432: FutureWarning: Default solver will be changed to 'lbfgs' in 0.22. Specify a solver to silence this warning.\n",
      "  FutureWarning)\n"
     ]
    },
    {
     "name": "stdout",
     "output_type": "stream",
     "text": [
      "\n",
      "---------------------Classification Report--------------------\n",
      "\n",
      "              precision    recall  f1-score   support\n",
      "\n",
      "           0       0.82      0.89      0.86      5098\n",
      "           1       0.66      0.53      0.59      2062\n",
      "\n",
      "    accuracy                           0.79      7160\n",
      "   macro avg       0.74      0.71      0.72      7160\n",
      "weighted avg       0.78      0.79      0.78      7160\n",
      "\n",
      "\n",
      "-----------------------Confusion Matrix-----------------------\n",
      "\n",
      "[[4540  558]\n",
      " [ 975 1087]]\n",
      "\n",
      "------------------------ROC/AUC SCORE-------------------------\n",
      "\n",
      "0.7089    \n"
     ]
    },
    {
     "name": "stderr",
     "output_type": "stream",
     "text": [
      "/anaconda3/lib/python3.7/site-packages/sklearn/linear_model/logistic.py:432: FutureWarning: Default solver will be changed to 'lbfgs' in 0.22. Specify a solver to silence this warning.\n",
      "  FutureWarning)\n"
     ]
    },
    {
     "name": "stdout",
     "output_type": "stream",
     "text": [
      "\n",
      "---------------------Classification Report--------------------\n",
      "\n",
      "              precision    recall  f1-score   support\n",
      "\n",
      "           0       0.82      0.91      0.86      5191\n",
      "           1       0.66      0.47      0.55      1969\n",
      "\n",
      "    accuracy                           0.79      7160\n",
      "   macro avg       0.74      0.69      0.70      7160\n",
      "weighted avg       0.77      0.79      0.77      7160\n",
      "\n",
      "\n",
      "-----------------------Confusion Matrix-----------------------\n",
      "\n",
      "[[4711  480]\n",
      " [1049  920]]\n",
      "\n",
      "------------------------ROC/AUC SCORE-------------------------\n",
      "\n",
      "0.6874    \n"
     ]
    },
    {
     "name": "stderr",
     "output_type": "stream",
     "text": [
      "/anaconda3/lib/python3.7/site-packages/sklearn/linear_model/logistic.py:432: FutureWarning: Default solver will be changed to 'lbfgs' in 0.22. Specify a solver to silence this warning.\n",
      "  FutureWarning)\n"
     ]
    },
    {
     "name": "stdout",
     "output_type": "stream",
     "text": [
      "\n",
      "---------------------Classification Report--------------------\n",
      "\n",
      "              precision    recall  f1-score   support\n",
      "\n",
      "           0       0.77      0.90      0.83      5231\n",
      "           1       0.49      0.25      0.33      1929\n",
      "\n",
      "    accuracy                           0.73      7160\n",
      "   macro avg       0.63      0.58      0.58      7160\n",
      "weighted avg       0.69      0.73      0.70      7160\n",
      "\n",
      "\n",
      "-----------------------Confusion Matrix-----------------------\n",
      "\n",
      "[[4729  502]\n",
      " [1442  487]]\n",
      "\n",
      "------------------------ROC/AUC SCORE-------------------------\n",
      "\n",
      "0.5782    \n"
     ]
    },
    {
     "name": "stderr",
     "output_type": "stream",
     "text": [
      "/anaconda3/lib/python3.7/site-packages/sklearn/linear_model/logistic.py:432: FutureWarning: Default solver will be changed to 'lbfgs' in 0.22. Specify a solver to silence this warning.\n",
      "  FutureWarning)\n"
     ]
    },
    {
     "name": "stdout",
     "output_type": "stream",
     "text": [
      "\n",
      "---------------------Classification Report--------------------\n",
      "\n",
      "              precision    recall  f1-score   support\n",
      "\n",
      "           0       0.84      0.91      0.87      5274\n",
      "           1       0.66      0.50      0.57      1886\n",
      "\n",
      "    accuracy                           0.80      7160\n",
      "   macro avg       0.75      0.70      0.72      7160\n",
      "weighted avg       0.79      0.80      0.79      7160\n",
      "\n",
      "\n",
      "-----------------------Confusion Matrix-----------------------\n",
      "\n",
      "[[4779  495]\n",
      " [ 936  950]]\n",
      "\n",
      "------------------------ROC/AUC SCORE-------------------------\n",
      "\n",
      "0.7049    \n"
     ]
    },
    {
     "name": "stderr",
     "output_type": "stream",
     "text": [
      "/anaconda3/lib/python3.7/site-packages/sklearn/linear_model/logistic.py:432: FutureWarning: Default solver will be changed to 'lbfgs' in 0.22. Specify a solver to silence this warning.\n",
      "  FutureWarning)\n"
     ]
    },
    {
     "name": "stdout",
     "output_type": "stream",
     "text": [
      "\n",
      "---------------------Classification Report--------------------\n",
      "\n",
      "              precision    recall  f1-score   support\n",
      "\n",
      "           0       0.86      0.93      0.89      5265\n",
      "           1       0.76      0.58      0.65      1895\n",
      "\n",
      "    accuracy                           0.84      7160\n",
      "   macro avg       0.81      0.75      0.77      7160\n",
      "weighted avg       0.83      0.84      0.83      7160\n",
      "\n",
      "\n",
      "-----------------------Confusion Matrix-----------------------\n",
      "\n",
      "[[4913  352]\n",
      " [ 805 1090]]\n",
      "\n",
      "------------------------ROC/AUC SCORE-------------------------\n",
      "\n",
      "0.7542    \n"
     ]
    },
    {
     "name": "stderr",
     "output_type": "stream",
     "text": [
      "/anaconda3/lib/python3.7/site-packages/sklearn/linear_model/logistic.py:432: FutureWarning: Default solver will be changed to 'lbfgs' in 0.22. Specify a solver to silence this warning.\n",
      "  FutureWarning)\n"
     ]
    },
    {
     "name": "stdout",
     "output_type": "stream",
     "text": [
      "\n",
      "---------------------Classification Report--------------------\n",
      "\n",
      "              precision    recall  f1-score   support\n",
      "\n",
      "           0       0.82      0.91      0.86      5198\n",
      "           1       0.67      0.48      0.56      1962\n",
      "\n",
      "    accuracy                           0.79      7160\n",
      "   macro avg       0.75      0.70      0.71      7160\n",
      "weighted avg       0.78      0.79      0.78      7160\n",
      "\n",
      "\n",
      "-----------------------Confusion Matrix-----------------------\n",
      "\n",
      "[[4731  467]\n",
      " [1019  943]]\n",
      "\n",
      "------------------------ROC/AUC SCORE-------------------------\n",
      "\n",
      "0.6954    \n"
     ]
    },
    {
     "name": "stderr",
     "output_type": "stream",
     "text": [
      "/anaconda3/lib/python3.7/site-packages/sklearn/linear_model/logistic.py:432: FutureWarning: Default solver will be changed to 'lbfgs' in 0.22. Specify a solver to silence this warning.\n",
      "  FutureWarning)\n"
     ]
    },
    {
     "name": "stdout",
     "output_type": "stream",
     "text": [
      "\n",
      "---------------------Classification Report--------------------\n",
      "\n",
      "              precision    recall  f1-score   support\n",
      "\n",
      "           0       0.83      0.91      0.87      5275\n",
      "           1       0.66      0.48      0.56      1885\n",
      "\n",
      "    accuracy                           0.80      7160\n",
      "   macro avg       0.75      0.70      0.72      7160\n",
      "weighted avg       0.79      0.80      0.79      7160\n",
      "\n",
      "\n",
      "-----------------------Confusion Matrix-----------------------\n",
      "\n",
      "[[4810  465]\n",
      " [ 971  914]]\n",
      "\n",
      "------------------------ROC/AUC SCORE-------------------------\n",
      "\n",
      "0.6984    \n"
     ]
    },
    {
     "name": "stderr",
     "output_type": "stream",
     "text": [
      "/anaconda3/lib/python3.7/site-packages/sklearn/linear_model/logistic.py:432: FutureWarning: Default solver will be changed to 'lbfgs' in 0.22. Specify a solver to silence this warning.\n",
      "  FutureWarning)\n"
     ]
    },
    {
     "name": "stdout",
     "output_type": "stream",
     "text": [
      "\n",
      "---------------------Classification Report--------------------\n",
      "\n",
      "              precision    recall  f1-score   support\n",
      "\n",
      "           0       0.80      0.92      0.85      5205\n",
      "           1       0.63      0.38      0.48      1955\n",
      "\n",
      "    accuracy                           0.77      7160\n",
      "   macro avg       0.72      0.65      0.67      7160\n",
      "weighted avg       0.75      0.77      0.75      7160\n",
      "\n",
      "\n",
      "-----------------------Confusion Matrix-----------------------\n",
      "\n",
      "[[4770  435]\n",
      " [1203  752]]\n",
      "\n",
      "------------------------ROC/AUC SCORE-------------------------\n",
      "\n",
      "0.6505    \n"
     ]
    },
    {
     "name": "stderr",
     "output_type": "stream",
     "text": [
      "/anaconda3/lib/python3.7/site-packages/sklearn/linear_model/logistic.py:432: FutureWarning: Default solver will be changed to 'lbfgs' in 0.22. Specify a solver to silence this warning.\n",
      "  FutureWarning)\n"
     ]
    },
    {
     "name": "stdout",
     "output_type": "stream",
     "text": [
      "\n",
      "---------------------Classification Report--------------------\n",
      "\n",
      "              precision    recall  f1-score   support\n",
      "\n",
      "           0       0.83      0.91      0.87      5359\n",
      "           1       0.62      0.44      0.51      1801\n",
      "\n",
      "    accuracy                           0.79      7160\n",
      "   macro avg       0.73      0.67      0.69      7160\n",
      "weighted avg       0.78      0.79      0.78      7160\n",
      "\n",
      "\n",
      "-----------------------Confusion Matrix-----------------------\n",
      "\n",
      "[[4884  475]\n",
      " [1015  786]]\n",
      "\n",
      "------------------------ROC/AUC SCORE-------------------------\n",
      "\n",
      "0.6739    \n"
     ]
    },
    {
     "name": "stderr",
     "output_type": "stream",
     "text": [
      "/anaconda3/lib/python3.7/site-packages/sklearn/linear_model/logistic.py:432: FutureWarning: Default solver will be changed to 'lbfgs' in 0.22. Specify a solver to silence this warning.\n",
      "  FutureWarning)\n"
     ]
    },
    {
     "name": "stdout",
     "output_type": "stream",
     "text": [
      "\n",
      "---------------------Classification Report--------------------\n",
      "\n",
      "              precision    recall  f1-score   support\n",
      "\n",
      "           0       0.83      0.92      0.87      5277\n",
      "           1       0.66      0.46      0.54      1883\n",
      "\n",
      "    accuracy                           0.80      7160\n",
      "   macro avg       0.74      0.69      0.71      7160\n",
      "weighted avg       0.78      0.80      0.78      7160\n",
      "\n",
      "\n",
      "-----------------------Confusion Matrix-----------------------\n",
      "\n",
      "[[4833  444]\n",
      " [1015  868]]\n",
      "\n",
      "------------------------ROC/AUC SCORE-------------------------\n",
      "\n",
      "0.6884    \n"
     ]
    },
    {
     "name": "stderr",
     "output_type": "stream",
     "text": [
      "/anaconda3/lib/python3.7/site-packages/sklearn/linear_model/logistic.py:432: FutureWarning: Default solver will be changed to 'lbfgs' in 0.22. Specify a solver to silence this warning.\n",
      "  FutureWarning)\n"
     ]
    },
    {
     "name": "stdout",
     "output_type": "stream",
     "text": [
      "\n",
      "---------------------Classification Report--------------------\n",
      "\n",
      "              precision    recall  f1-score   support\n",
      "\n",
      "           0       0.84      0.92      0.88      5429\n",
      "           1       0.64      0.44      0.52      1731\n",
      "\n",
      "    accuracy                           0.80      7160\n",
      "   macro avg       0.74      0.68      0.70      7160\n",
      "weighted avg       0.79      0.80      0.79      7160\n",
      "\n",
      "\n",
      "-----------------------Confusion Matrix-----------------------\n",
      "\n",
      "[[5000  429]\n",
      " [ 973  758]]\n",
      "\n",
      "------------------------ROC/AUC SCORE-------------------------\n",
      "\n",
      "0.6794    \n"
     ]
    },
    {
     "name": "stderr",
     "output_type": "stream",
     "text": [
      "/anaconda3/lib/python3.7/site-packages/sklearn/linear_model/logistic.py:432: FutureWarning: Default solver will be changed to 'lbfgs' in 0.22. Specify a solver to silence this warning.\n",
      "  FutureWarning)\n"
     ]
    },
    {
     "name": "stdout",
     "output_type": "stream",
     "text": [
      "\n",
      "---------------------Classification Report--------------------\n",
      "\n",
      "              precision    recall  f1-score   support\n",
      "\n",
      "           0       0.81      0.92      0.86      5416\n",
      "           1       0.57      0.33      0.42      1744\n",
      "\n",
      "    accuracy                           0.78      7160\n",
      "   macro avg       0.69      0.63      0.64      7160\n",
      "weighted avg       0.75      0.78      0.75      7160\n",
      "\n",
      "\n",
      "-----------------------Confusion Matrix-----------------------\n",
      "\n",
      "[[4990  426]\n",
      " [1169  575]]\n",
      "\n",
      "------------------------ROC/AUC SCORE-------------------------\n",
      "\n",
      "0.6255    \n"
     ]
    },
    {
     "name": "stderr",
     "output_type": "stream",
     "text": [
      "/anaconda3/lib/python3.7/site-packages/sklearn/linear_model/logistic.py:432: FutureWarning: Default solver will be changed to 'lbfgs' in 0.22. Specify a solver to silence this warning.\n",
      "  FutureWarning)\n"
     ]
    },
    {
     "name": "stdout",
     "output_type": "stream",
     "text": [
      "\n",
      "---------------------Classification Report--------------------\n",
      "\n",
      "              precision    recall  f1-score   support\n",
      "\n",
      "           0       0.80      0.93      0.86      5547\n",
      "           1       0.49      0.22      0.30      1613\n",
      "\n",
      "    accuracy                           0.77      7160\n",
      "   macro avg       0.65      0.58      0.58      7160\n",
      "weighted avg       0.73      0.77      0.74      7160\n",
      "\n",
      "\n",
      "-----------------------Confusion Matrix-----------------------\n",
      "\n",
      "[[5177  370]\n",
      " [1259  354]]\n",
      "\n",
      "------------------------ROC/AUC SCORE-------------------------\n",
      "\n",
      "0.5764    \n"
     ]
    },
    {
     "name": "stderr",
     "output_type": "stream",
     "text": [
      "/anaconda3/lib/python3.7/site-packages/sklearn/linear_model/logistic.py:432: FutureWarning: Default solver will be changed to 'lbfgs' in 0.22. Specify a solver to silence this warning.\n",
      "  FutureWarning)\n"
     ]
    },
    {
     "name": "stdout",
     "output_type": "stream",
     "text": [
      "\n",
      "---------------------Classification Report--------------------\n",
      "\n",
      "              precision    recall  f1-score   support\n",
      "\n",
      "           0       0.85      0.93      0.89      5606\n",
      "           1       0.63      0.42      0.50      1554\n",
      "\n",
      "    accuracy                           0.82      7160\n",
      "   macro avg       0.74      0.68      0.70      7160\n",
      "weighted avg       0.80      0.82      0.81      7160\n",
      "\n",
      "\n",
      "-----------------------Confusion Matrix-----------------------\n",
      "\n",
      "[[5222  384]\n",
      " [ 903  651]]\n",
      "\n",
      "------------------------ROC/AUC SCORE-------------------------\n",
      "\n",
      "0.6752    \n"
     ]
    },
    {
     "name": "stderr",
     "output_type": "stream",
     "text": [
      "/anaconda3/lib/python3.7/site-packages/sklearn/linear_model/logistic.py:432: FutureWarning: Default solver will be changed to 'lbfgs' in 0.22. Specify a solver to silence this warning.\n",
      "  FutureWarning)\n"
     ]
    },
    {
     "name": "stdout",
     "output_type": "stream",
     "text": [
      "\n",
      "---------------------Classification Report--------------------\n",
      "\n",
      "              precision    recall  f1-score   support\n",
      "\n",
      "           0       0.87      0.94      0.90      5663\n",
      "           1       0.67      0.46      0.55      1497\n",
      "\n",
      "    accuracy                           0.84      7160\n",
      "   macro avg       0.77      0.70      0.73      7160\n",
      "weighted avg       0.83      0.84      0.83      7160\n",
      "\n",
      "\n",
      "-----------------------Confusion Matrix-----------------------\n",
      "\n",
      "[[5327  336]\n",
      " [ 807  690]]\n",
      "\n",
      "------------------------ROC/AUC SCORE-------------------------\n",
      "\n",
      "0.7008    \n"
     ]
    },
    {
     "name": "stderr",
     "output_type": "stream",
     "text": [
      "/anaconda3/lib/python3.7/site-packages/sklearn/linear_model/logistic.py:432: FutureWarning: Default solver will be changed to 'lbfgs' in 0.22. Specify a solver to silence this warning.\n",
      "  FutureWarning)\n"
     ]
    },
    {
     "name": "stdout",
     "output_type": "stream",
     "text": [
      "\n",
      "---------------------Classification Report--------------------\n",
      "\n",
      "              precision    recall  f1-score   support\n",
      "\n",
      "           0       0.83      0.96      0.89      5724\n",
      "           1       0.53      0.20      0.29      1436\n",
      "\n",
      "    accuracy                           0.80      7160\n",
      "   macro avg       0.68      0.58      0.59      7160\n",
      "weighted avg       0.77      0.80      0.77      7160\n",
      "\n",
      "\n",
      "-----------------------Confusion Matrix-----------------------\n",
      "\n",
      "[[5468  256]\n",
      " [1151  285]]\n",
      "\n",
      "------------------------ROC/AUC SCORE-------------------------\n",
      "\n",
      "0.5769    \n"
     ]
    },
    {
     "name": "stderr",
     "output_type": "stream",
     "text": [
      "/anaconda3/lib/python3.7/site-packages/sklearn/linear_model/logistic.py:432: FutureWarning: Default solver will be changed to 'lbfgs' in 0.22. Specify a solver to silence this warning.\n",
      "  FutureWarning)\n"
     ]
    },
    {
     "name": "stdout",
     "output_type": "stream",
     "text": [
      "\n",
      "---------------------Classification Report--------------------\n",
      "\n",
      "              precision    recall  f1-score   support\n",
      "\n",
      "           0       0.84      0.94      0.89      5729\n",
      "           1       0.52      0.27      0.36      1431\n",
      "\n",
      "    accuracy                           0.81      7160\n",
      "   macro avg       0.68      0.60      0.62      7160\n",
      "weighted avg       0.77      0.81      0.78      7160\n",
      "\n",
      "\n",
      "-----------------------Confusion Matrix-----------------------\n",
      "\n",
      "[[5380  349]\n",
      " [1046  385]]\n",
      "\n",
      "------------------------ROC/AUC SCORE-------------------------\n",
      "\n",
      "0.6041    \n"
     ]
    },
    {
     "name": "stderr",
     "output_type": "stream",
     "text": [
      "/anaconda3/lib/python3.7/site-packages/sklearn/linear_model/logistic.py:432: FutureWarning: Default solver will be changed to 'lbfgs' in 0.22. Specify a solver to silence this warning.\n",
      "  FutureWarning)\n"
     ]
    },
    {
     "name": "stdout",
     "output_type": "stream",
     "text": [
      "\n",
      "---------------------Classification Report--------------------\n",
      "\n",
      "              precision    recall  f1-score   support\n",
      "\n",
      "           0       0.87      0.95      0.91      5769\n",
      "           1       0.67      0.41      0.51      1391\n",
      "\n",
      "    accuracy                           0.85      7160\n",
      "   macro avg       0.77      0.68      0.71      7160\n",
      "weighted avg       0.83      0.85      0.83      7160\n",
      "\n",
      "\n",
      "-----------------------Confusion Matrix-----------------------\n",
      "\n",
      "[[5490  279]\n",
      " [ 822  569]]\n",
      "\n",
      "------------------------ROC/AUC SCORE-------------------------\n",
      "\n",
      "0.6803    \n"
     ]
    },
    {
     "name": "stderr",
     "output_type": "stream",
     "text": [
      "/anaconda3/lib/python3.7/site-packages/sklearn/linear_model/logistic.py:432: FutureWarning: Default solver will be changed to 'lbfgs' in 0.22. Specify a solver to silence this warning.\n",
      "  FutureWarning)\n"
     ]
    },
    {
     "name": "stdout",
     "output_type": "stream",
     "text": [
      "\n",
      "---------------------Classification Report--------------------\n",
      "\n",
      "              precision    recall  f1-score   support\n",
      "\n",
      "           0       0.85      0.96      0.90      5878\n",
      "           1       0.52      0.22      0.31      1282\n",
      "\n",
      "    accuracy                           0.82      7160\n",
      "   macro avg       0.68      0.59      0.60      7160\n",
      "weighted avg       0.79      0.82      0.79      7160\n",
      "\n",
      "\n",
      "-----------------------Confusion Matrix-----------------------\n",
      "\n",
      "[[5619  259]\n",
      " [1003  279]]\n",
      "\n",
      "------------------------ROC/AUC SCORE-------------------------\n",
      "\n",
      "0.5868    \n"
     ]
    },
    {
     "name": "stderr",
     "output_type": "stream",
     "text": [
      "/anaconda3/lib/python3.7/site-packages/sklearn/linear_model/logistic.py:432: FutureWarning: Default solver will be changed to 'lbfgs' in 0.22. Specify a solver to silence this warning.\n",
      "  FutureWarning)\n"
     ]
    },
    {
     "name": "stdout",
     "output_type": "stream",
     "text": [
      "\n",
      "---------------------Classification Report--------------------\n",
      "\n",
      "              precision    recall  f1-score   support\n",
      "\n",
      "           0       0.84      0.95      0.89      5783\n",
      "           1       0.53      0.23      0.32      1377\n",
      "\n",
      "    accuracy                           0.81      7160\n",
      "   macro avg       0.69      0.59      0.61      7160\n",
      "weighted avg       0.78      0.81      0.78      7160\n",
      "\n",
      "\n",
      "-----------------------Confusion Matrix-----------------------\n",
      "\n",
      "[[5507  276]\n",
      " [1060  317]]\n",
      "\n",
      "------------------------ROC/AUC SCORE-------------------------\n",
      "\n",
      "0.5912    \n"
     ]
    },
    {
     "name": "stderr",
     "output_type": "stream",
     "text": [
      "/anaconda3/lib/python3.7/site-packages/sklearn/linear_model/logistic.py:432: FutureWarning: Default solver will be changed to 'lbfgs' in 0.22. Specify a solver to silence this warning.\n",
      "  FutureWarning)\n"
     ]
    },
    {
     "name": "stdout",
     "output_type": "stream",
     "text": [
      "\n",
      "---------------------Classification Report--------------------\n",
      "\n",
      "              precision    recall  f1-score   support\n",
      "\n",
      "           0       0.86      0.96      0.90      5940\n",
      "           1       0.52      0.24      0.33      1220\n",
      "\n",
      "    accuracy                           0.83      7160\n",
      "   macro avg       0.69      0.60      0.62      7160\n",
      "weighted avg       0.80      0.83      0.81      7160\n",
      "\n",
      "\n",
      "-----------------------Confusion Matrix-----------------------\n",
      "\n",
      "[[5677  263]\n",
      " [ 931  289]]\n",
      "\n",
      "------------------------ROC/AUC SCORE-------------------------\n",
      "\n",
      "0.5963    \n"
     ]
    },
    {
     "name": "stderr",
     "output_type": "stream",
     "text": [
      "/anaconda3/lib/python3.7/site-packages/sklearn/linear_model/logistic.py:432: FutureWarning: Default solver will be changed to 'lbfgs' in 0.22. Specify a solver to silence this warning.\n",
      "  FutureWarning)\n"
     ]
    },
    {
     "name": "stdout",
     "output_type": "stream",
     "text": [
      "\n",
      "---------------------Classification Report--------------------\n",
      "\n",
      "              precision    recall  f1-score   support\n",
      "\n",
      "           0       0.88      0.95      0.92      5875\n",
      "           1       0.66      0.40      0.50      1285\n",
      "\n",
      "    accuracy                           0.86      7160\n",
      "   macro avg       0.77      0.68      0.71      7160\n",
      "weighted avg       0.84      0.86      0.84      7160\n",
      "\n",
      "\n",
      "-----------------------Confusion Matrix-----------------------\n",
      "\n",
      "[[5607  268]\n",
      " [ 768  517]]\n",
      "\n",
      "------------------------ROC/AUC SCORE-------------------------\n",
      "\n",
      "0.6784    \n"
     ]
    },
    {
     "name": "stderr",
     "output_type": "stream",
     "text": [
      "/anaconda3/lib/python3.7/site-packages/sklearn/linear_model/logistic.py:432: FutureWarning: Default solver will be changed to 'lbfgs' in 0.22. Specify a solver to silence this warning.\n",
      "  FutureWarning)\n"
     ]
    },
    {
     "name": "stdout",
     "output_type": "stream",
     "text": [
      "\n",
      "---------------------Classification Report--------------------\n",
      "\n",
      "              precision    recall  f1-score   support\n",
      "\n",
      "           0       0.85      0.96      0.90      5876\n",
      "           1       0.54      0.22      0.31      1284\n",
      "\n",
      "    accuracy                           0.83      7160\n",
      "   macro avg       0.69      0.59      0.60      7160\n",
      "weighted avg       0.79      0.83      0.79      7160\n",
      "\n",
      "\n",
      "-----------------------Confusion Matrix-----------------------\n",
      "\n",
      "[[5639  237]\n",
      " [1007  277]]\n",
      "\n",
      "------------------------ROC/AUC SCORE-------------------------\n",
      "\n",
      "0.5877    \n"
     ]
    },
    {
     "name": "stderr",
     "output_type": "stream",
     "text": [
      "/anaconda3/lib/python3.7/site-packages/sklearn/linear_model/logistic.py:432: FutureWarning: Default solver will be changed to 'lbfgs' in 0.22. Specify a solver to silence this warning.\n",
      "  FutureWarning)\n"
     ]
    },
    {
     "name": "stdout",
     "output_type": "stream",
     "text": [
      "\n",
      "---------------------Classification Report--------------------\n",
      "\n",
      "              precision    recall  f1-score   support\n",
      "\n",
      "           0       0.86      0.96      0.90      5954\n",
      "           1       0.50      0.21      0.30      1206\n",
      "\n",
      "    accuracy                           0.83      7160\n",
      "   macro avg       0.68      0.58      0.60      7160\n",
      "weighted avg       0.80      0.83      0.80      7160\n",
      "\n",
      "\n",
      "-----------------------Confusion Matrix-----------------------\n",
      "\n",
      "[[5697  257]\n",
      " [ 952  254]]\n",
      "\n",
      "------------------------ROC/AUC SCORE-------------------------\n",
      "\n",
      "0.5837    \n"
     ]
    },
    {
     "name": "stderr",
     "output_type": "stream",
     "text": [
      "/anaconda3/lib/python3.7/site-packages/sklearn/linear_model/logistic.py:432: FutureWarning: Default solver will be changed to 'lbfgs' in 0.22. Specify a solver to silence this warning.\n",
      "  FutureWarning)\n"
     ]
    },
    {
     "name": "stdout",
     "output_type": "stream",
     "text": [
      "\n",
      "---------------------Classification Report--------------------\n",
      "\n",
      "              precision    recall  f1-score   support\n",
      "\n",
      "           0       0.88      0.95      0.91      5892\n",
      "           1       0.60      0.37      0.46      1268\n",
      "\n",
      "    accuracy                           0.84      7160\n",
      "   macro avg       0.74      0.66      0.68      7160\n",
      "weighted avg       0.83      0.84      0.83      7160\n",
      "\n",
      "\n",
      "-----------------------Confusion Matrix-----------------------\n",
      "\n",
      "[[5572  320]\n",
      " [ 796  472]]\n",
      "\n",
      "------------------------ROC/AUC SCORE-------------------------\n",
      "\n",
      "0.6590    \n"
     ]
    },
    {
     "name": "stderr",
     "output_type": "stream",
     "text": [
      "/anaconda3/lib/python3.7/site-packages/sklearn/linear_model/logistic.py:432: FutureWarning: Default solver will be changed to 'lbfgs' in 0.22. Specify a solver to silence this warning.\n",
      "  FutureWarning)\n"
     ]
    },
    {
     "name": "stdout",
     "output_type": "stream",
     "text": [
      "\n",
      "---------------------Classification Report--------------------\n",
      "\n",
      "              precision    recall  f1-score   support\n",
      "\n",
      "           0       0.86      0.97      0.91      6036\n",
      "           1       0.45      0.15      0.23      1124\n",
      "\n",
      "    accuracy                           0.84      7160\n",
      "   macro avg       0.65      0.56      0.57      7160\n",
      "weighted avg       0.79      0.84      0.80      7160\n",
      "\n",
      "\n",
      "-----------------------Confusion Matrix-----------------------\n",
      "\n",
      "[[5827  209]\n",
      " [ 955  169]]\n",
      "\n",
      "------------------------ROC/AUC SCORE-------------------------\n",
      "\n",
      "0.5579    \n"
     ]
    },
    {
     "name": "stderr",
     "output_type": "stream",
     "text": [
      "/anaconda3/lib/python3.7/site-packages/sklearn/linear_model/logistic.py:432: FutureWarning: Default solver will be changed to 'lbfgs' in 0.22. Specify a solver to silence this warning.\n",
      "  FutureWarning)\n"
     ]
    },
    {
     "name": "stdout",
     "output_type": "stream",
     "text": [
      "\n",
      "---------------------Classification Report--------------------\n",
      "\n",
      "              precision    recall  f1-score   support\n",
      "\n",
      "           0       0.87      0.96      0.91      6044\n",
      "           1       0.47      0.20      0.28      1116\n",
      "\n",
      "    accuracy                           0.84      7160\n",
      "   macro avg       0.67      0.58      0.59      7160\n",
      "weighted avg       0.80      0.84      0.81      7160\n",
      "\n",
      "\n",
      "-----------------------Confusion Matrix-----------------------\n",
      "\n",
      "[[5795  249]\n",
      " [ 895  221]]\n",
      "\n",
      "------------------------ROC/AUC SCORE-------------------------\n",
      "\n",
      "0.5784    \n"
     ]
    },
    {
     "name": "stderr",
     "output_type": "stream",
     "text": [
      "/anaconda3/lib/python3.7/site-packages/sklearn/linear_model/logistic.py:432: FutureWarning: Default solver will be changed to 'lbfgs' in 0.22. Specify a solver to silence this warning.\n",
      "  FutureWarning)\n"
     ]
    },
    {
     "name": "stdout",
     "output_type": "stream",
     "text": [
      "\n",
      "---------------------Classification Report--------------------\n",
      "\n",
      "              precision    recall  f1-score   support\n",
      "\n",
      "           0       0.85      0.97      0.90      5973\n",
      "           1       0.42      0.11      0.17      1187\n",
      "\n",
      "    accuracy                           0.83      7160\n",
      "   macro avg       0.63      0.54      0.54      7160\n",
      "weighted avg       0.78      0.83      0.78      7160\n",
      "\n",
      "\n",
      "-----------------------Confusion Matrix-----------------------\n",
      "\n",
      "[[5799  174]\n",
      " [1060  127]]\n",
      "\n",
      "------------------------ROC/AUC SCORE-------------------------\n",
      "\n",
      "0.5389    \n"
     ]
    },
    {
     "name": "stderr",
     "output_type": "stream",
     "text": [
      "/anaconda3/lib/python3.7/site-packages/sklearn/linear_model/logistic.py:432: FutureWarning: Default solver will be changed to 'lbfgs' in 0.22. Specify a solver to silence this warning.\n",
      "  FutureWarning)\n"
     ]
    },
    {
     "name": "stdout",
     "output_type": "stream",
     "text": [
      "\n",
      "---------------------Classification Report--------------------\n",
      "\n",
      "              precision    recall  f1-score   support\n",
      "\n",
      "           0       0.89      0.96      0.92      6003\n",
      "           1       0.62      0.38      0.48      1157\n",
      "\n",
      "    accuracy                           0.86      7160\n",
      "   macro avg       0.76      0.67      0.70      7160\n",
      "weighted avg       0.85      0.86      0.85      7160\n",
      "\n",
      "\n",
      "-----------------------Confusion Matrix-----------------------\n",
      "\n",
      "[[5735  268]\n",
      " [ 712  445]]\n",
      "\n",
      "------------------------ROC/AUC SCORE-------------------------\n",
      "\n",
      "0.6700    \n"
     ]
    },
    {
     "name": "stderr",
     "output_type": "stream",
     "text": [
      "/anaconda3/lib/python3.7/site-packages/sklearn/linear_model/logistic.py:432: FutureWarning: Default solver will be changed to 'lbfgs' in 0.22. Specify a solver to silence this warning.\n",
      "  FutureWarning)\n"
     ]
    },
    {
     "name": "stdout",
     "output_type": "stream",
     "text": [
      "\n",
      "---------------------Classification Report--------------------\n",
      "\n",
      "              precision    recall  f1-score   support\n",
      "\n",
      "           0       0.92      0.96      0.94      6117\n",
      "           1       0.70      0.49      0.58      1043\n",
      "\n",
      "    accuracy                           0.90      7160\n",
      "   macro avg       0.81      0.73      0.76      7160\n",
      "weighted avg       0.89      0.90      0.89      7160\n",
      "\n",
      "\n",
      "-----------------------Confusion Matrix-----------------------\n",
      "\n",
      "[[5900  217]\n",
      " [ 532  511]]\n",
      "\n",
      "------------------------ROC/AUC SCORE-------------------------\n",
      "\n",
      "0.7272    \n"
     ]
    },
    {
     "name": "stderr",
     "output_type": "stream",
     "text": [
      "/anaconda3/lib/python3.7/site-packages/sklearn/linear_model/logistic.py:432: FutureWarning: Default solver will be changed to 'lbfgs' in 0.22. Specify a solver to silence this warning.\n",
      "  FutureWarning)\n"
     ]
    },
    {
     "name": "stdout",
     "output_type": "stream",
     "text": [
      "\n",
      "---------------------Classification Report--------------------\n",
      "\n",
      "              precision    recall  f1-score   support\n",
      "\n",
      "           0       0.93      0.96      0.94      6137\n",
      "           1       0.69      0.55      0.61      1023\n",
      "\n",
      "    accuracy                           0.90      7160\n",
      "   macro avg       0.81      0.75      0.78      7160\n",
      "weighted avg       0.89      0.90      0.89      7160\n",
      "\n",
      "\n",
      "-----------------------Confusion Matrix-----------------------\n",
      "\n",
      "[[5881  256]\n",
      " [ 463  560]]\n",
      "\n",
      "------------------------ROC/AUC SCORE-------------------------\n",
      "\n",
      "0.7528    \n"
     ]
    },
    {
     "name": "stderr",
     "output_type": "stream",
     "text": [
      "/anaconda3/lib/python3.7/site-packages/sklearn/linear_model/logistic.py:432: FutureWarning: Default solver will be changed to 'lbfgs' in 0.22. Specify a solver to silence this warning.\n",
      "  FutureWarning)\n"
     ]
    },
    {
     "name": "stdout",
     "output_type": "stream",
     "text": [
      "\n",
      "---------------------Classification Report--------------------\n",
      "\n",
      "              precision    recall  f1-score   support\n",
      "\n",
      "           0       0.89      0.97      0.93      6126\n",
      "           1       0.58      0.27      0.37      1034\n",
      "\n",
      "    accuracy                           0.87      7160\n",
      "   macro avg       0.73      0.62      0.65      7160\n",
      "weighted avg       0.84      0.87      0.84      7160\n",
      "\n",
      "\n",
      "-----------------------Confusion Matrix-----------------------\n",
      "\n",
      "[[5922  204]\n",
      " [ 756  278]]\n",
      "\n",
      "------------------------ROC/AUC SCORE-------------------------\n",
      "\n",
      "0.6178    \n"
     ]
    },
    {
     "name": "stderr",
     "output_type": "stream",
     "text": [
      "/anaconda3/lib/python3.7/site-packages/sklearn/linear_model/logistic.py:432: FutureWarning: Default solver will be changed to 'lbfgs' in 0.22. Specify a solver to silence this warning.\n",
      "  FutureWarning)\n"
     ]
    },
    {
     "name": "stdout",
     "output_type": "stream",
     "text": [
      "\n",
      "---------------------Classification Report--------------------\n",
      "\n",
      "              precision    recall  f1-score   support\n",
      "\n",
      "           0       0.89      0.96      0.92      6027\n",
      "           1       0.62      0.36      0.45      1133\n",
      "\n",
      "    accuracy                           0.86      7160\n",
      "   macro avg       0.75      0.66      0.69      7160\n",
      "weighted avg       0.84      0.86      0.85      7160\n",
      "\n",
      "\n",
      "-----------------------Confusion Matrix-----------------------\n",
      "\n",
      "[[5774  253]\n",
      " [ 728  405]]\n",
      "\n",
      "------------------------ROC/AUC SCORE-------------------------\n",
      "\n",
      "0.6577    \n"
     ]
    },
    {
     "name": "stderr",
     "output_type": "stream",
     "text": [
      "/anaconda3/lib/python3.7/site-packages/sklearn/linear_model/logistic.py:432: FutureWarning: Default solver will be changed to 'lbfgs' in 0.22. Specify a solver to silence this warning.\n",
      "  FutureWarning)\n"
     ]
    },
    {
     "name": "stdout",
     "output_type": "stream",
     "text": [
      "\n",
      "---------------------Classification Report--------------------\n",
      "\n",
      "              precision    recall  f1-score   support\n",
      "\n",
      "           0       0.90      0.97      0.93      6141\n",
      "           1       0.64      0.34      0.44      1019\n",
      "\n",
      "    accuracy                           0.88      7160\n",
      "   macro avg       0.77      0.65      0.69      7160\n",
      "weighted avg       0.86      0.88      0.86      7160\n",
      "\n",
      "\n",
      "-----------------------Confusion Matrix-----------------------\n",
      "\n",
      "[[5949  192]\n",
      " [ 676  343]]\n",
      "\n",
      "------------------------ROC/AUC SCORE-------------------------\n",
      "\n",
      "0.6527    \n"
     ]
    },
    {
     "name": "stderr",
     "output_type": "stream",
     "text": [
      "/anaconda3/lib/python3.7/site-packages/sklearn/linear_model/logistic.py:432: FutureWarning: Default solver will be changed to 'lbfgs' in 0.22. Specify a solver to silence this warning.\n",
      "  FutureWarning)\n"
     ]
    },
    {
     "name": "stdout",
     "output_type": "stream",
     "text": [
      "\n",
      "---------------------Classification Report--------------------\n",
      "\n",
      "              precision    recall  f1-score   support\n",
      "\n",
      "           0       0.89      0.96      0.93      6154\n",
      "           1       0.56      0.29      0.38      1006\n",
      "\n",
      "    accuracy                           0.87      7160\n",
      "   macro avg       0.73      0.63      0.65      7160\n",
      "weighted avg       0.85      0.87      0.85      7160\n",
      "\n",
      "\n",
      "-----------------------Confusion Matrix-----------------------\n",
      "\n",
      "[[5926  228]\n",
      " [ 716  290]]\n",
      "\n",
      "------------------------ROC/AUC SCORE-------------------------\n",
      "\n",
      "0.6256    \n"
     ]
    },
    {
     "name": "stderr",
     "output_type": "stream",
     "text": [
      "/anaconda3/lib/python3.7/site-packages/sklearn/linear_model/logistic.py:432: FutureWarning: Default solver will be changed to 'lbfgs' in 0.22. Specify a solver to silence this warning.\n",
      "  FutureWarning)\n"
     ]
    },
    {
     "name": "stdout",
     "output_type": "stream",
     "text": [
      "\n",
      "---------------------Classification Report--------------------\n",
      "\n",
      "              precision    recall  f1-score   support\n",
      "\n",
      "           0       0.91      0.96      0.93      6176\n",
      "           1       0.60      0.41      0.49       984\n",
      "\n",
      "    accuracy                           0.88      7160\n",
      "   macro avg       0.76      0.68      0.71      7160\n",
      "weighted avg       0.87      0.88      0.87      7160\n",
      "\n",
      "\n",
      "-----------------------Confusion Matrix-----------------------\n",
      "\n",
      "[[5913  263]\n",
      " [ 584  400]]\n",
      "\n",
      "------------------------ROC/AUC SCORE-------------------------\n",
      "\n",
      "0.6820    \n"
     ]
    },
    {
     "name": "stderr",
     "output_type": "stream",
     "text": [
      "/anaconda3/lib/python3.7/site-packages/sklearn/linear_model/logistic.py:432: FutureWarning: Default solver will be changed to 'lbfgs' in 0.22. Specify a solver to silence this warning.\n",
      "  FutureWarning)\n"
     ]
    },
    {
     "name": "stdout",
     "output_type": "stream",
     "text": [
      "\n",
      "---------------------Classification Report--------------------\n",
      "\n",
      "              precision    recall  f1-score   support\n",
      "\n",
      "           0       0.89      0.97      0.93      6152\n",
      "           1       0.56      0.25      0.34      1008\n",
      "\n",
      "    accuracy                           0.87      7160\n",
      "   macro avg       0.73      0.61      0.63      7160\n",
      "weighted avg       0.84      0.87      0.84      7160\n",
      "\n",
      "\n",
      "-----------------------Confusion Matrix-----------------------\n",
      "\n",
      "[[5961  191]\n",
      " [ 760  248]]\n",
      "\n",
      "------------------------ROC/AUC SCORE-------------------------\n",
      "\n",
      "0.6075    \n"
     ]
    },
    {
     "name": "stderr",
     "output_type": "stream",
     "text": [
      "/anaconda3/lib/python3.7/site-packages/sklearn/linear_model/logistic.py:432: FutureWarning: Default solver will be changed to 'lbfgs' in 0.22. Specify a solver to silence this warning.\n",
      "  FutureWarning)\n"
     ]
    },
    {
     "name": "stdout",
     "output_type": "stream",
     "text": [
      "\n",
      "---------------------Classification Report--------------------\n",
      "\n",
      "              precision    recall  f1-score   support\n",
      "\n",
      "           0       0.87      0.98      0.92      6159\n",
      "           1       0.41      0.10      0.17      1001\n",
      "\n",
      "    accuracy                           0.85      7160\n",
      "   macro avg       0.64      0.54      0.54      7160\n",
      "weighted avg       0.81      0.85      0.81      7160\n",
      "\n",
      "\n",
      "-----------------------Confusion Matrix-----------------------\n",
      "\n",
      "[[6009  150]\n",
      " [ 896  105]]\n",
      "\n",
      "------------------------ROC/AUC SCORE-------------------------\n",
      "\n",
      "0.5403    \n"
     ]
    },
    {
     "name": "stderr",
     "output_type": "stream",
     "text": [
      "/anaconda3/lib/python3.7/site-packages/sklearn/linear_model/logistic.py:432: FutureWarning: Default solver will be changed to 'lbfgs' in 0.22. Specify a solver to silence this warning.\n",
      "  FutureWarning)\n"
     ]
    },
    {
     "name": "stdout",
     "output_type": "stream",
     "text": [
      "\n",
      "---------------------Classification Report--------------------\n",
      "\n",
      "              precision    recall  f1-score   support\n",
      "\n",
      "           0       0.89      0.96      0.93      6204\n",
      "           1       0.53      0.26      0.35       956\n",
      "\n",
      "    accuracy                           0.87      7160\n",
      "   macro avg       0.71      0.61      0.64      7160\n",
      "weighted avg       0.85      0.87      0.85      7160\n",
      "\n",
      "\n",
      "-----------------------Confusion Matrix-----------------------\n",
      "\n",
      "[[5983  221]\n",
      " [ 706  250]]\n",
      "\n",
      "------------------------ROC/AUC SCORE-------------------------\n",
      "\n",
      "0.6129    \n"
     ]
    },
    {
     "name": "stderr",
     "output_type": "stream",
     "text": [
      "/anaconda3/lib/python3.7/site-packages/sklearn/linear_model/logistic.py:432: FutureWarning: Default solver will be changed to 'lbfgs' in 0.22. Specify a solver to silence this warning.\n",
      "  FutureWarning)\n"
     ]
    },
    {
     "name": "stdout",
     "output_type": "stream",
     "text": [
      "\n",
      "---------------------Classification Report--------------------\n",
      "\n",
      "              precision    recall  f1-score   support\n",
      "\n",
      "           0       0.88      0.97      0.92      6136\n",
      "           1       0.52      0.20      0.29      1024\n",
      "\n",
      "    accuracy                           0.86      7160\n",
      "   macro avg       0.70      0.58      0.60      7160\n",
      "weighted avg       0.83      0.86      0.83      7160\n",
      "\n",
      "\n",
      "-----------------------Confusion Matrix-----------------------\n",
      "\n",
      "[[5947  189]\n",
      " [ 820  204]]\n",
      "\n",
      "------------------------ROC/AUC SCORE-------------------------\n",
      "\n",
      "0.5842    \n"
     ]
    },
    {
     "name": "stderr",
     "output_type": "stream",
     "text": [
      "/anaconda3/lib/python3.7/site-packages/sklearn/linear_model/logistic.py:432: FutureWarning: Default solver will be changed to 'lbfgs' in 0.22. Specify a solver to silence this warning.\n",
      "  FutureWarning)\n"
     ]
    },
    {
     "name": "stdout",
     "output_type": "stream",
     "text": [
      "\n",
      "---------------------Classification Report--------------------\n",
      "\n",
      "              precision    recall  f1-score   support\n",
      "\n",
      "           0       0.88      0.97      0.92      6183\n",
      "           1       0.50      0.18      0.26       977\n",
      "\n",
      "    accuracy                           0.86      7160\n",
      "   macro avg       0.69      0.58      0.59      7160\n",
      "weighted avg       0.83      0.86      0.83      7160\n",
      "\n",
      "\n",
      "-----------------------Confusion Matrix-----------------------\n",
      "\n",
      "[[6008  175]\n",
      " [ 802  175]]\n",
      "\n",
      "------------------------ROC/AUC SCORE-------------------------\n",
      "\n",
      "0.5754    \n"
     ]
    },
    {
     "name": "stderr",
     "output_type": "stream",
     "text": [
      "/anaconda3/lib/python3.7/site-packages/sklearn/linear_model/logistic.py:432: FutureWarning: Default solver will be changed to 'lbfgs' in 0.22. Specify a solver to silence this warning.\n",
      "  FutureWarning)\n"
     ]
    },
    {
     "name": "stdout",
     "output_type": "stream",
     "text": [
      "\n",
      "---------------------Classification Report--------------------\n",
      "\n",
      "              precision    recall  f1-score   support\n",
      "\n",
      "           0       0.89      0.98      0.93      6250\n",
      "           1       0.56      0.21      0.30       910\n",
      "\n",
      "    accuracy                           0.88      7160\n",
      "   macro avg       0.73      0.59      0.62      7160\n",
      "weighted avg       0.85      0.88      0.85      7160\n",
      "\n",
      "\n",
      "-----------------------Confusion Matrix-----------------------\n",
      "\n",
      "[[6102  148]\n",
      " [ 722  188]]\n",
      "\n",
      "------------------------ROC/AUC SCORE-------------------------\n",
      "\n",
      "0.5915    \n"
     ]
    },
    {
     "name": "stderr",
     "output_type": "stream",
     "text": [
      "/anaconda3/lib/python3.7/site-packages/sklearn/linear_model/logistic.py:432: FutureWarning: Default solver will be changed to 'lbfgs' in 0.22. Specify a solver to silence this warning.\n",
      "  FutureWarning)\n"
     ]
    },
    {
     "name": "stdout",
     "output_type": "stream",
     "text": [
      "\n",
      "---------------------Classification Report--------------------\n",
      "\n",
      "              precision    recall  f1-score   support\n",
      "\n",
      "           0       0.91      0.97      0.94      6213\n",
      "           1       0.64      0.34      0.44       947\n",
      "\n",
      "    accuracy                           0.89      7160\n",
      "   macro avg       0.77      0.65      0.69      7160\n",
      "weighted avg       0.87      0.89      0.87      7160\n",
      "\n",
      "\n",
      "-----------------------Confusion Matrix-----------------------\n",
      "\n",
      "[[6031  182]\n",
      " [ 628  319]]\n",
      "\n",
      "------------------------ROC/AUC SCORE-------------------------\n",
      "\n",
      "0.6538    \n"
     ]
    },
    {
     "name": "stderr",
     "output_type": "stream",
     "text": [
      "/anaconda3/lib/python3.7/site-packages/sklearn/linear_model/logistic.py:432: FutureWarning: Default solver will be changed to 'lbfgs' in 0.22. Specify a solver to silence this warning.\n",
      "  FutureWarning)\n"
     ]
    },
    {
     "name": "stdout",
     "output_type": "stream",
     "text": [
      "\n",
      "---------------------Classification Report--------------------\n",
      "\n",
      "              precision    recall  f1-score   support\n",
      "\n",
      "           0       0.88      0.98      0.93      6261\n",
      "           1       0.41      0.10      0.16       899\n",
      "\n",
      "    accuracy                           0.87      7160\n",
      "   macro avg       0.65      0.54      0.54      7160\n",
      "weighted avg       0.82      0.87      0.83      7160\n",
      "\n",
      "\n",
      "-----------------------Confusion Matrix-----------------------\n",
      "\n",
      "[[6139  122]\n",
      " [ 813   86]]\n",
      "\n",
      "------------------------ROC/AUC SCORE-------------------------\n",
      "\n",
      "0.5381    \n"
     ]
    },
    {
     "name": "stderr",
     "output_type": "stream",
     "text": [
      "/anaconda3/lib/python3.7/site-packages/sklearn/linear_model/logistic.py:432: FutureWarning: Default solver will be changed to 'lbfgs' in 0.22. Specify a solver to silence this warning.\n",
      "  FutureWarning)\n"
     ]
    },
    {
     "name": "stdout",
     "output_type": "stream",
     "text": [
      "\n",
      "---------------------Classification Report--------------------\n",
      "\n",
      "              precision    recall  f1-score   support\n",
      "\n",
      "           0       0.92      0.97      0.94      6278\n",
      "           1       0.64      0.41      0.50       882\n",
      "\n",
      "    accuracy                           0.90      7160\n",
      "   macro avg       0.78      0.69      0.72      7160\n",
      "weighted avg       0.89      0.90      0.89      7160\n",
      "\n",
      "\n",
      "-----------------------Confusion Matrix-----------------------\n",
      "\n",
      "[[6077  201]\n",
      " [ 518  364]]\n",
      "\n",
      "------------------------ROC/AUC SCORE-------------------------\n",
      "\n",
      "0.6903    \n"
     ]
    },
    {
     "name": "stderr",
     "output_type": "stream",
     "text": [
      "/anaconda3/lib/python3.7/site-packages/sklearn/linear_model/logistic.py:432: FutureWarning: Default solver will be changed to 'lbfgs' in 0.22. Specify a solver to silence this warning.\n",
      "  FutureWarning)\n"
     ]
    },
    {
     "name": "stdout",
     "output_type": "stream",
     "text": [
      "\n",
      "---------------------Classification Report--------------------\n",
      "\n",
      "              precision    recall  f1-score   support\n",
      "\n",
      "           0       0.89      0.98      0.93      6279\n",
      "           1       0.52      0.18      0.27       881\n",
      "\n",
      "    accuracy                           0.88      7160\n",
      "   macro avg       0.71      0.58      0.60      7160\n",
      "weighted avg       0.85      0.88      0.85      7160\n",
      "\n",
      "\n",
      "-----------------------Confusion Matrix-----------------------\n",
      "\n",
      "[[6132  147]\n",
      " [ 722  159]]\n",
      "\n",
      "------------------------ROC/AUC SCORE-------------------------\n",
      "\n",
      "0.5785    \n"
     ]
    },
    {
     "name": "stderr",
     "output_type": "stream",
     "text": [
      "/anaconda3/lib/python3.7/site-packages/sklearn/linear_model/logistic.py:432: FutureWarning: Default solver will be changed to 'lbfgs' in 0.22. Specify a solver to silence this warning.\n",
      "  FutureWarning)\n"
     ]
    },
    {
     "name": "stdout",
     "output_type": "stream",
     "text": [
      "\n",
      "---------------------Classification Report--------------------\n",
      "\n",
      "              precision    recall  f1-score   support\n",
      "\n",
      "           0       0.90      0.97      0.93      6280\n",
      "           1       0.49      0.19      0.27       880\n",
      "\n",
      "    accuracy                           0.88      7160\n",
      "   macro avg       0.69      0.58      0.60      7160\n",
      "weighted avg       0.85      0.88      0.85      7160\n",
      "\n",
      "\n",
      "-----------------------Confusion Matrix-----------------------\n",
      "\n",
      "[[6107  173]\n",
      " [ 715  165]]\n",
      "\n",
      "------------------------ROC/AUC SCORE-------------------------\n",
      "\n",
      "0.5800    \n"
     ]
    },
    {
     "name": "stderr",
     "output_type": "stream",
     "text": [
      "/anaconda3/lib/python3.7/site-packages/sklearn/linear_model/logistic.py:432: FutureWarning: Default solver will be changed to 'lbfgs' in 0.22. Specify a solver to silence this warning.\n",
      "  FutureWarning)\n"
     ]
    },
    {
     "name": "stdout",
     "output_type": "stream",
     "text": [
      "\n",
      "---------------------Classification Report--------------------\n",
      "\n",
      "              precision    recall  f1-score   support\n",
      "\n",
      "           0       0.91      0.97      0.94      6327\n",
      "           1       0.56      0.28      0.38       833\n",
      "\n",
      "    accuracy                           0.89      7160\n",
      "   macro avg       0.74      0.63      0.66      7160\n",
      "weighted avg       0.87      0.89      0.87      7160\n",
      "\n",
      "\n",
      "-----------------------Confusion Matrix-----------------------\n",
      "\n",
      "[[6143  184]\n",
      " [ 596  237]]\n",
      "\n",
      "------------------------ROC/AUC SCORE-------------------------\n",
      "\n",
      "0.6277    \n"
     ]
    },
    {
     "name": "stderr",
     "output_type": "stream",
     "text": [
      "/anaconda3/lib/python3.7/site-packages/sklearn/linear_model/logistic.py:432: FutureWarning: Default solver will be changed to 'lbfgs' in 0.22. Specify a solver to silence this warning.\n",
      "  FutureWarning)\n"
     ]
    },
    {
     "name": "stdout",
     "output_type": "stream",
     "text": [
      "\n",
      "---------------------Classification Report--------------------\n",
      "\n",
      "              precision    recall  f1-score   support\n",
      "\n",
      "           0       0.91      0.97      0.94      6275\n",
      "           1       0.65      0.35      0.45       885\n",
      "\n",
      "    accuracy                           0.90      7160\n",
      "   macro avg       0.78      0.66      0.70      7160\n",
      "weighted avg       0.88      0.90      0.88      7160\n",
      "\n",
      "\n",
      "-----------------------Confusion Matrix-----------------------\n",
      "\n",
      "[[6113  162]\n",
      " [ 579  306]]\n",
      "\n",
      "------------------------ROC/AUC SCORE-------------------------\n",
      "\n",
      "0.6600    \n"
     ]
    },
    {
     "name": "stderr",
     "output_type": "stream",
     "text": [
      "/anaconda3/lib/python3.7/site-packages/sklearn/linear_model/logistic.py:432: FutureWarning: Default solver will be changed to 'lbfgs' in 0.22. Specify a solver to silence this warning.\n",
      "  FutureWarning)\n"
     ]
    },
    {
     "name": "stdout",
     "output_type": "stream",
     "text": [
      "\n",
      "---------------------Classification Report--------------------\n",
      "\n",
      "              precision    recall  f1-score   support\n",
      "\n",
      "           0       0.91      0.97      0.94      6331\n",
      "           1       0.52      0.25      0.34       829\n",
      "\n",
      "    accuracy                           0.89      7160\n",
      "   macro avg       0.71      0.61      0.64      7160\n",
      "weighted avg       0.86      0.89      0.87      7160\n",
      "\n",
      "\n",
      "-----------------------Confusion Matrix-----------------------\n",
      "\n",
      "[[6139  192]\n",
      " [ 622  207]]\n",
      "\n",
      "------------------------ROC/AUC SCORE-------------------------\n",
      "\n",
      "0.6097    \n"
     ]
    },
    {
     "name": "stderr",
     "output_type": "stream",
     "text": [
      "/anaconda3/lib/python3.7/site-packages/sklearn/linear_model/logistic.py:432: FutureWarning: Default solver will be changed to 'lbfgs' in 0.22. Specify a solver to silence this warning.\n",
      "  FutureWarning)\n"
     ]
    },
    {
     "name": "stdout",
     "output_type": "stream",
     "text": [
      "\n",
      "---------------------Classification Report--------------------\n",
      "\n",
      "              precision    recall  f1-score   support\n",
      "\n",
      "           0       0.89      0.98      0.93      6315\n",
      "           1       0.42      0.12      0.18       845\n",
      "\n",
      "    accuracy                           0.88      7160\n",
      "   macro avg       0.65      0.55      0.56      7160\n",
      "weighted avg       0.84      0.88      0.84      7160\n",
      "\n",
      "\n",
      "-----------------------Confusion Matrix-----------------------\n",
      "\n",
      "[[6177  138]\n",
      " [ 746   99]]\n",
      "\n",
      "------------------------ROC/AUC SCORE-------------------------\n",
      "\n",
      "0.5477    \n"
     ]
    },
    {
     "name": "stderr",
     "output_type": "stream",
     "text": [
      "/anaconda3/lib/python3.7/site-packages/sklearn/linear_model/logistic.py:432: FutureWarning: Default solver will be changed to 'lbfgs' in 0.22. Specify a solver to silence this warning.\n",
      "  FutureWarning)\n"
     ]
    },
    {
     "name": "stdout",
     "output_type": "stream",
     "text": [
      "\n",
      "---------------------Classification Report--------------------\n",
      "\n",
      "              precision    recall  f1-score   support\n",
      "\n",
      "           0       0.90      0.97      0.94      6315\n",
      "           1       0.50      0.22      0.31       845\n",
      "\n",
      "    accuracy                           0.88      7160\n",
      "   macro avg       0.70      0.60      0.62      7160\n",
      "weighted avg       0.86      0.88      0.86      7160\n",
      "\n",
      "\n",
      "-----------------------Confusion Matrix-----------------------\n",
      "\n",
      "[[6124  191]\n",
      " [ 655  190]]\n",
      "\n",
      "------------------------ROC/AUC SCORE-------------------------\n",
      "\n",
      "0.5973    \n"
     ]
    },
    {
     "name": "stderr",
     "output_type": "stream",
     "text": [
      "/anaconda3/lib/python3.7/site-packages/sklearn/linear_model/logistic.py:432: FutureWarning: Default solver will be changed to 'lbfgs' in 0.22. Specify a solver to silence this warning.\n",
      "  FutureWarning)\n"
     ]
    },
    {
     "name": "stdout",
     "output_type": "stream",
     "text": [
      "\n",
      "---------------------Classification Report--------------------\n",
      "\n",
      "              precision    recall  f1-score   support\n",
      "\n",
      "           0       0.90      0.97      0.93      6270\n",
      "           1       0.53      0.21      0.30       890\n",
      "\n",
      "    accuracy                           0.88      7160\n",
      "   macro avg       0.72      0.59      0.62      7160\n",
      "weighted avg       0.85      0.88      0.86      7160\n",
      "\n",
      "\n",
      "-----------------------Confusion Matrix-----------------------\n",
      "\n",
      "[[6108  162]\n",
      " [ 704  186]]\n",
      "\n",
      "------------------------ROC/AUC SCORE-------------------------\n",
      "\n",
      "0.5916    \n"
     ]
    },
    {
     "name": "stderr",
     "output_type": "stream",
     "text": [
      "/anaconda3/lib/python3.7/site-packages/sklearn/linear_model/logistic.py:432: FutureWarning: Default solver will be changed to 'lbfgs' in 0.22. Specify a solver to silence this warning.\n",
      "  FutureWarning)\n"
     ]
    },
    {
     "name": "stdout",
     "output_type": "stream",
     "text": [
      "\n",
      "---------------------Classification Report--------------------\n",
      "\n",
      "              precision    recall  f1-score   support\n",
      "\n",
      "           0       0.93      0.98      0.95      6424\n",
      "           1       0.60      0.32      0.42       736\n",
      "\n",
      "    accuracy                           0.91      7160\n",
      "   macro avg       0.76      0.65      0.68      7160\n",
      "weighted avg       0.89      0.91      0.90      7160\n",
      "\n",
      "\n",
      "-----------------------Confusion Matrix-----------------------\n",
      "\n",
      "[[6267  157]\n",
      " [ 500  236]]\n",
      "\n",
      "------------------------ROC/AUC SCORE-------------------------\n",
      "\n",
      "0.6481    \n"
     ]
    },
    {
     "name": "stderr",
     "output_type": "stream",
     "text": [
      "/anaconda3/lib/python3.7/site-packages/sklearn/linear_model/logistic.py:432: FutureWarning: Default solver will be changed to 'lbfgs' in 0.22. Specify a solver to silence this warning.\n",
      "  FutureWarning)\n"
     ]
    },
    {
     "name": "stdout",
     "output_type": "stream",
     "text": [
      "\n",
      "---------------------Classification Report--------------------\n",
      "\n",
      "              precision    recall  f1-score   support\n",
      "\n",
      "           0       0.90      0.98      0.94      6366\n",
      "           1       0.38      0.08      0.13       794\n",
      "\n",
      "    accuracy                           0.88      7160\n",
      "   macro avg       0.64      0.53      0.53      7160\n",
      "weighted avg       0.84      0.88      0.85      7160\n",
      "\n",
      "\n",
      "-----------------------Confusion Matrix-----------------------\n",
      "\n",
      "[[6265  101]\n",
      " [ 733   61]]\n",
      "\n",
      "------------------------ROC/AUC SCORE-------------------------\n",
      "\n",
      "0.5305    \n"
     ]
    },
    {
     "name": "stderr",
     "output_type": "stream",
     "text": [
      "/anaconda3/lib/python3.7/site-packages/sklearn/linear_model/logistic.py:432: FutureWarning: Default solver will be changed to 'lbfgs' in 0.22. Specify a solver to silence this warning.\n",
      "  FutureWarning)\n"
     ]
    },
    {
     "name": "stdout",
     "output_type": "stream",
     "text": [
      "\n",
      "---------------------Classification Report--------------------\n",
      "\n",
      "              precision    recall  f1-score   support\n",
      "\n",
      "           0       0.92      0.97      0.94      6364\n",
      "           1       0.55      0.31      0.40       796\n",
      "\n",
      "    accuracy                           0.90      7160\n",
      "   macro avg       0.74      0.64      0.67      7160\n",
      "weighted avg       0.88      0.90      0.88      7160\n",
      "\n",
      "\n",
      "-----------------------Confusion Matrix-----------------------\n",
      "\n",
      "[[6164  200]\n",
      " [ 548  248]]\n",
      "\n",
      "------------------------ROC/AUC SCORE-------------------------\n",
      "\n",
      "0.6401    \n"
     ]
    },
    {
     "name": "stderr",
     "output_type": "stream",
     "text": [
      "/anaconda3/lib/python3.7/site-packages/sklearn/linear_model/logistic.py:432: FutureWarning: Default solver will be changed to 'lbfgs' in 0.22. Specify a solver to silence this warning.\n",
      "  FutureWarning)\n"
     ]
    },
    {
     "name": "stdout",
     "output_type": "stream",
     "text": [
      "\n",
      "---------------------Classification Report--------------------\n",
      "\n",
      "              precision    recall  f1-score   support\n",
      "\n",
      "           0       0.90      0.98      0.94      6364\n",
      "           1       0.49      0.18      0.26       796\n",
      "\n",
      "    accuracy                           0.89      7160\n",
      "   macro avg       0.70      0.58      0.60      7160\n",
      "weighted avg       0.86      0.89      0.86      7160\n",
      "\n",
      "\n",
      "-----------------------Confusion Matrix-----------------------\n",
      "\n",
      "[[6216  148]\n",
      " [ 655  141]]\n",
      "\n",
      "------------------------ROC/AUC SCORE-------------------------\n",
      "\n",
      "0.5769    \n"
     ]
    },
    {
     "name": "stderr",
     "output_type": "stream",
     "text": [
      "/anaconda3/lib/python3.7/site-packages/sklearn/linear_model/logistic.py:432: FutureWarning: Default solver will be changed to 'lbfgs' in 0.22. Specify a solver to silence this warning.\n",
      "  FutureWarning)\n"
     ]
    },
    {
     "name": "stdout",
     "output_type": "stream",
     "text": [
      "\n",
      "---------------------Classification Report--------------------\n",
      "\n",
      "              precision    recall  f1-score   support\n",
      "\n",
      "           0       0.91      0.98      0.95      6376\n",
      "           1       0.63      0.25      0.36       784\n",
      "\n",
      "    accuracy                           0.90      7160\n",
      "   macro avg       0.77      0.62      0.65      7160\n",
      "weighted avg       0.88      0.90      0.88      7160\n",
      "\n",
      "\n",
      "-----------------------Confusion Matrix-----------------------\n",
      "\n",
      "[[6261  115]\n",
      " [ 588  196]]\n",
      "\n",
      "------------------------ROC/AUC SCORE-------------------------\n",
      "\n",
      "0.6160    \n"
     ]
    },
    {
     "name": "stderr",
     "output_type": "stream",
     "text": [
      "/anaconda3/lib/python3.7/site-packages/sklearn/linear_model/logistic.py:432: FutureWarning: Default solver will be changed to 'lbfgs' in 0.22. Specify a solver to silence this warning.\n",
      "  FutureWarning)\n"
     ]
    },
    {
     "name": "stdout",
     "output_type": "stream",
     "text": [
      "\n",
      "---------------------Classification Report--------------------\n",
      "\n",
      "              precision    recall  f1-score   support\n",
      "\n",
      "           0       0.90      0.99      0.94      6392\n",
      "           1       0.39      0.08      0.13       768\n",
      "\n",
      "    accuracy                           0.89      7160\n",
      "   macro avg       0.65      0.53      0.54      7160\n",
      "weighted avg       0.85      0.89      0.85      7160\n",
      "\n",
      "\n",
      "-----------------------Confusion Matrix-----------------------\n",
      "\n",
      "[[6297   95]\n",
      " [ 706   62]]\n",
      "\n",
      "------------------------ROC/AUC SCORE-------------------------\n",
      "\n",
      "0.5329    \n"
     ]
    },
    {
     "name": "stderr",
     "output_type": "stream",
     "text": [
      "/anaconda3/lib/python3.7/site-packages/sklearn/linear_model/logistic.py:432: FutureWarning: Default solver will be changed to 'lbfgs' in 0.22. Specify a solver to silence this warning.\n",
      "  FutureWarning)\n"
     ]
    },
    {
     "name": "stdout",
     "output_type": "stream",
     "text": [
      "\n",
      "---------------------Classification Report--------------------\n",
      "\n",
      "              precision    recall  f1-score   support\n",
      "\n",
      "           0       0.92      0.97      0.94      6451\n",
      "           1       0.43      0.18      0.25       709\n",
      "\n",
      "    accuracy                           0.89      7160\n",
      "   macro avg       0.67      0.58      0.60      7160\n",
      "weighted avg       0.87      0.89      0.87      7160\n",
      "\n",
      "\n",
      "-----------------------Confusion Matrix-----------------------\n",
      "\n",
      "[[6282  169]\n",
      " [ 583  126]]\n",
      "\n",
      "------------------------ROC/AUC SCORE-------------------------\n",
      "\n",
      "0.5758    \n"
     ]
    },
    {
     "name": "stderr",
     "output_type": "stream",
     "text": [
      "/anaconda3/lib/python3.7/site-packages/sklearn/linear_model/logistic.py:432: FutureWarning: Default solver will be changed to 'lbfgs' in 0.22. Specify a solver to silence this warning.\n",
      "  FutureWarning)\n"
     ]
    },
    {
     "name": "stdout",
     "output_type": "stream",
     "text": [
      "\n",
      "---------------------Classification Report--------------------\n",
      "\n",
      "              precision    recall  f1-score   support\n",
      "\n",
      "           0       0.93      0.97      0.95      6422\n",
      "           1       0.56      0.32      0.41       738\n",
      "\n",
      "    accuracy                           0.90      7160\n",
      "   macro avg       0.74      0.65      0.68      7160\n",
      "weighted avg       0.89      0.90      0.89      7160\n",
      "\n",
      "\n",
      "-----------------------Confusion Matrix-----------------------\n",
      "\n",
      "[[6232  190]\n",
      " [ 500  238]]\n",
      "\n",
      "------------------------ROC/AUC SCORE-------------------------\n",
      "\n",
      "0.6465    \n"
     ]
    },
    {
     "name": "stderr",
     "output_type": "stream",
     "text": [
      "/anaconda3/lib/python3.7/site-packages/sklearn/linear_model/logistic.py:432: FutureWarning: Default solver will be changed to 'lbfgs' in 0.22. Specify a solver to silence this warning.\n",
      "  FutureWarning)\n"
     ]
    },
    {
     "name": "stdout",
     "output_type": "stream",
     "text": [
      "\n",
      "---------------------Classification Report--------------------\n",
      "\n",
      "              precision    recall  f1-score   support\n",
      "\n",
      "           0       0.91      0.98      0.94      6439\n",
      "           1       0.37      0.09      0.15       721\n",
      "\n",
      "    accuracy                           0.89      7160\n",
      "   macro avg       0.64      0.54      0.55      7160\n",
      "weighted avg       0.85      0.89      0.86      7160\n",
      "\n",
      "\n",
      "-----------------------Confusion Matrix-----------------------\n",
      "\n",
      "[[6324  115]\n",
      " [ 653   68]]\n",
      "\n",
      "------------------------ROC/AUC SCORE-------------------------\n",
      "\n",
      "0.5382    \n"
     ]
    },
    {
     "name": "stderr",
     "output_type": "stream",
     "text": [
      "/anaconda3/lib/python3.7/site-packages/sklearn/linear_model/logistic.py:432: FutureWarning: Default solver will be changed to 'lbfgs' in 0.22. Specify a solver to silence this warning.\n",
      "  FutureWarning)\n"
     ]
    },
    {
     "name": "stdout",
     "output_type": "stream",
     "text": [
      "\n",
      "---------------------Classification Report--------------------\n",
      "\n",
      "              precision    recall  f1-score   support\n",
      "\n",
      "           0       0.92      0.98      0.95      6438\n",
      "           1       0.57      0.23      0.33       722\n",
      "\n",
      "    accuracy                           0.90      7160\n",
      "   macro avg       0.74      0.61      0.64      7160\n",
      "weighted avg       0.88      0.90      0.89      7160\n",
      "\n",
      "\n",
      "-----------------------Confusion Matrix-----------------------\n",
      "\n",
      "[[6311  127]\n",
      " [ 554  168]]\n",
      "\n",
      "------------------------ROC/AUC SCORE-------------------------\n",
      "\n",
      "0.6065    \n"
     ]
    },
    {
     "name": "stderr",
     "output_type": "stream",
     "text": [
      "/anaconda3/lib/python3.7/site-packages/sklearn/linear_model/logistic.py:432: FutureWarning: Default solver will be changed to 'lbfgs' in 0.22. Specify a solver to silence this warning.\n",
      "  FutureWarning)\n"
     ]
    },
    {
     "name": "stdout",
     "output_type": "stream",
     "text": [
      "\n",
      "---------------------Classification Report--------------------\n",
      "\n",
      "              precision    recall  f1-score   support\n",
      "\n",
      "           0       0.92      0.98      0.95      6484\n",
      "           1       0.49      0.20      0.29       676\n",
      "\n",
      "    accuracy                           0.90      7160\n",
      "   macro avg       0.71      0.59      0.62      7160\n",
      "weighted avg       0.88      0.90      0.89      7160\n",
      "\n",
      "\n",
      "-----------------------Confusion Matrix-----------------------\n",
      "\n",
      "[[6342  142]\n",
      " [ 540  136]]\n",
      "\n",
      "------------------------ROC/AUC SCORE-------------------------\n",
      "\n",
      "0.5896    \n"
     ]
    },
    {
     "name": "stderr",
     "output_type": "stream",
     "text": [
      "/anaconda3/lib/python3.7/site-packages/sklearn/linear_model/logistic.py:432: FutureWarning: Default solver will be changed to 'lbfgs' in 0.22. Specify a solver to silence this warning.\n",
      "  FutureWarning)\n"
     ]
    },
    {
     "name": "stdout",
     "output_type": "stream",
     "text": [
      "\n",
      "---------------------Classification Report--------------------\n",
      "\n",
      "              precision    recall  f1-score   support\n",
      "\n",
      "           0       0.90      0.99      0.94      6439\n",
      "           1       0.21      0.02      0.04       721\n",
      "\n",
      "    accuracy                           0.89      7160\n",
      "   macro avg       0.56      0.51      0.49      7160\n",
      "weighted avg       0.83      0.89      0.85      7160\n",
      "\n",
      "\n",
      "-----------------------Confusion Matrix-----------------------\n",
      "\n",
      "[[6375   64]\n",
      " [ 704   17]]\n",
      "\n",
      "------------------------ROC/AUC SCORE-------------------------\n",
      "\n",
      "0.5068    \n"
     ]
    },
    {
     "name": "stderr",
     "output_type": "stream",
     "text": [
      "/anaconda3/lib/python3.7/site-packages/sklearn/linear_model/logistic.py:432: FutureWarning: Default solver will be changed to 'lbfgs' in 0.22. Specify a solver to silence this warning.\n",
      "  FutureWarning)\n"
     ]
    },
    {
     "name": "stdout",
     "output_type": "stream",
     "text": [
      "\n",
      "---------------------Classification Report--------------------\n",
      "\n",
      "              precision    recall  f1-score   support\n",
      "\n",
      "           0       0.92      0.98      0.95      6439\n",
      "           1       0.62      0.25      0.36       721\n",
      "\n",
      "    accuracy                           0.91      7160\n",
      "   macro avg       0.77      0.62      0.65      7160\n",
      "weighted avg       0.89      0.91      0.89      7160\n",
      "\n",
      "\n",
      "-----------------------Confusion Matrix-----------------------\n",
      "\n",
      "[[6326  113]\n",
      " [ 540  181]]\n",
      "\n",
      "------------------------ROC/AUC SCORE-------------------------\n",
      "\n",
      "0.6167    \n"
     ]
    },
    {
     "name": "stderr",
     "output_type": "stream",
     "text": [
      "/anaconda3/lib/python3.7/site-packages/sklearn/linear_model/logistic.py:432: FutureWarning: Default solver will be changed to 'lbfgs' in 0.22. Specify a solver to silence this warning.\n",
      "  FutureWarning)\n"
     ]
    },
    {
     "name": "stdout",
     "output_type": "stream",
     "text": [
      "\n",
      "---------------------Classification Report--------------------\n",
      "\n",
      "              precision    recall  f1-score   support\n",
      "\n",
      "           0       0.92      0.98      0.95      6504\n",
      "           1       0.43      0.12      0.19       656\n",
      "\n",
      "    accuracy                           0.90      7160\n",
      "   macro avg       0.67      0.55      0.57      7160\n",
      "weighted avg       0.87      0.90      0.88      7160\n",
      "\n",
      "\n",
      "-----------------------Confusion Matrix-----------------------\n",
      "\n",
      "[[6394  110]\n",
      " [ 574   82]]\n",
      "\n",
      "------------------------ROC/AUC SCORE-------------------------\n",
      "\n",
      "0.5540    \n"
     ]
    },
    {
     "name": "stderr",
     "output_type": "stream",
     "text": [
      "/anaconda3/lib/python3.7/site-packages/sklearn/linear_model/logistic.py:432: FutureWarning: Default solver will be changed to 'lbfgs' in 0.22. Specify a solver to silence this warning.\n",
      "  FutureWarning)\n"
     ]
    },
    {
     "name": "stdout",
     "output_type": "stream",
     "text": [
      "\n",
      "---------------------Classification Report--------------------\n",
      "\n",
      "              precision    recall  f1-score   support\n",
      "\n",
      "           0       0.92      0.97      0.95      6436\n",
      "           1       0.53      0.27      0.36       724\n",
      "\n",
      "    accuracy                           0.90      7160\n",
      "   macro avg       0.73      0.62      0.65      7160\n",
      "weighted avg       0.88      0.90      0.89      7160\n",
      "\n",
      "\n",
      "-----------------------Confusion Matrix-----------------------\n",
      "\n",
      "[[6262  174]\n",
      " [ 528  196]]\n",
      "\n",
      "------------------------ROC/AUC SCORE-------------------------\n",
      "\n",
      "0.6218    \n"
     ]
    },
    {
     "name": "stderr",
     "output_type": "stream",
     "text": [
      "/anaconda3/lib/python3.7/site-packages/sklearn/linear_model/logistic.py:432: FutureWarning: Default solver will be changed to 'lbfgs' in 0.22. Specify a solver to silence this warning.\n",
      "  FutureWarning)\n"
     ]
    },
    {
     "name": "stdout",
     "output_type": "stream",
     "text": [
      "\n",
      "---------------------Classification Report--------------------\n",
      "\n",
      "              precision    recall  f1-score   support\n",
      "\n",
      "           0       0.92      0.98      0.95      6475\n",
      "           1       0.51      0.19      0.27       685\n",
      "\n",
      "    accuracy                           0.91      7160\n",
      "   macro avg       0.72      0.58      0.61      7160\n",
      "weighted avg       0.88      0.91      0.88      7160\n",
      "\n",
      "\n",
      "-----------------------Confusion Matrix-----------------------\n",
      "\n",
      "[[6355  120]\n",
      " [ 558  127]]\n",
      "\n",
      "------------------------ROC/AUC SCORE-------------------------\n",
      "\n",
      "0.5834    \n"
     ]
    },
    {
     "name": "stderr",
     "output_type": "stream",
     "text": [
      "/anaconda3/lib/python3.7/site-packages/sklearn/linear_model/logistic.py:432: FutureWarning: Default solver will be changed to 'lbfgs' in 0.22. Specify a solver to silence this warning.\n",
      "  FutureWarning)\n"
     ]
    },
    {
     "name": "stdout",
     "output_type": "stream",
     "text": [
      "\n",
      "---------------------Classification Report--------------------\n",
      "\n",
      "              precision    recall  f1-score   support\n",
      "\n",
      "           0       0.93      0.98      0.95      6486\n",
      "           1       0.56      0.27      0.36       674\n",
      "\n",
      "    accuracy                           0.91      7160\n",
      "   macro avg       0.75      0.62      0.66      7160\n",
      "weighted avg       0.89      0.91      0.90      7160\n",
      "\n",
      "\n",
      "-----------------------Confusion Matrix-----------------------\n",
      "\n",
      "[[6347  139]\n",
      " [ 494  180]]\n",
      "\n",
      "------------------------ROC/AUC SCORE-------------------------\n",
      "\n",
      "0.6228    \n"
     ]
    },
    {
     "name": "stderr",
     "output_type": "stream",
     "text": [
      "/anaconda3/lib/python3.7/site-packages/sklearn/linear_model/logistic.py:432: FutureWarning: Default solver will be changed to 'lbfgs' in 0.22. Specify a solver to silence this warning.\n",
      "  FutureWarning)\n"
     ]
    },
    {
     "name": "stdout",
     "output_type": "stream",
     "text": [
      "\n",
      "---------------------Classification Report--------------------\n",
      "\n",
      "              precision    recall  f1-score   support\n",
      "\n",
      "           0       0.92      0.98      0.95      6480\n",
      "           1       0.53      0.22      0.31       680\n",
      "\n",
      "    accuracy                           0.91      7160\n",
      "   macro avg       0.73      0.60      0.63      7160\n",
      "weighted avg       0.89      0.91      0.89      7160\n",
      "\n",
      "\n",
      "-----------------------Confusion Matrix-----------------------\n",
      "\n",
      "[[6346  134]\n",
      " [ 529  151]]\n",
      "\n",
      "------------------------ROC/AUC SCORE-------------------------\n",
      "\n",
      "0.6007    \n"
     ]
    },
    {
     "name": "stderr",
     "output_type": "stream",
     "text": [
      "/anaconda3/lib/python3.7/site-packages/sklearn/linear_model/logistic.py:432: FutureWarning: Default solver will be changed to 'lbfgs' in 0.22. Specify a solver to silence this warning.\n",
      "  FutureWarning)\n"
     ]
    },
    {
     "name": "stdout",
     "output_type": "stream",
     "text": [
      "\n",
      "---------------------Classification Report--------------------\n",
      "\n",
      "              precision    recall  f1-score   support\n",
      "\n",
      "           0       0.91      0.98      0.95      6446\n",
      "           1       0.52      0.16      0.24       714\n",
      "\n",
      "    accuracy                           0.90      7160\n",
      "   macro avg       0.72      0.57      0.60      7160\n",
      "weighted avg       0.87      0.90      0.88      7160\n",
      "\n",
      "\n",
      "-----------------------Confusion Matrix-----------------------\n",
      "\n",
      "[[6340  106]\n",
      " [ 600  114]]\n",
      "\n",
      "------------------------ROC/AUC SCORE-------------------------\n",
      "\n",
      "0.5716    \n"
     ]
    },
    {
     "name": "stderr",
     "output_type": "stream",
     "text": [
      "/anaconda3/lib/python3.7/site-packages/sklearn/linear_model/logistic.py:432: FutureWarning: Default solver will be changed to 'lbfgs' in 0.22. Specify a solver to silence this warning.\n",
      "  FutureWarning)\n"
     ]
    },
    {
     "name": "stdout",
     "output_type": "stream",
     "text": [
      "\n",
      "---------------------Classification Report--------------------\n",
      "\n",
      "              precision    recall  f1-score   support\n",
      "\n",
      "           0       0.93      0.98      0.96      6544\n",
      "           1       0.54      0.26      0.35       616\n",
      "\n",
      "    accuracy                           0.92      7160\n",
      "   macro avg       0.74      0.62      0.65      7160\n",
      "weighted avg       0.90      0.92      0.90      7160\n",
      "\n",
      "\n",
      "-----------------------Confusion Matrix-----------------------\n",
      "\n",
      "[[6411  133]\n",
      " [ 458  158]]\n",
      "\n",
      "------------------------ROC/AUC SCORE-------------------------\n",
      "\n",
      "0.6181    \n"
     ]
    },
    {
     "name": "stderr",
     "output_type": "stream",
     "text": [
      "/anaconda3/lib/python3.7/site-packages/sklearn/linear_model/logistic.py:432: FutureWarning: Default solver will be changed to 'lbfgs' in 0.22. Specify a solver to silence this warning.\n",
      "  FutureWarning)\n"
     ]
    },
    {
     "name": "stdout",
     "output_type": "stream",
     "text": [
      "\n",
      "---------------------Classification Report--------------------\n",
      "\n",
      "              precision    recall  f1-score   support\n",
      "\n",
      "           0       0.92      0.98      0.95      6486\n",
      "           1       0.54      0.19      0.29       674\n",
      "\n",
      "    accuracy                           0.91      7160\n",
      "   macro avg       0.73      0.59      0.62      7160\n",
      "weighted avg       0.89      0.91      0.89      7160\n",
      "\n",
      "\n",
      "-----------------------Confusion Matrix-----------------------\n",
      "\n",
      "[[6375  111]\n",
      " [ 543  131]]\n",
      "\n",
      "------------------------ROC/AUC SCORE-------------------------\n",
      "\n",
      "0.5886    \n"
     ]
    },
    {
     "name": "stderr",
     "output_type": "stream",
     "text": [
      "/anaconda3/lib/python3.7/site-packages/sklearn/linear_model/logistic.py:432: FutureWarning: Default solver will be changed to 'lbfgs' in 0.22. Specify a solver to silence this warning.\n",
      "  FutureWarning)\n"
     ]
    },
    {
     "name": "stdout",
     "output_type": "stream",
     "text": [
      "\n",
      "---------------------Classification Report--------------------\n",
      "\n",
      "              precision    recall  f1-score   support\n",
      "\n",
      "           0       0.92      0.98      0.95      6527\n",
      "           1       0.40      0.14      0.21       633\n",
      "\n",
      "    accuracy                           0.91      7160\n",
      "   macro avg       0.66      0.56      0.58      7160\n",
      "weighted avg       0.88      0.91      0.88      7160\n",
      "\n",
      "\n",
      "-----------------------Confusion Matrix-----------------------\n",
      "\n",
      "[[6394  133]\n",
      " [ 544   89]]\n",
      "\n",
      "------------------------ROC/AUC SCORE-------------------------\n",
      "\n",
      "0.5601    \n"
     ]
    },
    {
     "name": "stderr",
     "output_type": "stream",
     "text": [
      "/anaconda3/lib/python3.7/site-packages/sklearn/linear_model/logistic.py:432: FutureWarning: Default solver will be changed to 'lbfgs' in 0.22. Specify a solver to silence this warning.\n",
      "  FutureWarning)\n"
     ]
    },
    {
     "name": "stdout",
     "output_type": "stream",
     "text": [
      "\n",
      "---------------------Classification Report--------------------\n",
      "\n",
      "              precision    recall  f1-score   support\n",
      "\n",
      "           0       0.93      0.98      0.96      6588\n",
      "           1       0.52      0.21      0.30       572\n",
      "\n",
      "    accuracy                           0.92      7160\n",
      "   macro avg       0.73      0.60      0.63      7160\n",
      "weighted avg       0.90      0.92      0.91      7160\n",
      "\n",
      "\n",
      "-----------------------Confusion Matrix-----------------------\n",
      "\n",
      "[[6480  108]\n",
      " [ 453  119]]\n",
      "\n",
      "------------------------ROC/AUC SCORE-------------------------\n",
      "\n",
      "0.5958    \n"
     ]
    },
    {
     "name": "stderr",
     "output_type": "stream",
     "text": [
      "/anaconda3/lib/python3.7/site-packages/sklearn/linear_model/logistic.py:432: FutureWarning: Default solver will be changed to 'lbfgs' in 0.22. Specify a solver to silence this warning.\n",
      "  FutureWarning)\n"
     ]
    },
    {
     "name": "stdout",
     "output_type": "stream",
     "text": [
      "\n",
      "---------------------Classification Report--------------------\n",
      "\n",
      "              precision    recall  f1-score   support\n",
      "\n",
      "           0       0.92      0.98      0.95      6521\n",
      "           1       0.44      0.16      0.23       639\n",
      "\n",
      "    accuracy                           0.91      7160\n",
      "   macro avg       0.68      0.57      0.59      7160\n",
      "weighted avg       0.88      0.91      0.89      7160\n",
      "\n",
      "\n",
      "-----------------------Confusion Matrix-----------------------\n",
      "\n",
      "[[6393  128]\n",
      " [ 538  101]]\n",
      "\n",
      "------------------------ROC/AUC SCORE-------------------------\n",
      "\n",
      "0.5692    \n"
     ]
    },
    {
     "name": "stderr",
     "output_type": "stream",
     "text": [
      "/anaconda3/lib/python3.7/site-packages/sklearn/linear_model/logistic.py:432: FutureWarning: Default solver will be changed to 'lbfgs' in 0.22. Specify a solver to silence this warning.\n",
      "  FutureWarning)\n"
     ]
    },
    {
     "name": "stdout",
     "output_type": "stream",
     "text": [
      "\n",
      "---------------------Classification Report--------------------\n",
      "\n",
      "              precision    recall  f1-score   support\n",
      "\n",
      "           0       0.92      0.99      0.95      6560\n",
      "           1       0.28      0.04      0.07       600\n",
      "\n",
      "    accuracy                           0.91      7160\n",
      "   macro avg       0.60      0.51      0.51      7160\n",
      "weighted avg       0.87      0.91      0.88      7160\n",
      "\n",
      "\n",
      "-----------------------Confusion Matrix-----------------------\n",
      "\n",
      "[[6502   58]\n",
      " [ 577   23]]\n",
      "\n",
      "------------------------ROC/AUC SCORE-------------------------\n",
      "\n",
      "0.5147    \n"
     ]
    },
    {
     "name": "stderr",
     "output_type": "stream",
     "text": [
      "/anaconda3/lib/python3.7/site-packages/sklearn/linear_model/logistic.py:432: FutureWarning: Default solver will be changed to 'lbfgs' in 0.22. Specify a solver to silence this warning.\n",
      "  FutureWarning)\n"
     ]
    },
    {
     "name": "stdout",
     "output_type": "stream",
     "text": [
      "\n",
      "---------------------Classification Report--------------------\n",
      "\n",
      "              precision    recall  f1-score   support\n",
      "\n",
      "           0       0.92      0.98      0.95      6556\n",
      "           1       0.41      0.11      0.18       604\n",
      "\n",
      "    accuracy                           0.91      7160\n",
      "   macro avg       0.67      0.55      0.57      7160\n",
      "weighted avg       0.88      0.91      0.89      7160\n",
      "\n",
      "\n",
      "-----------------------Confusion Matrix-----------------------\n",
      "\n",
      "[[6457   99]\n",
      " [ 535   69]]\n",
      "\n",
      "------------------------ROC/AUC SCORE-------------------------\n",
      "\n",
      "0.5496    \n"
     ]
    },
    {
     "name": "stderr",
     "output_type": "stream",
     "text": [
      "/anaconda3/lib/python3.7/site-packages/sklearn/linear_model/logistic.py:432: FutureWarning: Default solver will be changed to 'lbfgs' in 0.22. Specify a solver to silence this warning.\n",
      "  FutureWarning)\n"
     ]
    },
    {
     "name": "stdout",
     "output_type": "stream",
     "text": [
      "\n",
      "---------------------Classification Report--------------------\n",
      "\n",
      "              precision    recall  f1-score   support\n",
      "\n",
      "           0       0.92      0.99      0.95      6513\n",
      "           1       0.40      0.09      0.15       647\n",
      "\n",
      "    accuracy                           0.91      7160\n",
      "   macro avg       0.66      0.54      0.55      7160\n",
      "weighted avg       0.87      0.91      0.88      7160\n",
      "\n",
      "\n",
      "-----------------------Confusion Matrix-----------------------\n",
      "\n",
      "[[6423   90]\n",
      " [ 586   61]]\n",
      "\n",
      "------------------------ROC/AUC SCORE-------------------------\n",
      "\n",
      "0.5402    \n"
     ]
    },
    {
     "name": "stderr",
     "output_type": "stream",
     "text": [
      "/anaconda3/lib/python3.7/site-packages/sklearn/linear_model/logistic.py:432: FutureWarning: Default solver will be changed to 'lbfgs' in 0.22. Specify a solver to silence this warning.\n",
      "  FutureWarning)\n"
     ]
    },
    {
     "name": "stdout",
     "output_type": "stream",
     "text": [
      "\n",
      "---------------------Classification Report--------------------\n",
      "\n",
      "              precision    recall  f1-score   support\n",
      "\n",
      "           0       0.92      0.98      0.95      6519\n",
      "           1       0.48      0.19      0.27       641\n",
      "\n",
      "    accuracy                           0.91      7160\n",
      "   macro avg       0.70      0.59      0.61      7160\n",
      "weighted avg       0.88      0.91      0.89      7160\n",
      "\n",
      "\n",
      "-----------------------Confusion Matrix-----------------------\n",
      "\n",
      "[[6385  134]\n",
      " [ 518  123]]\n",
      "\n",
      "------------------------ROC/AUC SCORE-------------------------\n",
      "\n",
      "0.5857    \n"
     ]
    },
    {
     "name": "stderr",
     "output_type": "stream",
     "text": [
      "/anaconda3/lib/python3.7/site-packages/sklearn/linear_model/logistic.py:432: FutureWarning: Default solver will be changed to 'lbfgs' in 0.22. Specify a solver to silence this warning.\n",
      "  FutureWarning)\n"
     ]
    },
    {
     "name": "stdout",
     "output_type": "stream",
     "text": [
      "\n",
      "---------------------Classification Report--------------------\n",
      "\n",
      "              precision    recall  f1-score   support\n",
      "\n",
      "           0       0.93      0.98      0.96      6524\n",
      "           1       0.57      0.29      0.38       636\n",
      "\n",
      "    accuracy                           0.92      7160\n",
      "   macro avg       0.75      0.63      0.67      7160\n",
      "weighted avg       0.90      0.92      0.90      7160\n",
      "\n",
      "\n",
      "-----------------------Confusion Matrix-----------------------\n",
      "\n",
      "[[6385  139]\n",
      " [ 452  184]]\n",
      "\n",
      "------------------------ROC/AUC SCORE-------------------------\n",
      "\n",
      "0.6340    \n"
     ]
    },
    {
     "name": "stderr",
     "output_type": "stream",
     "text": [
      "/anaconda3/lib/python3.7/site-packages/sklearn/linear_model/logistic.py:432: FutureWarning: Default solver will be changed to 'lbfgs' in 0.22. Specify a solver to silence this warning.\n",
      "  FutureWarning)\n"
     ]
    },
    {
     "name": "stdout",
     "output_type": "stream",
     "text": [
      "\n",
      "---------------------Classification Report--------------------\n",
      "\n",
      "              precision    recall  f1-score   support\n",
      "\n",
      "           0       0.93      0.98      0.96      6548\n",
      "           1       0.52      0.19      0.28       612\n",
      "\n",
      "    accuracy                           0.92      7160\n",
      "   macro avg       0.72      0.59      0.62      7160\n",
      "weighted avg       0.89      0.92      0.90      7160\n",
      "\n",
      "\n",
      "-----------------------Confusion Matrix-----------------------\n",
      "\n",
      "[[6440  108]\n",
      " [ 497  115]]\n",
      "\n",
      "------------------------ROC/AUC SCORE-------------------------\n",
      "\n",
      "0.5857    \n"
     ]
    },
    {
     "name": "stderr",
     "output_type": "stream",
     "text": [
      "/anaconda3/lib/python3.7/site-packages/sklearn/linear_model/logistic.py:432: FutureWarning: Default solver will be changed to 'lbfgs' in 0.22. Specify a solver to silence this warning.\n",
      "  FutureWarning)\n"
     ]
    },
    {
     "name": "stdout",
     "output_type": "stream",
     "text": [
      "\n",
      "---------------------Classification Report--------------------\n",
      "\n",
      "              precision    recall  f1-score   support\n",
      "\n",
      "           0       0.93      0.98      0.96      6561\n",
      "           1       0.49      0.16      0.24       599\n",
      "\n",
      "    accuracy                           0.92      7160\n",
      "   macro avg       0.71      0.57      0.60      7160\n",
      "weighted avg       0.89      0.92      0.90      7160\n",
      "\n",
      "\n",
      "-----------------------Confusion Matrix-----------------------\n",
      "\n",
      "[[6460  101]\n",
      " [ 502   97]]\n",
      "\n",
      "------------------------ROC/AUC SCORE-------------------------\n",
      "\n",
      "0.5733    \n"
     ]
    },
    {
     "name": "stderr",
     "output_type": "stream",
     "text": [
      "/anaconda3/lib/python3.7/site-packages/sklearn/linear_model/logistic.py:432: FutureWarning: Default solver will be changed to 'lbfgs' in 0.22. Specify a solver to silence this warning.\n",
      "  FutureWarning)\n"
     ]
    },
    {
     "name": "stdout",
     "output_type": "stream",
     "text": [
      "\n",
      "---------------------Classification Report--------------------\n",
      "\n",
      "              precision    recall  f1-score   support\n",
      "\n",
      "           0       0.93      0.99      0.96      6585\n",
      "           1       0.39      0.10      0.16       575\n",
      "\n",
      "    accuracy                           0.92      7160\n",
      "   macro avg       0.66      0.54      0.56      7160\n",
      "weighted avg       0.88      0.92      0.89      7160\n",
      "\n",
      "\n",
      "-----------------------Confusion Matrix-----------------------\n",
      "\n",
      "[[6496   89]\n",
      " [ 517   58]]\n",
      "\n",
      "------------------------ROC/AUC SCORE-------------------------\n",
      "\n",
      "0.5437    \n"
     ]
    },
    {
     "name": "stderr",
     "output_type": "stream",
     "text": [
      "/anaconda3/lib/python3.7/site-packages/sklearn/linear_model/logistic.py:432: FutureWarning: Default solver will be changed to 'lbfgs' in 0.22. Specify a solver to silence this warning.\n",
      "  FutureWarning)\n"
     ]
    },
    {
     "name": "stdout",
     "output_type": "stream",
     "text": [
      "\n",
      "---------------------Classification Report--------------------\n",
      "\n",
      "              precision    recall  f1-score   support\n",
      "\n",
      "           0       0.94      0.98      0.96      6628\n",
      "           1       0.50      0.19      0.28       532\n",
      "\n",
      "    accuracy                           0.93      7160\n",
      "   macro avg       0.72      0.59      0.62      7160\n",
      "weighted avg       0.91      0.93      0.91      7160\n",
      "\n",
      "\n",
      "-----------------------Confusion Matrix-----------------------\n",
      "\n",
      "[[6527  101]\n",
      " [ 429  103]]\n",
      "\n",
      "------------------------ROC/AUC SCORE-------------------------\n",
      "\n",
      "0.5892    \n"
     ]
    },
    {
     "name": "stderr",
     "output_type": "stream",
     "text": [
      "/anaconda3/lib/python3.7/site-packages/sklearn/linear_model/logistic.py:432: FutureWarning: Default solver will be changed to 'lbfgs' in 0.22. Specify a solver to silence this warning.\n",
      "  FutureWarning)\n"
     ]
    },
    {
     "name": "stdout",
     "output_type": "stream",
     "text": [
      "\n",
      "---------------------Classification Report--------------------\n",
      "\n",
      "              precision    recall  f1-score   support\n",
      "\n",
      "           0       0.93      0.98      0.95      6551\n",
      "           1       0.40      0.15      0.22       609\n",
      "\n",
      "    accuracy                           0.91      7160\n",
      "   macro avg       0.66      0.57      0.59      7160\n",
      "weighted avg       0.88      0.91      0.89      7160\n",
      "\n",
      "\n",
      "-----------------------Confusion Matrix-----------------------\n",
      "\n",
      "[[6414  137]\n",
      " [ 516   93]]\n",
      "\n",
      "------------------------ROC/AUC SCORE-------------------------\n",
      "\n",
      "0.5659    \n"
     ]
    },
    {
     "name": "stderr",
     "output_type": "stream",
     "text": [
      "/anaconda3/lib/python3.7/site-packages/sklearn/linear_model/logistic.py:432: FutureWarning: Default solver will be changed to 'lbfgs' in 0.22. Specify a solver to silence this warning.\n",
      "  FutureWarning)\n"
     ]
    },
    {
     "name": "stdout",
     "output_type": "stream",
     "text": [
      "\n",
      "---------------------Classification Report--------------------\n",
      "\n",
      "              precision    recall  f1-score   support\n",
      "\n",
      "           0       0.93      0.98      0.96      6624\n",
      "           1       0.42      0.15      0.22       536\n",
      "\n",
      "    accuracy                           0.92      7160\n",
      "   macro avg       0.68      0.57      0.59      7160\n",
      "weighted avg       0.90      0.92      0.90      7160\n",
      "\n",
      "\n",
      "-----------------------Confusion Matrix-----------------------\n",
      "\n",
      "[[6515  109]\n",
      " [ 456   80]]\n",
      "\n",
      "------------------------ROC/AUC SCORE-------------------------\n",
      "\n",
      "0.5664    \n"
     ]
    },
    {
     "name": "stderr",
     "output_type": "stream",
     "text": [
      "/anaconda3/lib/python3.7/site-packages/sklearn/linear_model/logistic.py:432: FutureWarning: Default solver will be changed to 'lbfgs' in 0.22. Specify a solver to silence this warning.\n",
      "  FutureWarning)\n"
     ]
    },
    {
     "name": "stdout",
     "output_type": "stream",
     "text": [
      "\n",
      "---------------------Classification Report--------------------\n",
      "\n",
      "              precision    recall  f1-score   support\n",
      "\n",
      "           0       0.92      0.99      0.96      6577\n",
      "           1       0.41      0.07      0.12       583\n",
      "\n",
      "    accuracy                           0.92      7160\n",
      "   macro avg       0.67      0.53      0.54      7160\n",
      "weighted avg       0.88      0.92      0.89      7160\n",
      "\n",
      "\n",
      "-----------------------Confusion Matrix-----------------------\n",
      "\n",
      "[[6519   58]\n",
      " [ 542   41]]\n",
      "\n",
      "------------------------ROC/AUC SCORE-------------------------\n",
      "\n",
      "0.5308    \n"
     ]
    },
    {
     "name": "stderr",
     "output_type": "stream",
     "text": [
      "/anaconda3/lib/python3.7/site-packages/sklearn/linear_model/logistic.py:432: FutureWarning: Default solver will be changed to 'lbfgs' in 0.22. Specify a solver to silence this warning.\n",
      "  FutureWarning)\n"
     ]
    },
    {
     "name": "stdout",
     "output_type": "stream",
     "text": [
      "\n",
      "---------------------Classification Report--------------------\n",
      "\n",
      "              precision    recall  f1-score   support\n",
      "\n",
      "           0       0.93      0.99      0.96      6613\n",
      "           1       0.51      0.17      0.25       547\n",
      "\n",
      "    accuracy                           0.92      7160\n",
      "   macro avg       0.72      0.58      0.61      7160\n",
      "weighted avg       0.90      0.92      0.91      7160\n",
      "\n",
      "\n",
      "-----------------------Confusion Matrix-----------------------\n",
      "\n",
      "[[6524   89]\n",
      " [ 456   91]]\n",
      "\n",
      "------------------------ROC/AUC SCORE-------------------------\n",
      "\n",
      "0.5765    \n"
     ]
    },
    {
     "name": "stderr",
     "output_type": "stream",
     "text": [
      "/anaconda3/lib/python3.7/site-packages/sklearn/linear_model/logistic.py:432: FutureWarning: Default solver will be changed to 'lbfgs' in 0.22. Specify a solver to silence this warning.\n",
      "  FutureWarning)\n"
     ]
    },
    {
     "name": "stdout",
     "output_type": "stream",
     "text": [
      "\n",
      "---------------------Classification Report--------------------\n",
      "\n",
      "              precision    recall  f1-score   support\n",
      "\n",
      "           0       0.93      0.99      0.96      6629\n",
      "           1       0.47      0.09      0.15       531\n",
      "\n",
      "    accuracy                           0.92      7160\n",
      "   macro avg       0.70      0.54      0.56      7160\n",
      "weighted avg       0.90      0.92      0.90      7160\n",
      "\n",
      "\n",
      "-----------------------Confusion Matrix-----------------------\n",
      "\n",
      "[[6574   55]\n",
      " [ 483   48]]\n",
      "\n",
      "------------------------ROC/AUC SCORE-------------------------\n",
      "\n",
      "0.5410    \n"
     ]
    },
    {
     "name": "stderr",
     "output_type": "stream",
     "text": [
      "/anaconda3/lib/python3.7/site-packages/sklearn/linear_model/logistic.py:432: FutureWarning: Default solver will be changed to 'lbfgs' in 0.22. Specify a solver to silence this warning.\n",
      "  FutureWarning)\n"
     ]
    },
    {
     "name": "stdout",
     "output_type": "stream",
     "text": [
      "\n",
      "---------------------Classification Report--------------------\n",
      "\n",
      "              precision    recall  f1-score   support\n",
      "\n",
      "           0       0.94      0.98      0.96      6568\n",
      "           1       0.58      0.34      0.43       592\n",
      "\n",
      "    accuracy                           0.93      7160\n",
      "   macro avg       0.76      0.66      0.69      7160\n",
      "weighted avg       0.91      0.93      0.92      7160\n",
      "\n",
      "\n",
      "-----------------------Confusion Matrix-----------------------\n",
      "\n",
      "[[6425  143]\n",
      " [ 393  199]]\n",
      "\n",
      "------------------------ROC/AUC SCORE-------------------------\n",
      "\n",
      "0.6572    \n"
     ]
    },
    {
     "name": "stderr",
     "output_type": "stream",
     "text": [
      "/anaconda3/lib/python3.7/site-packages/sklearn/linear_model/logistic.py:432: FutureWarning: Default solver will be changed to 'lbfgs' in 0.22. Specify a solver to silence this warning.\n",
      "  FutureWarning)\n"
     ]
    },
    {
     "name": "stdout",
     "output_type": "stream",
     "text": [
      "\n",
      "---------------------Classification Report--------------------\n",
      "\n",
      "              precision    recall  f1-score   support\n",
      "\n",
      "           0       0.92      1.00      0.96      6570\n",
      "           1       0.20      0.01      0.02       590\n",
      "\n",
      "    accuracy                           0.91      7160\n",
      "   macro avg       0.56      0.50      0.49      7160\n",
      "weighted avg       0.86      0.91      0.88      7160\n",
      "\n",
      "\n",
      "-----------------------Confusion Matrix-----------------------\n",
      "\n",
      "[[6542   28]\n",
      " [ 583    7]]\n",
      "\n",
      "------------------------ROC/AUC SCORE-------------------------\n",
      "\n",
      "0.5038    \n"
     ]
    },
    {
     "name": "stderr",
     "output_type": "stream",
     "text": [
      "/anaconda3/lib/python3.7/site-packages/sklearn/linear_model/logistic.py:432: FutureWarning: Default solver will be changed to 'lbfgs' in 0.22. Specify a solver to silence this warning.\n",
      "  FutureWarning)\n"
     ]
    },
    {
     "name": "stdout",
     "output_type": "stream",
     "text": [
      "\n",
      "---------------------Classification Report--------------------\n",
      "\n",
      "              precision    recall  f1-score   support\n",
      "\n",
      "           0       0.92      0.99      0.96      6577\n",
      "           1       0.41      0.07      0.11       583\n",
      "\n",
      "    accuracy                           0.92      7160\n",
      "   macro avg       0.67      0.53      0.53      7160\n",
      "weighted avg       0.88      0.92      0.89      7160\n",
      "\n",
      "\n",
      "-----------------------Confusion Matrix-----------------------\n",
      "\n",
      "[[6522   55]\n",
      " [ 545   38]]\n",
      "\n",
      "------------------------ROC/AUC SCORE-------------------------\n",
      "\n",
      "0.5284    \n"
     ]
    },
    {
     "name": "stderr",
     "output_type": "stream",
     "text": [
      "/anaconda3/lib/python3.7/site-packages/sklearn/linear_model/logistic.py:432: FutureWarning: Default solver will be changed to 'lbfgs' in 0.22. Specify a solver to silence this warning.\n",
      "  FutureWarning)\n"
     ]
    },
    {
     "name": "stdout",
     "output_type": "stream",
     "text": [
      "\n",
      "---------------------Classification Report--------------------\n",
      "\n",
      "              precision    recall  f1-score   support\n",
      "\n",
      "           0       0.93      0.98      0.96      6588\n",
      "           1       0.43      0.16      0.23       572\n",
      "\n",
      "    accuracy                           0.92      7160\n",
      "   macro avg       0.68      0.57      0.59      7160\n",
      "weighted avg       0.89      0.92      0.90      7160\n",
      "\n",
      "\n",
      "-----------------------Confusion Matrix-----------------------\n",
      "\n",
      "[[6471  117]\n",
      " [ 482   90]]\n",
      "\n",
      "------------------------ROC/AUC SCORE-------------------------\n",
      "\n",
      "0.5698    \n"
     ]
    },
    {
     "name": "stderr",
     "output_type": "stream",
     "text": [
      "/anaconda3/lib/python3.7/site-packages/sklearn/linear_model/logistic.py:432: FutureWarning: Default solver will be changed to 'lbfgs' in 0.22. Specify a solver to silence this warning.\n",
      "  FutureWarning)\n"
     ]
    },
    {
     "name": "stdout",
     "output_type": "stream",
     "text": [
      "\n",
      "---------------------Classification Report--------------------\n",
      "\n",
      "              precision    recall  f1-score   support\n",
      "\n",
      "           0       0.94      0.99      0.96      6653\n",
      "           1       0.51      0.15      0.24       507\n",
      "\n",
      "    accuracy                           0.93      7160\n",
      "   macro avg       0.72      0.57      0.60      7160\n",
      "weighted avg       0.91      0.93      0.91      7160\n",
      "\n",
      "\n",
      "-----------------------Confusion Matrix-----------------------\n",
      "\n",
      "[[6577   76]\n",
      " [ 429   78]]\n",
      "\n",
      "------------------------ROC/AUC SCORE-------------------------\n",
      "\n",
      "0.5712    \n"
     ]
    },
    {
     "name": "stderr",
     "output_type": "stream",
     "text": [
      "/anaconda3/lib/python3.7/site-packages/sklearn/linear_model/logistic.py:432: FutureWarning: Default solver will be changed to 'lbfgs' in 0.22. Specify a solver to silence this warning.\n",
      "  FutureWarning)\n"
     ]
    },
    {
     "name": "stdout",
     "output_type": "stream",
     "text": [
      "\n",
      "---------------------Classification Report--------------------\n",
      "\n",
      "              precision    recall  f1-score   support\n",
      "\n",
      "           0       0.95      0.98      0.97      6662\n",
      "           1       0.59      0.37      0.45       498\n",
      "\n",
      "    accuracy                           0.94      7160\n",
      "   macro avg       0.77      0.67      0.71      7160\n",
      "weighted avg       0.93      0.94      0.93      7160\n",
      "\n",
      "\n",
      "-----------------------Confusion Matrix-----------------------\n",
      "\n",
      "[[6537  125]\n",
      " [ 316  182]]\n",
      "\n",
      "------------------------ROC/AUC SCORE-------------------------\n",
      "\n",
      "0.6733    \n"
     ]
    },
    {
     "name": "stderr",
     "output_type": "stream",
     "text": [
      "/anaconda3/lib/python3.7/site-packages/sklearn/linear_model/logistic.py:432: FutureWarning: Default solver will be changed to 'lbfgs' in 0.22. Specify a solver to silence this warning.\n",
      "  FutureWarning)\n"
     ]
    },
    {
     "name": "stdout",
     "output_type": "stream",
     "text": [
      "\n",
      "---------------------Classification Report--------------------\n",
      "\n",
      "              precision    recall  f1-score   support\n",
      "\n",
      "           0       0.93      0.99      0.96      6637\n",
      "           1       0.40      0.07      0.11       523\n",
      "\n",
      "    accuracy                           0.92      7160\n",
      "   macro avg       0.67      0.53      0.54      7160\n",
      "weighted avg       0.89      0.92      0.90      7160\n",
      "\n",
      "\n",
      "-----------------------Confusion Matrix-----------------------\n",
      "\n",
      "[[6586   51]\n",
      " [ 489   34]]\n",
      "\n",
      "------------------------ROC/AUC SCORE-------------------------\n",
      "\n",
      "0.5287    \n"
     ]
    },
    {
     "name": "stderr",
     "output_type": "stream",
     "text": [
      "/anaconda3/lib/python3.7/site-packages/sklearn/linear_model/logistic.py:432: FutureWarning: Default solver will be changed to 'lbfgs' in 0.22. Specify a solver to silence this warning.\n",
      "  FutureWarning)\n"
     ]
    },
    {
     "name": "stdout",
     "output_type": "stream",
     "text": [
      "\n",
      "---------------------Classification Report--------------------\n",
      "\n",
      "              precision    recall  f1-score   support\n",
      "\n",
      "           0       0.95      0.98      0.96      6661\n",
      "           1       0.51      0.25      0.34       499\n",
      "\n",
      "    accuracy                           0.93      7160\n",
      "   macro avg       0.73      0.62      0.65      7160\n",
      "weighted avg       0.92      0.93      0.92      7160\n",
      "\n",
      "\n",
      "-----------------------Confusion Matrix-----------------------\n",
      "\n",
      "[[6540  121]\n",
      " [ 372  127]]\n",
      "\n",
      "------------------------ROC/AUC SCORE-------------------------\n",
      "\n",
      "0.6182    \n"
     ]
    },
    {
     "name": "stderr",
     "output_type": "stream",
     "text": [
      "/anaconda3/lib/python3.7/site-packages/sklearn/linear_model/logistic.py:432: FutureWarning: Default solver will be changed to 'lbfgs' in 0.22. Specify a solver to silence this warning.\n",
      "  FutureWarning)\n"
     ]
    },
    {
     "name": "stdout",
     "output_type": "stream",
     "text": [
      "\n",
      "---------------------Classification Report--------------------\n",
      "\n",
      "              precision    recall  f1-score   support\n",
      "\n",
      "           0       0.93      0.99      0.96      6587\n",
      "           1       0.51      0.17      0.25       573\n",
      "\n",
      "    accuracy                           0.92      7160\n",
      "   macro avg       0.72      0.58      0.61      7160\n",
      "weighted avg       0.90      0.92      0.90      7160\n",
      "\n",
      "\n",
      "-----------------------Confusion Matrix-----------------------\n",
      "\n",
      "[[6495   92]\n",
      " [ 476   97]]\n",
      "\n",
      "------------------------ROC/AUC SCORE-------------------------\n",
      "\n",
      "0.5777    \n"
     ]
    },
    {
     "name": "stderr",
     "output_type": "stream",
     "text": [
      "/anaconda3/lib/python3.7/site-packages/sklearn/linear_model/logistic.py:432: FutureWarning: Default solver will be changed to 'lbfgs' in 0.22. Specify a solver to silence this warning.\n",
      "  FutureWarning)\n"
     ]
    },
    {
     "name": "stdout",
     "output_type": "stream",
     "text": [
      "\n",
      "---------------------Classification Report--------------------\n",
      "\n",
      "              precision    recall  f1-score   support\n",
      "\n",
      "           0       0.95      0.99      0.97      6645\n",
      "           1       0.68      0.39      0.50       515\n",
      "\n",
      "    accuracy                           0.94      7160\n",
      "   macro avg       0.82      0.69      0.73      7160\n",
      "weighted avg       0.93      0.94      0.94      7160\n",
      "\n",
      "\n",
      "-----------------------Confusion Matrix-----------------------\n",
      "\n",
      "[[6550   95]\n",
      " [ 312  203]]\n",
      "\n",
      "------------------------ROC/AUC SCORE-------------------------\n",
      "\n",
      "0.6899    \n"
     ]
    },
    {
     "name": "stderr",
     "output_type": "stream",
     "text": [
      "/anaconda3/lib/python3.7/site-packages/sklearn/linear_model/logistic.py:432: FutureWarning: Default solver will be changed to 'lbfgs' in 0.22. Specify a solver to silence this warning.\n",
      "  FutureWarning)\n"
     ]
    },
    {
     "name": "stdout",
     "output_type": "stream",
     "text": [
      "\n",
      "---------------------Classification Report--------------------\n",
      "\n",
      "              precision    recall  f1-score   support\n",
      "\n",
      "           0       0.95      0.98      0.97      6649\n",
      "           1       0.57      0.32      0.41       511\n",
      "\n",
      "    accuracy                           0.93      7160\n",
      "   macro avg       0.76      0.65      0.69      7160\n",
      "weighted avg       0.92      0.93      0.93      7160\n",
      "\n",
      "\n",
      "-----------------------Confusion Matrix-----------------------\n",
      "\n",
      "[[6524  125]\n",
      " [ 346  165]]\n",
      "\n",
      "------------------------ROC/AUC SCORE-------------------------\n",
      "\n",
      "0.6520    \n"
     ]
    },
    {
     "name": "stderr",
     "output_type": "stream",
     "text": [
      "/anaconda3/lib/python3.7/site-packages/sklearn/linear_model/logistic.py:432: FutureWarning: Default solver will be changed to 'lbfgs' in 0.22. Specify a solver to silence this warning.\n",
      "  FutureWarning)\n"
     ]
    },
    {
     "name": "stdout",
     "output_type": "stream",
     "text": [
      "\n",
      "---------------------Classification Report--------------------\n",
      "\n",
      "              precision    recall  f1-score   support\n",
      "\n",
      "           0       0.94      0.99      0.96      6618\n",
      "           1       0.55      0.20      0.29       542\n",
      "\n",
      "    accuracy                           0.93      7160\n",
      "   macro avg       0.74      0.59      0.63      7160\n",
      "weighted avg       0.91      0.93      0.91      7160\n",
      "\n",
      "\n",
      "-----------------------Confusion Matrix-----------------------\n",
      "\n",
      "[[6532   86]\n",
      " [ 436  106]]\n",
      "\n",
      "------------------------ROC/AUC SCORE-------------------------\n",
      "\n",
      "0.5913    \n"
     ]
    },
    {
     "name": "stderr",
     "output_type": "stream",
     "text": [
      "/anaconda3/lib/python3.7/site-packages/sklearn/linear_model/logistic.py:432: FutureWarning: Default solver will be changed to 'lbfgs' in 0.22. Specify a solver to silence this warning.\n",
      "  FutureWarning)\n"
     ]
    },
    {
     "name": "stdout",
     "output_type": "stream",
     "text": [
      "\n",
      "---------------------Classification Report--------------------\n",
      "\n",
      "              precision    recall  f1-score   support\n",
      "\n",
      "           0       0.95      0.98      0.96      6655\n",
      "           1       0.55      0.26      0.35       505\n",
      "\n",
      "    accuracy                           0.93      7160\n",
      "   macro avg       0.75      0.62      0.66      7160\n",
      "weighted avg       0.92      0.93      0.92      7160\n",
      "\n",
      "\n",
      "-----------------------Confusion Matrix-----------------------\n",
      "\n",
      "[[6548  107]\n",
      " [ 374  131]]\n",
      "\n",
      "------------------------ROC/AUC SCORE-------------------------\n",
      "\n",
      "0.6217    \n"
     ]
    },
    {
     "name": "stderr",
     "output_type": "stream",
     "text": [
      "/anaconda3/lib/python3.7/site-packages/sklearn/linear_model/logistic.py:432: FutureWarning: Default solver will be changed to 'lbfgs' in 0.22. Specify a solver to silence this warning.\n",
      "  FutureWarning)\n"
     ]
    },
    {
     "name": "stdout",
     "output_type": "stream",
     "text": [
      "\n",
      "---------------------Classification Report--------------------\n",
      "\n",
      "              precision    recall  f1-score   support\n",
      "\n",
      "           0       0.94      0.99      0.97      6697\n",
      "           1       0.32      0.04      0.07       463\n",
      "\n",
      "    accuracy                           0.93      7160\n",
      "   macro avg       0.63      0.52      0.52      7160\n",
      "weighted avg       0.90      0.93      0.91      7160\n",
      "\n",
      "\n",
      "-----------------------Confusion Matrix-----------------------\n",
      "\n",
      "[[6659   38]\n",
      " [ 445   18]]\n",
      "\n",
      "------------------------ROC/AUC SCORE-------------------------\n",
      "\n",
      "0.5166    \n"
     ]
    },
    {
     "name": "stderr",
     "output_type": "stream",
     "text": [
      "/anaconda3/lib/python3.7/site-packages/sklearn/linear_model/logistic.py:432: FutureWarning: Default solver will be changed to 'lbfgs' in 0.22. Specify a solver to silence this warning.\n",
      "  FutureWarning)\n"
     ]
    },
    {
     "name": "stdout",
     "output_type": "stream",
     "text": [
      "\n",
      "---------------------Classification Report--------------------\n",
      "\n",
      "              precision    recall  f1-score   support\n",
      "\n",
      "           0       0.94      0.98      0.96      6652\n",
      "           1       0.40      0.14      0.21       508\n",
      "\n",
      "    accuracy                           0.92      7160\n",
      "   macro avg       0.67      0.56      0.59      7160\n",
      "weighted avg       0.90      0.92      0.91      7160\n",
      "\n",
      "\n",
      "-----------------------Confusion Matrix-----------------------\n",
      "\n",
      "[[6543  109]\n",
      " [ 435   73]]\n",
      "\n",
      "------------------------ROC/AUC SCORE-------------------------\n",
      "\n",
      "0.5637    \n"
     ]
    },
    {
     "name": "stderr",
     "output_type": "stream",
     "text": [
      "/anaconda3/lib/python3.7/site-packages/sklearn/linear_model/logistic.py:432: FutureWarning: Default solver will be changed to 'lbfgs' in 0.22. Specify a solver to silence this warning.\n",
      "  FutureWarning)\n"
     ]
    },
    {
     "name": "stdout",
     "output_type": "stream",
     "text": [
      "\n",
      "---------------------Classification Report--------------------\n",
      "\n",
      "              precision    recall  f1-score   support\n",
      "\n",
      "           0       0.94      0.99      0.96      6679\n",
      "           1       0.36      0.05      0.08       481\n",
      "\n",
      "    accuracy                           0.93      7160\n",
      "   macro avg       0.65      0.52      0.52      7160\n",
      "weighted avg       0.90      0.93      0.90      7160\n",
      "\n",
      "\n",
      "-----------------------Confusion Matrix-----------------------\n",
      "\n",
      "[[6640   39]\n",
      " [ 459   22]]\n",
      "\n",
      "------------------------ROC/AUC SCORE-------------------------\n",
      "\n",
      "0.5199    \n"
     ]
    },
    {
     "name": "stderr",
     "output_type": "stream",
     "text": [
      "/anaconda3/lib/python3.7/site-packages/sklearn/linear_model/logistic.py:432: FutureWarning: Default solver will be changed to 'lbfgs' in 0.22. Specify a solver to silence this warning.\n",
      "  FutureWarning)\n"
     ]
    },
    {
     "name": "stdout",
     "output_type": "stream",
     "text": [
      "\n",
      "---------------------Classification Report--------------------\n",
      "\n",
      "              precision    recall  f1-score   support\n",
      "\n",
      "           0       0.93      0.99      0.96      6647\n",
      "           1       0.42      0.11      0.17       513\n",
      "\n",
      "    accuracy                           0.93      7160\n",
      "   macro avg       0.68      0.55      0.57      7160\n",
      "weighted avg       0.90      0.93      0.90      7160\n",
      "\n",
      "\n",
      "-----------------------Confusion Matrix-----------------------\n",
      "\n",
      "[[6572   75]\n",
      " [ 458   55]]\n",
      "\n",
      "------------------------ROC/AUC SCORE-------------------------\n",
      "\n",
      "0.5480    \n"
     ]
    },
    {
     "name": "stderr",
     "output_type": "stream",
     "text": [
      "/anaconda3/lib/python3.7/site-packages/sklearn/linear_model/logistic.py:432: FutureWarning: Default solver will be changed to 'lbfgs' in 0.22. Specify a solver to silence this warning.\n",
      "  FutureWarning)\n"
     ]
    },
    {
     "name": "stdout",
     "output_type": "stream",
     "text": [
      "\n",
      "---------------------Classification Report--------------------\n",
      "\n",
      "              precision    recall  f1-score   support\n",
      "\n",
      "           0       0.94      0.98      0.96      6626\n",
      "           1       0.45      0.17      0.25       534\n",
      "\n",
      "    accuracy                           0.92      7160\n",
      "   macro avg       0.69      0.58      0.60      7160\n",
      "weighted avg       0.90      0.92      0.91      7160\n",
      "\n",
      "\n",
      "-----------------------Confusion Matrix-----------------------\n",
      "\n",
      "[[6513  113]\n",
      " [ 442   92]]\n",
      "\n",
      "------------------------ROC/AUC SCORE-------------------------\n",
      "\n",
      "0.5776    \n"
     ]
    },
    {
     "name": "stderr",
     "output_type": "stream",
     "text": [
      "/anaconda3/lib/python3.7/site-packages/sklearn/linear_model/logistic.py:432: FutureWarning: Default solver will be changed to 'lbfgs' in 0.22. Specify a solver to silence this warning.\n",
      "  FutureWarning)\n"
     ]
    },
    {
     "name": "stdout",
     "output_type": "stream",
     "text": [
      "\n",
      "---------------------Classification Report--------------------\n",
      "\n",
      "              precision    recall  f1-score   support\n",
      "\n",
      "           0       0.95      0.98      0.97      6691\n",
      "           1       0.51      0.25      0.34       469\n",
      "\n",
      "    accuracy                           0.93      7160\n",
      "   macro avg       0.73      0.62      0.65      7160\n",
      "weighted avg       0.92      0.93      0.92      7160\n",
      "\n",
      "\n",
      "-----------------------Confusion Matrix-----------------------\n",
      "\n",
      "[[6575  116]\n",
      " [ 350  119]]\n",
      "\n",
      "------------------------ROC/AUC SCORE-------------------------\n",
      "\n",
      "0.6182    \n"
     ]
    },
    {
     "name": "stderr",
     "output_type": "stream",
     "text": [
      "/anaconda3/lib/python3.7/site-packages/sklearn/linear_model/logistic.py:432: FutureWarning: Default solver will be changed to 'lbfgs' in 0.22. Specify a solver to silence this warning.\n",
      "  FutureWarning)\n"
     ]
    },
    {
     "name": "stdout",
     "output_type": "stream",
     "text": [
      "\n",
      "---------------------Classification Report--------------------\n",
      "\n",
      "              precision    recall  f1-score   support\n",
      "\n",
      "           0       0.94      0.98      0.96      6668\n",
      "           1       0.48      0.21      0.29       492\n",
      "\n",
      "    accuracy                           0.93      7160\n",
      "   macro avg       0.71      0.60      0.63      7160\n",
      "weighted avg       0.91      0.93      0.92      7160\n",
      "\n",
      "\n",
      "-----------------------Confusion Matrix-----------------------\n",
      "\n",
      "[[6557  111]\n",
      " [ 389  103]]\n",
      "\n",
      "------------------------ROC/AUC SCORE-------------------------\n",
      "\n",
      "0.5964    \n"
     ]
    },
    {
     "name": "stderr",
     "output_type": "stream",
     "text": [
      "/anaconda3/lib/python3.7/site-packages/sklearn/linear_model/logistic.py:432: FutureWarning: Default solver will be changed to 'lbfgs' in 0.22. Specify a solver to silence this warning.\n",
      "  FutureWarning)\n"
     ]
    },
    {
     "name": "stdout",
     "output_type": "stream",
     "text": [
      "\n",
      "---------------------Classification Report--------------------\n",
      "\n",
      "              precision    recall  f1-score   support\n",
      "\n",
      "           0       0.94      0.99      0.96      6672\n",
      "           1       0.49      0.15      0.23       488\n",
      "\n",
      "    accuracy                           0.93      7160\n",
      "   macro avg       0.72      0.57      0.60      7160\n",
      "weighted avg       0.91      0.93      0.91      7160\n",
      "\n",
      "\n",
      "-----------------------Confusion Matrix-----------------------\n",
      "\n",
      "[[6595   77]\n",
      " [ 413   75]]\n",
      "\n",
      "------------------------ROC/AUC SCORE-------------------------\n",
      "\n",
      "0.5711    \n"
     ]
    },
    {
     "name": "stderr",
     "output_type": "stream",
     "text": [
      "/anaconda3/lib/python3.7/site-packages/sklearn/linear_model/logistic.py:432: FutureWarning: Default solver will be changed to 'lbfgs' in 0.22. Specify a solver to silence this warning.\n",
      "  FutureWarning)\n"
     ]
    },
    {
     "name": "stdout",
     "output_type": "stream",
     "text": [
      "\n",
      "---------------------Classification Report--------------------\n",
      "\n",
      "              precision    recall  f1-score   support\n",
      "\n",
      "           0       0.94      0.99      0.96      6660\n",
      "           1       0.40      0.11      0.18       500\n",
      "\n",
      "    accuracy                           0.93      7160\n",
      "   macro avg       0.67      0.55      0.57      7160\n",
      "weighted avg       0.90      0.93      0.91      7160\n",
      "\n",
      "\n",
      "-----------------------Confusion Matrix-----------------------\n",
      "\n",
      "[[6577   83]\n",
      " [ 444   56]]\n",
      "\n",
      "------------------------ROC/AUC SCORE-------------------------\n",
      "\n",
      "0.5498    \n"
     ]
    },
    {
     "name": "stderr",
     "output_type": "stream",
     "text": [
      "/anaconda3/lib/python3.7/site-packages/sklearn/linear_model/logistic.py:432: FutureWarning: Default solver will be changed to 'lbfgs' in 0.22. Specify a solver to silence this warning.\n",
      "  FutureWarning)\n"
     ]
    },
    {
     "name": "stdout",
     "output_type": "stream",
     "text": [
      "\n",
      "---------------------Classification Report--------------------\n",
      "\n",
      "              precision    recall  f1-score   support\n",
      "\n",
      "           0       0.94      0.99      0.97      6680\n",
      "           1       0.53      0.13      0.21       480\n",
      "\n",
      "    accuracy                           0.93      7160\n",
      "   macro avg       0.74      0.56      0.59      7160\n",
      "weighted avg       0.91      0.93      0.91      7160\n",
      "\n",
      "\n",
      "-----------------------Confusion Matrix-----------------------\n",
      "\n",
      "[[6625   55]\n",
      " [ 418   62]]\n",
      "\n",
      "------------------------ROC/AUC SCORE-------------------------\n",
      "\n",
      "0.5605    \n"
     ]
    },
    {
     "name": "stderr",
     "output_type": "stream",
     "text": [
      "/anaconda3/lib/python3.7/site-packages/sklearn/linear_model/logistic.py:432: FutureWarning: Default solver will be changed to 'lbfgs' in 0.22. Specify a solver to silence this warning.\n",
      "  FutureWarning)\n"
     ]
    },
    {
     "name": "stdout",
     "output_type": "stream",
     "text": [
      "\n",
      "---------------------Classification Report--------------------\n",
      "\n",
      "              precision    recall  f1-score   support\n",
      "\n",
      "           0       0.94      0.99      0.96      6638\n",
      "           1       0.48      0.17      0.25       522\n",
      "\n",
      "    accuracy                           0.93      7160\n",
      "   macro avg       0.71      0.58      0.60      7160\n",
      "weighted avg       0.90      0.93      0.91      7160\n",
      "\n",
      "\n",
      "-----------------------Confusion Matrix-----------------------\n",
      "\n",
      "[[6545   93]\n",
      " [ 435   87]]\n",
      "\n",
      "------------------------ROC/AUC SCORE-------------------------\n",
      "\n",
      "0.5763    \n"
     ]
    },
    {
     "name": "stderr",
     "output_type": "stream",
     "text": [
      "/anaconda3/lib/python3.7/site-packages/sklearn/linear_model/logistic.py:432: FutureWarning: Default solver will be changed to 'lbfgs' in 0.22. Specify a solver to silence this warning.\n",
      "  FutureWarning)\n"
     ]
    },
    {
     "name": "stdout",
     "output_type": "stream",
     "text": [
      "\n",
      "---------------------Classification Report--------------------\n",
      "\n",
      "              precision    recall  f1-score   support\n",
      "\n",
      "           0       0.94      0.99      0.96      6674\n",
      "           1       0.41      0.08      0.14       486\n",
      "\n",
      "    accuracy                           0.93      7160\n",
      "   macro avg       0.67      0.54      0.55      7160\n",
      "weighted avg       0.90      0.93      0.91      7160\n",
      "\n",
      "\n",
      "-----------------------Confusion Matrix-----------------------\n",
      "\n",
      "[[6614   60]\n",
      " [ 445   41]]\n",
      "\n",
      "------------------------ROC/AUC SCORE-------------------------\n",
      "\n",
      "0.5377    \n"
     ]
    },
    {
     "name": "stderr",
     "output_type": "stream",
     "text": [
      "/anaconda3/lib/python3.7/site-packages/sklearn/linear_model/logistic.py:432: FutureWarning: Default solver will be changed to 'lbfgs' in 0.22. Specify a solver to silence this warning.\n",
      "  FutureWarning)\n"
     ]
    },
    {
     "name": "stdout",
     "output_type": "stream",
     "text": [
      "\n",
      "---------------------Classification Report--------------------\n",
      "\n",
      "              precision    recall  f1-score   support\n",
      "\n",
      "           0       0.95      0.99      0.97      6701\n",
      "           1       0.51      0.20      0.29       459\n",
      "\n",
      "    accuracy                           0.94      7160\n",
      "   macro avg       0.73      0.60      0.63      7160\n",
      "weighted avg       0.92      0.94      0.92      7160\n",
      "\n",
      "\n",
      "-----------------------Confusion Matrix-----------------------\n",
      "\n",
      "[[6612   89]\n",
      " [ 365   94]]\n",
      "\n",
      "------------------------ROC/AUC SCORE-------------------------\n",
      "\n",
      "0.5958    \n"
     ]
    },
    {
     "name": "stderr",
     "output_type": "stream",
     "text": [
      "/anaconda3/lib/python3.7/site-packages/sklearn/linear_model/logistic.py:432: FutureWarning: Default solver will be changed to 'lbfgs' in 0.22. Specify a solver to silence this warning.\n",
      "  FutureWarning)\n"
     ]
    },
    {
     "name": "stdout",
     "output_type": "stream",
     "text": [
      "\n",
      "---------------------Classification Report--------------------\n",
      "\n",
      "              precision    recall  f1-score   support\n",
      "\n",
      "           0       0.93      0.99      0.96      6649\n",
      "           1       0.25      0.03      0.06       511\n",
      "\n",
      "    accuracy                           0.92      7160\n",
      "   macro avg       0.59      0.51      0.51      7160\n",
      "weighted avg       0.88      0.92      0.90      7160\n",
      "\n",
      "\n",
      "-----------------------Confusion Matrix-----------------------\n",
      "\n",
      "[[6601   48]\n",
      " [ 495   16]]\n",
      "\n",
      "------------------------ROC/AUC SCORE-------------------------\n",
      "\n",
      "0.5120    \n"
     ]
    },
    {
     "name": "stderr",
     "output_type": "stream",
     "text": [
      "/anaconda3/lib/python3.7/site-packages/sklearn/linear_model/logistic.py:432: FutureWarning: Default solver will be changed to 'lbfgs' in 0.22. Specify a solver to silence this warning.\n",
      "  FutureWarning)\n"
     ]
    },
    {
     "name": "stdout",
     "output_type": "stream",
     "text": [
      "\n",
      "---------------------Classification Report--------------------\n",
      "\n",
      "              precision    recall  f1-score   support\n",
      "\n",
      "           0       0.95      0.98      0.97      6689\n",
      "           1       0.52      0.24      0.32       471\n",
      "\n",
      "    accuracy                           0.94      7160\n",
      "   macro avg       0.73      0.61      0.65      7160\n",
      "weighted avg       0.92      0.94      0.92      7160\n",
      "\n",
      "\n",
      "-----------------------Confusion Matrix-----------------------\n",
      "\n",
      "[[6586  103]\n",
      " [ 360  111]]\n",
      "\n",
      "------------------------ROC/AUC SCORE-------------------------\n",
      "\n",
      "0.6101    \n"
     ]
    },
    {
     "name": "stderr",
     "output_type": "stream",
     "text": [
      "/anaconda3/lib/python3.7/site-packages/sklearn/linear_model/logistic.py:432: FutureWarning: Default solver will be changed to 'lbfgs' in 0.22. Specify a solver to silence this warning.\n",
      "  FutureWarning)\n"
     ]
    },
    {
     "name": "stdout",
     "output_type": "stream",
     "text": [
      "\n",
      "---------------------Classification Report--------------------\n",
      "\n",
      "              precision    recall  f1-score   support\n",
      "\n",
      "           0       0.93      0.99      0.96      6626\n",
      "           1       0.39      0.09      0.14       534\n",
      "\n",
      "    accuracy                           0.92      7160\n",
      "   macro avg       0.66      0.54      0.55      7160\n",
      "weighted avg       0.89      0.92      0.90      7160\n",
      "\n",
      "\n",
      "-----------------------Confusion Matrix-----------------------\n",
      "\n",
      "[[6553   73]\n",
      " [ 488   46]]\n",
      "\n",
      "------------------------ROC/AUC SCORE-------------------------\n",
      "\n",
      "0.5376    \n"
     ]
    },
    {
     "name": "stderr",
     "output_type": "stream",
     "text": [
      "/anaconda3/lib/python3.7/site-packages/sklearn/linear_model/logistic.py:432: FutureWarning: Default solver will be changed to 'lbfgs' in 0.22. Specify a solver to silence this warning.\n",
      "  FutureWarning)\n"
     ]
    },
    {
     "name": "stdout",
     "output_type": "stream",
     "text": [
      "\n",
      "---------------------Classification Report--------------------\n",
      "\n",
      "              precision    recall  f1-score   support\n",
      "\n",
      "           0       0.94      0.99      0.96      6688\n",
      "           1       0.36      0.11      0.17       472\n",
      "\n",
      "    accuracy                           0.93      7160\n",
      "   macro avg       0.65      0.55      0.57      7160\n",
      "weighted avg       0.90      0.93      0.91      7160\n",
      "\n",
      "\n",
      "-----------------------Confusion Matrix-----------------------\n",
      "\n",
      "[[6597   91]\n",
      " [ 420   52]]\n",
      "\n",
      "------------------------ROC/AUC SCORE-------------------------\n",
      "\n",
      "0.5483    \n"
     ]
    },
    {
     "name": "stderr",
     "output_type": "stream",
     "text": [
      "/anaconda3/lib/python3.7/site-packages/sklearn/linear_model/logistic.py:432: FutureWarning: Default solver will be changed to 'lbfgs' in 0.22. Specify a solver to silence this warning.\n",
      "  FutureWarning)\n"
     ]
    },
    {
     "name": "stdout",
     "output_type": "stream",
     "text": [
      "\n",
      "---------------------Classification Report--------------------\n",
      "\n",
      "              precision    recall  f1-score   support\n",
      "\n",
      "           0       0.94      0.99      0.97      6714\n",
      "           1       0.33      0.06      0.11       446\n",
      "\n",
      "    accuracy                           0.93      7160\n",
      "   macro avg       0.63      0.53      0.54      7160\n",
      "weighted avg       0.90      0.93      0.91      7160\n",
      "\n",
      "\n",
      "-----------------------Confusion Matrix-----------------------\n",
      "\n",
      "[[6656   58]\n",
      " [ 418   28]]\n",
      "\n",
      "------------------------ROC/AUC SCORE-------------------------\n",
      "\n",
      "0.5271    \n"
     ]
    },
    {
     "name": "stderr",
     "output_type": "stream",
     "text": [
      "/anaconda3/lib/python3.7/site-packages/sklearn/linear_model/logistic.py:432: FutureWarning: Default solver will be changed to 'lbfgs' in 0.22. Specify a solver to silence this warning.\n",
      "  FutureWarning)\n"
     ]
    },
    {
     "name": "stdout",
     "output_type": "stream",
     "text": [
      "\n",
      "---------------------Classification Report--------------------\n",
      "\n",
      "              precision    recall  f1-score   support\n",
      "\n",
      "           0       0.94      0.99      0.96      6698\n",
      "           1       0.38      0.08      0.14       462\n",
      "\n",
      "    accuracy                           0.93      7160\n",
      "   macro avg       0.66      0.54      0.55      7160\n",
      "weighted avg       0.90      0.93      0.91      7160\n",
      "\n",
      "\n",
      "-----------------------Confusion Matrix-----------------------\n",
      "\n",
      "[[6634   64]\n",
      " [ 423   39]]\n",
      "\n",
      "------------------------ROC/AUC SCORE-------------------------\n",
      "\n",
      "0.5374    \n"
     ]
    },
    {
     "name": "stderr",
     "output_type": "stream",
     "text": [
      "/anaconda3/lib/python3.7/site-packages/sklearn/linear_model/logistic.py:432: FutureWarning: Default solver will be changed to 'lbfgs' in 0.22. Specify a solver to silence this warning.\n",
      "  FutureWarning)\n"
     ]
    },
    {
     "name": "stdout",
     "output_type": "stream",
     "text": [
      "\n",
      "---------------------Classification Report--------------------\n",
      "\n",
      "              precision    recall  f1-score   support\n",
      "\n",
      "           0       0.94      0.99      0.96      6680\n",
      "           1       0.27      0.05      0.09       480\n",
      "\n",
      "    accuracy                           0.93      7160\n",
      "   macro avg       0.61      0.52      0.52      7160\n",
      "weighted avg       0.89      0.93      0.90      7160\n",
      "\n",
      "\n",
      "-----------------------Confusion Matrix-----------------------\n",
      "\n",
      "[[6614   66]\n",
      " [ 455   25]]\n",
      "\n",
      "------------------------ROC/AUC SCORE-------------------------\n",
      "\n",
      "0.5211    \n"
     ]
    },
    {
     "name": "stderr",
     "output_type": "stream",
     "text": [
      "/anaconda3/lib/python3.7/site-packages/sklearn/linear_model/logistic.py:432: FutureWarning: Default solver will be changed to 'lbfgs' in 0.22. Specify a solver to silence this warning.\n",
      "  FutureWarning)\n"
     ]
    },
    {
     "name": "stdout",
     "output_type": "stream",
     "text": [
      "\n",
      "---------------------Classification Report--------------------\n",
      "\n",
      "              precision    recall  f1-score   support\n",
      "\n",
      "           0       0.94      0.99      0.96      6636\n",
      "           1       0.56      0.18      0.27       524\n",
      "\n",
      "    accuracy                           0.93      7160\n",
      "   macro avg       0.75      0.58      0.62      7160\n",
      "weighted avg       0.91      0.93      0.91      7160\n",
      "\n",
      "\n",
      "-----------------------Confusion Matrix-----------------------\n",
      "\n",
      "[[6561   75]\n",
      " [ 430   94]]\n",
      "\n",
      "------------------------ROC/AUC SCORE-------------------------\n",
      "\n",
      "0.5840    \n"
     ]
    },
    {
     "name": "stderr",
     "output_type": "stream",
     "text": [
      "/anaconda3/lib/python3.7/site-packages/sklearn/linear_model/logistic.py:432: FutureWarning: Default solver will be changed to 'lbfgs' in 0.22. Specify a solver to silence this warning.\n",
      "  FutureWarning)\n"
     ]
    },
    {
     "name": "stdout",
     "output_type": "stream",
     "text": [
      "\n",
      "---------------------Classification Report--------------------\n",
      "\n",
      "              precision    recall  f1-score   support\n",
      "\n",
      "           0       0.94      0.98      0.96      6679\n",
      "           1       0.37      0.13      0.20       481\n",
      "\n",
      "    accuracy                           0.93      7160\n",
      "   macro avg       0.65      0.56      0.58      7160\n",
      "weighted avg       0.90      0.93      0.91      7160\n",
      "\n",
      "\n",
      "-----------------------Confusion Matrix-----------------------\n",
      "\n",
      "[[6568  111]\n",
      " [ 417   64]]\n",
      "\n",
      "------------------------ROC/AUC SCORE-------------------------\n",
      "\n",
      "0.5582    \n"
     ]
    },
    {
     "name": "stderr",
     "output_type": "stream",
     "text": [
      "/anaconda3/lib/python3.7/site-packages/sklearn/linear_model/logistic.py:432: FutureWarning: Default solver will be changed to 'lbfgs' in 0.22. Specify a solver to silence this warning.\n",
      "  FutureWarning)\n"
     ]
    },
    {
     "name": "stdout",
     "output_type": "stream",
     "text": [
      "\n",
      "---------------------Classification Report--------------------\n",
      "\n",
      "              precision    recall  f1-score   support\n",
      "\n",
      "           0       0.95      0.98      0.97      6696\n",
      "           1       0.49      0.22      0.30       464\n",
      "\n",
      "    accuracy                           0.93      7160\n",
      "   macro avg       0.72      0.60      0.63      7160\n",
      "weighted avg       0.92      0.93      0.92      7160\n",
      "\n",
      "\n",
      "-----------------------Confusion Matrix-----------------------\n",
      "\n",
      "[[6590  106]\n",
      " [ 362  102]]\n",
      "\n",
      "------------------------ROC/AUC SCORE-------------------------\n",
      "\n",
      "0.6020    \n"
     ]
    },
    {
     "name": "stderr",
     "output_type": "stream",
     "text": [
      "/anaconda3/lib/python3.7/site-packages/sklearn/linear_model/logistic.py:432: FutureWarning: Default solver will be changed to 'lbfgs' in 0.22. Specify a solver to silence this warning.\n",
      "  FutureWarning)\n"
     ]
    },
    {
     "name": "stdout",
     "output_type": "stream",
     "text": [
      "\n",
      "---------------------Classification Report--------------------\n",
      "\n",
      "              precision    recall  f1-score   support\n",
      "\n",
      "           0       0.94      1.00      0.97      6714\n",
      "           1       0.18      0.02      0.03       446\n",
      "\n",
      "    accuracy                           0.93      7160\n",
      "   macro avg       0.56      0.51      0.50      7160\n",
      "weighted avg       0.89      0.93      0.91      7160\n",
      "\n",
      "\n",
      "-----------------------Confusion Matrix-----------------------\n",
      "\n",
      "[[6683   31]\n",
      " [ 439    7]]\n",
      "\n",
      "------------------------ROC/AUC SCORE-------------------------\n",
      "\n",
      "0.5055    \n"
     ]
    },
    {
     "name": "stderr",
     "output_type": "stream",
     "text": [
      "/anaconda3/lib/python3.7/site-packages/sklearn/linear_model/logistic.py:432: FutureWarning: Default solver will be changed to 'lbfgs' in 0.22. Specify a solver to silence this warning.\n",
      "  FutureWarning)\n"
     ]
    },
    {
     "name": "stdout",
     "output_type": "stream",
     "text": [
      "\n",
      "---------------------Classification Report--------------------\n",
      "\n",
      "              precision    recall  f1-score   support\n",
      "\n",
      "           0       0.94      0.99      0.96      6681\n",
      "           1       0.39      0.08      0.13       479\n",
      "\n",
      "    accuracy                           0.93      7160\n",
      "   macro avg       0.66      0.53      0.55      7160\n",
      "weighted avg       0.90      0.93      0.91      7160\n",
      "\n",
      "\n",
      "-----------------------Confusion Matrix-----------------------\n",
      "\n",
      "[[6622   59]\n",
      " [ 442   37]]\n",
      "\n",
      "------------------------ROC/AUC SCORE-------------------------\n",
      "\n",
      "0.5342    \n"
     ]
    },
    {
     "name": "stderr",
     "output_type": "stream",
     "text": [
      "/anaconda3/lib/python3.7/site-packages/sklearn/linear_model/logistic.py:432: FutureWarning: Default solver will be changed to 'lbfgs' in 0.22. Specify a solver to silence this warning.\n",
      "  FutureWarning)\n"
     ]
    },
    {
     "name": "stdout",
     "output_type": "stream",
     "text": [
      "\n",
      "---------------------Classification Report--------------------\n",
      "\n",
      "              precision    recall  f1-score   support\n",
      "\n",
      "           0       0.95      0.99      0.97      6741\n",
      "           1       0.41      0.10      0.16       419\n",
      "\n",
      "    accuracy                           0.94      7160\n",
      "   macro avg       0.68      0.54      0.56      7160\n",
      "weighted avg       0.92      0.94      0.92      7160\n",
      "\n",
      "\n",
      "-----------------------Confusion Matrix-----------------------\n",
      "\n",
      "[[6684   57]\n",
      " [ 379   40]]\n",
      "\n",
      "------------------------ROC/AUC SCORE-------------------------\n",
      "\n",
      "0.5435    \n"
     ]
    },
    {
     "name": "stderr",
     "output_type": "stream",
     "text": [
      "/anaconda3/lib/python3.7/site-packages/sklearn/linear_model/logistic.py:432: FutureWarning: Default solver will be changed to 'lbfgs' in 0.22. Specify a solver to silence this warning.\n",
      "  FutureWarning)\n"
     ]
    },
    {
     "name": "stdout",
     "output_type": "stream",
     "text": [
      "\n",
      "---------------------Classification Report--------------------\n",
      "\n",
      "              precision    recall  f1-score   support\n",
      "\n",
      "           0       0.95      0.99      0.97      6743\n",
      "           1       0.43      0.11      0.17       417\n",
      "\n",
      "    accuracy                           0.94      7160\n",
      "   macro avg       0.69      0.55      0.57      7160\n",
      "weighted avg       0.92      0.94      0.92      7160\n",
      "\n",
      "\n",
      "-----------------------Confusion Matrix-----------------------\n",
      "\n",
      "[[6685   58]\n",
      " [ 373   44]]\n",
      "\n",
      "------------------------ROC/AUC SCORE-------------------------\n",
      "\n",
      "0.5485    \n"
     ]
    },
    {
     "name": "stderr",
     "output_type": "stream",
     "text": [
      "/anaconda3/lib/python3.7/site-packages/sklearn/linear_model/logistic.py:432: FutureWarning: Default solver will be changed to 'lbfgs' in 0.22. Specify a solver to silence this warning.\n",
      "  FutureWarning)\n"
     ]
    },
    {
     "name": "stdout",
     "output_type": "stream",
     "text": [
      "\n",
      "---------------------Classification Report--------------------\n",
      "\n",
      "              precision    recall  f1-score   support\n",
      "\n",
      "           0       0.94      0.98      0.96      6699\n",
      "           1       0.28      0.09      0.14       461\n",
      "\n",
      "    accuracy                           0.93      7160\n",
      "   macro avg       0.61      0.54      0.55      7160\n",
      "weighted avg       0.90      0.93      0.91      7160\n",
      "\n",
      "\n",
      "-----------------------Confusion Matrix-----------------------\n",
      "\n",
      "[[6591  108]\n",
      " [ 418   43]]\n",
      "\n",
      "------------------------ROC/AUC SCORE-------------------------\n",
      "\n",
      "0.5386    \n"
     ]
    },
    {
     "name": "stderr",
     "output_type": "stream",
     "text": [
      "/anaconda3/lib/python3.7/site-packages/sklearn/linear_model/logistic.py:432: FutureWarning: Default solver will be changed to 'lbfgs' in 0.22. Specify a solver to silence this warning.\n",
      "  FutureWarning)\n"
     ]
    },
    {
     "name": "stdout",
     "output_type": "stream",
     "text": [
      "\n",
      "---------------------Classification Report--------------------\n",
      "\n",
      "              precision    recall  f1-score   support\n",
      "\n",
      "           0       0.94      0.99      0.97      6710\n",
      "           1       0.37      0.10      0.15       450\n",
      "\n",
      "    accuracy                           0.93      7160\n",
      "   macro avg       0.66      0.54      0.56      7160\n",
      "weighted avg       0.91      0.93      0.91      7160\n",
      "\n",
      "\n",
      "-----------------------Confusion Matrix-----------------------\n",
      "\n",
      "[[6636   74]\n",
      " [ 406   44]]\n",
      "\n",
      "------------------------ROC/AUC SCORE-------------------------\n",
      "\n",
      "0.5434    \n"
     ]
    },
    {
     "name": "stderr",
     "output_type": "stream",
     "text": [
      "/anaconda3/lib/python3.7/site-packages/sklearn/linear_model/logistic.py:432: FutureWarning: Default solver will be changed to 'lbfgs' in 0.22. Specify a solver to silence this warning.\n",
      "  FutureWarning)\n"
     ]
    },
    {
     "name": "stdout",
     "output_type": "stream",
     "text": [
      "\n",
      "---------------------Classification Report--------------------\n",
      "\n",
      "              precision    recall  f1-score   support\n",
      "\n",
      "           0       0.95      0.99      0.97      6783\n",
      "           1       0.42      0.11      0.18       377\n",
      "\n",
      "    accuracy                           0.95      7160\n",
      "   macro avg       0.69      0.55      0.57      7160\n",
      "weighted avg       0.92      0.95      0.93      7160\n",
      "\n",
      "\n",
      "-----------------------Confusion Matrix-----------------------\n",
      "\n",
      "[[6726   57]\n",
      " [ 335   42]]\n",
      "\n",
      "------------------------ROC/AUC SCORE-------------------------\n",
      "\n",
      "0.5515    \n"
     ]
    },
    {
     "name": "stderr",
     "output_type": "stream",
     "text": [
      "/anaconda3/lib/python3.7/site-packages/sklearn/linear_model/logistic.py:432: FutureWarning: Default solver will be changed to 'lbfgs' in 0.22. Specify a solver to silence this warning.\n",
      "  FutureWarning)\n"
     ]
    },
    {
     "name": "stdout",
     "output_type": "stream",
     "text": [
      "\n",
      "---------------------Classification Report--------------------\n",
      "\n",
      "              precision    recall  f1-score   support\n",
      "\n",
      "           0       1.00      0.99      0.99      6716\n",
      "           1       0.88      0.95      0.91       444\n",
      "\n",
      "    accuracy                           0.99      7160\n",
      "   macro avg       0.94      0.97      0.95      7160\n",
      "weighted avg       0.99      0.99      0.99      7160\n",
      "\n",
      "\n",
      "-----------------------Confusion Matrix-----------------------\n",
      "\n",
      "[[6657   59]\n",
      " [  24  420]]\n",
      "\n",
      "------------------------ROC/AUC SCORE-------------------------\n",
      "\n",
      "0.9686    \n"
     ]
    },
    {
     "name": "stderr",
     "output_type": "stream",
     "text": [
      "/anaconda3/lib/python3.7/site-packages/sklearn/linear_model/logistic.py:432: FutureWarning: Default solver will be changed to 'lbfgs' in 0.22. Specify a solver to silence this warning.\n",
      "  FutureWarning)\n"
     ]
    },
    {
     "name": "stdout",
     "output_type": "stream",
     "text": [
      "\n",
      "---------------------Classification Report--------------------\n",
      "\n",
      "              precision    recall  f1-score   support\n",
      "\n",
      "           0       0.94      0.99      0.96      6712\n",
      "           1       0.21      0.04      0.06       448\n",
      "\n",
      "    accuracy                           0.93      7160\n",
      "   macro avg       0.57      0.51      0.51      7160\n",
      "weighted avg       0.89      0.93      0.91      7160\n",
      "\n",
      "\n",
      "-----------------------Confusion Matrix-----------------------\n",
      "\n",
      "[[6650   62]\n",
      " [ 432   16]]\n",
      "\n",
      "------------------------ROC/AUC SCORE-------------------------\n",
      "\n",
      "0.5132    \n"
     ]
    },
    {
     "name": "stderr",
     "output_type": "stream",
     "text": [
      "/anaconda3/lib/python3.7/site-packages/sklearn/linear_model/logistic.py:432: FutureWarning: Default solver will be changed to 'lbfgs' in 0.22. Specify a solver to silence this warning.\n",
      "  FutureWarning)\n"
     ]
    },
    {
     "name": "stdout",
     "output_type": "stream",
     "text": [
      "\n",
      "---------------------Classification Report--------------------\n",
      "\n",
      "              precision    recall  f1-score   support\n",
      "\n",
      "           0       0.93      0.99      0.96      6650\n",
      "           1       0.19      0.02      0.04       510\n",
      "\n",
      "    accuracy                           0.92      7160\n",
      "   macro avg       0.56      0.51      0.50      7160\n",
      "weighted avg       0.88      0.92      0.89      7160\n",
      "\n",
      "\n",
      "-----------------------Confusion Matrix-----------------------\n",
      "\n",
      "[[6604   46]\n",
      " [ 499   11]]\n",
      "\n",
      "------------------------ROC/AUC SCORE-------------------------\n",
      "\n",
      "0.5073    \n"
     ]
    },
    {
     "name": "stderr",
     "output_type": "stream",
     "text": [
      "/anaconda3/lib/python3.7/site-packages/sklearn/linear_model/logistic.py:432: FutureWarning: Default solver will be changed to 'lbfgs' in 0.22. Specify a solver to silence this warning.\n",
      "  FutureWarning)\n"
     ]
    },
    {
     "name": "stdout",
     "output_type": "stream",
     "text": [
      "\n",
      "---------------------Classification Report--------------------\n",
      "\n",
      "              precision    recall  f1-score   support\n",
      "\n",
      "           0       0.94      0.99      0.96      6696\n",
      "           1       0.39      0.13      0.20       464\n",
      "\n",
      "    accuracy                           0.93      7160\n",
      "   macro avg       0.67      0.56      0.58      7160\n",
      "weighted avg       0.91      0.93      0.91      7160\n",
      "\n",
      "\n",
      "-----------------------Confusion Matrix-----------------------\n",
      "\n",
      "[[6600   96]\n",
      " [ 402   62]]\n",
      "\n",
      "------------------------ROC/AUC SCORE-------------------------\n",
      "\n",
      "0.5596    \n"
     ]
    },
    {
     "name": "stderr",
     "output_type": "stream",
     "text": [
      "/anaconda3/lib/python3.7/site-packages/sklearn/linear_model/logistic.py:432: FutureWarning: Default solver will be changed to 'lbfgs' in 0.22. Specify a solver to silence this warning.\n",
      "  FutureWarning)\n"
     ]
    },
    {
     "name": "stdout",
     "output_type": "stream",
     "text": [
      "\n",
      "---------------------Classification Report--------------------\n",
      "\n",
      "              precision    recall  f1-score   support\n",
      "\n",
      "           0       0.95      0.99      0.97      6744\n",
      "           1       0.39      0.10      0.16       416\n",
      "\n",
      "    accuracy                           0.94      7160\n",
      "   macro avg       0.67      0.54      0.56      7160\n",
      "weighted avg       0.91      0.94      0.92      7160\n",
      "\n",
      "\n",
      "-----------------------Confusion Matrix-----------------------\n",
      "\n",
      "[[6679   65]\n",
      " [ 375   41]]\n",
      "\n",
      "------------------------ROC/AUC SCORE-------------------------\n",
      "\n",
      "0.5445    \n"
     ]
    },
    {
     "name": "stderr",
     "output_type": "stream",
     "text": [
      "/anaconda3/lib/python3.7/site-packages/sklearn/linear_model/logistic.py:432: FutureWarning: Default solver will be changed to 'lbfgs' in 0.22. Specify a solver to silence this warning.\n",
      "  FutureWarning)\n"
     ]
    },
    {
     "name": "stdout",
     "output_type": "stream",
     "text": [
      "\n",
      "---------------------Classification Report--------------------\n",
      "\n",
      "              precision    recall  f1-score   support\n",
      "\n",
      "           0       0.94      0.99      0.97      6711\n",
      "           1       0.37      0.10      0.16       449\n",
      "\n",
      "    accuracy                           0.93      7160\n",
      "   macro avg       0.66      0.55      0.56      7160\n",
      "weighted avg       0.91      0.93      0.91      7160\n",
      "\n",
      "\n",
      "-----------------------Confusion Matrix-----------------------\n",
      "\n",
      "[[6633   78]\n",
      " [ 403   46]]\n",
      "\n",
      "------------------------ROC/AUC SCORE-------------------------\n",
      "\n",
      "0.5454    \n"
     ]
    },
    {
     "name": "stderr",
     "output_type": "stream",
     "text": [
      "/anaconda3/lib/python3.7/site-packages/sklearn/linear_model/logistic.py:432: FutureWarning: Default solver will be changed to 'lbfgs' in 0.22. Specify a solver to silence this warning.\n",
      "  FutureWarning)\n"
     ]
    },
    {
     "name": "stdout",
     "output_type": "stream",
     "text": [
      "\n",
      "---------------------Classification Report--------------------\n",
      "\n",
      "              precision    recall  f1-score   support\n",
      "\n",
      "           0       0.96      0.99      0.97      6755\n",
      "           1       0.58      0.30      0.39       405\n",
      "\n",
      "    accuracy                           0.95      7160\n",
      "   macro avg       0.77      0.64      0.68      7160\n",
      "weighted avg       0.94      0.95      0.94      7160\n",
      "\n",
      "\n",
      "-----------------------Confusion Matrix-----------------------\n",
      "\n",
      "[[6667   88]\n",
      " [ 284  121]]\n",
      "\n",
      "------------------------ROC/AUC SCORE-------------------------\n",
      "\n",
      "0.6429    \n"
     ]
    },
    {
     "name": "stderr",
     "output_type": "stream",
     "text": [
      "/anaconda3/lib/python3.7/site-packages/sklearn/linear_model/logistic.py:432: FutureWarning: Default solver will be changed to 'lbfgs' in 0.22. Specify a solver to silence this warning.\n",
      "  FutureWarning)\n"
     ]
    },
    {
     "name": "stdout",
     "output_type": "stream",
     "text": [
      "\n",
      "---------------------Classification Report--------------------\n",
      "\n",
      "              precision    recall  f1-score   support\n",
      "\n",
      "           0       0.94      0.99      0.96      6704\n",
      "           1       0.34      0.10      0.15       456\n",
      "\n",
      "    accuracy                           0.93      7160\n",
      "   macro avg       0.64      0.54      0.56      7160\n",
      "weighted avg       0.90      0.93      0.91      7160\n",
      "\n",
      "\n",
      "-----------------------Confusion Matrix-----------------------\n",
      "\n",
      "[[6615   89]\n",
      " [ 411   45]]\n",
      "\n",
      "------------------------ROC/AUC SCORE-------------------------\n",
      "\n",
      "0.5427    \n"
     ]
    },
    {
     "name": "stderr",
     "output_type": "stream",
     "text": [
      "/anaconda3/lib/python3.7/site-packages/sklearn/linear_model/logistic.py:432: FutureWarning: Default solver will be changed to 'lbfgs' in 0.22. Specify a solver to silence this warning.\n",
      "  FutureWarning)\n"
     ]
    },
    {
     "name": "stdout",
     "output_type": "stream",
     "text": [
      "\n",
      "---------------------Classification Report--------------------\n",
      "\n",
      "              precision    recall  f1-score   support\n",
      "\n",
      "           0       0.95      0.99      0.97      6725\n",
      "           1       0.43      0.17      0.25       435\n",
      "\n",
      "    accuracy                           0.94      7160\n",
      "   macro avg       0.69      0.58      0.61      7160\n",
      "weighted avg       0.92      0.94      0.92      7160\n",
      "\n",
      "\n",
      "-----------------------Confusion Matrix-----------------------\n",
      "\n",
      "[[6625  100]\n",
      " [ 360   75]]\n",
      "\n",
      "------------------------ROC/AUC SCORE-------------------------\n",
      "\n",
      "0.5788    \n"
     ]
    },
    {
     "name": "stderr",
     "output_type": "stream",
     "text": [
      "/anaconda3/lib/python3.7/site-packages/sklearn/linear_model/logistic.py:432: FutureWarning: Default solver will be changed to 'lbfgs' in 0.22. Specify a solver to silence this warning.\n",
      "  FutureWarning)\n"
     ]
    },
    {
     "name": "stdout",
     "output_type": "stream",
     "text": [
      "\n",
      "---------------------Classification Report--------------------\n",
      "\n",
      "              precision    recall  f1-score   support\n",
      "\n",
      "           0       0.95      0.99      0.97      6764\n",
      "           1       0.28      0.05      0.08       396\n",
      "\n",
      "    accuracy                           0.94      7160\n",
      "   macro avg       0.61      0.52      0.52      7160\n",
      "weighted avg       0.91      0.94      0.92      7160\n",
      "\n",
      "\n",
      "-----------------------Confusion Matrix-----------------------\n",
      "\n",
      "[[6717   47]\n",
      " [ 378   18]]\n",
      "\n",
      "------------------------ROC/AUC SCORE-------------------------\n",
      "\n",
      "0.5193    \n"
     ]
    },
    {
     "name": "stderr",
     "output_type": "stream",
     "text": [
      "/anaconda3/lib/python3.7/site-packages/sklearn/linear_model/logistic.py:432: FutureWarning: Default solver will be changed to 'lbfgs' in 0.22. Specify a solver to silence this warning.\n",
      "  FutureWarning)\n"
     ]
    },
    {
     "name": "stdout",
     "output_type": "stream",
     "text": [
      "\n",
      "---------------------Classification Report--------------------\n",
      "\n",
      "              precision    recall  f1-score   support\n",
      "\n",
      "           0       0.95      0.99      0.97      6779\n",
      "           1       0.47      0.14      0.21       381\n",
      "\n",
      "    accuracy                           0.95      7160\n",
      "   macro avg       0.71      0.56      0.59      7160\n",
      "weighted avg       0.93      0.95      0.93      7160\n",
      "\n",
      "\n",
      "-----------------------Confusion Matrix-----------------------\n",
      "\n",
      "[[6721   58]\n",
      " [ 329   52]]\n",
      "\n",
      "------------------------ROC/AUC SCORE-------------------------\n",
      "\n",
      "0.5640    \n"
     ]
    },
    {
     "name": "stderr",
     "output_type": "stream",
     "text": [
      "/anaconda3/lib/python3.7/site-packages/sklearn/linear_model/logistic.py:432: FutureWarning: Default solver will be changed to 'lbfgs' in 0.22. Specify a solver to silence this warning.\n",
      "  FutureWarning)\n"
     ]
    },
    {
     "name": "stdout",
     "output_type": "stream",
     "text": [
      "\n",
      "---------------------Classification Report--------------------\n",
      "\n",
      "              precision    recall  f1-score   support\n",
      "\n",
      "           0       0.94      0.99      0.96      6718\n",
      "           1       0.35      0.11      0.17       442\n",
      "\n",
      "    accuracy                           0.93      7160\n",
      "   macro avg       0.65      0.55      0.57      7160\n",
      "weighted avg       0.91      0.93      0.92      7160\n",
      "\n",
      "\n",
      "-----------------------Confusion Matrix-----------------------\n",
      "\n",
      "[[6627   91]\n",
      " [ 393   49]]\n",
      "\n",
      "------------------------ROC/AUC SCORE-------------------------\n",
      "\n",
      "0.5487    \n"
     ]
    },
    {
     "name": "stderr",
     "output_type": "stream",
     "text": [
      "/anaconda3/lib/python3.7/site-packages/sklearn/linear_model/logistic.py:432: FutureWarning: Default solver will be changed to 'lbfgs' in 0.22. Specify a solver to silence this warning.\n",
      "  FutureWarning)\n"
     ]
    },
    {
     "name": "stdout",
     "output_type": "stream",
     "text": [
      "\n",
      "---------------------Classification Report--------------------\n",
      "\n",
      "              precision    recall  f1-score   support\n",
      "\n",
      "           0       0.94      0.99      0.97      6709\n",
      "           1       0.43      0.09      0.15       451\n",
      "\n",
      "    accuracy                           0.94      7160\n",
      "   macro avg       0.69      0.54      0.56      7160\n",
      "weighted avg       0.91      0.94      0.92      7160\n",
      "\n",
      "\n",
      "-----------------------Confusion Matrix-----------------------\n",
      "\n",
      "[[6653   56]\n",
      " [ 409   42]]\n",
      "\n",
      "------------------------ROC/AUC SCORE-------------------------\n",
      "\n",
      "0.5424    \n"
     ]
    },
    {
     "name": "stderr",
     "output_type": "stream",
     "text": [
      "/anaconda3/lib/python3.7/site-packages/sklearn/linear_model/logistic.py:432: FutureWarning: Default solver will be changed to 'lbfgs' in 0.22. Specify a solver to silence this warning.\n",
      "  FutureWarning)\n"
     ]
    },
    {
     "name": "stdout",
     "output_type": "stream",
     "text": [
      "\n",
      "---------------------Classification Report--------------------\n",
      "\n",
      "              precision    recall  f1-score   support\n",
      "\n",
      "           0       0.95      0.99      0.97      6750\n",
      "           1       0.55      0.16      0.25       410\n",
      "\n",
      "    accuracy                           0.94      7160\n",
      "   macro avg       0.75      0.58      0.61      7160\n",
      "weighted avg       0.93      0.94      0.93      7160\n",
      "\n",
      "\n",
      "-----------------------Confusion Matrix-----------------------\n",
      "\n",
      "[[6696   54]\n",
      " [ 344   66]]\n",
      "\n",
      "------------------------ROC/AUC SCORE-------------------------\n",
      "\n",
      "0.5765    \n"
     ]
    },
    {
     "name": "stderr",
     "output_type": "stream",
     "text": [
      "/anaconda3/lib/python3.7/site-packages/sklearn/linear_model/logistic.py:432: FutureWarning: Default solver will be changed to 'lbfgs' in 0.22. Specify a solver to silence this warning.\n",
      "  FutureWarning)\n"
     ]
    },
    {
     "name": "stdout",
     "output_type": "stream",
     "text": [
      "\n",
      "---------------------Classification Report--------------------\n",
      "\n",
      "              precision    recall  f1-score   support\n",
      "\n",
      "           0       0.95      0.99      0.97      6754\n",
      "           1       0.34      0.05      0.09       406\n",
      "\n",
      "    accuracy                           0.94      7160\n",
      "   macro avg       0.64      0.52      0.53      7160\n",
      "weighted avg       0.91      0.94      0.92      7160\n",
      "\n",
      "\n",
      "-----------------------Confusion Matrix-----------------------\n",
      "\n",
      "[[6712   42]\n",
      " [ 384   22]]\n",
      "\n",
      "------------------------ROC/AUC SCORE-------------------------\n",
      "\n",
      "0.5240    \n"
     ]
    },
    {
     "name": "stderr",
     "output_type": "stream",
     "text": [
      "/anaconda3/lib/python3.7/site-packages/sklearn/linear_model/logistic.py:432: FutureWarning: Default solver will be changed to 'lbfgs' in 0.22. Specify a solver to silence this warning.\n",
      "  FutureWarning)\n"
     ]
    },
    {
     "name": "stdout",
     "output_type": "stream",
     "text": [
      "\n",
      "---------------------Classification Report--------------------\n",
      "\n",
      "              precision    recall  f1-score   support\n",
      "\n",
      "           0       0.94      1.00      0.97      6739\n",
      "           1       0.35      0.04      0.07       421\n",
      "\n",
      "    accuracy                           0.94      7160\n",
      "   macro avg       0.65      0.52      0.52      7160\n",
      "weighted avg       0.91      0.94      0.92      7160\n",
      "\n",
      "\n",
      "-----------------------Confusion Matrix-----------------------\n",
      "\n",
      "[[6709   30]\n",
      " [ 405   16]]\n",
      "\n",
      "------------------------ROC/AUC SCORE-------------------------\n",
      "\n",
      "0.5168    \n"
     ]
    },
    {
     "name": "stderr",
     "output_type": "stream",
     "text": [
      "/anaconda3/lib/python3.7/site-packages/sklearn/linear_model/logistic.py:432: FutureWarning: Default solver will be changed to 'lbfgs' in 0.22. Specify a solver to silence this warning.\n",
      "  FutureWarning)\n"
     ]
    },
    {
     "name": "stdout",
     "output_type": "stream",
     "text": [
      "\n",
      "---------------------Classification Report--------------------\n",
      "\n",
      "              precision    recall  f1-score   support\n",
      "\n",
      "           0       0.95      0.99      0.97      6756\n",
      "           1       0.43      0.11      0.18       404\n",
      "\n",
      "    accuracy                           0.94      7160\n",
      "   macro avg       0.69      0.55      0.57      7160\n",
      "weighted avg       0.92      0.94      0.93      7160\n",
      "\n",
      "\n",
      "-----------------------Confusion Matrix-----------------------\n",
      "\n",
      "[[6697   59]\n",
      " [ 359   45]]\n",
      "\n",
      "------------------------ROC/AUC SCORE-------------------------\n",
      "\n",
      "0.5513    \n"
     ]
    },
    {
     "name": "stderr",
     "output_type": "stream",
     "text": [
      "/anaconda3/lib/python3.7/site-packages/sklearn/linear_model/logistic.py:432: FutureWarning: Default solver will be changed to 'lbfgs' in 0.22. Specify a solver to silence this warning.\n",
      "  FutureWarning)\n"
     ]
    },
    {
     "name": "stdout",
     "output_type": "stream",
     "text": [
      "\n",
      "---------------------Classification Report--------------------\n",
      "\n",
      "              precision    recall  f1-score   support\n",
      "\n",
      "           0       0.95      0.99      0.97      6749\n",
      "           1       0.57      0.23      0.33       411\n",
      "\n",
      "    accuracy                           0.95      7160\n",
      "   macro avg       0.76      0.61      0.65      7160\n",
      "weighted avg       0.93      0.95      0.93      7160\n",
      "\n",
      "\n",
      "-----------------------Confusion Matrix-----------------------\n",
      "\n",
      "[[6679   70]\n",
      " [ 317   94]]\n",
      "\n",
      "------------------------ROC/AUC SCORE-------------------------\n",
      "\n",
      "0.6092    \n"
     ]
    },
    {
     "name": "stderr",
     "output_type": "stream",
     "text": [
      "/anaconda3/lib/python3.7/site-packages/sklearn/linear_model/logistic.py:432: FutureWarning: Default solver will be changed to 'lbfgs' in 0.22. Specify a solver to silence this warning.\n",
      "  FutureWarning)\n"
     ]
    },
    {
     "name": "stdout",
     "output_type": "stream",
     "text": [
      "\n",
      "---------------------Classification Report--------------------\n",
      "\n",
      "              precision    recall  f1-score   support\n",
      "\n",
      "           0       0.96      0.99      0.97      6793\n",
      "           1       0.50      0.17      0.25       367\n",
      "\n",
      "    accuracy                           0.95      7160\n",
      "   macro avg       0.73      0.58      0.61      7160\n",
      "weighted avg       0.93      0.95      0.94      7160\n",
      "\n",
      "\n",
      "-----------------------Confusion Matrix-----------------------\n",
      "\n",
      "[[6731   62]\n",
      " [ 305   62]]\n",
      "\n",
      "------------------------ROC/AUC SCORE-------------------------\n",
      "\n",
      "0.5799    \n"
     ]
    },
    {
     "name": "stderr",
     "output_type": "stream",
     "text": [
      "/anaconda3/lib/python3.7/site-packages/sklearn/linear_model/logistic.py:432: FutureWarning: Default solver will be changed to 'lbfgs' in 0.22. Specify a solver to silence this warning.\n",
      "  FutureWarning)\n"
     ]
    },
    {
     "name": "stdout",
     "output_type": "stream",
     "text": [
      "\n",
      "---------------------Classification Report--------------------\n",
      "\n",
      "              precision    recall  f1-score   support\n",
      "\n",
      "           0       0.96      0.99      0.97      6793\n",
      "           1       0.54      0.26      0.35       367\n",
      "\n",
      "    accuracy                           0.95      7160\n",
      "   macro avg       0.75      0.62      0.66      7160\n",
      "weighted avg       0.94      0.95      0.94      7160\n",
      "\n",
      "\n",
      "-----------------------Confusion Matrix-----------------------\n",
      "\n",
      "[[6713   80]\n",
      " [ 272   95]]\n",
      "\n",
      "------------------------ROC/AUC SCORE-------------------------\n",
      "\n",
      "0.6235    \n"
     ]
    },
    {
     "name": "stderr",
     "output_type": "stream",
     "text": [
      "/anaconda3/lib/python3.7/site-packages/sklearn/linear_model/logistic.py:432: FutureWarning: Default solver will be changed to 'lbfgs' in 0.22. Specify a solver to silence this warning.\n",
      "  FutureWarning)\n"
     ]
    },
    {
     "name": "stdout",
     "output_type": "stream",
     "text": [
      "\n",
      "---------------------Classification Report--------------------\n",
      "\n",
      "              precision    recall  f1-score   support\n",
      "\n",
      "           0       0.95      0.99      0.97      6787\n",
      "           1       0.45      0.15      0.22       373\n",
      "\n",
      "    accuracy                           0.95      7160\n",
      "   macro avg       0.70      0.57      0.60      7160\n",
      "weighted avg       0.93      0.95      0.93      7160\n",
      "\n",
      "\n",
      "-----------------------Confusion Matrix-----------------------\n",
      "\n",
      "[[6718   69]\n",
      " [ 317   56]]\n",
      "\n",
      "------------------------ROC/AUC SCORE-------------------------\n",
      "\n",
      "0.5700    \n"
     ]
    },
    {
     "name": "stderr",
     "output_type": "stream",
     "text": [
      "/anaconda3/lib/python3.7/site-packages/sklearn/linear_model/logistic.py:432: FutureWarning: Default solver will be changed to 'lbfgs' in 0.22. Specify a solver to silence this warning.\n",
      "  FutureWarning)\n"
     ]
    },
    {
     "name": "stdout",
     "output_type": "stream",
     "text": [
      "\n",
      "---------------------Classification Report--------------------\n",
      "\n",
      "              precision    recall  f1-score   support\n",
      "\n",
      "           0       0.95      0.99      0.97      6798\n",
      "           1       0.45      0.10      0.17       362\n",
      "\n",
      "    accuracy                           0.95      7160\n",
      "   macro avg       0.70      0.55      0.57      7160\n",
      "weighted avg       0.93      0.95      0.93      7160\n",
      "\n",
      "\n",
      "-----------------------Confusion Matrix-----------------------\n",
      "\n",
      "[[6752   46]\n",
      " [ 325   37]]\n",
      "\n",
      "------------------------ROC/AUC SCORE-------------------------\n",
      "\n",
      "0.5477    \n"
     ]
    },
    {
     "name": "stderr",
     "output_type": "stream",
     "text": [
      "/anaconda3/lib/python3.7/site-packages/sklearn/linear_model/logistic.py:432: FutureWarning: Default solver will be changed to 'lbfgs' in 0.22. Specify a solver to silence this warning.\n",
      "  FutureWarning)\n"
     ]
    },
    {
     "name": "stdout",
     "output_type": "stream",
     "text": [
      "\n",
      "---------------------Classification Report--------------------\n",
      "\n",
      "              precision    recall  f1-score   support\n",
      "\n",
      "           0       0.95      0.99      0.97      6795\n",
      "           1       0.31      0.05      0.08       365\n",
      "\n",
      "    accuracy                           0.95      7160\n",
      "   macro avg       0.63      0.52      0.53      7160\n",
      "weighted avg       0.92      0.95      0.93      7160\n",
      "\n",
      "\n",
      "-----------------------Confusion Matrix-----------------------\n",
      "\n",
      "[[6754   41]\n",
      " [ 347   18]]\n",
      "\n",
      "------------------------ROC/AUC SCORE-------------------------\n",
      "\n",
      "0.5216    \n"
     ]
    },
    {
     "name": "stderr",
     "output_type": "stream",
     "text": [
      "/anaconda3/lib/python3.7/site-packages/sklearn/linear_model/logistic.py:432: FutureWarning: Default solver will be changed to 'lbfgs' in 0.22. Specify a solver to silence this warning.\n",
      "  FutureWarning)\n"
     ]
    },
    {
     "name": "stdout",
     "output_type": "stream",
     "text": [
      "\n",
      "---------------------Classification Report--------------------\n",
      "\n",
      "              precision    recall  f1-score   support\n",
      "\n",
      "           0       0.95      0.99      0.97      6772\n",
      "           1       0.35      0.09      0.15       388\n",
      "\n",
      "    accuracy                           0.94      7160\n",
      "   macro avg       0.65      0.54      0.56      7160\n",
      "weighted avg       0.92      0.94      0.93      7160\n",
      "\n",
      "\n",
      "-----------------------Confusion Matrix-----------------------\n",
      "\n",
      "[[6705   67]\n",
      " [ 352   36]]\n",
      "\n",
      "------------------------ROC/AUC SCORE-------------------------\n",
      "\n",
      "0.5414    \n"
     ]
    },
    {
     "name": "stderr",
     "output_type": "stream",
     "text": [
      "/anaconda3/lib/python3.7/site-packages/sklearn/linear_model/logistic.py:432: FutureWarning: Default solver will be changed to 'lbfgs' in 0.22. Specify a solver to silence this warning.\n",
      "  FutureWarning)\n"
     ]
    },
    {
     "name": "stdout",
     "output_type": "stream",
     "text": [
      "\n",
      "---------------------Classification Report--------------------\n",
      "\n",
      "              precision    recall  f1-score   support\n",
      "\n",
      "           0       0.95      0.99      0.97      6777\n",
      "           1       0.32      0.07      0.11       383\n",
      "\n",
      "    accuracy                           0.94      7160\n",
      "   macro avg       0.63      0.53      0.54      7160\n",
      "weighted avg       0.92      0.94      0.92      7160\n",
      "\n",
      "\n",
      "-----------------------Confusion Matrix-----------------------\n",
      "\n",
      "[[6724   53]\n",
      " [ 358   25]]\n",
      "\n",
      "------------------------ROC/AUC SCORE-------------------------\n",
      "\n",
      "0.5287    \n"
     ]
    },
    {
     "name": "stderr",
     "output_type": "stream",
     "text": [
      "/anaconda3/lib/python3.7/site-packages/sklearn/linear_model/logistic.py:432: FutureWarning: Default solver will be changed to 'lbfgs' in 0.22. Specify a solver to silence this warning.\n",
      "  FutureWarning)\n"
     ]
    },
    {
     "name": "stdout",
     "output_type": "stream",
     "text": [
      "\n",
      "---------------------Classification Report--------------------\n",
      "\n",
      "              precision    recall  f1-score   support\n",
      "\n",
      "           0       0.95      0.99      0.97      6729\n",
      "           1       0.50      0.21      0.29       431\n",
      "\n",
      "    accuracy                           0.94      7160\n",
      "   macro avg       0.73      0.60      0.63      7160\n",
      "weighted avg       0.92      0.94      0.93      7160\n",
      "\n",
      "\n",
      "-----------------------Confusion Matrix-----------------------\n",
      "\n",
      "[[6639   90]\n",
      " [ 341   90]]\n",
      "\n",
      "------------------------ROC/AUC SCORE-------------------------\n",
      "\n",
      "0.5977    \n"
     ]
    },
    {
     "name": "stderr",
     "output_type": "stream",
     "text": [
      "/anaconda3/lib/python3.7/site-packages/sklearn/linear_model/logistic.py:432: FutureWarning: Default solver will be changed to 'lbfgs' in 0.22. Specify a solver to silence this warning.\n",
      "  FutureWarning)\n"
     ]
    },
    {
     "name": "stdout",
     "output_type": "stream",
     "text": [
      "\n",
      "---------------------Classification Report--------------------\n",
      "\n",
      "              precision    recall  f1-score   support\n",
      "\n",
      "           0       0.95      0.99      0.97      6799\n",
      "           1       0.32      0.08      0.13       361\n",
      "\n",
      "    accuracy                           0.94      7160\n",
      "   macro avg       0.63      0.54      0.55      7160\n",
      "weighted avg       0.92      0.94      0.93      7160\n",
      "\n",
      "\n",
      "-----------------------Confusion Matrix-----------------------\n",
      "\n",
      "[[6734   65]\n",
      " [ 331   30]]\n",
      "\n",
      "------------------------ROC/AUC SCORE-------------------------\n",
      "\n",
      "0.5368    \n"
     ]
    },
    {
     "name": "stderr",
     "output_type": "stream",
     "text": [
      "/anaconda3/lib/python3.7/site-packages/sklearn/linear_model/logistic.py:432: FutureWarning: Default solver will be changed to 'lbfgs' in 0.22. Specify a solver to silence this warning.\n",
      "  FutureWarning)\n"
     ]
    },
    {
     "name": "stdout",
     "output_type": "stream",
     "text": [
      "\n",
      "---------------------Classification Report--------------------\n",
      "\n",
      "              precision    recall  f1-score   support\n",
      "\n",
      "           0       0.95      0.99      0.97      6773\n",
      "           1       0.48      0.12      0.19       387\n",
      "\n",
      "    accuracy                           0.95      7160\n",
      "   macro avg       0.72      0.56      0.58      7160\n",
      "weighted avg       0.93      0.95      0.93      7160\n",
      "\n",
      "\n",
      "-----------------------Confusion Matrix-----------------------\n",
      "\n",
      "[[6723   50]\n",
      " [ 341   46]]\n",
      "\n",
      "------------------------ROC/AUC SCORE-------------------------\n",
      "\n",
      "0.5557    \n"
     ]
    },
    {
     "name": "stderr",
     "output_type": "stream",
     "text": [
      "/anaconda3/lib/python3.7/site-packages/sklearn/linear_model/logistic.py:432: FutureWarning: Default solver will be changed to 'lbfgs' in 0.22. Specify a solver to silence this warning.\n",
      "  FutureWarning)\n"
     ]
    },
    {
     "name": "stdout",
     "output_type": "stream",
     "text": [
      "\n",
      "---------------------Classification Report--------------------\n",
      "\n",
      "              precision    recall  f1-score   support\n",
      "\n",
      "           0       0.95      0.99      0.97      6776\n",
      "           1       0.42      0.07      0.12       384\n",
      "\n",
      "    accuracy                           0.94      7160\n",
      "   macro avg       0.68      0.53      0.55      7160\n",
      "weighted avg       0.92      0.94      0.93      7160\n",
      "\n",
      "\n",
      "-----------------------Confusion Matrix-----------------------\n",
      "\n",
      "[[6738   38]\n",
      " [ 357   27]]\n",
      "\n",
      "------------------------ROC/AUC SCORE-------------------------\n",
      "\n",
      "0.5324    \n"
     ]
    },
    {
     "name": "stderr",
     "output_type": "stream",
     "text": [
      "/anaconda3/lib/python3.7/site-packages/sklearn/linear_model/logistic.py:432: FutureWarning: Default solver will be changed to 'lbfgs' in 0.22. Specify a solver to silence this warning.\n",
      "  FutureWarning)\n"
     ]
    },
    {
     "name": "stdout",
     "output_type": "stream",
     "text": [
      "\n",
      "---------------------Classification Report--------------------\n",
      "\n",
      "              precision    recall  f1-score   support\n",
      "\n",
      "           0       0.94      0.99      0.97      6756\n",
      "           1       0.14      0.02      0.04       404\n",
      "\n",
      "    accuracy                           0.94      7160\n",
      "   macro avg       0.54      0.51      0.50      7160\n",
      "weighted avg       0.90      0.94      0.92      7160\n",
      "\n",
      "\n",
      "-----------------------Confusion Matrix-----------------------\n",
      "\n",
      "[[6696   60]\n",
      " [ 394   10]]\n",
      "\n",
      "------------------------ROC/AUC SCORE-------------------------\n",
      "\n",
      "0.5079    \n"
     ]
    },
    {
     "name": "stderr",
     "output_type": "stream",
     "text": [
      "/anaconda3/lib/python3.7/site-packages/sklearn/linear_model/logistic.py:432: FutureWarning: Default solver will be changed to 'lbfgs' in 0.22. Specify a solver to silence this warning.\n",
      "  FutureWarning)\n"
     ]
    },
    {
     "name": "stdout",
     "output_type": "stream",
     "text": [
      "\n",
      "---------------------Classification Report--------------------\n",
      "\n",
      "              precision    recall  f1-score   support\n",
      "\n",
      "           0       0.95      0.99      0.97      6765\n",
      "           1       0.41      0.09      0.15       395\n",
      "\n",
      "    accuracy                           0.94      7160\n",
      "   macro avg       0.68      0.54      0.56      7160\n",
      "weighted avg       0.92      0.94      0.93      7160\n",
      "\n",
      "\n",
      "-----------------------Confusion Matrix-----------------------\n",
      "\n",
      "[[6711   54]\n",
      " [ 358   37]]\n",
      "\n",
      "------------------------ROC/AUC SCORE-------------------------\n",
      "\n",
      "0.5428    \n"
     ]
    },
    {
     "name": "stderr",
     "output_type": "stream",
     "text": [
      "/anaconda3/lib/python3.7/site-packages/sklearn/linear_model/logistic.py:432: FutureWarning: Default solver will be changed to 'lbfgs' in 0.22. Specify a solver to silence this warning.\n",
      "  FutureWarning)\n"
     ]
    },
    {
     "name": "stdout",
     "output_type": "stream",
     "text": [
      "\n",
      "---------------------Classification Report--------------------\n",
      "\n",
      "              precision    recall  f1-score   support\n",
      "\n",
      "           0       0.96      0.99      0.98      6817\n",
      "           1       0.50      0.19      0.27       343\n",
      "\n",
      "    accuracy                           0.95      7160\n",
      "   macro avg       0.73      0.59      0.62      7160\n",
      "weighted avg       0.94      0.95      0.94      7160\n",
      "\n",
      "\n",
      "-----------------------Confusion Matrix-----------------------\n",
      "\n",
      "[[6754   63]\n",
      " [ 279   64]]\n",
      "\n",
      "------------------------ROC/AUC SCORE-------------------------\n",
      "\n",
      "0.5887    \n"
     ]
    },
    {
     "name": "stderr",
     "output_type": "stream",
     "text": [
      "/anaconda3/lib/python3.7/site-packages/sklearn/linear_model/logistic.py:432: FutureWarning: Default solver will be changed to 'lbfgs' in 0.22. Specify a solver to silence this warning.\n",
      "  FutureWarning)\n"
     ]
    },
    {
     "name": "stdout",
     "output_type": "stream",
     "text": [
      "\n",
      "---------------------Classification Report--------------------\n",
      "\n",
      "              precision    recall  f1-score   support\n",
      "\n",
      "           0       0.95      1.00      0.97      6809\n",
      "           1       0.45      0.08      0.14       351\n",
      "\n",
      "    accuracy                           0.95      7160\n",
      "   macro avg       0.70      0.54      0.55      7160\n",
      "weighted avg       0.93      0.95      0.93      7160\n",
      "\n",
      "\n",
      "-----------------------Confusion Matrix-----------------------\n",
      "\n",
      "[[6775   34]\n",
      " [ 323   28]]\n",
      "\n",
      "------------------------ROC/AUC SCORE-------------------------\n",
      "\n",
      "0.5374    \n"
     ]
    },
    {
     "name": "stderr",
     "output_type": "stream",
     "text": [
      "/anaconda3/lib/python3.7/site-packages/sklearn/linear_model/logistic.py:432: FutureWarning: Default solver will be changed to 'lbfgs' in 0.22. Specify a solver to silence this warning.\n",
      "  FutureWarning)\n"
     ]
    },
    {
     "name": "stdout",
     "output_type": "stream",
     "text": [
      "\n",
      "---------------------Classification Report--------------------\n",
      "\n",
      "              precision    recall  f1-score   support\n",
      "\n",
      "           0       0.95      0.99      0.97      6794\n",
      "           1       0.40      0.09      0.14       366\n",
      "\n",
      "    accuracy                           0.95      7160\n",
      "   macro avg       0.68      0.54      0.56      7160\n",
      "weighted avg       0.92      0.95      0.93      7160\n",
      "\n",
      "\n",
      "-----------------------Confusion Matrix-----------------------\n",
      "\n",
      "[[6746   48]\n",
      " [ 334   32]]\n",
      "\n",
      "------------------------ROC/AUC SCORE-------------------------\n",
      "\n",
      "0.5402    \n"
     ]
    },
    {
     "name": "stderr",
     "output_type": "stream",
     "text": [
      "/anaconda3/lib/python3.7/site-packages/sklearn/linear_model/logistic.py:432: FutureWarning: Default solver will be changed to 'lbfgs' in 0.22. Specify a solver to silence this warning.\n",
      "  FutureWarning)\n"
     ]
    },
    {
     "name": "stdout",
     "output_type": "stream",
     "text": [
      "\n",
      "---------------------Classification Report--------------------\n",
      "\n",
      "              precision    recall  f1-score   support\n",
      "\n",
      "           0       0.98      0.99      0.99      6804\n",
      "           1       0.81      0.60      0.69       356\n",
      "\n",
      "    accuracy                           0.97      7160\n",
      "   macro avg       0.90      0.80      0.84      7160\n",
      "weighted avg       0.97      0.97      0.97      7160\n",
      "\n",
      "\n",
      "-----------------------Confusion Matrix-----------------------\n",
      "\n",
      "[[6754   50]\n",
      " [ 141  215]]\n",
      "\n",
      "------------------------ROC/AUC SCORE-------------------------\n",
      "\n",
      "0.7983    \n"
     ]
    },
    {
     "name": "stderr",
     "output_type": "stream",
     "text": [
      "/anaconda3/lib/python3.7/site-packages/sklearn/linear_model/logistic.py:432: FutureWarning: Default solver will be changed to 'lbfgs' in 0.22. Specify a solver to silence this warning.\n",
      "  FutureWarning)\n"
     ]
    },
    {
     "name": "stdout",
     "output_type": "stream",
     "text": [
      "\n",
      "---------------------Classification Report--------------------\n",
      "\n",
      "              precision    recall  f1-score   support\n",
      "\n",
      "           0       0.96      0.99      0.97      6810\n",
      "           1       0.34      0.10      0.16       350\n",
      "\n",
      "    accuracy                           0.95      7160\n",
      "   macro avg       0.65      0.55      0.56      7160\n",
      "weighted avg       0.93      0.95      0.93      7160\n",
      "\n",
      "\n",
      "-----------------------Confusion Matrix-----------------------\n",
      "\n",
      "[[6739   71]\n",
      " [ 314   36]]\n",
      "\n",
      "------------------------ROC/AUC SCORE-------------------------\n",
      "\n",
      "0.5462    \n"
     ]
    },
    {
     "name": "stderr",
     "output_type": "stream",
     "text": [
      "/anaconda3/lib/python3.7/site-packages/sklearn/linear_model/logistic.py:432: FutureWarning: Default solver will be changed to 'lbfgs' in 0.22. Specify a solver to silence this warning.\n",
      "  FutureWarning)\n"
     ]
    },
    {
     "name": "stdout",
     "output_type": "stream",
     "text": [
      "\n",
      "---------------------Classification Report--------------------\n",
      "\n",
      "              precision    recall  f1-score   support\n",
      "\n",
      "           0       0.96      1.00      0.97      6831\n",
      "           1       0.24      0.03      0.05       329\n",
      "\n",
      "    accuracy                           0.95      7160\n",
      "   macro avg       0.60      0.51      0.51      7160\n",
      "weighted avg       0.92      0.95      0.93      7160\n",
      "\n",
      "\n",
      "-----------------------Confusion Matrix-----------------------\n",
      "\n",
      "[[6799   32]\n",
      " [ 319   10]]\n",
      "\n",
      "------------------------ROC/AUC SCORE-------------------------\n",
      "\n",
      "0.5129    \n"
     ]
    },
    {
     "name": "stderr",
     "output_type": "stream",
     "text": [
      "/anaconda3/lib/python3.7/site-packages/sklearn/linear_model/logistic.py:432: FutureWarning: Default solver will be changed to 'lbfgs' in 0.22. Specify a solver to silence this warning.\n",
      "  FutureWarning)\n"
     ]
    },
    {
     "name": "stdout",
     "output_type": "stream",
     "text": [
      "\n",
      "---------------------Classification Report--------------------\n",
      "\n",
      "              precision    recall  f1-score   support\n",
      "\n",
      "           0       0.96      0.99      0.97      6779\n",
      "           1       0.53      0.20      0.29       381\n",
      "\n",
      "    accuracy                           0.95      7160\n",
      "   macro avg       0.74      0.60      0.63      7160\n",
      "weighted avg       0.93      0.95      0.94      7160\n",
      "\n",
      "\n",
      "-----------------------Confusion Matrix-----------------------\n",
      "\n",
      "[[6709   70]\n",
      " [ 303   78]]\n",
      "\n",
      "------------------------ROC/AUC SCORE-------------------------\n",
      "\n",
      "0.5972    \n"
     ]
    },
    {
     "name": "stderr",
     "output_type": "stream",
     "text": [
      "/anaconda3/lib/python3.7/site-packages/sklearn/linear_model/logistic.py:432: FutureWarning: Default solver will be changed to 'lbfgs' in 0.22. Specify a solver to silence this warning.\n",
      "  FutureWarning)\n"
     ]
    },
    {
     "name": "stdout",
     "output_type": "stream",
     "text": [
      "\n",
      "---------------------Classification Report--------------------\n",
      "\n",
      "              precision    recall  f1-score   support\n",
      "\n",
      "           0       0.96      1.00      0.98      6851\n",
      "           1       0.22      0.02      0.04       309\n",
      "\n",
      "    accuracy                           0.95      7160\n",
      "   macro avg       0.59      0.51      0.51      7160\n",
      "weighted avg       0.93      0.95      0.94      7160\n",
      "\n",
      "\n",
      "-----------------------Confusion Matrix-----------------------\n",
      "\n",
      "[[6826   25]\n",
      " [ 302    7]]\n",
      "\n",
      "------------------------ROC/AUC SCORE-------------------------\n",
      "\n",
      "0.5095    \n"
     ]
    },
    {
     "name": "stderr",
     "output_type": "stream",
     "text": [
      "/anaconda3/lib/python3.7/site-packages/sklearn/linear_model/logistic.py:432: FutureWarning: Default solver will be changed to 'lbfgs' in 0.22. Specify a solver to silence this warning.\n",
      "  FutureWarning)\n"
     ]
    },
    {
     "name": "stdout",
     "output_type": "stream",
     "text": [
      "\n",
      "---------------------Classification Report--------------------\n",
      "\n",
      "              precision    recall  f1-score   support\n",
      "\n",
      "           0       0.96      0.99      0.98      6842\n",
      "           1       0.50      0.21      0.29       318\n",
      "\n",
      "    accuracy                           0.96      7160\n",
      "   macro avg       0.73      0.60      0.63      7160\n",
      "weighted avg       0.94      0.96      0.95      7160\n",
      "\n",
      "\n",
      "-----------------------Confusion Matrix-----------------------\n",
      "\n",
      "[[6775   67]\n",
      " [ 252   66]]\n",
      "\n",
      "------------------------ROC/AUC SCORE-------------------------\n",
      "\n",
      "0.5989    \n"
     ]
    },
    {
     "name": "stderr",
     "output_type": "stream",
     "text": [
      "/anaconda3/lib/python3.7/site-packages/sklearn/linear_model/logistic.py:432: FutureWarning: Default solver will be changed to 'lbfgs' in 0.22. Specify a solver to silence this warning.\n",
      "  FutureWarning)\n"
     ]
    },
    {
     "name": "stdout",
     "output_type": "stream",
     "text": [
      "\n",
      "---------------------Classification Report--------------------\n",
      "\n",
      "              precision    recall  f1-score   support\n",
      "\n",
      "           0       0.96      0.99      0.97      6833\n",
      "           1       0.31      0.10      0.16       327\n",
      "\n",
      "    accuracy                           0.95      7160\n",
      "   macro avg       0.63      0.55      0.56      7160\n",
      "weighted avg       0.93      0.95      0.94      7160\n",
      "\n",
      "\n",
      "-----------------------Confusion Matrix-----------------------\n",
      "\n",
      "[[6757   76]\n",
      " [ 293   34]]\n",
      "\n",
      "------------------------ROC/AUC SCORE-------------------------\n",
      "\n",
      "0.5464    \n"
     ]
    },
    {
     "name": "stderr",
     "output_type": "stream",
     "text": [
      "/anaconda3/lib/python3.7/site-packages/sklearn/linear_model/logistic.py:432: FutureWarning: Default solver will be changed to 'lbfgs' in 0.22. Specify a solver to silence this warning.\n",
      "  FutureWarning)\n"
     ]
    },
    {
     "name": "stdout",
     "output_type": "stream",
     "text": [
      "\n",
      "---------------------Classification Report--------------------\n",
      "\n",
      "              precision    recall  f1-score   support\n",
      "\n",
      "           0       0.96      0.99      0.97      6802\n",
      "           1       0.53      0.22      0.31       358\n",
      "\n",
      "    accuracy                           0.95      7160\n",
      "   macro avg       0.75      0.60      0.64      7160\n",
      "weighted avg       0.94      0.95      0.94      7160\n",
      "\n",
      "\n",
      "-----------------------Confusion Matrix-----------------------\n",
      "\n",
      "[[6734   68]\n",
      " [ 281   77]]\n",
      "\n",
      "------------------------ROC/AUC SCORE-------------------------\n",
      "\n",
      "0.6025    \n"
     ]
    },
    {
     "name": "stderr",
     "output_type": "stream",
     "text": [
      "/anaconda3/lib/python3.7/site-packages/sklearn/linear_model/logistic.py:432: FutureWarning: Default solver will be changed to 'lbfgs' in 0.22. Specify a solver to silence this warning.\n",
      "  FutureWarning)\n"
     ]
    },
    {
     "name": "stdout",
     "output_type": "stream",
     "text": [
      "\n",
      "---------------------Classification Report--------------------\n",
      "\n",
      "              precision    recall  f1-score   support\n",
      "\n",
      "           0       0.95      0.99      0.97      6803\n",
      "           1       0.29      0.06      0.10       357\n",
      "\n",
      "    accuracy                           0.95      7160\n",
      "   macro avg       0.62      0.53      0.54      7160\n",
      "weighted avg       0.92      0.95      0.93      7160\n",
      "\n",
      "\n",
      "-----------------------Confusion Matrix-----------------------\n",
      "\n",
      "[[6750   53]\n",
      " [ 335   22]]\n",
      "\n",
      "------------------------ROC/AUC SCORE-------------------------\n",
      "\n",
      "0.5269    \n"
     ]
    },
    {
     "name": "stderr",
     "output_type": "stream",
     "text": [
      "/anaconda3/lib/python3.7/site-packages/sklearn/linear_model/logistic.py:432: FutureWarning: Default solver will be changed to 'lbfgs' in 0.22. Specify a solver to silence this warning.\n",
      "  FutureWarning)\n"
     ]
    },
    {
     "name": "stdout",
     "output_type": "stream",
     "text": [
      "\n",
      "---------------------Classification Report--------------------\n",
      "\n",
      "              precision    recall  f1-score   support\n",
      "\n",
      "           0       0.97      0.99      0.98      6836\n",
      "           1       0.53      0.25      0.34       324\n",
      "\n",
      "    accuracy                           0.96      7160\n",
      "   macro avg       0.75      0.62      0.66      7160\n",
      "weighted avg       0.95      0.96      0.95      7160\n",
      "\n",
      "\n",
      "-----------------------Confusion Matrix-----------------------\n",
      "\n",
      "[[6765   71]\n",
      " [ 244   80]]\n",
      "\n",
      "------------------------ROC/AUC SCORE-------------------------\n",
      "\n",
      "0.6183    \n"
     ]
    },
    {
     "name": "stderr",
     "output_type": "stream",
     "text": [
      "/anaconda3/lib/python3.7/site-packages/sklearn/linear_model/logistic.py:432: FutureWarning: Default solver will be changed to 'lbfgs' in 0.22. Specify a solver to silence this warning.\n",
      "  FutureWarning)\n"
     ]
    },
    {
     "name": "stdout",
     "output_type": "stream",
     "text": [
      "\n",
      "---------------------Classification Report--------------------\n",
      "\n",
      "              precision    recall  f1-score   support\n",
      "\n",
      "           0       0.96      0.99      0.98      6842\n",
      "           1       0.36      0.08      0.13       318\n",
      "\n",
      "    accuracy                           0.95      7160\n",
      "   macro avg       0.66      0.54      0.55      7160\n",
      "weighted avg       0.93      0.95      0.94      7160\n",
      "\n",
      "\n",
      "-----------------------Confusion Matrix-----------------------\n",
      "\n",
      "[[6796   46]\n",
      " [ 292   26]]\n",
      "\n",
      "------------------------ROC/AUC SCORE-------------------------\n",
      "\n",
      "0.5375    \n"
     ]
    },
    {
     "name": "stderr",
     "output_type": "stream",
     "text": [
      "/anaconda3/lib/python3.7/site-packages/sklearn/linear_model/logistic.py:432: FutureWarning: Default solver will be changed to 'lbfgs' in 0.22. Specify a solver to silence this warning.\n",
      "  FutureWarning)\n"
     ]
    },
    {
     "name": "stdout",
     "output_type": "stream",
     "text": [
      "\n",
      "---------------------Classification Report--------------------\n",
      "\n",
      "              precision    recall  f1-score   support\n",
      "\n",
      "           0       0.95      0.99      0.97      6790\n",
      "           1       0.42      0.14      0.21       370\n",
      "\n",
      "    accuracy                           0.95      7160\n",
      "   macro avg       0.69      0.56      0.59      7160\n",
      "weighted avg       0.93      0.95      0.93      7160\n",
      "\n",
      "\n",
      "-----------------------Confusion Matrix-----------------------\n",
      "\n",
      "[[6720   70]\n",
      " [ 319   51]]\n",
      "\n",
      "------------------------ROC/AUC SCORE-------------------------\n",
      "\n",
      "0.5638    \n"
     ]
    },
    {
     "name": "stderr",
     "output_type": "stream",
     "text": [
      "/anaconda3/lib/python3.7/site-packages/sklearn/linear_model/logistic.py:432: FutureWarning: Default solver will be changed to 'lbfgs' in 0.22. Specify a solver to silence this warning.\n",
      "  FutureWarning)\n"
     ]
    },
    {
     "name": "stdout",
     "output_type": "stream",
     "text": [
      "\n",
      "---------------------Classification Report--------------------\n",
      "\n",
      "              precision    recall  f1-score   support\n",
      "\n",
      "           0       0.97      0.99      0.98      6826\n",
      "           1       0.57      0.32      0.41       334\n",
      "\n",
      "    accuracy                           0.96      7160\n",
      "   macro avg       0.77      0.66      0.70      7160\n",
      "weighted avg       0.95      0.96      0.95      7160\n",
      "\n",
      "\n",
      "-----------------------Confusion Matrix-----------------------\n",
      "\n",
      "[[6746   80]\n",
      " [ 226  108]]\n",
      "\n",
      "------------------------ROC/AUC SCORE-------------------------\n",
      "\n",
      "0.6558    \n"
     ]
    },
    {
     "name": "stderr",
     "output_type": "stream",
     "text": [
      "/anaconda3/lib/python3.7/site-packages/sklearn/linear_model/logistic.py:432: FutureWarning: Default solver will be changed to 'lbfgs' in 0.22. Specify a solver to silence this warning.\n",
      "  FutureWarning)\n"
     ]
    },
    {
     "name": "stdout",
     "output_type": "stream",
     "text": [
      "\n",
      "---------------------Classification Report--------------------\n",
      "\n",
      "              precision    recall  f1-score   support\n",
      "\n",
      "           0       0.96      1.00      0.98      6853\n",
      "           1       0.11      0.01      0.01       307\n",
      "\n",
      "    accuracy                           0.96      7160\n",
      "   macro avg       0.53      0.50      0.49      7160\n",
      "weighted avg       0.92      0.96      0.94      7160\n",
      "\n",
      "\n",
      "-----------------------Confusion Matrix-----------------------\n",
      "\n",
      "[[6836   17]\n",
      " [ 305    2]]\n",
      "\n",
      "------------------------ROC/AUC SCORE-------------------------\n",
      "\n",
      "0.5020    \n"
     ]
    },
    {
     "name": "stderr",
     "output_type": "stream",
     "text": [
      "/anaconda3/lib/python3.7/site-packages/sklearn/linear_model/logistic.py:432: FutureWarning: Default solver will be changed to 'lbfgs' in 0.22. Specify a solver to silence this warning.\n",
      "  FutureWarning)\n"
     ]
    },
    {
     "name": "stdout",
     "output_type": "stream",
     "text": [
      "\n",
      "---------------------Classification Report--------------------\n",
      "\n",
      "              precision    recall  f1-score   support\n",
      "\n",
      "           0       0.96      0.99      0.98      6838\n",
      "           1       0.38      0.07      0.12       322\n",
      "\n",
      "    accuracy                           0.95      7160\n",
      "   macro avg       0.67      0.53      0.55      7160\n",
      "weighted avg       0.93      0.95      0.94      7160\n",
      "\n",
      "\n",
      "-----------------------Confusion Matrix-----------------------\n",
      "\n",
      "[[6802   36]\n",
      " [ 300   22]]\n",
      "\n",
      "------------------------ROC/AUC SCORE-------------------------\n",
      "\n",
      "0.5315    \n"
     ]
    },
    {
     "name": "stderr",
     "output_type": "stream",
     "text": [
      "/anaconda3/lib/python3.7/site-packages/sklearn/linear_model/logistic.py:432: FutureWarning: Default solver will be changed to 'lbfgs' in 0.22. Specify a solver to silence this warning.\n",
      "  FutureWarning)\n"
     ]
    },
    {
     "name": "stdout",
     "output_type": "stream",
     "text": [
      "\n",
      "---------------------Classification Report--------------------\n",
      "\n",
      "              precision    recall  f1-score   support\n",
      "\n",
      "           0       0.96      0.99      0.98      6848\n",
      "           1       0.43      0.21      0.28       312\n",
      "\n",
      "    accuracy                           0.95      7160\n",
      "   macro avg       0.70      0.60      0.63      7160\n",
      "weighted avg       0.94      0.95      0.95      7160\n",
      "\n",
      "\n",
      "-----------------------Confusion Matrix-----------------------\n",
      "\n",
      "[[6763   85]\n",
      " [ 247   65]]\n",
      "\n",
      "------------------------ROC/AUC SCORE-------------------------\n",
      "\n",
      "0.5980    \n"
     ]
    },
    {
     "name": "stderr",
     "output_type": "stream",
     "text": [
      "/anaconda3/lib/python3.7/site-packages/sklearn/linear_model/logistic.py:432: FutureWarning: Default solver will be changed to 'lbfgs' in 0.22. Specify a solver to silence this warning.\n",
      "  FutureWarning)\n"
     ]
    },
    {
     "name": "stdout",
     "output_type": "stream",
     "text": [
      "\n",
      "---------------------Classification Report--------------------\n",
      "\n",
      "              precision    recall  f1-score   support\n",
      "\n",
      "           0       0.96      0.99      0.97      6808\n",
      "           1       0.42      0.14      0.22       352\n",
      "\n",
      "    accuracy                           0.95      7160\n",
      "   macro avg       0.69      0.57      0.59      7160\n",
      "weighted avg       0.93      0.95      0.94      7160\n",
      "\n",
      "\n",
      "-----------------------Confusion Matrix-----------------------\n",
      "\n",
      "[[6739   69]\n",
      " [ 301   51]]\n",
      "\n",
      "------------------------ROC/AUC SCORE-------------------------\n",
      "\n",
      "0.5674    \n"
     ]
    },
    {
     "name": "stderr",
     "output_type": "stream",
     "text": [
      "/anaconda3/lib/python3.7/site-packages/sklearn/linear_model/logistic.py:432: FutureWarning: Default solver will be changed to 'lbfgs' in 0.22. Specify a solver to silence this warning.\n",
      "  FutureWarning)\n"
     ]
    },
    {
     "name": "stdout",
     "output_type": "stream",
     "text": [
      "\n",
      "---------------------Classification Report--------------------\n",
      "\n",
      "              precision    recall  f1-score   support\n",
      "\n",
      "           0       0.96      0.99      0.97      6827\n",
      "           1       0.41      0.19      0.26       333\n",
      "\n",
      "    accuracy                           0.95      7160\n",
      "   macro avg       0.68      0.59      0.61      7160\n",
      "weighted avg       0.94      0.95      0.94      7160\n",
      "\n",
      "\n",
      "-----------------------Confusion Matrix-----------------------\n",
      "\n",
      "[[6736   91]\n",
      " [ 271   62]]\n",
      "\n",
      "------------------------ROC/AUC SCORE-------------------------\n",
      "\n",
      "0.5864    \n"
     ]
    },
    {
     "name": "stderr",
     "output_type": "stream",
     "text": [
      "/anaconda3/lib/python3.7/site-packages/sklearn/linear_model/logistic.py:432: FutureWarning: Default solver will be changed to 'lbfgs' in 0.22. Specify a solver to silence this warning.\n",
      "  FutureWarning)\n"
     ]
    },
    {
     "name": "stdout",
     "output_type": "stream",
     "text": [
      "\n",
      "---------------------Classification Report--------------------\n",
      "\n",
      "              precision    recall  f1-score   support\n",
      "\n",
      "           0       0.96      0.99      0.98      6856\n",
      "           1       0.56      0.18      0.27       304\n",
      "\n",
      "    accuracy                           0.96      7160\n",
      "   macro avg       0.76      0.59      0.63      7160\n",
      "weighted avg       0.95      0.96      0.95      7160\n",
      "\n",
      "\n",
      "-----------------------Confusion Matrix-----------------------\n",
      "\n",
      "[[6812   44]\n",
      " [ 249   55]]\n",
      "\n",
      "------------------------ROC/AUC SCORE-------------------------\n",
      "\n",
      "0.5873    \n"
     ]
    },
    {
     "name": "stderr",
     "output_type": "stream",
     "text": [
      "/anaconda3/lib/python3.7/site-packages/sklearn/linear_model/logistic.py:432: FutureWarning: Default solver will be changed to 'lbfgs' in 0.22. Specify a solver to silence this warning.\n",
      "  FutureWarning)\n"
     ]
    },
    {
     "name": "stdout",
     "output_type": "stream",
     "text": [
      "\n",
      "---------------------Classification Report--------------------\n",
      "\n",
      "              precision    recall  f1-score   support\n",
      "\n",
      "           0       0.97      0.99      0.98      6880\n",
      "           1       0.31      0.13      0.19       280\n",
      "\n",
      "    accuracy                           0.95      7160\n",
      "   macro avg       0.64      0.56      0.58      7160\n",
      "weighted avg       0.94      0.95      0.95      7160\n",
      "\n",
      "\n",
      "-----------------------Confusion Matrix-----------------------\n",
      "\n",
      "[[6799   81]\n",
      " [ 243   37]]\n",
      "\n",
      "------------------------ROC/AUC SCORE-------------------------\n",
      "\n",
      "0.5602    \n"
     ]
    },
    {
     "name": "stderr",
     "output_type": "stream",
     "text": [
      "/anaconda3/lib/python3.7/site-packages/sklearn/linear_model/logistic.py:432: FutureWarning: Default solver will be changed to 'lbfgs' in 0.22. Specify a solver to silence this warning.\n",
      "  FutureWarning)\n"
     ]
    },
    {
     "name": "stdout",
     "output_type": "stream",
     "text": [
      "\n",
      "---------------------Classification Report--------------------\n",
      "\n",
      "              precision    recall  f1-score   support\n",
      "\n",
      "           0       0.95      1.00      0.98      6826\n",
      "           1       0.44      0.04      0.07       334\n",
      "\n",
      "    accuracy                           0.95      7160\n",
      "   macro avg       0.70      0.52      0.52      7160\n",
      "weighted avg       0.93      0.95      0.93      7160\n",
      "\n",
      "\n",
      "-----------------------Confusion Matrix-----------------------\n",
      "\n",
      "[[6811   15]\n",
      " [ 322   12]]\n",
      "\n",
      "------------------------ROC/AUC SCORE-------------------------\n",
      "\n",
      "0.5169    \n"
     ]
    },
    {
     "name": "stderr",
     "output_type": "stream",
     "text": [
      "/anaconda3/lib/python3.7/site-packages/sklearn/linear_model/logistic.py:432: FutureWarning: Default solver will be changed to 'lbfgs' in 0.22. Specify a solver to silence this warning.\n",
      "  FutureWarning)\n"
     ]
    },
    {
     "name": "stdout",
     "output_type": "stream",
     "text": [
      "\n",
      "---------------------Classification Report--------------------\n",
      "\n",
      "              precision    recall  f1-score   support\n",
      "\n",
      "           0       0.96      1.00      0.98      6858\n",
      "           1       0.31      0.04      0.07       302\n",
      "\n",
      "    accuracy                           0.96      7160\n",
      "   macro avg       0.63      0.52      0.52      7160\n",
      "weighted avg       0.93      0.96      0.94      7160\n",
      "\n",
      "\n",
      "-----------------------Confusion Matrix-----------------------\n",
      "\n",
      "[[6831   27]\n",
      " [ 290   12]]\n",
      "\n",
      "------------------------ROC/AUC SCORE-------------------------\n",
      "\n",
      "0.5179    \n"
     ]
    },
    {
     "name": "stderr",
     "output_type": "stream",
     "text": [
      "/anaconda3/lib/python3.7/site-packages/sklearn/linear_model/logistic.py:432: FutureWarning: Default solver will be changed to 'lbfgs' in 0.22. Specify a solver to silence this warning.\n",
      "  FutureWarning)\n"
     ]
    },
    {
     "name": "stdout",
     "output_type": "stream",
     "text": [
      "\n",
      "---------------------Classification Report--------------------\n",
      "\n",
      "              precision    recall  f1-score   support\n",
      "\n",
      "           0       0.96      0.99      0.98      6828\n",
      "           1       0.43      0.12      0.18       332\n",
      "\n",
      "    accuracy                           0.95      7160\n",
      "   macro avg       0.70      0.56      0.58      7160\n",
      "weighted avg       0.93      0.95      0.94      7160\n",
      "\n",
      "\n",
      "-----------------------Confusion Matrix-----------------------\n",
      "\n",
      "[[6777   51]\n",
      " [ 293   39]]\n",
      "\n",
      "------------------------ROC/AUC SCORE-------------------------\n",
      "\n",
      "0.5550    \n"
     ]
    },
    {
     "name": "stderr",
     "output_type": "stream",
     "text": [
      "/anaconda3/lib/python3.7/site-packages/sklearn/linear_model/logistic.py:432: FutureWarning: Default solver will be changed to 'lbfgs' in 0.22. Specify a solver to silence this warning.\n",
      "  FutureWarning)\n"
     ]
    },
    {
     "name": "stdout",
     "output_type": "stream",
     "text": [
      "\n",
      "---------------------Classification Report--------------------\n",
      "\n",
      "              precision    recall  f1-score   support\n",
      "\n",
      "           0       0.96      0.99      0.97      6834\n",
      "           1       0.35      0.09      0.14       326\n",
      "\n",
      "    accuracy                           0.95      7160\n",
      "   macro avg       0.66      0.54      0.56      7160\n",
      "weighted avg       0.93      0.95      0.94      7160\n",
      "\n",
      "\n",
      "-----------------------Confusion Matrix-----------------------\n",
      "\n",
      "[[6781   53]\n",
      " [ 297   29]]\n",
      "\n",
      "------------------------ROC/AUC SCORE-------------------------\n",
      "\n",
      "0.5406    \n"
     ]
    },
    {
     "name": "stderr",
     "output_type": "stream",
     "text": [
      "/anaconda3/lib/python3.7/site-packages/sklearn/linear_model/logistic.py:432: FutureWarning: Default solver will be changed to 'lbfgs' in 0.22. Specify a solver to silence this warning.\n",
      "  FutureWarning)\n"
     ]
    },
    {
     "name": "stdout",
     "output_type": "stream",
     "text": [
      "\n",
      "---------------------Classification Report--------------------\n",
      "\n",
      "              precision    recall  f1-score   support\n",
      "\n",
      "           0       0.96      0.99      0.97      6811\n",
      "           1       0.42      0.13      0.19       349\n",
      "\n",
      "    accuracy                           0.95      7160\n",
      "   macro avg       0.69      0.56      0.58      7160\n",
      "weighted avg       0.93      0.95      0.94      7160\n",
      "\n",
      "\n",
      "-----------------------Confusion Matrix-----------------------\n",
      "\n",
      "[[6750   61]\n",
      " [ 305   44]]\n",
      "\n",
      "------------------------ROC/AUC SCORE-------------------------\n",
      "\n",
      "0.5586    \n"
     ]
    },
    {
     "name": "stderr",
     "output_type": "stream",
     "text": [
      "/anaconda3/lib/python3.7/site-packages/sklearn/linear_model/logistic.py:432: FutureWarning: Default solver will be changed to 'lbfgs' in 0.22. Specify a solver to silence this warning.\n",
      "  FutureWarning)\n"
     ]
    },
    {
     "name": "stdout",
     "output_type": "stream",
     "text": [
      "\n",
      "---------------------Classification Report--------------------\n",
      "\n",
      "              precision    recall  f1-score   support\n",
      "\n",
      "           0       0.96      0.99      0.97      6844\n",
      "           1       0.38      0.19      0.25       316\n",
      "\n",
      "    accuracy                           0.95      7160\n",
      "   macro avg       0.67      0.59      0.61      7160\n",
      "weighted avg       0.94      0.95      0.94      7160\n",
      "\n",
      "\n",
      "-----------------------Confusion Matrix-----------------------\n",
      "\n",
      "[[6746   98]\n",
      " [ 256   60]]\n",
      "\n",
      "------------------------ROC/AUC SCORE-------------------------\n",
      "\n",
      "0.5878    \n"
     ]
    },
    {
     "name": "stderr",
     "output_type": "stream",
     "text": [
      "/anaconda3/lib/python3.7/site-packages/sklearn/linear_model/logistic.py:432: FutureWarning: Default solver will be changed to 'lbfgs' in 0.22. Specify a solver to silence this warning.\n",
      "  FutureWarning)\n"
     ]
    },
    {
     "name": "stdout",
     "output_type": "stream",
     "text": [
      "\n",
      "---------------------Classification Report--------------------\n",
      "\n",
      "              precision    recall  f1-score   support\n",
      "\n",
      "           0       0.97      0.99      0.98      6852\n",
      "           1       0.50      0.23      0.31       308\n",
      "\n",
      "    accuracy                           0.96      7160\n",
      "   macro avg       0.73      0.61      0.65      7160\n",
      "weighted avg       0.95      0.96      0.95      7160\n",
      "\n",
      "\n",
      "-----------------------Confusion Matrix-----------------------\n",
      "\n",
      "[[6783   69]\n",
      " [ 238   70]]\n",
      "\n",
      "------------------------ROC/AUC SCORE-------------------------\n",
      "\n",
      "0.6086    \n"
     ]
    },
    {
     "name": "stderr",
     "output_type": "stream",
     "text": [
      "/anaconda3/lib/python3.7/site-packages/sklearn/linear_model/logistic.py:432: FutureWarning: Default solver will be changed to 'lbfgs' in 0.22. Specify a solver to silence this warning.\n",
      "  FutureWarning)\n"
     ]
    },
    {
     "name": "stdout",
     "output_type": "stream",
     "text": [
      "\n",
      "---------------------Classification Report--------------------\n",
      "\n",
      "              precision    recall  f1-score   support\n",
      "\n",
      "           0       0.96      0.99      0.98      6878\n",
      "           1       0.34      0.07      0.12       282\n",
      "\n",
      "    accuracy                           0.96      7160\n",
      "   macro avg       0.65      0.53      0.55      7160\n",
      "weighted avg       0.94      0.96      0.94      7160\n",
      "\n",
      "\n",
      "-----------------------Confusion Matrix-----------------------\n",
      "\n",
      "[[6837   41]\n",
      " [ 261   21]]\n",
      "\n",
      "------------------------ROC/AUC SCORE-------------------------\n",
      "\n",
      "0.5343    \n"
     ]
    },
    {
     "name": "stderr",
     "output_type": "stream",
     "text": [
      "/anaconda3/lib/python3.7/site-packages/sklearn/linear_model/logistic.py:432: FutureWarning: Default solver will be changed to 'lbfgs' in 0.22. Specify a solver to silence this warning.\n",
      "  FutureWarning)\n"
     ]
    },
    {
     "name": "stdout",
     "output_type": "stream",
     "text": [
      "\n",
      "---------------------Classification Report--------------------\n",
      "\n",
      "              precision    recall  f1-score   support\n",
      "\n",
      "           0       0.97      1.00      0.98      6890\n",
      "           1       0.44      0.10      0.16       270\n",
      "\n",
      "    accuracy                           0.96      7160\n",
      "   macro avg       0.70      0.55      0.57      7160\n",
      "weighted avg       0.95      0.96      0.95      7160\n",
      "\n",
      "\n",
      "-----------------------Confusion Matrix-----------------------\n",
      "\n",
      "[[6856   34]\n",
      " [ 243   27]]\n",
      "\n",
      "------------------------ROC/AUC SCORE-------------------------\n",
      "\n",
      "0.5475    \n"
     ]
    },
    {
     "name": "stderr",
     "output_type": "stream",
     "text": [
      "/anaconda3/lib/python3.7/site-packages/sklearn/linear_model/logistic.py:432: FutureWarning: Default solver will be changed to 'lbfgs' in 0.22. Specify a solver to silence this warning.\n",
      "  FutureWarning)\n"
     ]
    },
    {
     "name": "stdout",
     "output_type": "stream",
     "text": [
      "\n",
      "---------------------Classification Report--------------------\n",
      "\n",
      "              precision    recall  f1-score   support\n",
      "\n",
      "           0       0.96      0.99      0.98      6795\n",
      "           1       0.69      0.33      0.44       365\n",
      "\n",
      "    accuracy                           0.96      7160\n",
      "   macro avg       0.83      0.66      0.71      7160\n",
      "weighted avg       0.95      0.96      0.95      7160\n",
      "\n",
      "\n",
      "-----------------------Confusion Matrix-----------------------\n",
      "\n",
      "[[6741   54]\n",
      " [ 246  119]]\n",
      "\n",
      "------------------------ROC/AUC SCORE-------------------------\n",
      "\n",
      "0.6590    \n"
     ]
    },
    {
     "name": "stderr",
     "output_type": "stream",
     "text": [
      "/anaconda3/lib/python3.7/site-packages/sklearn/linear_model/logistic.py:432: FutureWarning: Default solver will be changed to 'lbfgs' in 0.22. Specify a solver to silence this warning.\n",
      "  FutureWarning)\n"
     ]
    },
    {
     "name": "stdout",
     "output_type": "stream",
     "text": [
      "\n",
      "---------------------Classification Report--------------------\n",
      "\n",
      "              precision    recall  f1-score   support\n",
      "\n",
      "           0       0.96      1.00      0.98      6852\n",
      "           1       0.25      0.02      0.04       308\n",
      "\n",
      "    accuracy                           0.96      7160\n",
      "   macro avg       0.60      0.51      0.51      7160\n",
      "weighted avg       0.93      0.96      0.94      7160\n",
      "\n",
      "\n",
      "-----------------------Confusion Matrix-----------------------\n",
      "\n",
      "[[6831   21]\n",
      " [ 301    7]]\n",
      "\n",
      "------------------------ROC/AUC SCORE-------------------------\n",
      "\n",
      "0.5098    \n"
     ]
    },
    {
     "name": "stderr",
     "output_type": "stream",
     "text": [
      "/anaconda3/lib/python3.7/site-packages/sklearn/linear_model/logistic.py:432: FutureWarning: Default solver will be changed to 'lbfgs' in 0.22. Specify a solver to silence this warning.\n",
      "  FutureWarning)\n"
     ]
    },
    {
     "name": "stdout",
     "output_type": "stream",
     "text": [
      "\n",
      "---------------------Classification Report--------------------\n",
      "\n",
      "              precision    recall  f1-score   support\n",
      "\n",
      "           0       0.96      1.00      0.98      6883\n",
      "           1       0.15      0.02      0.04       277\n",
      "\n",
      "    accuracy                           0.96      7160\n",
      "   macro avg       0.56      0.51      0.51      7160\n",
      "weighted avg       0.93      0.96      0.94      7160\n",
      "\n",
      "\n",
      "-----------------------Confusion Matrix-----------------------\n",
      "\n",
      "[[6849   34]\n",
      " [ 271    6]]\n",
      "\n",
      "------------------------ROC/AUC SCORE-------------------------\n",
      "\n",
      "0.5084    \n"
     ]
    },
    {
     "name": "stderr",
     "output_type": "stream",
     "text": [
      "/anaconda3/lib/python3.7/site-packages/sklearn/linear_model/logistic.py:432: FutureWarning: Default solver will be changed to 'lbfgs' in 0.22. Specify a solver to silence this warning.\n",
      "  FutureWarning)\n"
     ]
    },
    {
     "name": "stdout",
     "output_type": "stream",
     "text": [
      "\n",
      "---------------------Classification Report--------------------\n",
      "\n",
      "              precision    recall  f1-score   support\n",
      "\n",
      "           0       0.96      1.00      0.98      6859\n",
      "           1       0.17      0.02      0.04       301\n",
      "\n",
      "    accuracy                           0.95      7160\n",
      "   macro avg       0.56      0.51      0.51      7160\n",
      "weighted avg       0.93      0.95      0.94      7160\n",
      "\n",
      "\n",
      "-----------------------Confusion Matrix-----------------------\n",
      "\n",
      "[[6829   30]\n",
      " [ 295    6]]\n",
      "\n",
      "------------------------ROC/AUC SCORE-------------------------\n",
      "\n",
      "0.5078    \n"
     ]
    },
    {
     "name": "stderr",
     "output_type": "stream",
     "text": [
      "/anaconda3/lib/python3.7/site-packages/sklearn/linear_model/logistic.py:432: FutureWarning: Default solver will be changed to 'lbfgs' in 0.22. Specify a solver to silence this warning.\n",
      "  FutureWarning)\n"
     ]
    },
    {
     "name": "stdout",
     "output_type": "stream",
     "text": [
      "\n",
      "---------------------Classification Report--------------------\n",
      "\n",
      "              precision    recall  f1-score   support\n",
      "\n",
      "           0       0.96      1.00      0.98      6870\n",
      "           1       0.25      0.02      0.03       290\n",
      "\n",
      "    accuracy                           0.96      7160\n",
      "   macro avg       0.61      0.51      0.51      7160\n",
      "weighted avg       0.93      0.96      0.94      7160\n",
      "\n",
      "\n",
      "-----------------------Confusion Matrix-----------------------\n",
      "\n",
      "[[6855   15]\n",
      " [ 285    5]]\n",
      "\n",
      "------------------------ROC/AUC SCORE-------------------------\n",
      "\n",
      "0.5075    \n"
     ]
    },
    {
     "name": "stderr",
     "output_type": "stream",
     "text": [
      "/anaconda3/lib/python3.7/site-packages/sklearn/linear_model/logistic.py:432: FutureWarning: Default solver will be changed to 'lbfgs' in 0.22. Specify a solver to silence this warning.\n",
      "  FutureWarning)\n"
     ]
    },
    {
     "name": "stdout",
     "output_type": "stream",
     "text": [
      "\n",
      "---------------------Classification Report--------------------\n",
      "\n",
      "              precision    recall  f1-score   support\n",
      "\n",
      "           0       0.96      1.00      0.98      6849\n",
      "           1       0.19      0.01      0.02       311\n",
      "\n",
      "    accuracy                           0.96      7160\n",
      "   macro avg       0.57      0.50      0.50      7160\n",
      "weighted avg       0.92      0.96      0.94      7160\n",
      "\n",
      "\n",
      "-----------------------Confusion Matrix-----------------------\n",
      "\n",
      "[[6836   13]\n",
      " [ 308    3]]\n",
      "\n",
      "------------------------ROC/AUC SCORE-------------------------\n",
      "\n",
      "0.5039    \n"
     ]
    },
    {
     "name": "stderr",
     "output_type": "stream",
     "text": [
      "/anaconda3/lib/python3.7/site-packages/sklearn/linear_model/logistic.py:432: FutureWarning: Default solver will be changed to 'lbfgs' in 0.22. Specify a solver to silence this warning.\n",
      "  FutureWarning)\n"
     ]
    },
    {
     "name": "stdout",
     "output_type": "stream",
     "text": [
      "\n",
      "---------------------Classification Report--------------------\n",
      "\n",
      "              precision    recall  f1-score   support\n",
      "\n",
      "           0       0.96      1.00      0.98      6874\n",
      "           1       0.27      0.01      0.03       286\n",
      "\n",
      "    accuracy                           0.96      7160\n",
      "   macro avg       0.61      0.51      0.50      7160\n",
      "weighted avg       0.93      0.96      0.94      7160\n",
      "\n",
      "\n",
      "-----------------------Confusion Matrix-----------------------\n",
      "\n",
      "[[6863   11]\n",
      " [ 282    4]]\n",
      "\n",
      "------------------------ROC/AUC SCORE-------------------------\n",
      "\n",
      "0.5062    \n"
     ]
    },
    {
     "name": "stderr",
     "output_type": "stream",
     "text": [
      "/anaconda3/lib/python3.7/site-packages/sklearn/linear_model/logistic.py:432: FutureWarning: Default solver will be changed to 'lbfgs' in 0.22. Specify a solver to silence this warning.\n",
      "  FutureWarning)\n"
     ]
    },
    {
     "name": "stdout",
     "output_type": "stream",
     "text": [
      "\n",
      "---------------------Classification Report--------------------\n",
      "\n",
      "              precision    recall  f1-score   support\n",
      "\n",
      "           0       0.96      1.00      0.98      6893\n",
      "           1       0.34      0.04      0.08       267\n",
      "\n",
      "    accuracy                           0.96      7160\n",
      "   macro avg       0.65      0.52      0.53      7160\n",
      "weighted avg       0.94      0.96      0.95      7160\n",
      "\n",
      "\n",
      "-----------------------Confusion Matrix-----------------------\n",
      "\n",
      "[[6870   23]\n",
      " [ 255   12]]\n",
      "\n",
      "------------------------ROC/AUC SCORE-------------------------\n",
      "\n",
      "0.5208    \n"
     ]
    },
    {
     "name": "stderr",
     "output_type": "stream",
     "text": [
      "/anaconda3/lib/python3.7/site-packages/sklearn/linear_model/logistic.py:432: FutureWarning: Default solver will be changed to 'lbfgs' in 0.22. Specify a solver to silence this warning.\n",
      "  FutureWarning)\n"
     ]
    },
    {
     "name": "stdout",
     "output_type": "stream",
     "text": [
      "\n",
      "---------------------Classification Report--------------------\n",
      "\n",
      "              precision    recall  f1-score   support\n",
      "\n",
      "           0       0.96      1.00      0.98      6875\n",
      "           1       0.39      0.07      0.12       285\n",
      "\n",
      "    accuracy                           0.96      7160\n",
      "   macro avg       0.68      0.53      0.55      7160\n",
      "weighted avg       0.94      0.96      0.94      7160\n",
      "\n",
      "\n",
      "-----------------------Confusion Matrix-----------------------\n",
      "\n",
      "[[6844   31]\n",
      " [ 265   20]]\n",
      "\n",
      "------------------------ROC/AUC SCORE-------------------------\n",
      "\n",
      "0.5328    \n"
     ]
    },
    {
     "name": "stderr",
     "output_type": "stream",
     "text": [
      "/anaconda3/lib/python3.7/site-packages/sklearn/linear_model/logistic.py:432: FutureWarning: Default solver will be changed to 'lbfgs' in 0.22. Specify a solver to silence this warning.\n",
      "  FutureWarning)\n"
     ]
    },
    {
     "name": "stdout",
     "output_type": "stream",
     "text": [
      "\n",
      "---------------------Classification Report--------------------\n",
      "\n",
      "              precision    recall  f1-score   support\n",
      "\n",
      "           0       0.96      0.99      0.97      6845\n",
      "           1       0.31      0.09      0.14       315\n",
      "\n",
      "    accuracy                           0.95      7160\n",
      "   macro avg       0.63      0.54      0.56      7160\n",
      "weighted avg       0.93      0.95      0.94      7160\n",
      "\n",
      "\n",
      "-----------------------Confusion Matrix-----------------------\n",
      "\n",
      "[[6779   66]\n",
      " [ 286   29]]\n",
      "\n",
      "------------------------ROC/AUC SCORE-------------------------\n",
      "\n",
      "0.5412    \n"
     ]
    },
    {
     "name": "stderr",
     "output_type": "stream",
     "text": [
      "/anaconda3/lib/python3.7/site-packages/sklearn/linear_model/logistic.py:432: FutureWarning: Default solver will be changed to 'lbfgs' in 0.22. Specify a solver to silence this warning.\n",
      "  FutureWarning)\n"
     ]
    },
    {
     "name": "stdout",
     "output_type": "stream",
     "text": [
      "\n",
      "---------------------Classification Report--------------------\n",
      "\n",
      "              precision    recall  f1-score   support\n",
      "\n",
      "           0       0.96      1.00      0.98      6882\n",
      "           1       0.35      0.04      0.08       278\n",
      "\n",
      "    accuracy                           0.96      7160\n",
      "   macro avg       0.66      0.52      0.53      7160\n",
      "weighted avg       0.94      0.96      0.94      7160\n",
      "\n",
      "\n",
      "-----------------------Confusion Matrix-----------------------\n",
      "\n",
      "[[6860   22]\n",
      " [ 266   12]]\n",
      "\n",
      "------------------------ROC/AUC SCORE-------------------------\n",
      "\n",
      "0.5200    \n"
     ]
    },
    {
     "name": "stderr",
     "output_type": "stream",
     "text": [
      "/anaconda3/lib/python3.7/site-packages/sklearn/linear_model/logistic.py:432: FutureWarning: Default solver will be changed to 'lbfgs' in 0.22. Specify a solver to silence this warning.\n",
      "  FutureWarning)\n"
     ]
    },
    {
     "name": "stdout",
     "output_type": "stream",
     "text": [
      "\n",
      "---------------------Classification Report--------------------\n",
      "\n",
      "              precision    recall  f1-score   support\n",
      "\n",
      "           0       0.96      1.00      0.98      6887\n",
      "           1       0.24      0.02      0.04       273\n",
      "\n",
      "    accuracy                           0.96      7160\n",
      "   macro avg       0.60      0.51      0.51      7160\n",
      "weighted avg       0.94      0.96      0.94      7160\n",
      "\n",
      "\n",
      "-----------------------Confusion Matrix-----------------------\n",
      "\n",
      "[[6868   19]\n",
      " [ 267    6]]\n",
      "\n",
      "------------------------ROC/AUC SCORE-------------------------\n",
      "\n",
      "0.5096    \n"
     ]
    },
    {
     "name": "stderr",
     "output_type": "stream",
     "text": [
      "/anaconda3/lib/python3.7/site-packages/sklearn/linear_model/logistic.py:432: FutureWarning: Default solver will be changed to 'lbfgs' in 0.22. Specify a solver to silence this warning.\n",
      "  FutureWarning)\n"
     ]
    },
    {
     "name": "stdout",
     "output_type": "stream",
     "text": [
      "\n",
      "---------------------Classification Report--------------------\n",
      "\n",
      "              precision    recall  f1-score   support\n",
      "\n",
      "           0       0.96      1.00      0.98      6890\n",
      "           1       0.25      0.03      0.05       270\n",
      "\n",
      "    accuracy                           0.96      7160\n",
      "   macro avg       0.61      0.51      0.51      7160\n",
      "weighted avg       0.94      0.96      0.94      7160\n",
      "\n",
      "\n",
      "-----------------------Confusion Matrix-----------------------\n",
      "\n",
      "[[6869   21]\n",
      " [ 263    7]]\n",
      "\n",
      "------------------------ROC/AUC SCORE-------------------------\n",
      "\n",
      "0.5114    \n"
     ]
    },
    {
     "name": "stderr",
     "output_type": "stream",
     "text": [
      "/anaconda3/lib/python3.7/site-packages/sklearn/linear_model/logistic.py:432: FutureWarning: Default solver will be changed to 'lbfgs' in 0.22. Specify a solver to silence this warning.\n",
      "  FutureWarning)\n"
     ]
    },
    {
     "name": "stdout",
     "output_type": "stream",
     "text": [
      "\n",
      "---------------------Classification Report--------------------\n",
      "\n",
      "              precision    recall  f1-score   support\n",
      "\n",
      "           0       0.96      0.99      0.97      6823\n",
      "           1       0.37      0.09      0.14       337\n",
      "\n",
      "    accuracy                           0.95      7160\n",
      "   macro avg       0.66      0.54      0.56      7160\n",
      "weighted avg       0.93      0.95      0.94      7160\n",
      "\n",
      "\n",
      "-----------------------Confusion Matrix-----------------------\n",
      "\n",
      "[[6771   52]\n",
      " [ 307   30]]\n",
      "\n",
      "------------------------ROC/AUC SCORE-------------------------\n",
      "\n",
      "0.5407    \n"
     ]
    },
    {
     "name": "stderr",
     "output_type": "stream",
     "text": [
      "/anaconda3/lib/python3.7/site-packages/sklearn/linear_model/logistic.py:432: FutureWarning: Default solver will be changed to 'lbfgs' in 0.22. Specify a solver to silence this warning.\n",
      "  FutureWarning)\n"
     ]
    },
    {
     "name": "stdout",
     "output_type": "stream",
     "text": [
      "\n",
      "---------------------Classification Report--------------------\n",
      "\n",
      "              precision    recall  f1-score   support\n",
      "\n",
      "           0       0.97      0.99      0.98      6868\n",
      "           1       0.49      0.18      0.27       292\n",
      "\n",
      "    accuracy                           0.96      7160\n",
      "   macro avg       0.73      0.59      0.62      7160\n",
      "weighted avg       0.95      0.96      0.95      7160\n",
      "\n",
      "\n",
      "-----------------------Confusion Matrix-----------------------\n",
      "\n",
      "[[6813   55]\n",
      " [ 239   53]]\n",
      "\n",
      "------------------------ROC/AUC SCORE-------------------------\n",
      "\n",
      "0.5867    \n"
     ]
    },
    {
     "name": "stderr",
     "output_type": "stream",
     "text": [
      "/anaconda3/lib/python3.7/site-packages/sklearn/linear_model/logistic.py:432: FutureWarning: Default solver will be changed to 'lbfgs' in 0.22. Specify a solver to silence this warning.\n",
      "  FutureWarning)\n"
     ]
    },
    {
     "name": "stdout",
     "output_type": "stream",
     "text": [
      "\n",
      "---------------------Classification Report--------------------\n",
      "\n",
      "              precision    recall  f1-score   support\n",
      "\n",
      "           0       0.97      0.99      0.98      6885\n",
      "           1       0.54      0.30      0.38       275\n",
      "\n",
      "    accuracy                           0.96      7160\n",
      "   macro avg       0.76      0.64      0.68      7160\n",
      "weighted avg       0.96      0.96      0.96      7160\n",
      "\n",
      "\n",
      "-----------------------Confusion Matrix-----------------------\n",
      "\n",
      "[[6815   70]\n",
      " [ 193   82]]\n",
      "\n",
      "------------------------ROC/AUC SCORE-------------------------\n",
      "\n",
      "0.6440    \n"
     ]
    },
    {
     "name": "stderr",
     "output_type": "stream",
     "text": [
      "/anaconda3/lib/python3.7/site-packages/sklearn/linear_model/logistic.py:432: FutureWarning: Default solver will be changed to 'lbfgs' in 0.22. Specify a solver to silence this warning.\n",
      "  FutureWarning)\n"
     ]
    },
    {
     "name": "stdout",
     "output_type": "stream",
     "text": [
      "\n",
      "---------------------Classification Report--------------------\n",
      "\n",
      "              precision    recall  f1-score   support\n",
      "\n",
      "           0       0.96      1.00      0.98      6859\n",
      "           1       0.16      0.01      0.02       301\n",
      "\n",
      "    accuracy                           0.96      7160\n",
      "   macro avg       0.56      0.50      0.50      7160\n",
      "weighted avg       0.92      0.96      0.94      7160\n",
      "\n",
      "\n",
      "-----------------------Confusion Matrix-----------------------\n",
      "\n",
      "[[6843   16]\n",
      " [ 298    3]]\n",
      "\n",
      "------------------------ROC/AUC SCORE-------------------------\n",
      "\n",
      "0.5038    \n"
     ]
    },
    {
     "name": "stderr",
     "output_type": "stream",
     "text": [
      "/anaconda3/lib/python3.7/site-packages/sklearn/linear_model/logistic.py:432: FutureWarning: Default solver will be changed to 'lbfgs' in 0.22. Specify a solver to silence this warning.\n",
      "  FutureWarning)\n"
     ]
    },
    {
     "name": "stdout",
     "output_type": "stream",
     "text": [
      "\n",
      "---------------------Classification Report--------------------\n",
      "\n",
      "              precision    recall  f1-score   support\n",
      "\n",
      "           0       0.97      0.99      0.98      6888\n",
      "           1       0.48      0.17      0.25       272\n",
      "\n",
      "    accuracy                           0.96      7160\n",
      "   macro avg       0.72      0.58      0.62      7160\n",
      "weighted avg       0.95      0.96      0.95      7160\n",
      "\n",
      "\n",
      "-----------------------Confusion Matrix-----------------------\n",
      "\n",
      "[[6837   51]\n",
      " [ 225   47]]\n",
      "\n",
      "------------------------ROC/AUC SCORE-------------------------\n",
      "\n",
      "0.5827    \n"
     ]
    },
    {
     "name": "stderr",
     "output_type": "stream",
     "text": [
      "/anaconda3/lib/python3.7/site-packages/sklearn/linear_model/logistic.py:432: FutureWarning: Default solver will be changed to 'lbfgs' in 0.22. Specify a solver to silence this warning.\n",
      "  FutureWarning)\n"
     ]
    },
    {
     "name": "stdout",
     "output_type": "stream",
     "text": [
      "\n",
      "---------------------Classification Report--------------------\n",
      "\n",
      "              precision    recall  f1-score   support\n",
      "\n",
      "           0       0.96      1.00      0.98      6861\n",
      "           1       0.00      0.00      0.00       299\n",
      "\n",
      "    accuracy                           0.96      7160\n",
      "   macro avg       0.48      0.50      0.49      7160\n",
      "weighted avg       0.92      0.96      0.94      7160\n",
      "\n",
      "\n",
      "-----------------------Confusion Matrix-----------------------\n",
      "\n",
      "[[6856    5]\n",
      " [ 299    0]]\n",
      "\n",
      "------------------------ROC/AUC SCORE-------------------------\n",
      "\n",
      "0.4996    \n"
     ]
    },
    {
     "name": "stderr",
     "output_type": "stream",
     "text": [
      "/anaconda3/lib/python3.7/site-packages/sklearn/linear_model/logistic.py:432: FutureWarning: Default solver will be changed to 'lbfgs' in 0.22. Specify a solver to silence this warning.\n",
      "  FutureWarning)\n"
     ]
    },
    {
     "name": "stdout",
     "output_type": "stream",
     "text": [
      "\n",
      "---------------------Classification Report--------------------\n",
      "\n",
      "              precision    recall  f1-score   support\n",
      "\n",
      "           0       0.96      0.99      0.98      6871\n",
      "           1       0.16      0.02      0.04       289\n",
      "\n",
      "    accuracy                           0.96      7160\n",
      "   macro avg       0.56      0.51      0.51      7160\n",
      "weighted avg       0.93      0.96      0.94      7160\n",
      "\n",
      "\n",
      "-----------------------Confusion Matrix-----------------------\n",
      "\n",
      "[[6834   37]\n",
      " [ 282    7]]\n",
      "\n",
      "------------------------ROC/AUC SCORE-------------------------\n",
      "\n",
      "0.5094    \n"
     ]
    },
    {
     "name": "stderr",
     "output_type": "stream",
     "text": [
      "/anaconda3/lib/python3.7/site-packages/sklearn/linear_model/logistic.py:432: FutureWarning: Default solver will be changed to 'lbfgs' in 0.22. Specify a solver to silence this warning.\n",
      "  FutureWarning)\n"
     ]
    },
    {
     "name": "stdout",
     "output_type": "stream",
     "text": [
      "\n",
      "---------------------Classification Report--------------------\n",
      "\n",
      "              precision    recall  f1-score   support\n",
      "\n",
      "           0       0.97      1.00      0.98      6907\n",
      "           1       0.35      0.06      0.10       253\n",
      "\n",
      "    accuracy                           0.96      7160\n",
      "   macro avg       0.66      0.53      0.54      7160\n",
      "weighted avg       0.94      0.96      0.95      7160\n",
      "\n",
      "\n",
      "-----------------------Confusion Matrix-----------------------\n",
      "\n",
      "[[6881   26]\n",
      " [ 239   14]]\n",
      "\n",
      "------------------------ROC/AUC SCORE-------------------------\n",
      "\n",
      "0.5258    \n"
     ]
    },
    {
     "name": "stderr",
     "output_type": "stream",
     "text": [
      "/anaconda3/lib/python3.7/site-packages/sklearn/linear_model/logistic.py:432: FutureWarning: Default solver will be changed to 'lbfgs' in 0.22. Specify a solver to silence this warning.\n",
      "  FutureWarning)\n"
     ]
    },
    {
     "name": "stdout",
     "output_type": "stream",
     "text": [
      "\n",
      "---------------------Classification Report--------------------\n",
      "\n",
      "              precision    recall  f1-score   support\n",
      "\n",
      "           0       0.96      0.99      0.98      6875\n",
      "           1       0.30      0.05      0.09       285\n",
      "\n",
      "    accuracy                           0.96      7160\n",
      "   macro avg       0.63      0.52      0.53      7160\n",
      "weighted avg       0.94      0.96      0.94      7160\n",
      "\n",
      "\n",
      "-----------------------Confusion Matrix-----------------------\n",
      "\n",
      "[[6840   35]\n",
      " [ 270   15]]\n",
      "\n",
      "------------------------ROC/AUC SCORE-------------------------\n",
      "\n",
      "0.5238    \n"
     ]
    },
    {
     "name": "stderr",
     "output_type": "stream",
     "text": [
      "/anaconda3/lib/python3.7/site-packages/sklearn/linear_model/logistic.py:432: FutureWarning: Default solver will be changed to 'lbfgs' in 0.22. Specify a solver to silence this warning.\n",
      "  FutureWarning)\n"
     ]
    },
    {
     "name": "stdout",
     "output_type": "stream",
     "text": [
      "\n",
      "---------------------Classification Report--------------------\n",
      "\n",
      "              precision    recall  f1-score   support\n",
      "\n",
      "           0       0.97      0.99      0.98      6886\n",
      "           1       0.50      0.20      0.28       274\n",
      "\n",
      "    accuracy                           0.96      7160\n",
      "   macro avg       0.73      0.59      0.63      7160\n",
      "weighted avg       0.95      0.96      0.95      7160\n",
      "\n",
      "\n",
      "-----------------------Confusion Matrix-----------------------\n",
      "\n",
      "[[6831   55]\n",
      " [ 220   54]]\n",
      "\n",
      "------------------------ROC/AUC SCORE-------------------------\n",
      "\n",
      "0.5945    \n"
     ]
    },
    {
     "name": "stderr",
     "output_type": "stream",
     "text": [
      "/anaconda3/lib/python3.7/site-packages/sklearn/linear_model/logistic.py:432: FutureWarning: Default solver will be changed to 'lbfgs' in 0.22. Specify a solver to silence this warning.\n",
      "  FutureWarning)\n"
     ]
    },
    {
     "name": "stdout",
     "output_type": "stream",
     "text": [
      "\n",
      "---------------------Classification Report--------------------\n",
      "\n",
      "              precision    recall  f1-score   support\n",
      "\n",
      "           0       0.97      1.00      0.98      6905\n",
      "           1       0.36      0.05      0.10       255\n",
      "\n",
      "    accuracy                           0.96      7160\n",
      "   macro avg       0.66      0.53      0.54      7160\n",
      "weighted avg       0.94      0.96      0.95      7160\n",
      "\n",
      "\n",
      "-----------------------Confusion Matrix-----------------------\n",
      "\n",
      "[[6880   25]\n",
      " [ 241   14]]\n",
      "\n",
      "------------------------ROC/AUC SCORE-------------------------\n",
      "\n",
      "0.5256    \n"
     ]
    },
    {
     "name": "stderr",
     "output_type": "stream",
     "text": [
      "/anaconda3/lib/python3.7/site-packages/sklearn/linear_model/logistic.py:432: FutureWarning: Default solver will be changed to 'lbfgs' in 0.22. Specify a solver to silence this warning.\n",
      "  FutureWarning)\n"
     ]
    },
    {
     "name": "stdout",
     "output_type": "stream",
     "text": [
      "\n",
      "---------------------Classification Report--------------------\n",
      "\n",
      "              precision    recall  f1-score   support\n",
      "\n",
      "           0       0.97      0.99      0.98      6895\n",
      "           1       0.33      0.07      0.11       265\n",
      "\n",
      "    accuracy                           0.96      7160\n",
      "   macro avg       0.65      0.53      0.55      7160\n",
      "weighted avg       0.94      0.96      0.95      7160\n",
      "\n",
      "\n",
      "-----------------------Confusion Matrix-----------------------\n",
      "\n",
      "[[6858   37]\n",
      " [ 247   18]]\n",
      "\n",
      "------------------------ROC/AUC SCORE-------------------------\n",
      "\n",
      "0.5313    \n"
     ]
    },
    {
     "name": "stderr",
     "output_type": "stream",
     "text": [
      "/anaconda3/lib/python3.7/site-packages/sklearn/linear_model/logistic.py:432: FutureWarning: Default solver will be changed to 'lbfgs' in 0.22. Specify a solver to silence this warning.\n",
      "  FutureWarning)\n"
     ]
    },
    {
     "name": "stdout",
     "output_type": "stream",
     "text": [
      "\n",
      "---------------------Classification Report--------------------\n",
      "\n",
      "              precision    recall  f1-score   support\n",
      "\n",
      "           0       0.96      0.99      0.98      6881\n",
      "           1       0.34      0.08      0.12       279\n",
      "\n",
      "    accuracy                           0.96      7160\n",
      "   macro avg       0.65      0.53      0.55      7160\n",
      "weighted avg       0.94      0.96      0.95      7160\n",
      "\n",
      "\n",
      "-----------------------Confusion Matrix-----------------------\n",
      "\n",
      "[[6841   40]\n",
      " [ 258   21]]\n",
      "\n",
      "------------------------ROC/AUC SCORE-------------------------\n",
      "\n",
      "0.5347    \n"
     ]
    },
    {
     "name": "stderr",
     "output_type": "stream",
     "text": [
      "/anaconda3/lib/python3.7/site-packages/sklearn/linear_model/logistic.py:432: FutureWarning: Default solver will be changed to 'lbfgs' in 0.22. Specify a solver to silence this warning.\n",
      "  FutureWarning)\n"
     ]
    },
    {
     "name": "stdout",
     "output_type": "stream",
     "text": [
      "\n",
      "---------------------Classification Report--------------------\n",
      "\n",
      "              precision    recall  f1-score   support\n",
      "\n",
      "           0       0.96      1.00      0.98      6880\n",
      "           1       0.09      0.01      0.01       280\n",
      "\n",
      "    accuracy                           0.96      7160\n",
      "   macro avg       0.52      0.50      0.50      7160\n",
      "weighted avg       0.93      0.96      0.94      7160\n",
      "\n",
      "\n",
      "-----------------------Confusion Matrix-----------------------\n",
      "\n",
      "[[6859   21]\n",
      " [ 278    2]]\n",
      "\n",
      "------------------------ROC/AUC SCORE-------------------------\n",
      "\n",
      "0.5020    \n"
     ]
    },
    {
     "name": "stderr",
     "output_type": "stream",
     "text": [
      "/anaconda3/lib/python3.7/site-packages/sklearn/linear_model/logistic.py:432: FutureWarning: Default solver will be changed to 'lbfgs' in 0.22. Specify a solver to silence this warning.\n",
      "  FutureWarning)\n"
     ]
    },
    {
     "name": "stdout",
     "output_type": "stream",
     "text": [
      "\n",
      "---------------------Classification Report--------------------\n",
      "\n",
      "              precision    recall  f1-score   support\n",
      "\n",
      "           0       0.96      1.00      0.98      6859\n",
      "           1       0.00      0.00      0.00       301\n",
      "\n",
      "    accuracy                           0.96      7160\n",
      "   macro avg       0.48      0.50      0.49      7160\n",
      "weighted avg       0.92      0.96      0.94      7160\n",
      "\n",
      "\n",
      "-----------------------Confusion Matrix-----------------------\n",
      "\n",
      "[[6852    7]\n",
      " [ 301    0]]\n",
      "\n",
      "------------------------ROC/AUC SCORE-------------------------\n",
      "\n",
      "0.4995    \n"
     ]
    },
    {
     "name": "stderr",
     "output_type": "stream",
     "text": [
      "/anaconda3/lib/python3.7/site-packages/sklearn/linear_model/logistic.py:432: FutureWarning: Default solver will be changed to 'lbfgs' in 0.22. Specify a solver to silence this warning.\n",
      "  FutureWarning)\n"
     ]
    },
    {
     "name": "stdout",
     "output_type": "stream",
     "text": [
      "\n",
      "---------------------Classification Report--------------------\n",
      "\n",
      "              precision    recall  f1-score   support\n",
      "\n",
      "           0       0.96      1.00      0.98      6887\n",
      "           1       0.27      0.02      0.04       273\n",
      "\n",
      "    accuracy                           0.96      7160\n",
      "   macro avg       0.62      0.51      0.51      7160\n",
      "weighted avg       0.94      0.96      0.94      7160\n",
      "\n",
      "\n",
      "-----------------------Confusion Matrix-----------------------\n",
      "\n",
      "[[6871   16]\n",
      " [ 267    6]]\n",
      "\n",
      "------------------------ROC/AUC SCORE-------------------------\n",
      "\n",
      "0.5098    \n"
     ]
    },
    {
     "name": "stderr",
     "output_type": "stream",
     "text": [
      "/anaconda3/lib/python3.7/site-packages/sklearn/linear_model/logistic.py:432: FutureWarning: Default solver will be changed to 'lbfgs' in 0.22. Specify a solver to silence this warning.\n",
      "  FutureWarning)\n"
     ]
    },
    {
     "name": "stdout",
     "output_type": "stream",
     "text": [
      "\n",
      "---------------------Classification Report--------------------\n",
      "\n",
      "              precision    recall  f1-score   support\n",
      "\n",
      "           0       0.99      0.99      0.99      6880\n",
      "           1       0.80      0.66      0.73       280\n",
      "\n",
      "    accuracy                           0.98      7160\n",
      "   macro avg       0.89      0.83      0.86      7160\n",
      "weighted avg       0.98      0.98      0.98      7160\n",
      "\n",
      "\n",
      "-----------------------Confusion Matrix-----------------------\n",
      "\n",
      "[[6834   46]\n",
      " [  94  186]]\n",
      "\n",
      "------------------------ROC/AUC SCORE-------------------------\n",
      "\n",
      "0.8288    \n"
     ]
    },
    {
     "name": "stderr",
     "output_type": "stream",
     "text": [
      "/anaconda3/lib/python3.7/site-packages/sklearn/linear_model/logistic.py:432: FutureWarning: Default solver will be changed to 'lbfgs' in 0.22. Specify a solver to silence this warning.\n",
      "  FutureWarning)\n"
     ]
    },
    {
     "name": "stdout",
     "output_type": "stream",
     "text": [
      "\n",
      "---------------------Classification Report--------------------\n",
      "\n",
      "              precision    recall  f1-score   support\n",
      "\n",
      "           0       0.96      0.99      0.98      6881\n",
      "           1       0.26      0.05      0.08       279\n",
      "\n",
      "    accuracy                           0.96      7160\n",
      "   macro avg       0.61      0.52      0.53      7160\n",
      "weighted avg       0.94      0.96      0.94      7160\n",
      "\n",
      "\n",
      "-----------------------Confusion Matrix-----------------------\n",
      "\n",
      "[[6841   40]\n",
      " [ 265   14]]\n",
      "\n",
      "------------------------ROC/AUC SCORE-------------------------\n",
      "\n",
      "0.5222    \n"
     ]
    },
    {
     "name": "stderr",
     "output_type": "stream",
     "text": [
      "/anaconda3/lib/python3.7/site-packages/sklearn/linear_model/logistic.py:432: FutureWarning: Default solver will be changed to 'lbfgs' in 0.22. Specify a solver to silence this warning.\n",
      "  FutureWarning)\n"
     ]
    },
    {
     "name": "stdout",
     "output_type": "stream",
     "text": [
      "\n",
      "---------------------Classification Report--------------------\n",
      "\n",
      "              precision    recall  f1-score   support\n",
      "\n",
      "           0       0.97      0.99      0.98      6896\n",
      "           1       0.30      0.07      0.12       264\n",
      "\n",
      "    accuracy                           0.96      7160\n",
      "   macro avg       0.63      0.53      0.55      7160\n",
      "weighted avg       0.94      0.96      0.95      7160\n",
      "\n",
      "\n",
      "-----------------------Confusion Matrix-----------------------\n",
      "\n",
      "[[6851   45]\n",
      " [ 245   19]]\n",
      "\n",
      "------------------------ROC/AUC SCORE-------------------------\n",
      "\n",
      "0.5327    \n"
     ]
    },
    {
     "name": "stderr",
     "output_type": "stream",
     "text": [
      "/anaconda3/lib/python3.7/site-packages/sklearn/linear_model/logistic.py:432: FutureWarning: Default solver will be changed to 'lbfgs' in 0.22. Specify a solver to silence this warning.\n",
      "  FutureWarning)\n"
     ]
    },
    {
     "name": "stdout",
     "output_type": "stream",
     "text": [
      "\n",
      "---------------------Classification Report--------------------\n",
      "\n",
      "              precision    recall  f1-score   support\n",
      "\n",
      "           0       0.96      0.99      0.98      6893\n",
      "           1       0.23      0.05      0.09       267\n",
      "\n",
      "    accuracy                           0.96      7160\n",
      "   macro avg       0.60      0.52      0.53      7160\n",
      "weighted avg       0.94      0.96      0.95      7160\n",
      "\n",
      "\n",
      "-----------------------Confusion Matrix-----------------------\n",
      "\n",
      "[[6846   47]\n",
      " [ 253   14]]\n",
      "\n",
      "------------------------ROC/AUC SCORE-------------------------\n",
      "\n",
      "0.5228    \n"
     ]
    },
    {
     "name": "stderr",
     "output_type": "stream",
     "text": [
      "/anaconda3/lib/python3.7/site-packages/sklearn/linear_model/logistic.py:432: FutureWarning: Default solver will be changed to 'lbfgs' in 0.22. Specify a solver to silence this warning.\n",
      "  FutureWarning)\n"
     ]
    },
    {
     "name": "stdout",
     "output_type": "stream",
     "text": [
      "\n",
      "---------------------Classification Report--------------------\n",
      "\n",
      "              precision    recall  f1-score   support\n",
      "\n",
      "           0       0.96      1.00      0.98      6878\n",
      "           1       0.36      0.02      0.03       282\n",
      "\n",
      "    accuracy                           0.96      7160\n",
      "   macro avg       0.66      0.51      0.51      7160\n",
      "weighted avg       0.94      0.96      0.94      7160\n",
      "\n",
      "\n",
      "-----------------------Confusion Matrix-----------------------\n",
      "\n",
      "[[6869    9]\n",
      " [ 277    5]]\n",
      "\n",
      "------------------------ROC/AUC SCORE-------------------------\n",
      "\n",
      "0.5082    \n"
     ]
    },
    {
     "name": "stderr",
     "output_type": "stream",
     "text": [
      "/anaconda3/lib/python3.7/site-packages/sklearn/linear_model/logistic.py:432: FutureWarning: Default solver will be changed to 'lbfgs' in 0.22. Specify a solver to silence this warning.\n",
      "  FutureWarning)\n"
     ]
    },
    {
     "name": "stdout",
     "output_type": "stream",
     "text": [
      "\n",
      "---------------------Classification Report--------------------\n",
      "\n",
      "              precision    recall  f1-score   support\n",
      "\n",
      "           0       0.97      1.00      0.98      6906\n",
      "           1       0.41      0.07      0.13       254\n",
      "\n",
      "    accuracy                           0.96      7160\n",
      "   macro avg       0.69      0.54      0.55      7160\n",
      "weighted avg       0.95      0.96      0.95      7160\n",
      "\n",
      "\n",
      "-----------------------Confusion Matrix-----------------------\n",
      "\n",
      "[[6879   27]\n",
      " [ 235   19]]\n",
      "\n",
      "------------------------ROC/AUC SCORE-------------------------\n",
      "\n",
      "0.5354    \n"
     ]
    },
    {
     "name": "stderr",
     "output_type": "stream",
     "text": [
      "/anaconda3/lib/python3.7/site-packages/sklearn/linear_model/logistic.py:432: FutureWarning: Default solver will be changed to 'lbfgs' in 0.22. Specify a solver to silence this warning.\n",
      "  FutureWarning)\n"
     ]
    },
    {
     "name": "stdout",
     "output_type": "stream",
     "text": [
      "\n",
      "---------------------Classification Report--------------------\n",
      "\n",
      "              precision    recall  f1-score   support\n",
      "\n",
      "           0       0.96      1.00      0.98      6880\n",
      "           1       0.18      0.02      0.04       280\n",
      "\n",
      "    accuracy                           0.96      7160\n",
      "   macro avg       0.57      0.51      0.51      7160\n",
      "weighted avg       0.93      0.96      0.94      7160\n",
      "\n",
      "\n",
      "-----------------------Confusion Matrix-----------------------\n",
      "\n",
      "[[6852   28]\n",
      " [ 274    6]]\n",
      "\n",
      "------------------------ROC/AUC SCORE-------------------------\n",
      "\n",
      "0.5087    \n"
     ]
    },
    {
     "name": "stderr",
     "output_type": "stream",
     "text": [
      "/anaconda3/lib/python3.7/site-packages/sklearn/linear_model/logistic.py:432: FutureWarning: Default solver will be changed to 'lbfgs' in 0.22. Specify a solver to silence this warning.\n",
      "  FutureWarning)\n"
     ]
    },
    {
     "name": "stdout",
     "output_type": "stream",
     "text": [
      "\n",
      "---------------------Classification Report--------------------\n",
      "\n",
      "              precision    recall  f1-score   support\n",
      "\n",
      "           0       0.97      0.99      0.98      6883\n",
      "           1       0.47      0.13      0.20       277\n",
      "\n",
      "    accuracy                           0.96      7160\n",
      "   macro avg       0.72      0.56      0.59      7160\n",
      "weighted avg       0.95      0.96      0.95      7160\n",
      "\n",
      "\n",
      "-----------------------Confusion Matrix-----------------------\n",
      "\n",
      "[[6844   39]\n",
      " [ 242   35]]\n",
      "\n",
      "------------------------ROC/AUC SCORE-------------------------\n",
      "\n",
      "0.5603    \n"
     ]
    },
    {
     "name": "stderr",
     "output_type": "stream",
     "text": [
      "/anaconda3/lib/python3.7/site-packages/sklearn/linear_model/logistic.py:432: FutureWarning: Default solver will be changed to 'lbfgs' in 0.22. Specify a solver to silence this warning.\n",
      "  FutureWarning)\n"
     ]
    },
    {
     "name": "stdout",
     "output_type": "stream",
     "text": [
      "\n",
      "---------------------Classification Report--------------------\n",
      "\n",
      "              precision    recall  f1-score   support\n",
      "\n",
      "           0       0.96      0.99      0.98      6873\n",
      "           1       0.28      0.06      0.10       287\n",
      "\n",
      "    accuracy                           0.96      7160\n",
      "   macro avg       0.62      0.53      0.54      7160\n",
      "weighted avg       0.93      0.96      0.94      7160\n",
      "\n",
      "\n",
      "-----------------------Confusion Matrix-----------------------\n",
      "\n",
      "[[6829   44]\n",
      " [ 270   17]]\n",
      "\n",
      "------------------------ROC/AUC SCORE-------------------------\n",
      "\n",
      "0.5264    \n"
     ]
    },
    {
     "name": "stderr",
     "output_type": "stream",
     "text": [
      "/anaconda3/lib/python3.7/site-packages/sklearn/linear_model/logistic.py:432: FutureWarning: Default solver will be changed to 'lbfgs' in 0.22. Specify a solver to silence this warning.\n",
      "  FutureWarning)\n"
     ]
    },
    {
     "name": "stdout",
     "output_type": "stream",
     "text": [
      "\n",
      "---------------------Classification Report--------------------\n",
      "\n",
      "              precision    recall  f1-score   support\n",
      "\n",
      "           0       0.97      0.99      0.98      6890\n",
      "           1       0.29      0.09      0.13       270\n",
      "\n",
      "    accuracy                           0.96      7160\n",
      "   macro avg       0.63      0.54      0.56      7160\n",
      "weighted avg       0.94      0.96      0.95      7160\n",
      "\n",
      "\n",
      "-----------------------Confusion Matrix-----------------------\n",
      "\n",
      "[[6834   56]\n",
      " [ 247   23]]\n",
      "\n",
      "------------------------ROC/AUC SCORE-------------------------\n",
      "\n",
      "0.5385    \n"
     ]
    },
    {
     "name": "stderr",
     "output_type": "stream",
     "text": [
      "/anaconda3/lib/python3.7/site-packages/sklearn/linear_model/logistic.py:432: FutureWarning: Default solver will be changed to 'lbfgs' in 0.22. Specify a solver to silence this warning.\n",
      "  FutureWarning)\n"
     ]
    },
    {
     "name": "stdout",
     "output_type": "stream",
     "text": [
      "\n",
      "---------------------Classification Report--------------------\n",
      "\n",
      "              precision    recall  f1-score   support\n",
      "\n",
      "           0       0.98      0.99      0.98      6897\n",
      "           1       0.54      0.38      0.44       263\n",
      "\n",
      "    accuracy                           0.97      7160\n",
      "   macro avg       0.76      0.68      0.71      7160\n",
      "weighted avg       0.96      0.97      0.96      7160\n",
      "\n",
      "\n",
      "-----------------------Confusion Matrix-----------------------\n",
      "\n",
      "[[6814   83]\n",
      " [ 164   99]]\n",
      "\n",
      "------------------------ROC/AUC SCORE-------------------------\n",
      "\n",
      "0.6822    \n"
     ]
    },
    {
     "name": "stderr",
     "output_type": "stream",
     "text": [
      "/anaconda3/lib/python3.7/site-packages/sklearn/linear_model/logistic.py:432: FutureWarning: Default solver will be changed to 'lbfgs' in 0.22. Specify a solver to silence this warning.\n",
      "  FutureWarning)\n"
     ]
    },
    {
     "name": "stdout",
     "output_type": "stream",
     "text": [
      "\n",
      "---------------------Classification Report--------------------\n",
      "\n",
      "              precision    recall  f1-score   support\n",
      "\n",
      "           0       0.97      0.99      0.98      6904\n",
      "           1       0.54      0.25      0.34       256\n",
      "\n",
      "    accuracy                           0.97      7160\n",
      "   macro avg       0.76      0.62      0.66      7160\n",
      "weighted avg       0.96      0.97      0.96      7160\n",
      "\n",
      "\n",
      "-----------------------Confusion Matrix-----------------------\n",
      "\n",
      "[[6850   54]\n",
      " [ 193   63]]\n",
      "\n",
      "------------------------ROC/AUC SCORE-------------------------\n",
      "\n",
      "0.6191    \n"
     ]
    },
    {
     "name": "stderr",
     "output_type": "stream",
     "text": [
      "/anaconda3/lib/python3.7/site-packages/sklearn/linear_model/logistic.py:432: FutureWarning: Default solver will be changed to 'lbfgs' in 0.22. Specify a solver to silence this warning.\n",
      "  FutureWarning)\n"
     ]
    },
    {
     "name": "stdout",
     "output_type": "stream",
     "text": [
      "\n",
      "---------------------Classification Report--------------------\n",
      "\n",
      "              precision    recall  f1-score   support\n",
      "\n",
      "           0       0.96      1.00      0.98      6842\n",
      "           1       0.22      0.01      0.02       318\n",
      "\n",
      "    accuracy                           0.95      7160\n",
      "   macro avg       0.59      0.51      0.50      7160\n",
      "weighted avg       0.92      0.95      0.93      7160\n",
      "\n",
      "\n",
      "-----------------------Confusion Matrix-----------------------\n",
      "\n",
      "[[6828   14]\n",
      " [ 314    4]]\n",
      "\n",
      "------------------------ROC/AUC SCORE-------------------------\n",
      "\n",
      "0.5053    \n"
     ]
    },
    {
     "name": "stderr",
     "output_type": "stream",
     "text": [
      "/anaconda3/lib/python3.7/site-packages/sklearn/linear_model/logistic.py:432: FutureWarning: Default solver will be changed to 'lbfgs' in 0.22. Specify a solver to silence this warning.\n",
      "  FutureWarning)\n"
     ]
    },
    {
     "name": "stdout",
     "output_type": "stream",
     "text": [
      "\n",
      "---------------------Classification Report--------------------\n",
      "\n",
      "              precision    recall  f1-score   support\n",
      "\n",
      "           0       0.96      1.00      0.98      6901\n",
      "           1       0.15      0.02      0.03       259\n",
      "\n",
      "    accuracy                           0.96      7160\n",
      "   macro avg       0.56      0.51      0.51      7160\n",
      "weighted avg       0.93      0.96      0.95      7160\n",
      "\n",
      "\n",
      "-----------------------Confusion Matrix-----------------------\n",
      "\n",
      "[[6873   28]\n",
      " [ 254    5]]\n",
      "\n",
      "------------------------ROC/AUC SCORE-------------------------\n",
      "\n",
      "0.5076    \n"
     ]
    },
    {
     "name": "stderr",
     "output_type": "stream",
     "text": [
      "/anaconda3/lib/python3.7/site-packages/sklearn/linear_model/logistic.py:432: FutureWarning: Default solver will be changed to 'lbfgs' in 0.22. Specify a solver to silence this warning.\n",
      "  FutureWarning)\n"
     ]
    },
    {
     "name": "stdout",
     "output_type": "stream",
     "text": [
      "\n",
      "---------------------Classification Report--------------------\n",
      "\n",
      "              precision    recall  f1-score   support\n",
      "\n",
      "           0       0.97      1.00      0.98      6898\n",
      "           1       0.48      0.06      0.11       262\n",
      "\n",
      "    accuracy                           0.96      7160\n",
      "   macro avg       0.73      0.53      0.54      7160\n",
      "weighted avg       0.95      0.96      0.95      7160\n",
      "\n",
      "\n",
      "-----------------------Confusion Matrix-----------------------\n",
      "\n",
      "[[6881   17]\n",
      " [ 246   16]]\n",
      "\n",
      "------------------------ROC/AUC SCORE-------------------------\n",
      "\n",
      "0.5293    \n"
     ]
    },
    {
     "name": "stderr",
     "output_type": "stream",
     "text": [
      "/anaconda3/lib/python3.7/site-packages/sklearn/linear_model/logistic.py:432: FutureWarning: Default solver will be changed to 'lbfgs' in 0.22. Specify a solver to silence this warning.\n",
      "  FutureWarning)\n"
     ]
    },
    {
     "name": "stdout",
     "output_type": "stream",
     "text": [
      "\n",
      "---------------------Classification Report--------------------\n",
      "\n",
      "              precision    recall  f1-score   support\n",
      "\n",
      "           0       0.96      0.99      0.98      6886\n",
      "           1       0.29      0.07      0.11       274\n",
      "\n",
      "    accuracy                           0.96      7160\n",
      "   macro avg       0.62      0.53      0.54      7160\n",
      "weighted avg       0.94      0.96      0.95      7160\n",
      "\n",
      "\n",
      "-----------------------Confusion Matrix-----------------------\n",
      "\n",
      "[[6841   45]\n",
      " [ 256   18]]\n",
      "\n",
      "------------------------ROC/AUC SCORE-------------------------\n",
      "\n",
      "0.5296    \n"
     ]
    },
    {
     "name": "stderr",
     "output_type": "stream",
     "text": [
      "/anaconda3/lib/python3.7/site-packages/sklearn/linear_model/logistic.py:432: FutureWarning: Default solver will be changed to 'lbfgs' in 0.22. Specify a solver to silence this warning.\n",
      "  FutureWarning)\n"
     ]
    },
    {
     "name": "stdout",
     "output_type": "stream",
     "text": [
      "\n",
      "---------------------Classification Report--------------------\n",
      "\n",
      "              precision    recall  f1-score   support\n",
      "\n",
      "           0       0.97      0.99      0.98      6893\n",
      "           1       0.30      0.09      0.13       267\n",
      "\n",
      "    accuracy                           0.96      7160\n",
      "   macro avg       0.63      0.54      0.56      7160\n",
      "weighted avg       0.94      0.96      0.95      7160\n",
      "\n",
      "\n",
      "-----------------------Confusion Matrix-----------------------\n",
      "\n",
      "[[6839   54]\n",
      " [ 244   23]]\n",
      "\n",
      "------------------------ROC/AUC SCORE-------------------------\n",
      "\n",
      "0.5392    \n"
     ]
    },
    {
     "name": "stderr",
     "output_type": "stream",
     "text": [
      "/anaconda3/lib/python3.7/site-packages/sklearn/linear_model/logistic.py:432: FutureWarning: Default solver will be changed to 'lbfgs' in 0.22. Specify a solver to silence this warning.\n",
      "  FutureWarning)\n"
     ]
    },
    {
     "name": "stdout",
     "output_type": "stream",
     "text": [
      "\n",
      "---------------------Classification Report--------------------\n",
      "\n",
      "              precision    recall  f1-score   support\n",
      "\n",
      "           0       0.97      0.99      0.98      6914\n",
      "           1       0.52      0.18      0.27       246\n",
      "\n",
      "    accuracy                           0.97      7160\n",
      "   macro avg       0.74      0.59      0.62      7160\n",
      "weighted avg       0.96      0.97      0.96      7160\n",
      "\n",
      "\n",
      "-----------------------Confusion Matrix-----------------------\n",
      "\n",
      "[[6873   41]\n",
      " [ 202   44]]\n",
      "\n",
      "------------------------ROC/AUC SCORE-------------------------\n",
      "\n",
      "0.5865    \n"
     ]
    },
    {
     "name": "stderr",
     "output_type": "stream",
     "text": [
      "/anaconda3/lib/python3.7/site-packages/sklearn/linear_model/logistic.py:432: FutureWarning: Default solver will be changed to 'lbfgs' in 0.22. Specify a solver to silence this warning.\n",
      "  FutureWarning)\n"
     ]
    },
    {
     "name": "stdout",
     "output_type": "stream",
     "text": [
      "\n",
      "---------------------Classification Report--------------------\n",
      "\n",
      "              precision    recall  f1-score   support\n",
      "\n",
      "           0       0.97      0.99      0.98      6925\n",
      "           1       0.35      0.12      0.18       235\n",
      "\n",
      "    accuracy                           0.96      7160\n",
      "   macro avg       0.66      0.56      0.58      7160\n",
      "weighted avg       0.95      0.96      0.96      7160\n",
      "\n",
      "\n",
      "-----------------------Confusion Matrix-----------------------\n",
      "\n",
      "[[6873   52]\n",
      " [ 207   28]]\n",
      "\n",
      "------------------------ROC/AUC SCORE-------------------------\n",
      "\n",
      "0.5558    \n"
     ]
    },
    {
     "name": "stderr",
     "output_type": "stream",
     "text": [
      "/anaconda3/lib/python3.7/site-packages/sklearn/linear_model/logistic.py:432: FutureWarning: Default solver will be changed to 'lbfgs' in 0.22. Specify a solver to silence this warning.\n",
      "  FutureWarning)\n"
     ]
    },
    {
     "name": "stdout",
     "output_type": "stream",
     "text": [
      "\n",
      "---------------------Classification Report--------------------\n",
      "\n",
      "              precision    recall  f1-score   support\n",
      "\n",
      "           0       0.96      0.99      0.98      6896\n",
      "           1       0.21      0.06      0.09       264\n",
      "\n",
      "    accuracy                           0.96      7160\n",
      "   macro avg       0.59      0.52      0.53      7160\n",
      "weighted avg       0.94      0.96      0.95      7160\n",
      "\n",
      "\n",
      "-----------------------Confusion Matrix-----------------------\n",
      "\n",
      "[[6838   58]\n",
      " [ 249   15]]\n",
      "\n",
      "------------------------ROC/AUC SCORE-------------------------\n",
      "\n",
      "0.5242    \n"
     ]
    },
    {
     "name": "stderr",
     "output_type": "stream",
     "text": [
      "/anaconda3/lib/python3.7/site-packages/sklearn/linear_model/logistic.py:432: FutureWarning: Default solver will be changed to 'lbfgs' in 0.22. Specify a solver to silence this warning.\n",
      "  FutureWarning)\n"
     ]
    },
    {
     "name": "stdout",
     "output_type": "stream",
     "text": [
      "\n",
      "---------------------Classification Report--------------------\n",
      "\n",
      "              precision    recall  f1-score   support\n",
      "\n",
      "           0       0.97      0.99      0.98      6898\n",
      "           1       0.29      0.10      0.15       262\n",
      "\n",
      "    accuracy                           0.96      7160\n",
      "   macro avg       0.63      0.55      0.57      7160\n",
      "weighted avg       0.94      0.96      0.95      7160\n",
      "\n",
      "\n",
      "-----------------------Confusion Matrix-----------------------\n",
      "\n",
      "[[6832   66]\n",
      " [ 235   27]]\n",
      "\n",
      "------------------------ROC/AUC SCORE-------------------------\n",
      "\n",
      "0.5467    \n"
     ]
    },
    {
     "name": "stderr",
     "output_type": "stream",
     "text": [
      "/anaconda3/lib/python3.7/site-packages/sklearn/linear_model/logistic.py:432: FutureWarning: Default solver will be changed to 'lbfgs' in 0.22. Specify a solver to silence this warning.\n",
      "  FutureWarning)\n"
     ]
    },
    {
     "name": "stdout",
     "output_type": "stream",
     "text": [
      "\n",
      "---------------------Classification Report--------------------\n",
      "\n",
      "              precision    recall  f1-score   support\n",
      "\n",
      "           0       0.97      1.00      0.98      6919\n",
      "           1       0.56      0.13      0.21       241\n",
      "\n",
      "    accuracy                           0.97      7160\n",
      "   macro avg       0.77      0.56      0.60      7160\n",
      "weighted avg       0.96      0.97      0.96      7160\n",
      "\n",
      "\n",
      "-----------------------Confusion Matrix-----------------------\n",
      "\n",
      "[[6894   25]\n",
      " [ 209   32]]\n",
      "\n",
      "------------------------ROC/AUC SCORE-------------------------\n",
      "\n",
      "0.5646    \n"
     ]
    },
    {
     "name": "stderr",
     "output_type": "stream",
     "text": [
      "/anaconda3/lib/python3.7/site-packages/sklearn/linear_model/logistic.py:432: FutureWarning: Default solver will be changed to 'lbfgs' in 0.22. Specify a solver to silence this warning.\n",
      "  FutureWarning)\n"
     ]
    },
    {
     "name": "stdout",
     "output_type": "stream",
     "text": [
      "\n",
      "---------------------Classification Report--------------------\n",
      "\n",
      "              precision    recall  f1-score   support\n",
      "\n",
      "           0       0.97      1.00      0.98      6910\n",
      "           1       0.00      0.00      0.00       250\n",
      "\n",
      "    accuracy                           0.96      7160\n",
      "   macro avg       0.48      0.50      0.49      7160\n",
      "weighted avg       0.93      0.96      0.95      7160\n",
      "\n",
      "\n",
      "-----------------------Confusion Matrix-----------------------\n",
      "\n",
      "[[6904    6]\n",
      " [ 250    0]]\n",
      "\n",
      "------------------------ROC/AUC SCORE-------------------------\n",
      "\n",
      "0.4996    \n"
     ]
    },
    {
     "name": "stderr",
     "output_type": "stream",
     "text": [
      "/anaconda3/lib/python3.7/site-packages/sklearn/linear_model/logistic.py:432: FutureWarning: Default solver will be changed to 'lbfgs' in 0.22. Specify a solver to silence this warning.\n",
      "  FutureWarning)\n"
     ]
    },
    {
     "name": "stdout",
     "output_type": "stream",
     "text": [
      "\n",
      "---------------------Classification Report--------------------\n",
      "\n",
      "              precision    recall  f1-score   support\n",
      "\n",
      "           0       0.97      1.00      0.98      6921\n",
      "           1       0.45      0.08      0.14       239\n",
      "\n",
      "    accuracy                           0.97      7160\n",
      "   macro avg       0.71      0.54      0.56      7160\n",
      "weighted avg       0.95      0.97      0.95      7160\n",
      "\n",
      "\n",
      "-----------------------Confusion Matrix-----------------------\n",
      "\n",
      "[[6898   23]\n",
      " [ 220   19]]\n",
      "\n",
      "------------------------ROC/AUC SCORE-------------------------\n",
      "\n",
      "0.5381    \n"
     ]
    },
    {
     "name": "stderr",
     "output_type": "stream",
     "text": [
      "/anaconda3/lib/python3.7/site-packages/sklearn/linear_model/logistic.py:432: FutureWarning: Default solver will be changed to 'lbfgs' in 0.22. Specify a solver to silence this warning.\n",
      "  FutureWarning)\n"
     ]
    },
    {
     "name": "stdout",
     "output_type": "stream",
     "text": [
      "\n",
      "---------------------Classification Report--------------------\n",
      "\n",
      "              precision    recall  f1-score   support\n",
      "\n",
      "           0       0.97      1.00      0.98      6903\n",
      "           1       0.29      0.03      0.06       257\n",
      "\n",
      "    accuracy                           0.96      7160\n",
      "   macro avg       0.63      0.51      0.52      7160\n",
      "weighted avg       0.94      0.96      0.95      7160\n",
      "\n",
      "\n",
      "-----------------------Confusion Matrix-----------------------\n",
      "\n",
      "[[6883   20]\n",
      " [ 249    8]]\n",
      "\n",
      "------------------------ROC/AUC SCORE-------------------------\n",
      "\n",
      "0.5141    \n"
     ]
    },
    {
     "name": "stderr",
     "output_type": "stream",
     "text": [
      "/anaconda3/lib/python3.7/site-packages/sklearn/linear_model/logistic.py:432: FutureWarning: Default solver will be changed to 'lbfgs' in 0.22. Specify a solver to silence this warning.\n",
      "  FutureWarning)\n"
     ]
    },
    {
     "name": "stdout",
     "output_type": "stream",
     "text": [
      "\n",
      "---------------------Classification Report--------------------\n",
      "\n",
      "              precision    recall  f1-score   support\n",
      "\n",
      "           0       0.96      1.00      0.98      6885\n",
      "           1       0.12      0.01      0.03       275\n",
      "\n",
      "    accuracy                           0.96      7160\n",
      "   macro avg       0.54      0.51      0.50      7160\n",
      "weighted avg       0.93      0.96      0.94      7160\n",
      "\n",
      "\n",
      "-----------------------Confusion Matrix-----------------------\n",
      "\n",
      "[[6856   29]\n",
      " [ 271    4]]\n",
      "\n",
      "------------------------ROC/AUC SCORE-------------------------\n",
      "\n",
      "0.5052    \n"
     ]
    },
    {
     "name": "stderr",
     "output_type": "stream",
     "text": [
      "/anaconda3/lib/python3.7/site-packages/sklearn/linear_model/logistic.py:432: FutureWarning: Default solver will be changed to 'lbfgs' in 0.22. Specify a solver to silence this warning.\n",
      "  FutureWarning)\n"
     ]
    },
    {
     "name": "stdout",
     "output_type": "stream",
     "text": [
      "\n",
      "---------------------Classification Report--------------------\n",
      "\n",
      "              precision    recall  f1-score   support\n",
      "\n",
      "           0       0.96      1.00      0.98      6864\n",
      "           1       0.25      0.01      0.03       296\n",
      "\n",
      "    accuracy                           0.96      7160\n",
      "   macro avg       0.60      0.51      0.50      7160\n",
      "weighted avg       0.93      0.96      0.94      7160\n",
      "\n",
      "\n",
      "-----------------------Confusion Matrix-----------------------\n",
      "\n",
      "[[6852   12]\n",
      " [ 292    4]]\n",
      "\n",
      "------------------------ROC/AUC SCORE-------------------------\n",
      "\n",
      "0.5059    \n"
     ]
    },
    {
     "name": "stderr",
     "output_type": "stream",
     "text": [
      "/anaconda3/lib/python3.7/site-packages/sklearn/linear_model/logistic.py:432: FutureWarning: Default solver will be changed to 'lbfgs' in 0.22. Specify a solver to silence this warning.\n",
      "  FutureWarning)\n"
     ]
    },
    {
     "name": "stdout",
     "output_type": "stream",
     "text": [
      "\n",
      "---------------------Classification Report--------------------\n",
      "\n",
      "              precision    recall  f1-score   support\n",
      "\n",
      "           0       0.97      1.00      0.98      6896\n",
      "           1       0.58      0.18      0.27       264\n",
      "\n",
      "    accuracy                           0.96      7160\n",
      "   macro avg       0.77      0.59      0.63      7160\n",
      "weighted avg       0.95      0.96      0.96      7160\n",
      "\n",
      "\n",
      "-----------------------Confusion Matrix-----------------------\n",
      "\n",
      "[[6862   34]\n",
      " [ 217   47]]\n",
      "\n",
      "------------------------ROC/AUC SCORE-------------------------\n",
      "\n",
      "0.5865    \n"
     ]
    },
    {
     "name": "stderr",
     "output_type": "stream",
     "text": [
      "/anaconda3/lib/python3.7/site-packages/sklearn/linear_model/logistic.py:432: FutureWarning: Default solver will be changed to 'lbfgs' in 0.22. Specify a solver to silence this warning.\n",
      "  FutureWarning)\n"
     ]
    },
    {
     "name": "stdout",
     "output_type": "stream",
     "text": [
      "\n",
      "---------------------Classification Report--------------------\n",
      "\n",
      "              precision    recall  f1-score   support\n",
      "\n",
      "           0       0.97      1.00      0.98      6911\n",
      "           1       0.42      0.08      0.13       249\n",
      "\n",
      "    accuracy                           0.96      7160\n",
      "   macro avg       0.69      0.54      0.56      7160\n",
      "weighted avg       0.95      0.96      0.95      7160\n",
      "\n",
      "\n",
      "-----------------------Confusion Matrix-----------------------\n",
      "\n",
      "[[6883   28]\n",
      " [ 229   20]]\n",
      "\n",
      "------------------------ROC/AUC SCORE-------------------------\n",
      "\n",
      "0.5381    \n"
     ]
    },
    {
     "name": "stderr",
     "output_type": "stream",
     "text": [
      "/anaconda3/lib/python3.7/site-packages/sklearn/linear_model/logistic.py:432: FutureWarning: Default solver will be changed to 'lbfgs' in 0.22. Specify a solver to silence this warning.\n",
      "  FutureWarning)\n"
     ]
    },
    {
     "name": "stdout",
     "output_type": "stream",
     "text": [
      "\n",
      "---------------------Classification Report--------------------\n",
      "\n",
      "              precision    recall  f1-score   support\n",
      "\n",
      "           0       0.97      1.00      0.98      6916\n",
      "           1       0.38      0.08      0.13       244\n",
      "\n",
      "    accuracy                           0.96      7160\n",
      "   macro avg       0.67      0.54      0.56      7160\n",
      "weighted avg       0.95      0.96      0.95      7160\n",
      "\n",
      "\n",
      "-----------------------Confusion Matrix-----------------------\n",
      "\n",
      "[[6885   31]\n",
      " [ 225   19]]\n",
      "\n",
      "------------------------ROC/AUC SCORE-------------------------\n",
      "\n",
      "0.5367    \n"
     ]
    },
    {
     "name": "stderr",
     "output_type": "stream",
     "text": [
      "/anaconda3/lib/python3.7/site-packages/sklearn/linear_model/logistic.py:432: FutureWarning: Default solver will be changed to 'lbfgs' in 0.22. Specify a solver to silence this warning.\n",
      "  FutureWarning)\n"
     ]
    },
    {
     "name": "stdout",
     "output_type": "stream",
     "text": [
      "\n",
      "---------------------Classification Report--------------------\n",
      "\n",
      "              precision    recall  f1-score   support\n",
      "\n",
      "           0       0.97      1.00      0.98      6916\n",
      "           1       0.40      0.08      0.13       244\n",
      "\n",
      "    accuracy                           0.96      7160\n",
      "   macro avg       0.68      0.54      0.56      7160\n",
      "weighted avg       0.95      0.96      0.95      7160\n",
      "\n",
      "\n",
      "-----------------------Confusion Matrix-----------------------\n",
      "\n",
      "[[6887   29]\n",
      " [ 225   19]]\n",
      "\n",
      "------------------------ROC/AUC SCORE-------------------------\n",
      "\n",
      "0.5368    \n"
     ]
    },
    {
     "name": "stderr",
     "output_type": "stream",
     "text": [
      "/anaconda3/lib/python3.7/site-packages/sklearn/linear_model/logistic.py:432: FutureWarning: Default solver will be changed to 'lbfgs' in 0.22. Specify a solver to silence this warning.\n",
      "  FutureWarning)\n"
     ]
    },
    {
     "name": "stdout",
     "output_type": "stream",
     "text": [
      "\n",
      "---------------------Classification Report--------------------\n",
      "\n",
      "              precision    recall  f1-score   support\n",
      "\n",
      "           0       0.97      0.99      0.98      6890\n",
      "           1       0.45      0.18      0.26       270\n",
      "\n",
      "    accuracy                           0.96      7160\n",
      "   macro avg       0.71      0.58      0.62      7160\n",
      "weighted avg       0.95      0.96      0.95      7160\n",
      "\n",
      "\n",
      "-----------------------Confusion Matrix-----------------------\n",
      "\n",
      "[[6832   58]\n",
      " [ 222   48]]\n",
      "\n",
      "------------------------ROC/AUC SCORE-------------------------\n",
      "\n",
      "0.5847    \n"
     ]
    },
    {
     "name": "stderr",
     "output_type": "stream",
     "text": [
      "/anaconda3/lib/python3.7/site-packages/sklearn/linear_model/logistic.py:432: FutureWarning: Default solver will be changed to 'lbfgs' in 0.22. Specify a solver to silence this warning.\n",
      "  FutureWarning)\n"
     ]
    },
    {
     "name": "stdout",
     "output_type": "stream",
     "text": [
      "\n",
      "---------------------Classification Report--------------------\n",
      "\n",
      "              precision    recall  f1-score   support\n",
      "\n",
      "           0       0.97      0.99      0.98      6915\n",
      "           1       0.31      0.11      0.16       245\n",
      "\n",
      "    accuracy                           0.96      7160\n",
      "   macro avg       0.64      0.55      0.57      7160\n",
      "weighted avg       0.95      0.96      0.95      7160\n",
      "\n",
      "\n",
      "-----------------------Confusion Matrix-----------------------\n",
      "\n",
      "[[6857   58]\n",
      " [ 219   26]]\n",
      "\n",
      "------------------------ROC/AUC SCORE-------------------------\n",
      "\n",
      "0.5489    \n"
     ]
    },
    {
     "name": "stderr",
     "output_type": "stream",
     "text": [
      "/anaconda3/lib/python3.7/site-packages/sklearn/linear_model/logistic.py:432: FutureWarning: Default solver will be changed to 'lbfgs' in 0.22. Specify a solver to silence this warning.\n",
      "  FutureWarning)\n"
     ]
    },
    {
     "name": "stdout",
     "output_type": "stream",
     "text": [
      "\n",
      "---------------------Classification Report--------------------\n",
      "\n",
      "              precision    recall  f1-score   support\n",
      "\n",
      "           0       0.97      0.99      0.98      6923\n",
      "           1       0.20      0.04      0.06       237\n",
      "\n",
      "    accuracy                           0.96      7160\n",
      "   macro avg       0.58      0.52      0.52      7160\n",
      "weighted avg       0.94      0.96      0.95      7160\n",
      "\n",
      "\n",
      "-----------------------Confusion Matrix-----------------------\n",
      "\n",
      "[[6886   37]\n",
      " [ 228    9]]\n",
      "\n",
      "------------------------ROC/AUC SCORE-------------------------\n",
      "\n",
      "0.5163    \n"
     ]
    },
    {
     "name": "stderr",
     "output_type": "stream",
     "text": [
      "/anaconda3/lib/python3.7/site-packages/sklearn/linear_model/logistic.py:432: FutureWarning: Default solver will be changed to 'lbfgs' in 0.22. Specify a solver to silence this warning.\n",
      "  FutureWarning)\n"
     ]
    },
    {
     "name": "stdout",
     "output_type": "stream",
     "text": [
      "\n",
      "---------------------Classification Report--------------------\n",
      "\n",
      "              precision    recall  f1-score   support\n",
      "\n",
      "           0       0.97      0.99      0.98      6908\n",
      "           1       0.23      0.05      0.08       252\n",
      "\n",
      "    accuracy                           0.96      7160\n",
      "   macro avg       0.60      0.52      0.53      7160\n",
      "weighted avg       0.94      0.96      0.95      7160\n",
      "\n",
      "\n",
      "-----------------------Confusion Matrix-----------------------\n",
      "\n",
      "[[6868   40]\n",
      " [ 240   12]]\n",
      "\n",
      "------------------------ROC/AUC SCORE-------------------------\n",
      "\n",
      "0.5209    \n"
     ]
    },
    {
     "name": "stderr",
     "output_type": "stream",
     "text": [
      "/anaconda3/lib/python3.7/site-packages/sklearn/linear_model/logistic.py:432: FutureWarning: Default solver will be changed to 'lbfgs' in 0.22. Specify a solver to silence this warning.\n",
      "  FutureWarning)\n"
     ]
    },
    {
     "name": "stdout",
     "output_type": "stream",
     "text": [
      "\n",
      "---------------------Classification Report--------------------\n",
      "\n",
      "              precision    recall  f1-score   support\n",
      "\n",
      "           0       0.97      0.99      0.98      6904\n",
      "           1       0.35      0.14      0.20       256\n",
      "\n",
      "    accuracy                           0.96      7160\n",
      "   macro avg       0.66      0.56      0.59      7160\n",
      "weighted avg       0.95      0.96      0.95      7160\n",
      "\n",
      "\n",
      "-----------------------Confusion Matrix-----------------------\n",
      "\n",
      "[[6839   65]\n",
      " [ 221   35]]\n",
      "\n",
      "------------------------ROC/AUC SCORE-------------------------\n",
      "\n",
      "0.5637    \n"
     ]
    },
    {
     "name": "stderr",
     "output_type": "stream",
     "text": [
      "/anaconda3/lib/python3.7/site-packages/sklearn/linear_model/logistic.py:432: FutureWarning: Default solver will be changed to 'lbfgs' in 0.22. Specify a solver to silence this warning.\n",
      "  FutureWarning)\n"
     ]
    },
    {
     "name": "stdout",
     "output_type": "stream",
     "text": [
      "\n",
      "---------------------Classification Report--------------------\n",
      "\n",
      "              precision    recall  f1-score   support\n",
      "\n",
      "           0       0.97      0.99      0.98      6901\n",
      "           1       0.41      0.13      0.20       259\n",
      "\n",
      "    accuracy                           0.96      7160\n",
      "   macro avg       0.69      0.56      0.59      7160\n",
      "weighted avg       0.95      0.96      0.95      7160\n",
      "\n",
      "\n",
      "-----------------------Confusion Matrix-----------------------\n",
      "\n",
      "[[6853   48]\n",
      " [ 225   34]]\n",
      "\n",
      "------------------------ROC/AUC SCORE-------------------------\n",
      "\n",
      "0.5622    \n"
     ]
    },
    {
     "name": "stderr",
     "output_type": "stream",
     "text": [
      "/anaconda3/lib/python3.7/site-packages/sklearn/linear_model/logistic.py:432: FutureWarning: Default solver will be changed to 'lbfgs' in 0.22. Specify a solver to silence this warning.\n",
      "  FutureWarning)\n"
     ]
    },
    {
     "name": "stdout",
     "output_type": "stream",
     "text": [
      "\n",
      "---------------------Classification Report--------------------\n",
      "\n",
      "              precision    recall  f1-score   support\n",
      "\n",
      "           0       0.97      1.00      0.98      6905\n",
      "           1       0.50      0.05      0.10       255\n",
      "\n",
      "    accuracy                           0.96      7160\n",
      "   macro avg       0.73      0.53      0.54      7160\n",
      "weighted avg       0.95      0.96      0.95      7160\n",
      "\n",
      "\n",
      "-----------------------Confusion Matrix-----------------------\n",
      "\n",
      "[[6891   14]\n",
      " [ 241   14]]\n",
      "\n",
      "------------------------ROC/AUC SCORE-------------------------\n",
      "\n",
      "0.5264    \n"
     ]
    },
    {
     "name": "stderr",
     "output_type": "stream",
     "text": [
      "/anaconda3/lib/python3.7/site-packages/sklearn/linear_model/logistic.py:432: FutureWarning: Default solver will be changed to 'lbfgs' in 0.22. Specify a solver to silence this warning.\n",
      "  FutureWarning)\n"
     ]
    },
    {
     "name": "stdout",
     "output_type": "stream",
     "text": [
      "\n",
      "---------------------Classification Report--------------------\n",
      "\n",
      "              precision    recall  f1-score   support\n",
      "\n",
      "           0       0.96      1.00      0.98      6874\n",
      "           1       0.29      0.03      0.06       286\n",
      "\n",
      "    accuracy                           0.96      7160\n",
      "   macro avg       0.62      0.52      0.52      7160\n",
      "weighted avg       0.93      0.96      0.94      7160\n",
      "\n",
      "\n",
      "-----------------------Confusion Matrix-----------------------\n",
      "\n",
      "[[6849   25]\n",
      " [ 276   10]]\n",
      "\n",
      "------------------------ROC/AUC SCORE-------------------------\n",
      "\n",
      "0.5157    \n"
     ]
    },
    {
     "name": "stderr",
     "output_type": "stream",
     "text": [
      "/anaconda3/lib/python3.7/site-packages/sklearn/linear_model/logistic.py:432: FutureWarning: Default solver will be changed to 'lbfgs' in 0.22. Specify a solver to silence this warning.\n",
      "  FutureWarning)\n"
     ]
    },
    {
     "name": "stdout",
     "output_type": "stream",
     "text": [
      "\n",
      "---------------------Classification Report--------------------\n",
      "\n",
      "              precision    recall  f1-score   support\n",
      "\n",
      "           0       0.97      0.99      0.98      6902\n",
      "           1       0.22      0.04      0.07       258\n",
      "\n",
      "    accuracy                           0.96      7160\n",
      "   macro avg       0.59      0.52      0.53      7160\n",
      "weighted avg       0.94      0.96      0.95      7160\n",
      "\n",
      "\n",
      "-----------------------Confusion Matrix-----------------------\n",
      "\n",
      "[[6864   38]\n",
      " [ 247   11]]\n",
      "\n",
      "------------------------ROC/AUC SCORE-------------------------\n",
      "\n",
      "0.5186    \n"
     ]
    },
    {
     "name": "stderr",
     "output_type": "stream",
     "text": [
      "/anaconda3/lib/python3.7/site-packages/sklearn/linear_model/logistic.py:432: FutureWarning: Default solver will be changed to 'lbfgs' in 0.22. Specify a solver to silence this warning.\n",
      "  FutureWarning)\n"
     ]
    },
    {
     "name": "stdout",
     "output_type": "stream",
     "text": [
      "\n",
      "---------------------Classification Report--------------------\n",
      "\n",
      "              precision    recall  f1-score   support\n",
      "\n",
      "           0       0.97      1.00      0.98      6909\n",
      "           1       0.38      0.06      0.10       251\n",
      "\n",
      "    accuracy                           0.96      7160\n",
      "   macro avg       0.67      0.53      0.54      7160\n",
      "weighted avg       0.95      0.96      0.95      7160\n",
      "\n",
      "\n",
      "-----------------------Confusion Matrix-----------------------\n",
      "\n",
      "[[6884   25]\n",
      " [ 236   15]]\n",
      "\n",
      "------------------------ROC/AUC SCORE-------------------------\n",
      "\n",
      "0.5281    \n"
     ]
    },
    {
     "name": "stderr",
     "output_type": "stream",
     "text": [
      "/anaconda3/lib/python3.7/site-packages/sklearn/linear_model/logistic.py:432: FutureWarning: Default solver will be changed to 'lbfgs' in 0.22. Specify a solver to silence this warning.\n",
      "  FutureWarning)\n"
     ]
    },
    {
     "name": "stdout",
     "output_type": "stream",
     "text": [
      "\n",
      "---------------------Classification Report--------------------\n",
      "\n",
      "              precision    recall  f1-score   support\n",
      "\n",
      "           0       0.97      1.00      0.98      6914\n",
      "           1       0.34      0.07      0.11       246\n",
      "\n",
      "    accuracy                           0.96      7160\n",
      "   macro avg       0.65      0.53      0.55      7160\n",
      "weighted avg       0.95      0.96      0.95      7160\n",
      "\n",
      "\n",
      "-----------------------Confusion Matrix-----------------------\n",
      "\n",
      "[[6883   31]\n",
      " [ 230   16]]\n",
      "\n",
      "------------------------ROC/AUC SCORE-------------------------\n",
      "\n",
      "0.5303    \n"
     ]
    },
    {
     "name": "stderr",
     "output_type": "stream",
     "text": [
      "/anaconda3/lib/python3.7/site-packages/sklearn/linear_model/logistic.py:432: FutureWarning: Default solver will be changed to 'lbfgs' in 0.22. Specify a solver to silence this warning.\n",
      "  FutureWarning)\n"
     ]
    },
    {
     "name": "stdout",
     "output_type": "stream",
     "text": [
      "\n",
      "---------------------Classification Report--------------------\n",
      "\n",
      "              precision    recall  f1-score   support\n",
      "\n",
      "           0       0.96      0.99      0.98      6899\n",
      "           1       0.23      0.04      0.07       261\n",
      "\n",
      "    accuracy                           0.96      7160\n",
      "   macro avg       0.60      0.52      0.53      7160\n",
      "weighted avg       0.94      0.96      0.95      7160\n",
      "\n",
      "\n",
      "-----------------------Confusion Matrix-----------------------\n",
      "\n",
      "[[6862   37]\n",
      " [ 250   11]]\n",
      "\n",
      "------------------------ROC/AUC SCORE-------------------------\n",
      "\n",
      "0.5184    \n"
     ]
    },
    {
     "name": "stderr",
     "output_type": "stream",
     "text": [
      "/anaconda3/lib/python3.7/site-packages/sklearn/linear_model/logistic.py:432: FutureWarning: Default solver will be changed to 'lbfgs' in 0.22. Specify a solver to silence this warning.\n",
      "  FutureWarning)\n"
     ]
    },
    {
     "name": "stdout",
     "output_type": "stream",
     "text": [
      "\n",
      "---------------------Classification Report--------------------\n",
      "\n",
      "              precision    recall  f1-score   support\n",
      "\n",
      "           0       0.98      0.99      0.99      6918\n",
      "           1       0.65      0.29      0.40       242\n",
      "\n",
      "    accuracy                           0.97      7160\n",
      "   macro avg       0.81      0.64      0.69      7160\n",
      "weighted avg       0.96      0.97      0.97      7160\n",
      "\n",
      "\n",
      "-----------------------Confusion Matrix-----------------------\n",
      "\n",
      "[[6880   38]\n",
      " [ 171   71]]\n",
      "\n",
      "------------------------ROC/AUC SCORE-------------------------\n",
      "\n",
      "0.6439    \n"
     ]
    },
    {
     "name": "stderr",
     "output_type": "stream",
     "text": [
      "/anaconda3/lib/python3.7/site-packages/sklearn/linear_model/logistic.py:432: FutureWarning: Default solver will be changed to 'lbfgs' in 0.22. Specify a solver to silence this warning.\n",
      "  FutureWarning)\n"
     ]
    },
    {
     "name": "stdout",
     "output_type": "stream",
     "text": [
      "\n",
      "---------------------Classification Report--------------------\n",
      "\n",
      "              precision    recall  f1-score   support\n",
      "\n",
      "           0       0.97      1.00      0.98      6948\n",
      "           1       0.21      0.02      0.03       212\n",
      "\n",
      "    accuracy                           0.97      7160\n",
      "   macro avg       0.59      0.51      0.51      7160\n",
      "weighted avg       0.95      0.97      0.96      7160\n",
      "\n",
      "\n",
      "-----------------------Confusion Matrix-----------------------\n",
      "\n",
      "[[6933   15]\n",
      " [ 208    4]]\n",
      "\n",
      "------------------------ROC/AUC SCORE-------------------------\n",
      "\n",
      "0.5084    \n"
     ]
    },
    {
     "name": "stderr",
     "output_type": "stream",
     "text": [
      "/anaconda3/lib/python3.7/site-packages/sklearn/linear_model/logistic.py:432: FutureWarning: Default solver will be changed to 'lbfgs' in 0.22. Specify a solver to silence this warning.\n",
      "  FutureWarning)\n"
     ]
    },
    {
     "name": "stdout",
     "output_type": "stream",
     "text": [
      "\n",
      "---------------------Classification Report--------------------\n",
      "\n",
      "              precision    recall  f1-score   support\n",
      "\n",
      "           0       0.97      1.00      0.98      6931\n",
      "           1       0.48      0.12      0.19       229\n",
      "\n",
      "    accuracy                           0.97      7160\n",
      "   macro avg       0.73      0.56      0.59      7160\n",
      "weighted avg       0.96      0.97      0.96      7160\n",
      "\n",
      "\n",
      "-----------------------Confusion Matrix-----------------------\n",
      "\n",
      "[[6902   29]\n",
      " [ 202   27]]\n",
      "\n",
      "------------------------ROC/AUC SCORE-------------------------\n",
      "\n",
      "0.5569    \n"
     ]
    },
    {
     "name": "stderr",
     "output_type": "stream",
     "text": [
      "/anaconda3/lib/python3.7/site-packages/sklearn/linear_model/logistic.py:432: FutureWarning: Default solver will be changed to 'lbfgs' in 0.22. Specify a solver to silence this warning.\n",
      "  FutureWarning)\n"
     ]
    },
    {
     "name": "stdout",
     "output_type": "stream",
     "text": [
      "\n",
      "---------------------Classification Report--------------------\n",
      "\n",
      "              precision    recall  f1-score   support\n",
      "\n",
      "           0       0.97      1.00      0.99      6959\n",
      "           1       0.48      0.11      0.18       201\n",
      "\n",
      "    accuracy                           0.97      7160\n",
      "   macro avg       0.73      0.56      0.59      7160\n",
      "weighted avg       0.96      0.97      0.96      7160\n",
      "\n",
      "\n",
      "-----------------------Confusion Matrix-----------------------\n",
      "\n",
      "[[6934   25]\n",
      " [ 178   23]]\n",
      "\n",
      "------------------------ROC/AUC SCORE-------------------------\n",
      "\n",
      "0.5554    \n"
     ]
    },
    {
     "name": "stderr",
     "output_type": "stream",
     "text": [
      "/anaconda3/lib/python3.7/site-packages/sklearn/linear_model/logistic.py:432: FutureWarning: Default solver will be changed to 'lbfgs' in 0.22. Specify a solver to silence this warning.\n",
      "  FutureWarning)\n"
     ]
    },
    {
     "name": "stdout",
     "output_type": "stream",
     "text": [
      "\n",
      "---------------------Classification Report--------------------\n",
      "\n",
      "              precision    recall  f1-score   support\n",
      "\n",
      "           0       0.97      0.99      0.98      6924\n",
      "           1       0.38      0.13      0.19       236\n",
      "\n",
      "    accuracy                           0.96      7160\n",
      "   macro avg       0.68      0.56      0.59      7160\n",
      "weighted avg       0.95      0.96      0.96      7160\n",
      "\n",
      "\n",
      "-----------------------Confusion Matrix-----------------------\n",
      "\n",
      "[[6875   49]\n",
      " [ 206   30]]\n",
      "\n",
      "------------------------ROC/AUC SCORE-------------------------\n",
      "\n",
      "0.5600    \n"
     ]
    },
    {
     "name": "stderr",
     "output_type": "stream",
     "text": [
      "/anaconda3/lib/python3.7/site-packages/sklearn/linear_model/logistic.py:432: FutureWarning: Default solver will be changed to 'lbfgs' in 0.22. Specify a solver to silence this warning.\n",
      "  FutureWarning)\n"
     ]
    },
    {
     "name": "stdout",
     "output_type": "stream",
     "text": [
      "\n",
      "---------------------Classification Report--------------------\n",
      "\n",
      "              precision    recall  f1-score   support\n",
      "\n",
      "           0       0.97      0.99      0.98      6910\n",
      "           1       0.43      0.12      0.18       250\n",
      "\n",
      "    accuracy                           0.96      7160\n",
      "   macro avg       0.70      0.56      0.58      7160\n",
      "weighted avg       0.95      0.96      0.95      7160\n",
      "\n",
      "\n",
      "-----------------------Confusion Matrix-----------------------\n",
      "\n",
      "[[6871   39]\n",
      " [ 221   29]]\n",
      "\n",
      "------------------------ROC/AUC SCORE-------------------------\n",
      "\n",
      "0.5552    \n"
     ]
    },
    {
     "name": "stderr",
     "output_type": "stream",
     "text": [
      "/anaconda3/lib/python3.7/site-packages/sklearn/linear_model/logistic.py:432: FutureWarning: Default solver will be changed to 'lbfgs' in 0.22. Specify a solver to silence this warning.\n",
      "  FutureWarning)\n"
     ]
    },
    {
     "name": "stdout",
     "output_type": "stream",
     "text": [
      "\n",
      "---------------------Classification Report--------------------\n",
      "\n",
      "              precision    recall  f1-score   support\n",
      "\n",
      "           0       0.98      0.99      0.99      6925\n",
      "           1       0.62      0.40      0.48       235\n",
      "\n",
      "    accuracy                           0.97      7160\n",
      "   macro avg       0.80      0.69      0.73      7160\n",
      "weighted avg       0.97      0.97      0.97      7160\n",
      "\n",
      "\n",
      "-----------------------Confusion Matrix-----------------------\n",
      "\n",
      "[[6868   57]\n",
      " [ 142   93]]\n",
      "\n",
      "------------------------ROC/AUC SCORE-------------------------\n",
      "\n",
      "0.6938    \n"
     ]
    },
    {
     "name": "stderr",
     "output_type": "stream",
     "text": [
      "/anaconda3/lib/python3.7/site-packages/sklearn/linear_model/logistic.py:432: FutureWarning: Default solver will be changed to 'lbfgs' in 0.22. Specify a solver to silence this warning.\n",
      "  FutureWarning)\n"
     ]
    },
    {
     "name": "stdout",
     "output_type": "stream",
     "text": [
      "\n",
      "---------------------Classification Report--------------------\n",
      "\n",
      "              precision    recall  f1-score   support\n",
      "\n",
      "           0       0.97      0.99      0.98      6955\n",
      "           1       0.09      0.02      0.04       205\n",
      "\n",
      "    accuracy                           0.97      7160\n",
      "   macro avg       0.53      0.51      0.51      7160\n",
      "weighted avg       0.95      0.97      0.96      7160\n",
      "\n",
      "\n",
      "-----------------------Confusion Matrix-----------------------\n",
      "\n",
      "[[6906   49]\n",
      " [ 200    5]]\n",
      "\n",
      "------------------------ROC/AUC SCORE-------------------------\n",
      "\n",
      "0.5087    \n"
     ]
    },
    {
     "name": "stderr",
     "output_type": "stream",
     "text": [
      "/anaconda3/lib/python3.7/site-packages/sklearn/linear_model/logistic.py:432: FutureWarning: Default solver will be changed to 'lbfgs' in 0.22. Specify a solver to silence this warning.\n",
      "  FutureWarning)\n"
     ]
    },
    {
     "name": "stdout",
     "output_type": "stream",
     "text": [
      "\n",
      "---------------------Classification Report--------------------\n",
      "\n",
      "              precision    recall  f1-score   support\n",
      "\n",
      "           0       0.98      1.00      0.99      6970\n",
      "           1       0.33      0.08      0.13       190\n",
      "\n",
      "    accuracy                           0.97      7160\n",
      "   macro avg       0.65      0.54      0.56      7160\n",
      "weighted avg       0.96      0.97      0.96      7160\n",
      "\n",
      "\n",
      "-----------------------Confusion Matrix-----------------------\n",
      "\n",
      "[[6940   30]\n",
      " [ 175   15]]\n",
      "\n",
      "------------------------ROC/AUC SCORE-------------------------\n",
      "\n",
      "0.5373    \n"
     ]
    },
    {
     "name": "stderr",
     "output_type": "stream",
     "text": [
      "/anaconda3/lib/python3.7/site-packages/sklearn/linear_model/logistic.py:432: FutureWarning: Default solver will be changed to 'lbfgs' in 0.22. Specify a solver to silence this warning.\n",
      "  FutureWarning)\n"
     ]
    },
    {
     "name": "stdout",
     "output_type": "stream",
     "text": [
      "\n",
      "---------------------Classification Report--------------------\n",
      "\n",
      "              precision    recall  f1-score   support\n",
      "\n",
      "           0       0.97      0.99      0.98      6941\n",
      "           1       0.39      0.12      0.19       219\n",
      "\n",
      "    accuracy                           0.97      7160\n",
      "   macro avg       0.68      0.56      0.59      7160\n",
      "weighted avg       0.96      0.97      0.96      7160\n",
      "\n",
      "\n",
      "-----------------------Confusion Matrix-----------------------\n",
      "\n",
      "[[6899   42]\n",
      " [ 192   27]]\n",
      "\n",
      "------------------------ROC/AUC SCORE-------------------------\n",
      "\n",
      "0.5586    \n"
     ]
    },
    {
     "name": "stderr",
     "output_type": "stream",
     "text": [
      "/anaconda3/lib/python3.7/site-packages/sklearn/linear_model/logistic.py:432: FutureWarning: Default solver will be changed to 'lbfgs' in 0.22. Specify a solver to silence this warning.\n",
      "  FutureWarning)\n"
     ]
    },
    {
     "name": "stdout",
     "output_type": "stream",
     "text": [
      "\n",
      "---------------------Classification Report--------------------\n",
      "\n",
      "              precision    recall  f1-score   support\n",
      "\n",
      "           0       0.97      1.00      0.98      6926\n",
      "           1       0.25      0.04      0.07       234\n",
      "\n",
      "    accuracy                           0.96      7160\n",
      "   macro avg       0.61      0.52      0.53      7160\n",
      "weighted avg       0.95      0.96      0.95      7160\n",
      "\n",
      "\n",
      "-----------------------Confusion Matrix-----------------------\n",
      "\n",
      "[[6896   30]\n",
      " [ 224   10]]\n",
      "\n",
      "------------------------ROC/AUC SCORE-------------------------\n",
      "\n",
      "0.5192    \n"
     ]
    },
    {
     "name": "stderr",
     "output_type": "stream",
     "text": [
      "/anaconda3/lib/python3.7/site-packages/sklearn/linear_model/logistic.py:432: FutureWarning: Default solver will be changed to 'lbfgs' in 0.22. Specify a solver to silence this warning.\n",
      "  FutureWarning)\n"
     ]
    },
    {
     "name": "stdout",
     "output_type": "stream",
     "text": [
      "\n",
      "---------------------Classification Report--------------------\n",
      "\n",
      "              precision    recall  f1-score   support\n",
      "\n",
      "           0       0.97      1.00      0.98      6940\n",
      "           1       0.37      0.08      0.13       220\n",
      "\n",
      "    accuracy                           0.97      7160\n",
      "   macro avg       0.67      0.54      0.56      7160\n",
      "weighted avg       0.95      0.97      0.96      7160\n",
      "\n",
      "\n",
      "-----------------------Confusion Matrix-----------------------\n",
      "\n",
      "[[6911   29]\n",
      " [ 203   17]]\n",
      "\n",
      "------------------------ROC/AUC SCORE-------------------------\n",
      "\n",
      "0.5365    \n"
     ]
    },
    {
     "name": "stderr",
     "output_type": "stream",
     "text": [
      "/anaconda3/lib/python3.7/site-packages/sklearn/linear_model/logistic.py:432: FutureWarning: Default solver will be changed to 'lbfgs' in 0.22. Specify a solver to silence this warning.\n",
      "  FutureWarning)\n"
     ]
    },
    {
     "name": "stdout",
     "output_type": "stream",
     "text": [
      "\n",
      "---------------------Classification Report--------------------\n",
      "\n",
      "              precision    recall  f1-score   support\n",
      "\n",
      "           0       0.98      0.99      0.99      6945\n",
      "           1       0.56      0.30      0.39       215\n",
      "\n",
      "    accuracy                           0.97      7160\n",
      "   macro avg       0.77      0.65      0.69      7160\n",
      "weighted avg       0.97      0.97      0.97      7160\n",
      "\n",
      "\n",
      "-----------------------Confusion Matrix-----------------------\n",
      "\n",
      "[[6894   51]\n",
      " [ 151   64]]\n",
      "\n",
      "------------------------ROC/AUC SCORE-------------------------\n",
      "\n",
      "0.6452    \n"
     ]
    },
    {
     "name": "stderr",
     "output_type": "stream",
     "text": [
      "/anaconda3/lib/python3.7/site-packages/sklearn/linear_model/logistic.py:432: FutureWarning: Default solver will be changed to 'lbfgs' in 0.22. Specify a solver to silence this warning.\n",
      "  FutureWarning)\n"
     ]
    },
    {
     "name": "stdout",
     "output_type": "stream",
     "text": [
      "\n",
      "---------------------Classification Report--------------------\n",
      "\n",
      "              precision    recall  f1-score   support\n",
      "\n",
      "           0       0.97      0.99      0.98      6930\n",
      "           1       0.33      0.10      0.15       230\n",
      "\n",
      "    accuracy                           0.96      7160\n",
      "   macro avg       0.65      0.54      0.57      7160\n",
      "weighted avg       0.95      0.96      0.96      7160\n",
      "\n",
      "\n",
      "-----------------------Confusion Matrix-----------------------\n",
      "\n",
      "[[6886   44]\n",
      " [ 208   22]]\n",
      "\n",
      "------------------------ROC/AUC SCORE-------------------------\n",
      "\n",
      "0.5447    \n"
     ]
    },
    {
     "name": "stderr",
     "output_type": "stream",
     "text": [
      "/anaconda3/lib/python3.7/site-packages/sklearn/linear_model/logistic.py:432: FutureWarning: Default solver will be changed to 'lbfgs' in 0.22. Specify a solver to silence this warning.\n",
      "  FutureWarning)\n"
     ]
    },
    {
     "name": "stdout",
     "output_type": "stream",
     "text": [
      "\n",
      "---------------------Classification Report--------------------\n",
      "\n",
      "              precision    recall  f1-score   support\n",
      "\n",
      "           0       0.97      1.00      0.98      6942\n",
      "           1       0.26      0.04      0.07       218\n",
      "\n",
      "    accuracy                           0.97      7160\n",
      "   macro avg       0.62      0.52      0.53      7160\n",
      "weighted avg       0.95      0.97      0.96      7160\n",
      "\n",
      "\n",
      "-----------------------Confusion Matrix-----------------------\n",
      "\n",
      "[[6917   25]\n",
      " [ 209    9]]\n",
      "\n",
      "------------------------ROC/AUC SCORE-------------------------\n",
      "\n",
      "0.5188    \n"
     ]
    },
    {
     "name": "stderr",
     "output_type": "stream",
     "text": [
      "/anaconda3/lib/python3.7/site-packages/sklearn/linear_model/logistic.py:432: FutureWarning: Default solver will be changed to 'lbfgs' in 0.22. Specify a solver to silence this warning.\n",
      "  FutureWarning)\n"
     ]
    },
    {
     "name": "stdout",
     "output_type": "stream",
     "text": [
      "\n",
      "---------------------Classification Report--------------------\n",
      "\n",
      "              precision    recall  f1-score   support\n",
      "\n",
      "           0       0.98      0.99      0.99      6971\n",
      "           1       0.44      0.17      0.25       189\n",
      "\n",
      "    accuracy                           0.97      7160\n",
      "   macro avg       0.71      0.58      0.62      7160\n",
      "weighted avg       0.96      0.97      0.97      7160\n",
      "\n",
      "\n",
      "-----------------------Confusion Matrix-----------------------\n",
      "\n",
      "[[6929   42]\n",
      " [ 156   33]]\n",
      "\n",
      "------------------------ROC/AUC SCORE-------------------------\n",
      "\n",
      "0.5843    \n"
     ]
    },
    {
     "name": "stderr",
     "output_type": "stream",
     "text": [
      "/anaconda3/lib/python3.7/site-packages/sklearn/linear_model/logistic.py:432: FutureWarning: Default solver will be changed to 'lbfgs' in 0.22. Specify a solver to silence this warning.\n",
      "  FutureWarning)\n"
     ]
    },
    {
     "name": "stdout",
     "output_type": "stream",
     "text": [
      "\n",
      "---------------------Classification Report--------------------\n",
      "\n",
      "              precision    recall  f1-score   support\n",
      "\n",
      "           0       0.97      0.99      0.98      6935\n",
      "           1       0.44      0.12      0.19       225\n",
      "\n",
      "    accuracy                           0.97      7160\n",
      "   macro avg       0.71      0.56      0.59      7160\n",
      "weighted avg       0.96      0.97      0.96      7160\n",
      "\n",
      "\n",
      "-----------------------Confusion Matrix-----------------------\n",
      "\n",
      "[[6900   35]\n",
      " [ 197   28]]\n",
      "\n",
      "------------------------ROC/AUC SCORE-------------------------\n",
      "\n",
      "0.5597    \n"
     ]
    },
    {
     "name": "stderr",
     "output_type": "stream",
     "text": [
      "/anaconda3/lib/python3.7/site-packages/sklearn/linear_model/logistic.py:432: FutureWarning: Default solver will be changed to 'lbfgs' in 0.22. Specify a solver to silence this warning.\n",
      "  FutureWarning)\n"
     ]
    },
    {
     "name": "stdout",
     "output_type": "stream",
     "text": [
      "\n",
      "---------------------Classification Report--------------------\n",
      "\n",
      "              precision    recall  f1-score   support\n",
      "\n",
      "           0       0.97      1.00      0.98      6943\n",
      "           1       0.10      0.00      0.01       217\n",
      "\n",
      "    accuracy                           0.97      7160\n",
      "   macro avg       0.53      0.50      0.50      7160\n",
      "weighted avg       0.94      0.97      0.95      7160\n",
      "\n",
      "\n",
      "-----------------------Confusion Matrix-----------------------\n",
      "\n",
      "[[6934    9]\n",
      " [ 216    1]]\n",
      "\n",
      "------------------------ROC/AUC SCORE-------------------------\n",
      "\n",
      "0.5017    \n"
     ]
    },
    {
     "name": "stderr",
     "output_type": "stream",
     "text": [
      "/anaconda3/lib/python3.7/site-packages/sklearn/linear_model/logistic.py:432: FutureWarning: Default solver will be changed to 'lbfgs' in 0.22. Specify a solver to silence this warning.\n",
      "  FutureWarning)\n"
     ]
    },
    {
     "name": "stdout",
     "output_type": "stream",
     "text": [
      "\n",
      "---------------------Classification Report--------------------\n",
      "\n",
      "              precision    recall  f1-score   support\n",
      "\n",
      "           0       0.96      1.00      0.98      6885\n",
      "           1       0.33      0.05      0.09       275\n",
      "\n",
      "    accuracy                           0.96      7160\n",
      "   macro avg       0.64      0.53      0.54      7160\n",
      "weighted avg       0.94      0.96      0.95      7160\n",
      "\n",
      "\n",
      "-----------------------Confusion Matrix-----------------------\n",
      "\n",
      "[[6854   31]\n",
      " [ 260   15]]\n",
      "\n",
      "------------------------ROC/AUC SCORE-------------------------\n",
      "\n",
      "0.5250    \n"
     ]
    },
    {
     "name": "stderr",
     "output_type": "stream",
     "text": [
      "/anaconda3/lib/python3.7/site-packages/sklearn/linear_model/logistic.py:432: FutureWarning: Default solver will be changed to 'lbfgs' in 0.22. Specify a solver to silence this warning.\n",
      "  FutureWarning)\n"
     ]
    },
    {
     "name": "stdout",
     "output_type": "stream",
     "text": [
      "\n",
      "---------------------Classification Report--------------------\n",
      "\n",
      "              precision    recall  f1-score   support\n",
      "\n",
      "           0       0.97      0.99      0.98      6961\n",
      "           1       0.34      0.09      0.14       199\n",
      "\n",
      "    accuracy                           0.97      7160\n",
      "   macro avg       0.66      0.54      0.56      7160\n",
      "weighted avg       0.96      0.97      0.96      7160\n",
      "\n",
      "\n",
      "-----------------------Confusion Matrix-----------------------\n",
      "\n",
      "[[6926   35]\n",
      " [ 181   18]]\n",
      "\n",
      "------------------------ROC/AUC SCORE-------------------------\n",
      "\n",
      "0.5427    \n"
     ]
    },
    {
     "name": "stderr",
     "output_type": "stream",
     "text": [
      "/anaconda3/lib/python3.7/site-packages/sklearn/linear_model/logistic.py:432: FutureWarning: Default solver will be changed to 'lbfgs' in 0.22. Specify a solver to silence this warning.\n",
      "  FutureWarning)\n"
     ]
    },
    {
     "name": "stdout",
     "output_type": "stream",
     "text": [
      "\n",
      "---------------------Classification Report--------------------\n",
      "\n",
      "              precision    recall  f1-score   support\n",
      "\n",
      "           0       0.97      1.00      0.98      6923\n",
      "           1       0.14      0.02      0.04       237\n",
      "\n",
      "    accuracy                           0.96      7160\n",
      "   macro avg       0.56      0.51      0.51      7160\n",
      "weighted avg       0.94      0.96      0.95      7160\n",
      "\n",
      "\n",
      "-----------------------Confusion Matrix-----------------------\n",
      "\n",
      "[[6893   30]\n",
      " [ 232    5]]\n",
      "\n",
      "------------------------ROC/AUC SCORE-------------------------\n",
      "\n",
      "0.5084    \n"
     ]
    },
    {
     "name": "stderr",
     "output_type": "stream",
     "text": [
      "/anaconda3/lib/python3.7/site-packages/sklearn/linear_model/logistic.py:432: FutureWarning: Default solver will be changed to 'lbfgs' in 0.22. Specify a solver to silence this warning.\n",
      "  FutureWarning)\n"
     ]
    },
    {
     "name": "stdout",
     "output_type": "stream",
     "text": [
      "\n",
      "---------------------Classification Report--------------------\n",
      "\n",
      "              precision    recall  f1-score   support\n",
      "\n",
      "           0       0.98      0.99      0.99      6948\n",
      "           1       0.54      0.20      0.30       212\n",
      "\n",
      "    accuracy                           0.97      7160\n",
      "   macro avg       0.76      0.60      0.64      7160\n",
      "weighted avg       0.96      0.97      0.96      7160\n",
      "\n",
      "\n",
      "-----------------------Confusion Matrix-----------------------\n",
      "\n",
      "[[6912   36]\n",
      " [ 169   43]]\n",
      "\n",
      "------------------------ROC/AUC SCORE-------------------------\n",
      "\n",
      "0.5988    \n"
     ]
    },
    {
     "name": "stderr",
     "output_type": "stream",
     "text": [
      "/anaconda3/lib/python3.7/site-packages/sklearn/linear_model/logistic.py:432: FutureWarning: Default solver will be changed to 'lbfgs' in 0.22. Specify a solver to silence this warning.\n",
      "  FutureWarning)\n"
     ]
    },
    {
     "name": "stdout",
     "output_type": "stream",
     "text": [
      "\n",
      "---------------------Classification Report--------------------\n",
      "\n",
      "              precision    recall  f1-score   support\n",
      "\n",
      "           0       0.98      1.00      0.99      7000\n",
      "           1       0.35      0.11      0.16       160\n",
      "\n",
      "    accuracy                           0.98      7160\n",
      "   macro avg       0.66      0.55      0.58      7160\n",
      "weighted avg       0.97      0.98      0.97      7160\n",
      "\n",
      "\n",
      "-----------------------Confusion Matrix-----------------------\n",
      "\n",
      "[[6968   32]\n",
      " [ 143   17]]\n",
      "\n",
      "------------------------ROC/AUC SCORE-------------------------\n",
      "\n",
      "0.5508    \n"
     ]
    },
    {
     "name": "stderr",
     "output_type": "stream",
     "text": [
      "/anaconda3/lib/python3.7/site-packages/sklearn/linear_model/logistic.py:432: FutureWarning: Default solver will be changed to 'lbfgs' in 0.22. Specify a solver to silence this warning.\n",
      "  FutureWarning)\n"
     ]
    },
    {
     "name": "stdout",
     "output_type": "stream",
     "text": [
      "\n",
      "---------------------Classification Report--------------------\n",
      "\n",
      "              precision    recall  f1-score   support\n",
      "\n",
      "           0       0.97      1.00      0.98      6941\n",
      "           1       0.44      0.10      0.16       219\n",
      "\n",
      "    accuracy                           0.97      7160\n",
      "   macro avg       0.70      0.55      0.57      7160\n",
      "weighted avg       0.96      0.97      0.96      7160\n",
      "\n",
      "\n",
      "-----------------------Confusion Matrix-----------------------\n",
      "\n",
      "[[6914   27]\n",
      " [ 198   21]]\n",
      "\n",
      "------------------------ROC/AUC SCORE-------------------------\n",
      "\n",
      "0.5460    \n"
     ]
    },
    {
     "name": "stderr",
     "output_type": "stream",
     "text": [
      "/anaconda3/lib/python3.7/site-packages/sklearn/linear_model/logistic.py:432: FutureWarning: Default solver will be changed to 'lbfgs' in 0.22. Specify a solver to silence this warning.\n",
      "  FutureWarning)\n"
     ]
    },
    {
     "name": "stdout",
     "output_type": "stream",
     "text": [
      "\n",
      "---------------------Classification Report--------------------\n",
      "\n",
      "              precision    recall  f1-score   support\n",
      "\n",
      "           0       0.97      1.00      0.99      6944\n",
      "           1       0.64      0.07      0.13       216\n",
      "\n",
      "    accuracy                           0.97      7160\n",
      "   macro avg       0.81      0.54      0.56      7160\n",
      "weighted avg       0.96      0.97      0.96      7160\n",
      "\n",
      "\n",
      "-----------------------Confusion Matrix-----------------------\n",
      "\n",
      "[[6935    9]\n",
      " [ 200   16]]\n",
      "\n",
      "------------------------ROC/AUC SCORE-------------------------\n",
      "\n",
      "0.5364    \n"
     ]
    },
    {
     "name": "stderr",
     "output_type": "stream",
     "text": [
      "/anaconda3/lib/python3.7/site-packages/sklearn/linear_model/logistic.py:432: FutureWarning: Default solver will be changed to 'lbfgs' in 0.22. Specify a solver to silence this warning.\n",
      "  FutureWarning)\n"
     ]
    },
    {
     "name": "stdout",
     "output_type": "stream",
     "text": [
      "\n",
      "---------------------Classification Report--------------------\n",
      "\n",
      "              precision    recall  f1-score   support\n",
      "\n",
      "           0       0.97      1.00      0.98      6922\n",
      "           1       0.26      0.04      0.07       238\n",
      "\n",
      "    accuracy                           0.96      7160\n",
      "   macro avg       0.62      0.52      0.52      7160\n",
      "weighted avg       0.94      0.96      0.95      7160\n",
      "\n",
      "\n",
      "-----------------------Confusion Matrix-----------------------\n",
      "\n",
      "[[6897   25]\n",
      " [ 229    9]]\n",
      "\n",
      "------------------------ROC/AUC SCORE-------------------------\n",
      "\n",
      "0.5171    \n"
     ]
    },
    {
     "name": "stderr",
     "output_type": "stream",
     "text": [
      "/anaconda3/lib/python3.7/site-packages/sklearn/linear_model/logistic.py:432: FutureWarning: Default solver will be changed to 'lbfgs' in 0.22. Specify a solver to silence this warning.\n",
      "  FutureWarning)\n"
     ]
    },
    {
     "name": "stdout",
     "output_type": "stream",
     "text": [
      "\n",
      "---------------------Classification Report--------------------\n",
      "\n",
      "              precision    recall  f1-score   support\n",
      "\n",
      "           0       0.97      0.99      0.98      6942\n",
      "           1       0.36      0.10      0.16       218\n",
      "\n",
      "    accuracy                           0.97      7160\n",
      "   macro avg       0.67      0.55      0.57      7160\n",
      "weighted avg       0.95      0.97      0.96      7160\n",
      "\n",
      "\n",
      "-----------------------Confusion Matrix-----------------------\n",
      "\n",
      "[[6903   39]\n",
      " [ 196   22]]\n",
      "\n",
      "------------------------ROC/AUC SCORE-------------------------\n",
      "\n",
      "0.5476    \n"
     ]
    },
    {
     "name": "stderr",
     "output_type": "stream",
     "text": [
      "/anaconda3/lib/python3.7/site-packages/sklearn/linear_model/logistic.py:432: FutureWarning: Default solver will be changed to 'lbfgs' in 0.22. Specify a solver to silence this warning.\n",
      "  FutureWarning)\n"
     ]
    },
    {
     "name": "stdout",
     "output_type": "stream",
     "text": [
      "\n",
      "---------------------Classification Report--------------------\n",
      "\n",
      "              precision    recall  f1-score   support\n",
      "\n",
      "           0       0.97      1.00      0.98      6920\n",
      "           1       0.29      0.03      0.05       240\n",
      "\n",
      "    accuracy                           0.97      7160\n",
      "   macro avg       0.63      0.51      0.51      7160\n",
      "weighted avg       0.94      0.97      0.95      7160\n",
      "\n",
      "\n",
      "-----------------------Confusion Matrix-----------------------\n",
      "\n",
      "[[6905   15]\n",
      " [ 234    6]]\n",
      "\n",
      "------------------------ROC/AUC SCORE-------------------------\n",
      "\n",
      "0.5114    \n"
     ]
    },
    {
     "name": "stderr",
     "output_type": "stream",
     "text": [
      "/anaconda3/lib/python3.7/site-packages/sklearn/linear_model/logistic.py:432: FutureWarning: Default solver will be changed to 'lbfgs' in 0.22. Specify a solver to silence this warning.\n",
      "  FutureWarning)\n"
     ]
    },
    {
     "name": "stdout",
     "output_type": "stream",
     "text": [
      "\n",
      "---------------------Classification Report--------------------\n",
      "\n",
      "              precision    recall  f1-score   support\n",
      "\n",
      "           0       0.98      1.00      0.99      6979\n",
      "           1       0.40      0.10      0.17       181\n",
      "\n",
      "    accuracy                           0.97      7160\n",
      "   macro avg       0.69      0.55      0.58      7160\n",
      "weighted avg       0.96      0.97      0.97      7160\n",
      "\n",
      "\n",
      "-----------------------Confusion Matrix-----------------------\n",
      "\n",
      "[[6950   29]\n",
      " [ 162   19]]\n",
      "\n",
      "------------------------ROC/AUC SCORE-------------------------\n",
      "\n",
      "0.5504    \n"
     ]
    },
    {
     "name": "stderr",
     "output_type": "stream",
     "text": [
      "/anaconda3/lib/python3.7/site-packages/sklearn/linear_model/logistic.py:432: FutureWarning: Default solver will be changed to 'lbfgs' in 0.22. Specify a solver to silence this warning.\n",
      "  FutureWarning)\n"
     ]
    },
    {
     "name": "stdout",
     "output_type": "stream",
     "text": [
      "\n",
      "---------------------Classification Report--------------------\n",
      "\n",
      "              precision    recall  f1-score   support\n",
      "\n",
      "           0       0.97      1.00      0.99      6972\n",
      "           1       0.00      0.00      0.00       188\n",
      "\n",
      "    accuracy                           0.97      7160\n",
      "   macro avg       0.49      0.50      0.49      7160\n",
      "weighted avg       0.95      0.97      0.96      7160\n",
      "\n",
      "\n",
      "-----------------------Confusion Matrix-----------------------\n",
      "\n",
      "[[6962   10]\n",
      " [ 188    0]]\n",
      "\n",
      "------------------------ROC/AUC SCORE-------------------------\n",
      "\n",
      "0.4993    \n"
     ]
    },
    {
     "name": "stderr",
     "output_type": "stream",
     "text": [
      "/anaconda3/lib/python3.7/site-packages/sklearn/linear_model/logistic.py:432: FutureWarning: Default solver will be changed to 'lbfgs' in 0.22. Specify a solver to silence this warning.\n",
      "  FutureWarning)\n"
     ]
    },
    {
     "name": "stdout",
     "output_type": "stream",
     "text": [
      "\n",
      "---------------------Classification Report--------------------\n",
      "\n",
      "              precision    recall  f1-score   support\n",
      "\n",
      "           0       0.97      1.00      0.99      6963\n",
      "           1       0.14      0.01      0.01       197\n",
      "\n",
      "    accuracy                           0.97      7160\n",
      "   macro avg       0.56      0.50      0.50      7160\n",
      "weighted avg       0.95      0.97      0.96      7160\n",
      "\n",
      "\n",
      "-----------------------Confusion Matrix-----------------------\n",
      "\n",
      "[[6957    6]\n",
      " [ 196    1]]\n",
      "\n",
      "------------------------ROC/AUC SCORE-------------------------\n",
      "\n",
      "0.5021    \n"
     ]
    },
    {
     "name": "stderr",
     "output_type": "stream",
     "text": [
      "/anaconda3/lib/python3.7/site-packages/sklearn/linear_model/logistic.py:432: FutureWarning: Default solver will be changed to 'lbfgs' in 0.22. Specify a solver to silence this warning.\n",
      "  FutureWarning)\n"
     ]
    },
    {
     "name": "stdout",
     "output_type": "stream",
     "text": [
      "\n",
      "---------------------Classification Report--------------------\n",
      "\n",
      "              precision    recall  f1-score   support\n",
      "\n",
      "           0       0.97      1.00      0.98      6946\n",
      "           1       0.32      0.05      0.08       214\n",
      "\n",
      "    accuracy                           0.97      7160\n",
      "   macro avg       0.65      0.52      0.53      7160\n",
      "weighted avg       0.95      0.97      0.96      7160\n",
      "\n",
      "\n",
      "-----------------------Confusion Matrix-----------------------\n",
      "\n",
      "[[6925   21]\n",
      " [ 204   10]]\n",
      "\n",
      "------------------------ROC/AUC SCORE-------------------------\n",
      "\n",
      "0.5219    \n"
     ]
    },
    {
     "name": "stderr",
     "output_type": "stream",
     "text": [
      "/anaconda3/lib/python3.7/site-packages/sklearn/linear_model/logistic.py:432: FutureWarning: Default solver will be changed to 'lbfgs' in 0.22. Specify a solver to silence this warning.\n",
      "  FutureWarning)\n"
     ]
    },
    {
     "name": "stdout",
     "output_type": "stream",
     "text": [
      "\n",
      "---------------------Classification Report--------------------\n",
      "\n",
      "              precision    recall  f1-score   support\n",
      "\n",
      "           0       0.98      0.99      0.99      6978\n",
      "           1       0.34      0.11      0.17       182\n",
      "\n",
      "    accuracy                           0.97      7160\n",
      "   macro avg       0.66      0.55      0.58      7160\n",
      "weighted avg       0.96      0.97      0.96      7160\n",
      "\n",
      "\n",
      "-----------------------Confusion Matrix-----------------------\n",
      "\n",
      "[[6940   38]\n",
      " [ 162   20]]\n",
      "\n",
      "------------------------ROC/AUC SCORE-------------------------\n",
      "\n",
      "0.5522    \n"
     ]
    },
    {
     "name": "stderr",
     "output_type": "stream",
     "text": [
      "/anaconda3/lib/python3.7/site-packages/sklearn/linear_model/logistic.py:432: FutureWarning: Default solver will be changed to 'lbfgs' in 0.22. Specify a solver to silence this warning.\n",
      "  FutureWarning)\n"
     ]
    },
    {
     "name": "stdout",
     "output_type": "stream",
     "text": [
      "\n",
      "---------------------Classification Report--------------------\n",
      "\n",
      "              precision    recall  f1-score   support\n",
      "\n",
      "           0       0.97      1.00      0.98      6943\n",
      "           1       0.18      0.01      0.02       217\n",
      "\n",
      "    accuracy                           0.97      7160\n",
      "   macro avg       0.58      0.50      0.50      7160\n",
      "weighted avg       0.95      0.97      0.95      7160\n",
      "\n",
      "\n",
      "-----------------------Confusion Matrix-----------------------\n",
      "\n",
      "[[6934    9]\n",
      " [ 215    2]]\n",
      "\n",
      "------------------------ROC/AUC SCORE-------------------------\n",
      "\n",
      "0.5040    \n"
     ]
    },
    {
     "name": "stderr",
     "output_type": "stream",
     "text": [
      "/anaconda3/lib/python3.7/site-packages/sklearn/linear_model/logistic.py:432: FutureWarning: Default solver will be changed to 'lbfgs' in 0.22. Specify a solver to silence this warning.\n",
      "  FutureWarning)\n"
     ]
    },
    {
     "name": "stdout",
     "output_type": "stream",
     "text": [
      "\n",
      "---------------------Classification Report--------------------\n",
      "\n",
      "              precision    recall  f1-score   support\n",
      "\n",
      "           0       0.97      1.00      0.98      6935\n",
      "           1       0.46      0.07      0.12       225\n",
      "\n",
      "    accuracy                           0.97      7160\n",
      "   macro avg       0.71      0.53      0.55      7160\n",
      "weighted avg       0.95      0.97      0.96      7160\n",
      "\n",
      "\n",
      "-----------------------Confusion Matrix-----------------------\n",
      "\n",
      "[[6916   19]\n",
      " [ 209   16]]\n",
      "\n",
      "------------------------ROC/AUC SCORE-------------------------\n",
      "\n",
      "0.5342    \n"
     ]
    },
    {
     "name": "stderr",
     "output_type": "stream",
     "text": [
      "/anaconda3/lib/python3.7/site-packages/sklearn/linear_model/logistic.py:432: FutureWarning: Default solver will be changed to 'lbfgs' in 0.22. Specify a solver to silence this warning.\n",
      "  FutureWarning)\n"
     ]
    },
    {
     "name": "stdout",
     "output_type": "stream",
     "text": [
      "\n",
      "---------------------Classification Report--------------------\n",
      "\n",
      "              precision    recall  f1-score   support\n",
      "\n",
      "           0       0.97      1.00      0.98      6935\n",
      "           1       0.30      0.04      0.06       225\n",
      "\n",
      "    accuracy                           0.97      7160\n",
      "   macro avg       0.63      0.52      0.52      7160\n",
      "weighted avg       0.95      0.97      0.95      7160\n",
      "\n",
      "\n",
      "-----------------------Confusion Matrix-----------------------\n",
      "\n",
      "[[6916   19]\n",
      " [ 217    8]]\n",
      "\n",
      "------------------------ROC/AUC SCORE-------------------------\n",
      "\n",
      "0.5164    \n"
     ]
    },
    {
     "name": "stderr",
     "output_type": "stream",
     "text": [
      "/anaconda3/lib/python3.7/site-packages/sklearn/linear_model/logistic.py:432: FutureWarning: Default solver will be changed to 'lbfgs' in 0.22. Specify a solver to silence this warning.\n",
      "  FutureWarning)\n"
     ]
    },
    {
     "name": "stdout",
     "output_type": "stream",
     "text": [
      "\n",
      "---------------------Classification Report--------------------\n",
      "\n",
      "              precision    recall  f1-score   support\n",
      "\n",
      "           0       0.98      1.00      0.99      6969\n",
      "           1       0.56      0.20      0.30       191\n",
      "\n",
      "    accuracy                           0.97      7160\n",
      "   macro avg       0.77      0.60      0.64      7160\n",
      "weighted avg       0.97      0.97      0.97      7160\n",
      "\n",
      "\n",
      "-----------------------Confusion Matrix-----------------------\n",
      "\n",
      "[[6938   31]\n",
      " [ 152   39]]\n",
      "\n",
      "------------------------ROC/AUC SCORE-------------------------\n",
      "\n",
      "0.5999    \n"
     ]
    },
    {
     "name": "stderr",
     "output_type": "stream",
     "text": [
      "/anaconda3/lib/python3.7/site-packages/sklearn/linear_model/logistic.py:432: FutureWarning: Default solver will be changed to 'lbfgs' in 0.22. Specify a solver to silence this warning.\n",
      "  FutureWarning)\n"
     ]
    },
    {
     "name": "stdout",
     "output_type": "stream",
     "text": [
      "\n",
      "---------------------Classification Report--------------------\n",
      "\n",
      "              precision    recall  f1-score   support\n",
      "\n",
      "           0       0.97      1.00      0.98      6943\n",
      "           1       0.40      0.10      0.16       217\n",
      "\n",
      "    accuracy                           0.97      7160\n",
      "   macro avg       0.69      0.55      0.57      7160\n",
      "weighted avg       0.96      0.97      0.96      7160\n",
      "\n",
      "\n",
      "-----------------------Confusion Matrix-----------------------\n",
      "\n",
      "[[6912   31]\n",
      " [ 196   21]]\n",
      "\n",
      "------------------------ROC/AUC SCORE-------------------------\n",
      "\n",
      "0.5462    \n"
     ]
    },
    {
     "name": "stderr",
     "output_type": "stream",
     "text": [
      "/anaconda3/lib/python3.7/site-packages/sklearn/linear_model/logistic.py:432: FutureWarning: Default solver will be changed to 'lbfgs' in 0.22. Specify a solver to silence this warning.\n",
      "  FutureWarning)\n"
     ]
    },
    {
     "name": "stdout",
     "output_type": "stream",
     "text": [
      "\n",
      "---------------------Classification Report--------------------\n",
      "\n",
      "              precision    recall  f1-score   support\n",
      "\n",
      "           0       0.98      1.00      0.99      6985\n",
      "           1       0.38      0.10      0.16       175\n",
      "\n",
      "    accuracy                           0.97      7160\n",
      "   macro avg       0.68      0.55      0.57      7160\n",
      "weighted avg       0.96      0.97      0.97      7160\n",
      "\n",
      "\n",
      "-----------------------Confusion Matrix-----------------------\n",
      "\n",
      "[[6955   30]\n",
      " [ 157   18]]\n",
      "\n",
      "------------------------ROC/AUC SCORE-------------------------\n",
      "\n",
      "0.5493    \n"
     ]
    },
    {
     "name": "stderr",
     "output_type": "stream",
     "text": [
      "/anaconda3/lib/python3.7/site-packages/sklearn/linear_model/logistic.py:432: FutureWarning: Default solver will be changed to 'lbfgs' in 0.22. Specify a solver to silence this warning.\n",
      "  FutureWarning)\n"
     ]
    },
    {
     "name": "stdout",
     "output_type": "stream",
     "text": [
      "\n",
      "---------------------Classification Report--------------------\n",
      "\n",
      "              precision    recall  f1-score   support\n",
      "\n",
      "           0       0.98      1.00      0.99      6993\n",
      "           1       0.38      0.10      0.16       167\n",
      "\n",
      "    accuracy                           0.98      7160\n",
      "   macro avg       0.68      0.55      0.57      7160\n",
      "weighted avg       0.96      0.98      0.97      7160\n",
      "\n",
      "\n",
      "-----------------------Confusion Matrix-----------------------\n",
      "\n",
      "[[6965   28]\n",
      " [ 150   17]]\n",
      "\n",
      "------------------------ROC/AUC SCORE-------------------------\n",
      "\n",
      "0.5489    \n"
     ]
    },
    {
     "name": "stderr",
     "output_type": "stream",
     "text": [
      "/anaconda3/lib/python3.7/site-packages/sklearn/linear_model/logistic.py:432: FutureWarning: Default solver will be changed to 'lbfgs' in 0.22. Specify a solver to silence this warning.\n",
      "  FutureWarning)\n"
     ]
    },
    {
     "name": "stdout",
     "output_type": "stream",
     "text": [
      "\n",
      "---------------------Classification Report--------------------\n",
      "\n",
      "              precision    recall  f1-score   support\n",
      "\n",
      "           0       0.98      1.00      0.99      6968\n",
      "           1       0.42      0.08      0.14       192\n",
      "\n",
      "    accuracy                           0.97      7160\n",
      "   macro avg       0.70      0.54      0.56      7160\n",
      "weighted avg       0.96      0.97      0.96      7160\n",
      "\n",
      "\n",
      "-----------------------Confusion Matrix-----------------------\n",
      "\n",
      "[[6946   22]\n",
      " [ 176   16]]\n",
      "\n",
      "------------------------ROC/AUC SCORE-------------------------\n",
      "\n",
      "0.5401    \n"
     ]
    },
    {
     "name": "stderr",
     "output_type": "stream",
     "text": [
      "/anaconda3/lib/python3.7/site-packages/sklearn/linear_model/logistic.py:432: FutureWarning: Default solver will be changed to 'lbfgs' in 0.22. Specify a solver to silence this warning.\n",
      "  FutureWarning)\n"
     ]
    },
    {
     "name": "stdout",
     "output_type": "stream",
     "text": [
      "\n",
      "---------------------Classification Report--------------------\n",
      "\n",
      "              precision    recall  f1-score   support\n",
      "\n",
      "           0       0.97      1.00      0.98      6941\n",
      "           1       0.00      0.00      0.00       219\n",
      "\n",
      "    accuracy                           0.97      7160\n",
      "   macro avg       0.48      0.50      0.49      7160\n",
      "weighted avg       0.94      0.97      0.95      7160\n",
      "\n",
      "\n",
      "-----------------------Confusion Matrix-----------------------\n",
      "\n",
      "[[6938    3]\n",
      " [ 219    0]]\n",
      "\n",
      "------------------------ROC/AUC SCORE-------------------------\n",
      "\n",
      "0.4998    \n"
     ]
    },
    {
     "name": "stderr",
     "output_type": "stream",
     "text": [
      "/anaconda3/lib/python3.7/site-packages/sklearn/linear_model/logistic.py:432: FutureWarning: Default solver will be changed to 'lbfgs' in 0.22. Specify a solver to silence this warning.\n",
      "  FutureWarning)\n"
     ]
    },
    {
     "name": "stdout",
     "output_type": "stream",
     "text": [
      "\n",
      "---------------------Classification Report--------------------\n",
      "\n",
      "              precision    recall  f1-score   support\n",
      "\n",
      "           0       0.97      1.00      0.98      6950\n",
      "           1       0.30      0.03      0.05       210\n",
      "\n",
      "    accuracy                           0.97      7160\n",
      "   macro avg       0.64      0.51      0.52      7160\n",
      "weighted avg       0.95      0.97      0.96      7160\n",
      "\n",
      "\n",
      "-----------------------Confusion Matrix-----------------------\n",
      "\n",
      "[[6936   14]\n",
      " [ 204    6]]\n",
      "\n",
      "------------------------ROC/AUC SCORE-------------------------\n",
      "\n",
      "0.5133    \n"
     ]
    },
    {
     "name": "stderr",
     "output_type": "stream",
     "text": [
      "/anaconda3/lib/python3.7/site-packages/sklearn/linear_model/logistic.py:432: FutureWarning: Default solver will be changed to 'lbfgs' in 0.22. Specify a solver to silence this warning.\n",
      "  FutureWarning)\n"
     ]
    },
    {
     "name": "stdout",
     "output_type": "stream",
     "text": [
      "\n",
      "---------------------Classification Report--------------------\n",
      "\n",
      "              precision    recall  f1-score   support\n",
      "\n",
      "           0       0.97      1.00      0.98      6947\n",
      "           1       0.34      0.07      0.11       213\n",
      "\n",
      "    accuracy                           0.97      7160\n",
      "   macro avg       0.66      0.53      0.55      7160\n",
      "weighted avg       0.95      0.97      0.96      7160\n",
      "\n",
      "\n",
      "-----------------------Confusion Matrix-----------------------\n",
      "\n",
      "[[6920   27]\n",
      " [ 199   14]]\n",
      "\n",
      "------------------------ROC/AUC SCORE-------------------------\n",
      "\n",
      "0.5309    \n"
     ]
    },
    {
     "name": "stderr",
     "output_type": "stream",
     "text": [
      "/anaconda3/lib/python3.7/site-packages/sklearn/linear_model/logistic.py:432: FutureWarning: Default solver will be changed to 'lbfgs' in 0.22. Specify a solver to silence this warning.\n",
      "  FutureWarning)\n"
     ]
    },
    {
     "name": "stdout",
     "output_type": "stream",
     "text": [
      "\n",
      "---------------------Classification Report--------------------\n",
      "\n",
      "              precision    recall  f1-score   support\n",
      "\n",
      "           0       0.97      1.00      0.98      6966\n",
      "           1       0.22      0.04      0.06       194\n",
      "\n",
      "    accuracy                           0.97      7160\n",
      "   macro avg       0.60      0.52      0.52      7160\n",
      "weighted avg       0.95      0.97      0.96      7160\n",
      "\n",
      "\n",
      "-----------------------Confusion Matrix-----------------------\n",
      "\n",
      "[[6941   25]\n",
      " [ 187    7]]\n",
      "\n",
      "------------------------ROC/AUC SCORE-------------------------\n",
      "\n",
      "0.5162    \n"
     ]
    },
    {
     "name": "stderr",
     "output_type": "stream",
     "text": [
      "/anaconda3/lib/python3.7/site-packages/sklearn/linear_model/logistic.py:432: FutureWarning: Default solver will be changed to 'lbfgs' in 0.22. Specify a solver to silence this warning.\n",
      "  FutureWarning)\n"
     ]
    },
    {
     "name": "stdout",
     "output_type": "stream",
     "text": [
      "\n",
      "---------------------Classification Report--------------------\n",
      "\n",
      "              precision    recall  f1-score   support\n",
      "\n",
      "           0       0.98      0.99      0.98      6961\n",
      "           1       0.34      0.15      0.21       199\n",
      "\n",
      "    accuracy                           0.97      7160\n",
      "   macro avg       0.66      0.57      0.60      7160\n",
      "weighted avg       0.96      0.97      0.96      7160\n",
      "\n",
      "\n",
      "-----------------------Confusion Matrix-----------------------\n",
      "\n",
      "[[6903   58]\n",
      " [ 169   30]]\n",
      "\n",
      "------------------------ROC/AUC SCORE-------------------------\n",
      "\n",
      "0.5712    \n"
     ]
    },
    {
     "name": "stderr",
     "output_type": "stream",
     "text": [
      "/anaconda3/lib/python3.7/site-packages/sklearn/linear_model/logistic.py:432: FutureWarning: Default solver will be changed to 'lbfgs' in 0.22. Specify a solver to silence this warning.\n",
      "  FutureWarning)\n"
     ]
    },
    {
     "name": "stdout",
     "output_type": "stream",
     "text": [
      "\n",
      "---------------------Classification Report--------------------\n",
      "\n",
      "              precision    recall  f1-score   support\n",
      "\n",
      "           0       0.97      1.00      0.99      6978\n",
      "           1       0.00      0.00      0.00       182\n",
      "\n",
      "    accuracy                           0.97      7160\n",
      "   macro avg       0.49      0.50      0.49      7160\n",
      "weighted avg       0.95      0.97      0.96      7160\n",
      "\n",
      "\n",
      "-----------------------Confusion Matrix-----------------------\n",
      "\n",
      "[[6971    7]\n",
      " [ 182    0]]\n",
      "\n",
      "------------------------ROC/AUC SCORE-------------------------\n",
      "\n",
      "0.4995    \n"
     ]
    },
    {
     "name": "stderr",
     "output_type": "stream",
     "text": [
      "/anaconda3/lib/python3.7/site-packages/sklearn/linear_model/logistic.py:432: FutureWarning: Default solver will be changed to 'lbfgs' in 0.22. Specify a solver to silence this warning.\n",
      "  FutureWarning)\n"
     ]
    },
    {
     "name": "stdout",
     "output_type": "stream",
     "text": [
      "\n",
      "---------------------Classification Report--------------------\n",
      "\n",
      "              precision    recall  f1-score   support\n",
      "\n",
      "           0       0.97      1.00      0.98      6960\n",
      "           1       0.15      0.03      0.04       200\n",
      "\n",
      "    accuracy                           0.97      7160\n",
      "   macro avg       0.56      0.51      0.51      7160\n",
      "weighted avg       0.95      0.97      0.96      7160\n",
      "\n",
      "\n",
      "-----------------------Confusion Matrix-----------------------\n",
      "\n",
      "[[6932   28]\n",
      " [ 195    5]]\n",
      "\n",
      "------------------------ROC/AUC SCORE-------------------------\n",
      "\n",
      "0.5105    \n"
     ]
    },
    {
     "name": "stderr",
     "output_type": "stream",
     "text": [
      "/anaconda3/lib/python3.7/site-packages/sklearn/linear_model/logistic.py:432: FutureWarning: Default solver will be changed to 'lbfgs' in 0.22. Specify a solver to silence this warning.\n",
      "  FutureWarning)\n"
     ]
    },
    {
     "name": "stdout",
     "output_type": "stream",
     "text": [
      "\n",
      "---------------------Classification Report--------------------\n",
      "\n",
      "              precision    recall  f1-score   support\n",
      "\n",
      "           0       0.98      1.00      0.99      6997\n",
      "           1       0.00      0.00      0.00       163\n",
      "\n",
      "    accuracy                           0.98      7160\n",
      "   macro avg       0.49      0.50      0.49      7160\n",
      "weighted avg       0.95      0.98      0.97      7160\n",
      "\n",
      "\n",
      "-----------------------Confusion Matrix-----------------------\n",
      "\n",
      "[[6992    5]\n",
      " [ 163    0]]\n",
      "\n",
      "------------------------ROC/AUC SCORE-------------------------\n",
      "\n",
      "0.4996    \n"
     ]
    },
    {
     "name": "stderr",
     "output_type": "stream",
     "text": [
      "/anaconda3/lib/python3.7/site-packages/sklearn/linear_model/logistic.py:432: FutureWarning: Default solver will be changed to 'lbfgs' in 0.22. Specify a solver to silence this warning.\n",
      "  FutureWarning)\n"
     ]
    },
    {
     "name": "stdout",
     "output_type": "stream",
     "text": [
      "\n",
      "---------------------Classification Report--------------------\n",
      "\n",
      "              precision    recall  f1-score   support\n",
      "\n",
      "           0       0.99      0.99      0.99      6991\n",
      "           1       0.77      0.76      0.77       169\n",
      "\n",
      "    accuracy                           0.99      7160\n",
      "   macro avg       0.88      0.88      0.88      7160\n",
      "weighted avg       0.99      0.99      0.99      7160\n",
      "\n",
      "\n",
      "-----------------------Confusion Matrix-----------------------\n",
      "\n",
      "[[6952   39]\n",
      " [  40  129]]\n",
      "\n",
      "------------------------ROC/AUC SCORE-------------------------\n",
      "\n",
      "0.8789    \n"
     ]
    },
    {
     "name": "stderr",
     "output_type": "stream",
     "text": [
      "/anaconda3/lib/python3.7/site-packages/sklearn/linear_model/logistic.py:432: FutureWarning: Default solver will be changed to 'lbfgs' in 0.22. Specify a solver to silence this warning.\n",
      "  FutureWarning)\n"
     ]
    },
    {
     "name": "stdout",
     "output_type": "stream",
     "text": [
      "\n",
      "---------------------Classification Report--------------------\n",
      "\n",
      "              precision    recall  f1-score   support\n",
      "\n",
      "           0       0.97      1.00      0.98      6961\n",
      "           1       0.09      0.01      0.02       199\n",
      "\n",
      "    accuracy                           0.97      7160\n",
      "   macro avg       0.53      0.50      0.50      7160\n",
      "weighted avg       0.95      0.97      0.96      7160\n",
      "\n",
      "\n",
      "-----------------------Confusion Matrix-----------------------\n",
      "\n",
      "[[6941   20]\n",
      " [ 197    2]]\n",
      "\n",
      "------------------------ROC/AUC SCORE-------------------------\n",
      "\n",
      "0.5036    \n"
     ]
    },
    {
     "name": "stderr",
     "output_type": "stream",
     "text": [
      "/anaconda3/lib/python3.7/site-packages/sklearn/linear_model/logistic.py:432: FutureWarning: Default solver will be changed to 'lbfgs' in 0.22. Specify a solver to silence this warning.\n",
      "  FutureWarning)\n"
     ]
    },
    {
     "name": "stdout",
     "output_type": "stream",
     "text": [
      "\n",
      "---------------------Classification Report--------------------\n",
      "\n",
      "              precision    recall  f1-score   support\n",
      "\n",
      "           0       0.98      1.00      0.99      6966\n",
      "           1       0.44      0.09      0.15       194\n",
      "\n",
      "    accuracy                           0.97      7160\n",
      "   macro avg       0.71      0.54      0.57      7160\n",
      "weighted avg       0.96      0.97      0.96      7160\n",
      "\n",
      "\n",
      "-----------------------Confusion Matrix-----------------------\n",
      "\n",
      "[[6944   22]\n",
      " [ 177   17]]\n",
      "\n",
      "------------------------ROC/AUC SCORE-------------------------\n",
      "\n",
      "0.5422    \n"
     ]
    },
    {
     "name": "stderr",
     "output_type": "stream",
     "text": [
      "/anaconda3/lib/python3.7/site-packages/sklearn/linear_model/logistic.py:432: FutureWarning: Default solver will be changed to 'lbfgs' in 0.22. Specify a solver to silence this warning.\n",
      "  FutureWarning)\n"
     ]
    },
    {
     "name": "stdout",
     "output_type": "stream",
     "text": [
      "\n",
      "---------------------Classification Report--------------------\n",
      "\n",
      "              precision    recall  f1-score   support\n",
      "\n",
      "           0       0.98      1.00      0.99      6984\n",
      "           1       0.35      0.09      0.14       176\n",
      "\n",
      "    accuracy                           0.97      7160\n",
      "   macro avg       0.66      0.54      0.56      7160\n",
      "weighted avg       0.96      0.97      0.97      7160\n",
      "\n",
      "\n",
      "-----------------------Confusion Matrix-----------------------\n",
      "\n",
      "[[6956   28]\n",
      " [ 161   15]]\n",
      "\n",
      "------------------------ROC/AUC SCORE-------------------------\n",
      "\n",
      "0.5406    \n"
     ]
    },
    {
     "name": "stderr",
     "output_type": "stream",
     "text": [
      "/anaconda3/lib/python3.7/site-packages/sklearn/linear_model/logistic.py:432: FutureWarning: Default solver will be changed to 'lbfgs' in 0.22. Specify a solver to silence this warning.\n",
      "  FutureWarning)\n"
     ]
    },
    {
     "name": "stdout",
     "output_type": "stream",
     "text": [
      "\n",
      "---------------------Classification Report--------------------\n",
      "\n",
      "              precision    recall  f1-score   support\n",
      "\n",
      "           0       0.98      1.00      0.99      6963\n",
      "           1       0.41      0.10      0.16       197\n",
      "\n",
      "    accuracy                           0.97      7160\n",
      "   macro avg       0.69      0.55      0.57      7160\n",
      "weighted avg       0.96      0.97      0.96      7160\n",
      "\n",
      "\n",
      "-----------------------Confusion Matrix-----------------------\n",
      "\n",
      "[[6934   29]\n",
      " [ 177   20]]\n",
      "\n",
      "------------------------ROC/AUC SCORE-------------------------\n",
      "\n",
      "0.5487    \n"
     ]
    },
    {
     "name": "stderr",
     "output_type": "stream",
     "text": [
      "/anaconda3/lib/python3.7/site-packages/sklearn/linear_model/logistic.py:432: FutureWarning: Default solver will be changed to 'lbfgs' in 0.22. Specify a solver to silence this warning.\n",
      "  FutureWarning)\n"
     ]
    },
    {
     "name": "stdout",
     "output_type": "stream",
     "text": [
      "\n",
      "---------------------Classification Report--------------------\n",
      "\n",
      "              precision    recall  f1-score   support\n",
      "\n",
      "           0       0.98      1.00      0.99      6966\n",
      "           1       0.51      0.13      0.21       194\n",
      "\n",
      "    accuracy                           0.97      7160\n",
      "   macro avg       0.74      0.57      0.60      7160\n",
      "weighted avg       0.96      0.97      0.97      7160\n",
      "\n",
      "\n",
      "-----------------------Confusion Matrix-----------------------\n",
      "\n",
      "[[6941   25]\n",
      " [ 168   26]]\n",
      "\n",
      "------------------------ROC/AUC SCORE-------------------------\n",
      "\n",
      "0.5652    \n"
     ]
    },
    {
     "name": "stderr",
     "output_type": "stream",
     "text": [
      "/anaconda3/lib/python3.7/site-packages/sklearn/linear_model/logistic.py:432: FutureWarning: Default solver will be changed to 'lbfgs' in 0.22. Specify a solver to silence this warning.\n",
      "  FutureWarning)\n"
     ]
    },
    {
     "name": "stdout",
     "output_type": "stream",
     "text": [
      "\n",
      "---------------------Classification Report--------------------\n",
      "\n",
      "              precision    recall  f1-score   support\n",
      "\n",
      "           0       0.98      0.99      0.99      6951\n",
      "           1       0.58      0.41      0.48       209\n",
      "\n",
      "    accuracy                           0.97      7160\n",
      "   macro avg       0.78      0.70      0.73      7160\n",
      "weighted avg       0.97      0.97      0.97      7160\n",
      "\n",
      "\n",
      "-----------------------Confusion Matrix-----------------------\n",
      "\n",
      "[[6889   62]\n",
      " [ 124   85]]\n",
      "\n",
      "------------------------ROC/AUC SCORE-------------------------\n",
      "\n",
      "0.6989    \n"
     ]
    },
    {
     "name": "stderr",
     "output_type": "stream",
     "text": [
      "/anaconda3/lib/python3.7/site-packages/sklearn/linear_model/logistic.py:432: FutureWarning: Default solver will be changed to 'lbfgs' in 0.22. Specify a solver to silence this warning.\n",
      "  FutureWarning)\n"
     ]
    },
    {
     "name": "stdout",
     "output_type": "stream",
     "text": [
      "\n",
      "---------------------Classification Report--------------------\n",
      "\n",
      "              precision    recall  f1-score   support\n",
      "\n",
      "           0       0.98      1.00      0.99      6980\n",
      "           1       0.38      0.08      0.14       180\n",
      "\n",
      "    accuracy                           0.97      7160\n",
      "   macro avg       0.68      0.54      0.56      7160\n",
      "weighted avg       0.96      0.97      0.97      7160\n",
      "\n",
      "\n",
      "-----------------------Confusion Matrix-----------------------\n",
      "\n",
      "[[6955   25]\n",
      " [ 165   15]]\n",
      "\n",
      "------------------------ROC/AUC SCORE-------------------------\n",
      "\n",
      "0.5399    \n"
     ]
    },
    {
     "name": "stderr",
     "output_type": "stream",
     "text": [
      "/anaconda3/lib/python3.7/site-packages/sklearn/linear_model/logistic.py:432: FutureWarning: Default solver will be changed to 'lbfgs' in 0.22. Specify a solver to silence this warning.\n",
      "  FutureWarning)\n"
     ]
    },
    {
     "name": "stdout",
     "output_type": "stream",
     "text": [
      "\n",
      "---------------------Classification Report--------------------\n",
      "\n",
      "              precision    recall  f1-score   support\n",
      "\n",
      "           0       0.97      1.00      0.99      6970\n",
      "           1       0.33      0.03      0.05       190\n",
      "\n",
      "    accuracy                           0.97      7160\n",
      "   macro avg       0.65      0.51      0.52      7160\n",
      "weighted avg       0.96      0.97      0.96      7160\n",
      "\n",
      "\n",
      "-----------------------Confusion Matrix-----------------------\n",
      "\n",
      "[[6960   10]\n",
      " [ 185    5]]\n",
      "\n",
      "------------------------ROC/AUC SCORE-------------------------\n",
      "\n",
      "0.5124    \n"
     ]
    },
    {
     "name": "stderr",
     "output_type": "stream",
     "text": [
      "/anaconda3/lib/python3.7/site-packages/sklearn/linear_model/logistic.py:432: FutureWarning: Default solver will be changed to 'lbfgs' in 0.22. Specify a solver to silence this warning.\n",
      "  FutureWarning)\n"
     ]
    },
    {
     "name": "stdout",
     "output_type": "stream",
     "text": [
      "\n",
      "---------------------Classification Report--------------------\n",
      "\n",
      "              precision    recall  f1-score   support\n",
      "\n",
      "           0       0.98      1.00      0.99      6999\n",
      "           1       0.25      0.03      0.06       161\n",
      "\n",
      "    accuracy                           0.98      7160\n",
      "   macro avg       0.61      0.51      0.52      7160\n",
      "weighted avg       0.96      0.98      0.97      7160\n",
      "\n",
      "\n",
      "-----------------------Confusion Matrix-----------------------\n",
      "\n",
      "[[6984   15]\n",
      " [ 156    5]]\n",
      "\n",
      "------------------------ROC/AUC SCORE-------------------------\n",
      "\n",
      "0.5145    \n"
     ]
    },
    {
     "name": "stderr",
     "output_type": "stream",
     "text": [
      "/anaconda3/lib/python3.7/site-packages/sklearn/linear_model/logistic.py:432: FutureWarning: Default solver will be changed to 'lbfgs' in 0.22. Specify a solver to silence this warning.\n",
      "  FutureWarning)\n"
     ]
    },
    {
     "name": "stdout",
     "output_type": "stream",
     "text": [
      "\n",
      "---------------------Classification Report--------------------\n",
      "\n",
      "              precision    recall  f1-score   support\n",
      "\n",
      "           0       0.98      0.99      0.99      7000\n",
      "           1       0.25      0.09      0.13       160\n",
      "\n",
      "    accuracy                           0.97      7160\n",
      "   macro avg       0.62      0.54      0.56      7160\n",
      "weighted avg       0.96      0.97      0.97      7160\n",
      "\n",
      "\n",
      "-----------------------Confusion Matrix-----------------------\n",
      "\n",
      "[[6959   41]\n",
      " [ 146   14]]\n",
      "\n",
      "------------------------ROC/AUC SCORE-------------------------\n",
      "\n",
      "0.5408    \n"
     ]
    },
    {
     "name": "stderr",
     "output_type": "stream",
     "text": [
      "/anaconda3/lib/python3.7/site-packages/sklearn/linear_model/logistic.py:432: FutureWarning: Default solver will be changed to 'lbfgs' in 0.22. Specify a solver to silence this warning.\n",
      "  FutureWarning)\n"
     ]
    },
    {
     "name": "stdout",
     "output_type": "stream",
     "text": [
      "\n",
      "---------------------Classification Report--------------------\n",
      "\n",
      "              precision    recall  f1-score   support\n",
      "\n",
      "           0       0.98      1.00      0.99      6992\n",
      "           1       0.32      0.04      0.07       168\n",
      "\n",
      "    accuracy                           0.98      7160\n",
      "   macro avg       0.65      0.52      0.53      7160\n",
      "weighted avg       0.96      0.98      0.97      7160\n",
      "\n",
      "\n",
      "-----------------------Confusion Matrix-----------------------\n",
      "\n",
      "[[6977   15]\n",
      " [ 161    7]]\n",
      "\n",
      "------------------------ROC/AUC SCORE-------------------------\n",
      "\n",
      "0.5198    \n"
     ]
    },
    {
     "name": "stderr",
     "output_type": "stream",
     "text": [
      "/anaconda3/lib/python3.7/site-packages/sklearn/linear_model/logistic.py:432: FutureWarning: Default solver will be changed to 'lbfgs' in 0.22. Specify a solver to silence this warning.\n",
      "  FutureWarning)\n"
     ]
    },
    {
     "name": "stdout",
     "output_type": "stream",
     "text": [
      "\n",
      "---------------------Classification Report--------------------\n",
      "\n",
      "              precision    recall  f1-score   support\n",
      "\n",
      "           0       0.98      1.00      0.99      7006\n",
      "           1       0.38      0.03      0.06       154\n",
      "\n",
      "    accuracy                           0.98      7160\n",
      "   macro avg       0.68      0.52      0.52      7160\n",
      "weighted avg       0.97      0.98      0.97      7160\n",
      "\n",
      "\n",
      "-----------------------Confusion Matrix-----------------------\n",
      "\n",
      "[[6998    8]\n",
      " [ 149    5]]\n",
      "\n",
      "------------------------ROC/AUC SCORE-------------------------\n",
      "\n",
      "0.5157    \n"
     ]
    },
    {
     "name": "stderr",
     "output_type": "stream",
     "text": [
      "/anaconda3/lib/python3.7/site-packages/sklearn/linear_model/logistic.py:432: FutureWarning: Default solver will be changed to 'lbfgs' in 0.22. Specify a solver to silence this warning.\n",
      "  FutureWarning)\n"
     ]
    },
    {
     "name": "stdout",
     "output_type": "stream",
     "text": [
      "\n",
      "---------------------Classification Report--------------------\n",
      "\n",
      "              precision    recall  f1-score   support\n",
      "\n",
      "           0       0.98      0.99      0.99      6986\n",
      "           1       0.32      0.11      0.17       174\n",
      "\n",
      "    accuracy                           0.97      7160\n",
      "   macro avg       0.65      0.55      0.58      7160\n",
      "weighted avg       0.96      0.97      0.97      7160\n",
      "\n",
      "\n",
      "-----------------------Confusion Matrix-----------------------\n",
      "\n",
      "[[6943   43]\n",
      " [ 154   20]]\n",
      "\n",
      "------------------------ROC/AUC SCORE-------------------------\n",
      "\n",
      "0.5544    \n"
     ]
    },
    {
     "name": "stderr",
     "output_type": "stream",
     "text": [
      "/anaconda3/lib/python3.7/site-packages/sklearn/linear_model/logistic.py:432: FutureWarning: Default solver will be changed to 'lbfgs' in 0.22. Specify a solver to silence this warning.\n",
      "  FutureWarning)\n"
     ]
    },
    {
     "name": "stdout",
     "output_type": "stream",
     "text": [
      "\n",
      "---------------------Classification Report--------------------\n",
      "\n",
      "              precision    recall  f1-score   support\n",
      "\n",
      "           0       0.98      1.00      0.99      6984\n",
      "           1       0.37      0.10      0.15       176\n",
      "\n",
      "    accuracy                           0.97      7160\n",
      "   macro avg       0.67      0.55      0.57      7160\n",
      "weighted avg       0.96      0.97      0.97      7160\n",
      "\n",
      "\n",
      "-----------------------Confusion Matrix-----------------------\n",
      "\n",
      "[[6955   29]\n",
      " [ 159   17]]\n",
      "\n",
      "------------------------ROC/AUC SCORE-------------------------\n",
      "\n",
      "0.5462    \n"
     ]
    },
    {
     "name": "stderr",
     "output_type": "stream",
     "text": [
      "/anaconda3/lib/python3.7/site-packages/sklearn/linear_model/logistic.py:432: FutureWarning: Default solver will be changed to 'lbfgs' in 0.22. Specify a solver to silence this warning.\n",
      "  FutureWarning)\n"
     ]
    },
    {
     "name": "stdout",
     "output_type": "stream",
     "text": [
      "\n",
      "---------------------Classification Report--------------------\n",
      "\n",
      "              precision    recall  f1-score   support\n",
      "\n",
      "           0       0.98      1.00      0.99      6982\n",
      "           1       0.38      0.12      0.18       178\n",
      "\n",
      "    accuracy                           0.97      7160\n",
      "   macro avg       0.68      0.56      0.58      7160\n",
      "weighted avg       0.96      0.97      0.97      7160\n",
      "\n",
      "\n",
      "-----------------------Confusion Matrix-----------------------\n",
      "\n",
      "[[6948   34]\n",
      " [ 157   21]]\n",
      "\n",
      "------------------------ROC/AUC SCORE-------------------------\n",
      "\n",
      "0.5566    \n"
     ]
    },
    {
     "name": "stderr",
     "output_type": "stream",
     "text": [
      "/anaconda3/lib/python3.7/site-packages/sklearn/linear_model/logistic.py:432: FutureWarning: Default solver will be changed to 'lbfgs' in 0.22. Specify a solver to silence this warning.\n",
      "  FutureWarning)\n"
     ]
    },
    {
     "name": "stdout",
     "output_type": "stream",
     "text": [
      "\n",
      "---------------------Classification Report--------------------\n",
      "\n",
      "              precision    recall  f1-score   support\n",
      "\n",
      "           0       0.97      1.00      0.99      6973\n",
      "           1       0.21      0.03      0.05       187\n",
      "\n",
      "    accuracy                           0.97      7160\n",
      "   macro avg       0.59      0.51      0.52      7160\n",
      "weighted avg       0.95      0.97      0.96      7160\n",
      "\n",
      "\n",
      "-----------------------Confusion Matrix-----------------------\n",
      "\n",
      "[[6954   19]\n",
      " [ 182    5]]\n",
      "\n",
      "------------------------ROC/AUC SCORE-------------------------\n",
      "\n",
      "0.5120    \n"
     ]
    },
    {
     "name": "stderr",
     "output_type": "stream",
     "text": [
      "/anaconda3/lib/python3.7/site-packages/sklearn/linear_model/logistic.py:432: FutureWarning: Default solver will be changed to 'lbfgs' in 0.22. Specify a solver to silence this warning.\n",
      "  FutureWarning)\n"
     ]
    },
    {
     "name": "stdout",
     "output_type": "stream",
     "text": [
      "\n",
      "---------------------Classification Report--------------------\n",
      "\n",
      "              precision    recall  f1-score   support\n",
      "\n",
      "           0       0.98      1.00      0.99      6983\n",
      "           1       0.54      0.08      0.15       177\n",
      "\n",
      "    accuracy                           0.98      7160\n",
      "   macro avg       0.76      0.54      0.57      7160\n",
      "weighted avg       0.97      0.98      0.97      7160\n",
      "\n",
      "\n",
      "-----------------------Confusion Matrix-----------------------\n",
      "\n",
      "[[6970   13]\n",
      " [ 162   15]]\n",
      "\n",
      "------------------------ROC/AUC SCORE-------------------------\n",
      "\n",
      "0.5414    \n"
     ]
    },
    {
     "name": "stderr",
     "output_type": "stream",
     "text": [
      "/anaconda3/lib/python3.7/site-packages/sklearn/linear_model/logistic.py:432: FutureWarning: Default solver will be changed to 'lbfgs' in 0.22. Specify a solver to silence this warning.\n",
      "  FutureWarning)\n"
     ]
    },
    {
     "name": "stdout",
     "output_type": "stream",
     "text": [
      "\n",
      "---------------------Classification Report--------------------\n",
      "\n",
      "              precision    recall  f1-score   support\n",
      "\n",
      "           0       0.98      1.00      0.99      6986\n",
      "           1       0.49      0.13      0.21       174\n",
      "\n",
      "    accuracy                           0.98      7160\n",
      "   macro avg       0.73      0.56      0.60      7160\n",
      "weighted avg       0.97      0.98      0.97      7160\n",
      "\n",
      "\n",
      "-----------------------Confusion Matrix-----------------------\n",
      "\n",
      "[[6962   24]\n",
      " [ 151   23]]\n",
      "\n",
      "------------------------ROC/AUC SCORE-------------------------\n",
      "\n",
      "0.5644    \n"
     ]
    },
    {
     "name": "stderr",
     "output_type": "stream",
     "text": [
      "/anaconda3/lib/python3.7/site-packages/sklearn/linear_model/logistic.py:432: FutureWarning: Default solver will be changed to 'lbfgs' in 0.22. Specify a solver to silence this warning.\n",
      "  FutureWarning)\n"
     ]
    },
    {
     "name": "stdout",
     "output_type": "stream",
     "text": [
      "\n",
      "---------------------Classification Report--------------------\n",
      "\n",
      "              precision    recall  f1-score   support\n",
      "\n",
      "           0       0.98      1.00      0.99      6995\n",
      "           1       0.22      0.01      0.02       165\n",
      "\n",
      "    accuracy                           0.98      7160\n",
      "   macro avg       0.60      0.51      0.51      7160\n",
      "weighted avg       0.96      0.98      0.97      7160\n",
      "\n",
      "\n",
      "-----------------------Confusion Matrix-----------------------\n",
      "\n",
      "[[6988    7]\n",
      " [ 163    2]]\n",
      "\n",
      "------------------------ROC/AUC SCORE-------------------------\n",
      "\n",
      "0.5056    \n"
     ]
    },
    {
     "name": "stderr",
     "output_type": "stream",
     "text": [
      "/anaconda3/lib/python3.7/site-packages/sklearn/linear_model/logistic.py:432: FutureWarning: Default solver will be changed to 'lbfgs' in 0.22. Specify a solver to silence this warning.\n",
      "  FutureWarning)\n"
     ]
    },
    {
     "name": "stdout",
     "output_type": "stream",
     "text": [
      "\n",
      "---------------------Classification Report--------------------\n",
      "\n",
      "              precision    recall  f1-score   support\n",
      "\n",
      "           0       0.97      1.00      0.99      6972\n",
      "           1       0.00      0.00      0.00       188\n",
      "\n",
      "    accuracy                           0.97      7160\n",
      "   macro avg       0.49      0.50      0.49      7160\n",
      "weighted avg       0.95      0.97      0.96      7160\n",
      "\n",
      "\n",
      "-----------------------Confusion Matrix-----------------------\n",
      "\n",
      "[[6972    0]\n",
      " [ 188    0]]\n",
      "\n",
      "------------------------ROC/AUC SCORE-------------------------\n",
      "\n",
      "0.5000    \n"
     ]
    },
    {
     "name": "stderr",
     "output_type": "stream",
     "text": [
      "/anaconda3/lib/python3.7/site-packages/sklearn/metrics/classification.py:1437: UndefinedMetricWarning: Precision and F-score are ill-defined and being set to 0.0 in labels with no predicted samples.\n",
      "  'precision', 'predicted', average, warn_for)\n",
      "/anaconda3/lib/python3.7/site-packages/sklearn/metrics/classification.py:1437: UndefinedMetricWarning: Precision is ill-defined and being set to 0.0 due to no predicted samples.\n",
      "  'precision', 'predicted', average, warn_for)\n",
      "/anaconda3/lib/python3.7/site-packages/sklearn/linear_model/logistic.py:432: FutureWarning: Default solver will be changed to 'lbfgs' in 0.22. Specify a solver to silence this warning.\n",
      "  FutureWarning)\n"
     ]
    },
    {
     "name": "stdout",
     "output_type": "stream",
     "text": [
      "\n",
      "---------------------Classification Report--------------------\n",
      "\n",
      "              precision    recall  f1-score   support\n",
      "\n",
      "           0       0.97      1.00      0.98      6967\n",
      "           1       0.19      0.03      0.05       193\n",
      "\n",
      "    accuracy                           0.97      7160\n",
      "   macro avg       0.58      0.51      0.52      7160\n",
      "weighted avg       0.95      0.97      0.96      7160\n",
      "\n",
      "\n",
      "-----------------------Confusion Matrix-----------------------\n",
      "\n",
      "[[6941   26]\n",
      " [ 187    6]]\n",
      "\n",
      "------------------------ROC/AUC SCORE-------------------------\n",
      "\n",
      "0.5137    \n"
     ]
    },
    {
     "name": "stderr",
     "output_type": "stream",
     "text": [
      "/anaconda3/lib/python3.7/site-packages/sklearn/linear_model/logistic.py:432: FutureWarning: Default solver will be changed to 'lbfgs' in 0.22. Specify a solver to silence this warning.\n",
      "  FutureWarning)\n"
     ]
    },
    {
     "name": "stdout",
     "output_type": "stream",
     "text": [
      "\n",
      "---------------------Classification Report--------------------\n",
      "\n",
      "              precision    recall  f1-score   support\n",
      "\n",
      "           0       0.98      1.00      0.99      7006\n",
      "           1       0.15      0.04      0.06       154\n",
      "\n",
      "    accuracy                           0.97      7160\n",
      "   macro avg       0.56      0.52      0.52      7160\n",
      "weighted avg       0.96      0.97      0.97      7160\n",
      "\n",
      "\n",
      "-----------------------Confusion Matrix-----------------------\n",
      "\n",
      "[[6972   34]\n",
      " [ 148    6]]\n",
      "\n",
      "------------------------ROC/AUC SCORE-------------------------\n",
      "\n",
      "0.5171    \n"
     ]
    },
    {
     "name": "stderr",
     "output_type": "stream",
     "text": [
      "/anaconda3/lib/python3.7/site-packages/sklearn/linear_model/logistic.py:432: FutureWarning: Default solver will be changed to 'lbfgs' in 0.22. Specify a solver to silence this warning.\n",
      "  FutureWarning)\n"
     ]
    },
    {
     "name": "stdout",
     "output_type": "stream",
     "text": [
      "\n",
      "---------------------Classification Report--------------------\n",
      "\n",
      "              precision    recall  f1-score   support\n",
      "\n",
      "           0       0.98      1.00      0.99      7000\n",
      "           1       0.21      0.02      0.03       160\n",
      "\n",
      "    accuracy                           0.98      7160\n",
      "   macro avg       0.60      0.51      0.51      7160\n",
      "weighted avg       0.96      0.98      0.97      7160\n",
      "\n",
      "\n",
      "-----------------------Confusion Matrix-----------------------\n",
      "\n",
      "[[6989   11]\n",
      " [ 157    3]]\n",
      "\n",
      "------------------------ROC/AUC SCORE-------------------------\n",
      "\n",
      "0.5086    \n"
     ]
    },
    {
     "name": "stderr",
     "output_type": "stream",
     "text": [
      "/anaconda3/lib/python3.7/site-packages/sklearn/linear_model/logistic.py:432: FutureWarning: Default solver will be changed to 'lbfgs' in 0.22. Specify a solver to silence this warning.\n",
      "  FutureWarning)\n"
     ]
    },
    {
     "name": "stdout",
     "output_type": "stream",
     "text": [
      "\n",
      "---------------------Classification Report--------------------\n",
      "\n",
      "              precision    recall  f1-score   support\n",
      "\n",
      "           0       0.98      1.00      0.99      6989\n",
      "           1       0.12      0.01      0.02       171\n",
      "\n",
      "    accuracy                           0.97      7160\n",
      "   macro avg       0.55      0.50      0.50      7160\n",
      "weighted avg       0.96      0.97      0.96      7160\n",
      "\n",
      "\n",
      "-----------------------Confusion Matrix-----------------------\n",
      "\n",
      "[[6974   15]\n",
      " [ 169    2]]\n",
      "\n",
      "------------------------ROC/AUC SCORE-------------------------\n",
      "\n",
      "0.5048    \n"
     ]
    },
    {
     "name": "stderr",
     "output_type": "stream",
     "text": [
      "/anaconda3/lib/python3.7/site-packages/sklearn/linear_model/logistic.py:432: FutureWarning: Default solver will be changed to 'lbfgs' in 0.22. Specify a solver to silence this warning.\n",
      "  FutureWarning)\n"
     ]
    },
    {
     "name": "stdout",
     "output_type": "stream",
     "text": [
      "\n",
      "---------------------Classification Report--------------------\n",
      "\n",
      "              precision    recall  f1-score   support\n",
      "\n",
      "           0       0.98      1.00      0.99      6982\n",
      "           1       0.39      0.07      0.11       178\n",
      "\n",
      "    accuracy                           0.97      7160\n",
      "   macro avg       0.68      0.53      0.55      7160\n",
      "weighted avg       0.96      0.97      0.97      7160\n",
      "\n",
      "\n",
      "-----------------------Confusion Matrix-----------------------\n",
      "\n",
      "[[6963   19]\n",
      " [ 166   12]]\n",
      "\n",
      "------------------------ROC/AUC SCORE-------------------------\n",
      "\n",
      "0.5323    \n"
     ]
    },
    {
     "name": "stderr",
     "output_type": "stream",
     "text": [
      "/anaconda3/lib/python3.7/site-packages/sklearn/linear_model/logistic.py:432: FutureWarning: Default solver will be changed to 'lbfgs' in 0.22. Specify a solver to silence this warning.\n",
      "  FutureWarning)\n"
     ]
    },
    {
     "name": "stdout",
     "output_type": "stream",
     "text": [
      "\n",
      "---------------------Classification Report--------------------\n",
      "\n",
      "              precision    recall  f1-score   support\n",
      "\n",
      "           0       0.97      1.00      0.98      6958\n",
      "           1       0.28      0.04      0.08       202\n",
      "\n",
      "    accuracy                           0.97      7160\n",
      "   macro avg       0.63      0.52      0.53      7160\n",
      "weighted avg       0.95      0.97      0.96      7160\n",
      "\n",
      "\n",
      "-----------------------Confusion Matrix-----------------------\n",
      "\n",
      "[[6935   23]\n",
      " [ 193    9]]\n",
      "\n",
      "------------------------ROC/AUC SCORE-------------------------\n",
      "\n",
      "0.5206    \n"
     ]
    },
    {
     "name": "stderr",
     "output_type": "stream",
     "text": [
      "/anaconda3/lib/python3.7/site-packages/sklearn/linear_model/logistic.py:432: FutureWarning: Default solver will be changed to 'lbfgs' in 0.22. Specify a solver to silence this warning.\n",
      "  FutureWarning)\n"
     ]
    },
    {
     "name": "stdout",
     "output_type": "stream",
     "text": [
      "\n",
      "---------------------Classification Report--------------------\n",
      "\n",
      "              precision    recall  f1-score   support\n",
      "\n",
      "           0       0.98      1.00      0.99      6991\n",
      "           1       0.20      0.02      0.04       169\n",
      "\n",
      "    accuracy                           0.97      7160\n",
      "   macro avg       0.59      0.51      0.51      7160\n",
      "weighted avg       0.96      0.97      0.96      7160\n",
      "\n",
      "\n",
      "-----------------------Confusion Matrix-----------------------\n",
      "\n",
      "[[6975   16]\n",
      " [ 165    4]]\n",
      "\n",
      "------------------------ROC/AUC SCORE-------------------------\n",
      "\n",
      "0.5107    \n"
     ]
    },
    {
     "name": "stderr",
     "output_type": "stream",
     "text": [
      "/anaconda3/lib/python3.7/site-packages/sklearn/linear_model/logistic.py:432: FutureWarning: Default solver will be changed to 'lbfgs' in 0.22. Specify a solver to silence this warning.\n",
      "  FutureWarning)\n"
     ]
    },
    {
     "name": "stdout",
     "output_type": "stream",
     "text": [
      "\n",
      "---------------------Classification Report--------------------\n",
      "\n",
      "              precision    recall  f1-score   support\n",
      "\n",
      "           0       0.98      0.99      0.99      6983\n",
      "           1       0.49      0.21      0.29       177\n",
      "\n",
      "    accuracy                           0.97      7160\n",
      "   macro avg       0.73      0.60      0.64      7160\n",
      "weighted avg       0.97      0.97      0.97      7160\n",
      "\n",
      "\n",
      "-----------------------Confusion Matrix-----------------------\n",
      "\n",
      "[[6944   39]\n",
      " [ 140   37]]\n",
      "\n",
      "------------------------ROC/AUC SCORE-------------------------\n",
      "\n",
      "0.6017    \n"
     ]
    },
    {
     "name": "stderr",
     "output_type": "stream",
     "text": [
      "/anaconda3/lib/python3.7/site-packages/sklearn/linear_model/logistic.py:432: FutureWarning: Default solver will be changed to 'lbfgs' in 0.22. Specify a solver to silence this warning.\n",
      "  FutureWarning)\n"
     ]
    },
    {
     "name": "stdout",
     "output_type": "stream",
     "text": [
      "\n",
      "---------------------Classification Report--------------------\n",
      "\n",
      "              precision    recall  f1-score   support\n",
      "\n",
      "           0       0.98      1.00      0.99      6993\n",
      "           1       0.26      0.03      0.05       167\n",
      "\n",
      "    accuracy                           0.98      7160\n",
      "   macro avg       0.62      0.51      0.52      7160\n",
      "weighted avg       0.96      0.98      0.97      7160\n",
      "\n",
      "\n",
      "-----------------------Confusion Matrix-----------------------\n",
      "\n",
      "[[6979   14]\n",
      " [ 162    5]]\n",
      "\n",
      "------------------------ROC/AUC SCORE-------------------------\n",
      "\n",
      "0.5140    \n"
     ]
    },
    {
     "name": "stderr",
     "output_type": "stream",
     "text": [
      "/anaconda3/lib/python3.7/site-packages/sklearn/linear_model/logistic.py:432: FutureWarning: Default solver will be changed to 'lbfgs' in 0.22. Specify a solver to silence this warning.\n",
      "  FutureWarning)\n"
     ]
    },
    {
     "name": "stdout",
     "output_type": "stream",
     "text": [
      "\n",
      "---------------------Classification Report--------------------\n",
      "\n",
      "              precision    recall  f1-score   support\n",
      "\n",
      "           0       0.98      1.00      0.99      7012\n",
      "           1       0.48      0.11      0.18       148\n",
      "\n",
      "    accuracy                           0.98      7160\n",
      "   macro avg       0.73      0.55      0.58      7160\n",
      "weighted avg       0.97      0.98      0.97      7160\n",
      "\n",
      "\n",
      "-----------------------Confusion Matrix-----------------------\n",
      "\n",
      "[[6995   17]\n",
      " [ 132   16]]\n",
      "\n",
      "------------------------ROC/AUC SCORE-------------------------\n",
      "\n",
      "0.5528    \n"
     ]
    },
    {
     "name": "stderr",
     "output_type": "stream",
     "text": [
      "/anaconda3/lib/python3.7/site-packages/sklearn/linear_model/logistic.py:432: FutureWarning: Default solver will be changed to 'lbfgs' in 0.22. Specify a solver to silence this warning.\n",
      "  FutureWarning)\n"
     ]
    },
    {
     "name": "stdout",
     "output_type": "stream",
     "text": [
      "\n",
      "---------------------Classification Report--------------------\n",
      "\n",
      "              precision    recall  f1-score   support\n",
      "\n",
      "           0       0.98      1.00      0.99      7000\n",
      "           1       0.00      0.00      0.00       160\n",
      "\n",
      "    accuracy                           0.98      7160\n",
      "   macro avg       0.49      0.50      0.49      7160\n",
      "weighted avg       0.96      0.98      0.97      7160\n",
      "\n",
      "\n",
      "-----------------------Confusion Matrix-----------------------\n",
      "\n",
      "[[6995    5]\n",
      " [ 160    0]]\n",
      "\n",
      "------------------------ROC/AUC SCORE-------------------------\n",
      "\n",
      "0.4996    \n"
     ]
    },
    {
     "name": "stderr",
     "output_type": "stream",
     "text": [
      "/anaconda3/lib/python3.7/site-packages/sklearn/linear_model/logistic.py:432: FutureWarning: Default solver will be changed to 'lbfgs' in 0.22. Specify a solver to silence this warning.\n",
      "  FutureWarning)\n"
     ]
    },
    {
     "name": "stdout",
     "output_type": "stream",
     "text": [
      "\n",
      "---------------------Classification Report--------------------\n",
      "\n",
      "              precision    recall  f1-score   support\n",
      "\n",
      "           0       0.98      0.99      0.99      6993\n",
      "           1       0.44      0.20      0.28       167\n",
      "\n",
      "    accuracy                           0.98      7160\n",
      "   macro avg       0.71      0.60      0.63      7160\n",
      "weighted avg       0.97      0.98      0.97      7160\n",
      "\n",
      "\n",
      "-----------------------Confusion Matrix-----------------------\n",
      "\n",
      "[[6950   43]\n",
      " [ 133   34]]\n",
      "\n",
      "------------------------ROC/AUC SCORE-------------------------\n",
      "\n",
      "0.5987    \n"
     ]
    },
    {
     "name": "stderr",
     "output_type": "stream",
     "text": [
      "/anaconda3/lib/python3.7/site-packages/sklearn/linear_model/logistic.py:432: FutureWarning: Default solver will be changed to 'lbfgs' in 0.22. Specify a solver to silence this warning.\n",
      "  FutureWarning)\n"
     ]
    },
    {
     "name": "stdout",
     "output_type": "stream",
     "text": [
      "\n",
      "---------------------Classification Report--------------------\n",
      "\n",
      "              precision    recall  f1-score   support\n",
      "\n",
      "           0       0.98      1.00      0.99      6988\n",
      "           1       0.47      0.15      0.22       172\n",
      "\n",
      "    accuracy                           0.98      7160\n",
      "   macro avg       0.73      0.57      0.60      7160\n",
      "weighted avg       0.97      0.98      0.97      7160\n",
      "\n",
      "\n",
      "-----------------------Confusion Matrix-----------------------\n",
      "\n",
      "[[6960   28]\n",
      " [ 147   25]]\n",
      "\n",
      "------------------------ROC/AUC SCORE-------------------------\n",
      "\n",
      "0.5707    \n"
     ]
    },
    {
     "name": "stderr",
     "output_type": "stream",
     "text": [
      "/anaconda3/lib/python3.7/site-packages/sklearn/linear_model/logistic.py:432: FutureWarning: Default solver will be changed to 'lbfgs' in 0.22. Specify a solver to silence this warning.\n",
      "  FutureWarning)\n"
     ]
    },
    {
     "name": "stdout",
     "output_type": "stream",
     "text": [
      "\n",
      "---------------------Classification Report--------------------\n",
      "\n",
      "              precision    recall  f1-score   support\n",
      "\n",
      "           0       0.98      1.00      0.99      6993\n",
      "           1       0.19      0.02      0.03       167\n",
      "\n",
      "    accuracy                           0.98      7160\n",
      "   macro avg       0.58      0.51      0.51      7160\n",
      "weighted avg       0.96      0.98      0.97      7160\n",
      "\n",
      "\n",
      "-----------------------Confusion Matrix-----------------------\n",
      "\n",
      "[[6980   13]\n",
      " [ 164    3]]\n",
      "\n",
      "------------------------ROC/AUC SCORE-------------------------\n",
      "\n",
      "0.5081    \n"
     ]
    },
    {
     "name": "stderr",
     "output_type": "stream",
     "text": [
      "/anaconda3/lib/python3.7/site-packages/sklearn/linear_model/logistic.py:432: FutureWarning: Default solver will be changed to 'lbfgs' in 0.22. Specify a solver to silence this warning.\n",
      "  FutureWarning)\n"
     ]
    },
    {
     "name": "stdout",
     "output_type": "stream",
     "text": [
      "\n",
      "---------------------Classification Report--------------------\n",
      "\n",
      "              precision    recall  f1-score   support\n",
      "\n",
      "           0       0.98      1.00      0.99      6998\n",
      "           1       0.33      0.04      0.07       162\n",
      "\n",
      "    accuracy                           0.98      7160\n",
      "   macro avg       0.66      0.52      0.53      7160\n",
      "weighted avg       0.96      0.98      0.97      7160\n",
      "\n",
      "\n",
      "-----------------------Confusion Matrix-----------------------\n",
      "\n",
      "[[6986   12]\n",
      " [ 156    6]]\n",
      "\n",
      "------------------------ROC/AUC SCORE-------------------------\n",
      "\n",
      "0.5177    \n"
     ]
    },
    {
     "name": "stderr",
     "output_type": "stream",
     "text": [
      "/anaconda3/lib/python3.7/site-packages/sklearn/linear_model/logistic.py:432: FutureWarning: Default solver will be changed to 'lbfgs' in 0.22. Specify a solver to silence this warning.\n",
      "  FutureWarning)\n"
     ]
    },
    {
     "name": "stdout",
     "output_type": "stream",
     "text": [
      "\n",
      "---------------------Classification Report--------------------\n",
      "\n",
      "              precision    recall  f1-score   support\n",
      "\n",
      "           0       0.98      0.99      0.99      6991\n",
      "           1       0.46      0.18      0.26       169\n",
      "\n",
      "    accuracy                           0.98      7160\n",
      "   macro avg       0.72      0.59      0.62      7160\n",
      "weighted avg       0.97      0.98      0.97      7160\n",
      "\n",
      "\n",
      "-----------------------Confusion Matrix-----------------------\n",
      "\n",
      "[[6956   35]\n",
      " [ 139   30]]\n",
      "\n",
      "------------------------ROC/AUC SCORE-------------------------\n",
      "\n",
      "0.5863    \n"
     ]
    },
    {
     "name": "stderr",
     "output_type": "stream",
     "text": [
      "/anaconda3/lib/python3.7/site-packages/sklearn/linear_model/logistic.py:432: FutureWarning: Default solver will be changed to 'lbfgs' in 0.22. Specify a solver to silence this warning.\n",
      "  FutureWarning)\n"
     ]
    },
    {
     "name": "stdout",
     "output_type": "stream",
     "text": [
      "\n",
      "---------------------Classification Report--------------------\n",
      "\n",
      "              precision    recall  f1-score   support\n",
      "\n",
      "           0       0.98      1.00      0.99      7014\n",
      "           1       0.33      0.03      0.06       146\n",
      "\n",
      "    accuracy                           0.98      7160\n",
      "   macro avg       0.66      0.52      0.53      7160\n",
      "weighted avg       0.97      0.98      0.97      7160\n",
      "\n",
      "\n",
      "-----------------------Confusion Matrix-----------------------\n",
      "\n",
      "[[7004   10]\n",
      " [ 141    5]]\n",
      "\n",
      "------------------------ROC/AUC SCORE-------------------------\n",
      "\n",
      "0.5164    \n"
     ]
    },
    {
     "name": "stderr",
     "output_type": "stream",
     "text": [
      "/anaconda3/lib/python3.7/site-packages/sklearn/linear_model/logistic.py:432: FutureWarning: Default solver will be changed to 'lbfgs' in 0.22. Specify a solver to silence this warning.\n",
      "  FutureWarning)\n"
     ]
    },
    {
     "name": "stdout",
     "output_type": "stream",
     "text": [
      "\n",
      "---------------------Classification Report--------------------\n",
      "\n",
      "              precision    recall  f1-score   support\n",
      "\n",
      "           0       0.98      1.00      0.99      6989\n",
      "           1       0.29      0.04      0.07       171\n",
      "\n",
      "    accuracy                           0.97      7160\n",
      "   macro avg       0.63      0.52      0.53      7160\n",
      "weighted avg       0.96      0.97      0.97      7160\n",
      "\n",
      "\n",
      "-----------------------Confusion Matrix-----------------------\n",
      "\n",
      "[[6972   17]\n",
      " [ 164    7]]\n",
      "\n",
      "------------------------ROC/AUC SCORE-------------------------\n",
      "\n",
      "0.5193    \n"
     ]
    },
    {
     "name": "stderr",
     "output_type": "stream",
     "text": [
      "/anaconda3/lib/python3.7/site-packages/sklearn/linear_model/logistic.py:432: FutureWarning: Default solver will be changed to 'lbfgs' in 0.22. Specify a solver to silence this warning.\n",
      "  FutureWarning)\n"
     ]
    },
    {
     "name": "stdout",
     "output_type": "stream",
     "text": [
      "\n",
      "---------------------Classification Report--------------------\n",
      "\n",
      "              precision    recall  f1-score   support\n",
      "\n",
      "           0       0.98      1.00      0.99      6984\n",
      "           1       0.33      0.03      0.05       176\n",
      "\n",
      "    accuracy                           0.97      7160\n",
      "   macro avg       0.65      0.51      0.52      7160\n",
      "weighted avg       0.96      0.97      0.96      7160\n",
      "\n",
      "\n",
      "-----------------------Confusion Matrix-----------------------\n",
      "\n",
      "[[6974   10]\n",
      " [ 171    5]]\n",
      "\n",
      "------------------------ROC/AUC SCORE-------------------------\n",
      "\n",
      "0.5135    \n"
     ]
    },
    {
     "name": "stderr",
     "output_type": "stream",
     "text": [
      "/anaconda3/lib/python3.7/site-packages/sklearn/linear_model/logistic.py:432: FutureWarning: Default solver will be changed to 'lbfgs' in 0.22. Specify a solver to silence this warning.\n",
      "  FutureWarning)\n"
     ]
    },
    {
     "name": "stdout",
     "output_type": "stream",
     "text": [
      "\n",
      "---------------------Classification Report--------------------\n",
      "\n",
      "              precision    recall  f1-score   support\n",
      "\n",
      "           0       0.98      1.00      0.99      7005\n",
      "           1       0.43      0.06      0.10       155\n",
      "\n",
      "    accuracy                           0.98      7160\n",
      "   macro avg       0.70      0.53      0.55      7160\n",
      "weighted avg       0.97      0.98      0.97      7160\n",
      "\n",
      "\n",
      "-----------------------Confusion Matrix-----------------------\n",
      "\n",
      "[[6993   12]\n",
      " [ 146    9]]\n",
      "\n",
      "------------------------ROC/AUC SCORE-------------------------\n",
      "\n",
      "0.5282    \n"
     ]
    },
    {
     "name": "stderr",
     "output_type": "stream",
     "text": [
      "/anaconda3/lib/python3.7/site-packages/sklearn/linear_model/logistic.py:432: FutureWarning: Default solver will be changed to 'lbfgs' in 0.22. Specify a solver to silence this warning.\n",
      "  FutureWarning)\n"
     ]
    },
    {
     "name": "stdout",
     "output_type": "stream",
     "text": [
      "\n",
      "---------------------Classification Report--------------------\n",
      "\n",
      "              precision    recall  f1-score   support\n",
      "\n",
      "           0       0.98      1.00      0.99      6990\n",
      "           1       0.50      0.01      0.01       170\n",
      "\n",
      "    accuracy                           0.98      7160\n",
      "   macro avg       0.74      0.50      0.50      7160\n",
      "weighted avg       0.97      0.98      0.96      7160\n",
      "\n",
      "\n",
      "-----------------------Confusion Matrix-----------------------\n",
      "\n",
      "[[6989    1]\n",
      " [ 169    1]]\n",
      "\n",
      "------------------------ROC/AUC SCORE-------------------------\n",
      "\n",
      "0.5029    \n"
     ]
    },
    {
     "name": "stderr",
     "output_type": "stream",
     "text": [
      "/anaconda3/lib/python3.7/site-packages/sklearn/linear_model/logistic.py:432: FutureWarning: Default solver will be changed to 'lbfgs' in 0.22. Specify a solver to silence this warning.\n",
      "  FutureWarning)\n"
     ]
    },
    {
     "name": "stdout",
     "output_type": "stream",
     "text": [
      "\n",
      "---------------------Classification Report--------------------\n",
      "\n",
      "              precision    recall  f1-score   support\n",
      "\n",
      "           0       0.98      1.00      0.99      6992\n",
      "           1       0.23      0.04      0.06       168\n",
      "\n",
      "    accuracy                           0.97      7160\n",
      "   macro avg       0.60      0.52      0.52      7160\n",
      "weighted avg       0.96      0.97      0.97      7160\n",
      "\n",
      "\n",
      "-----------------------Confusion Matrix-----------------------\n",
      "\n",
      "[[6972   20]\n",
      " [ 162    6]]\n",
      "\n",
      "------------------------ROC/AUC SCORE-------------------------\n",
      "\n",
      "0.5164    \n"
     ]
    },
    {
     "name": "stderr",
     "output_type": "stream",
     "text": [
      "/anaconda3/lib/python3.7/site-packages/sklearn/linear_model/logistic.py:432: FutureWarning: Default solver will be changed to 'lbfgs' in 0.22. Specify a solver to silence this warning.\n",
      "  FutureWarning)\n"
     ]
    },
    {
     "name": "stdout",
     "output_type": "stream",
     "text": [
      "\n",
      "---------------------Classification Report--------------------\n",
      "\n",
      "              precision    recall  f1-score   support\n",
      "\n",
      "           0       0.98      1.00      0.99      6973\n",
      "           1       0.38      0.08      0.13       187\n",
      "\n",
      "    accuracy                           0.97      7160\n",
      "   macro avg       0.68      0.54      0.56      7160\n",
      "weighted avg       0.96      0.97      0.96      7160\n",
      "\n",
      "\n",
      "-----------------------Confusion Matrix-----------------------\n",
      "\n",
      "[[6949   24]\n",
      " [ 172   15]]\n",
      "\n",
      "------------------------ROC/AUC SCORE-------------------------\n",
      "\n",
      "0.5384    \n"
     ]
    },
    {
     "name": "stderr",
     "output_type": "stream",
     "text": [
      "/anaconda3/lib/python3.7/site-packages/sklearn/linear_model/logistic.py:432: FutureWarning: Default solver will be changed to 'lbfgs' in 0.22. Specify a solver to silence this warning.\n",
      "  FutureWarning)\n"
     ]
    },
    {
     "name": "stdout",
     "output_type": "stream",
     "text": [
      "\n",
      "---------------------Classification Report--------------------\n",
      "\n",
      "              precision    recall  f1-score   support\n",
      "\n",
      "           0       0.98      1.00      0.99      6983\n",
      "           1       0.28      0.07      0.12       177\n",
      "\n",
      "    accuracy                           0.97      7160\n",
      "   macro avg       0.63      0.53      0.55      7160\n",
      "weighted avg       0.96      0.97      0.96      7160\n",
      "\n",
      "\n",
      "-----------------------Confusion Matrix-----------------------\n",
      "\n",
      "[[6949   34]\n",
      " [ 164   13]]\n",
      "\n",
      "------------------------ROC/AUC SCORE-------------------------\n",
      "\n",
      "0.5343    \n"
     ]
    },
    {
     "name": "stderr",
     "output_type": "stream",
     "text": [
      "/anaconda3/lib/python3.7/site-packages/sklearn/linear_model/logistic.py:432: FutureWarning: Default solver will be changed to 'lbfgs' in 0.22. Specify a solver to silence this warning.\n",
      "  FutureWarning)\n"
     ]
    },
    {
     "name": "stdout",
     "output_type": "stream",
     "text": [
      "\n",
      "---------------------Classification Report--------------------\n",
      "\n",
      "              precision    recall  f1-score   support\n",
      "\n",
      "           0       0.98      1.00      0.99      7000\n",
      "           1       0.14      0.02      0.03       160\n",
      "\n",
      "    accuracy                           0.98      7160\n",
      "   macro avg       0.56      0.51      0.51      7160\n",
      "weighted avg       0.96      0.98      0.97      7160\n",
      "\n",
      "\n",
      "-----------------------Confusion Matrix-----------------------\n",
      "\n",
      "[[6981   19]\n",
      " [ 157    3]]\n",
      "\n",
      "------------------------ROC/AUC SCORE-------------------------\n",
      "\n",
      "0.5080    \n"
     ]
    },
    {
     "name": "stderr",
     "output_type": "stream",
     "text": [
      "/anaconda3/lib/python3.7/site-packages/sklearn/linear_model/logistic.py:432: FutureWarning: Default solver will be changed to 'lbfgs' in 0.22. Specify a solver to silence this warning.\n",
      "  FutureWarning)\n"
     ]
    },
    {
     "name": "stdout",
     "output_type": "stream",
     "text": [
      "\n",
      "---------------------Classification Report--------------------\n",
      "\n",
      "              precision    recall  f1-score   support\n",
      "\n",
      "           0       0.98      1.00      0.99      7035\n",
      "           1       0.25      0.01      0.02       125\n",
      "\n",
      "    accuracy                           0.98      7160\n",
      "   macro avg       0.62      0.50      0.50      7160\n",
      "weighted avg       0.97      0.98      0.97      7160\n",
      "\n",
      "\n",
      "-----------------------Confusion Matrix-----------------------\n",
      "\n",
      "[[7032    3]\n",
      " [ 124    1]]\n",
      "\n",
      "------------------------ROC/AUC SCORE-------------------------\n",
      "\n",
      "0.5038    \n"
     ]
    },
    {
     "name": "stderr",
     "output_type": "stream",
     "text": [
      "/anaconda3/lib/python3.7/site-packages/sklearn/linear_model/logistic.py:432: FutureWarning: Default solver will be changed to 'lbfgs' in 0.22. Specify a solver to silence this warning.\n",
      "  FutureWarning)\n"
     ]
    },
    {
     "name": "stdout",
     "output_type": "stream",
     "text": [
      "\n",
      "---------------------Classification Report--------------------\n",
      "\n",
      "              precision    recall  f1-score   support\n",
      "\n",
      "           0       0.98      1.00      0.99      6994\n",
      "           1       0.10      0.02      0.03       166\n",
      "\n",
      "    accuracy                           0.97      7160\n",
      "   macro avg       0.54      0.51      0.51      7160\n",
      "weighted avg       0.96      0.97      0.96      7160\n",
      "\n",
      "\n",
      "-----------------------Confusion Matrix-----------------------\n",
      "\n",
      "[[6968   26]\n",
      " [ 163    3]]\n",
      "\n",
      "------------------------ROC/AUC SCORE-------------------------\n",
      "\n",
      "0.5072    \n"
     ]
    },
    {
     "name": "stderr",
     "output_type": "stream",
     "text": [
      "/anaconda3/lib/python3.7/site-packages/sklearn/linear_model/logistic.py:432: FutureWarning: Default solver will be changed to 'lbfgs' in 0.22. Specify a solver to silence this warning.\n",
      "  FutureWarning)\n"
     ]
    },
    {
     "name": "stdout",
     "output_type": "stream",
     "text": [
      "\n",
      "---------------------Classification Report--------------------\n",
      "\n",
      "              precision    recall  f1-score   support\n",
      "\n",
      "           0       0.98      1.00      0.99      6997\n",
      "           1       0.00      0.00      0.00       163\n",
      "\n",
      "    accuracy                           0.98      7160\n",
      "   macro avg       0.49      0.50      0.49      7160\n",
      "weighted avg       0.95      0.98      0.97      7160\n",
      "\n",
      "\n",
      "-----------------------Confusion Matrix-----------------------\n",
      "\n",
      "[[6994    3]\n",
      " [ 163    0]]\n",
      "\n",
      "------------------------ROC/AUC SCORE-------------------------\n",
      "\n",
      "0.4998    \n"
     ]
    },
    {
     "name": "stderr",
     "output_type": "stream",
     "text": [
      "/anaconda3/lib/python3.7/site-packages/sklearn/linear_model/logistic.py:432: FutureWarning: Default solver will be changed to 'lbfgs' in 0.22. Specify a solver to silence this warning.\n",
      "  FutureWarning)\n"
     ]
    },
    {
     "name": "stdout",
     "output_type": "stream",
     "text": [
      "\n",
      "---------------------Classification Report--------------------\n",
      "\n",
      "              precision    recall  f1-score   support\n",
      "\n",
      "           0       0.98      0.99      0.99      6991\n",
      "           1       0.41      0.18      0.25       169\n",
      "\n",
      "    accuracy                           0.97      7160\n",
      "   macro avg       0.69      0.59      0.62      7160\n",
      "weighted avg       0.97      0.97      0.97      7160\n",
      "\n",
      "\n",
      "-----------------------Confusion Matrix-----------------------\n",
      "\n",
      "[[6946   45]\n",
      " [ 138   31]]\n",
      "\n",
      "------------------------ROC/AUC SCORE-------------------------\n",
      "\n",
      "0.5885    \n"
     ]
    },
    {
     "name": "stderr",
     "output_type": "stream",
     "text": [
      "/anaconda3/lib/python3.7/site-packages/sklearn/linear_model/logistic.py:432: FutureWarning: Default solver will be changed to 'lbfgs' in 0.22. Specify a solver to silence this warning.\n",
      "  FutureWarning)\n"
     ]
    },
    {
     "name": "stdout",
     "output_type": "stream",
     "text": [
      "\n",
      "---------------------Classification Report--------------------\n",
      "\n",
      "              precision    recall  f1-score   support\n",
      "\n",
      "           0       0.98      1.00      0.99      6992\n",
      "           1       0.32      0.09      0.14       168\n",
      "\n",
      "    accuracy                           0.97      7160\n",
      "   macro avg       0.65      0.54      0.56      7160\n",
      "weighted avg       0.96      0.97      0.97      7160\n",
      "\n",
      "\n",
      "-----------------------Confusion Matrix-----------------------\n",
      "\n",
      "[[6960   32]\n",
      " [ 153   15]]\n",
      "\n",
      "------------------------ROC/AUC SCORE-------------------------\n",
      "\n",
      "0.5424    \n"
     ]
    },
    {
     "name": "stderr",
     "output_type": "stream",
     "text": [
      "/anaconda3/lib/python3.7/site-packages/sklearn/linear_model/logistic.py:432: FutureWarning: Default solver will be changed to 'lbfgs' in 0.22. Specify a solver to silence this warning.\n",
      "  FutureWarning)\n"
     ]
    },
    {
     "name": "stdout",
     "output_type": "stream",
     "text": [
      "\n",
      "---------------------Classification Report--------------------\n",
      "\n",
      "              precision    recall  f1-score   support\n",
      "\n",
      "           0       0.98      1.00      0.99      7007\n",
      "           1       0.20      0.03      0.06       153\n",
      "\n",
      "    accuracy                           0.98      7160\n",
      "   macro avg       0.59      0.51      0.52      7160\n",
      "weighted avg       0.96      0.98      0.97      7160\n",
      "\n",
      "\n",
      "-----------------------Confusion Matrix-----------------------\n",
      "\n",
      "[[6987   20]\n",
      " [ 148    5]]\n",
      "\n",
      "------------------------ROC/AUC SCORE-------------------------\n",
      "\n",
      "0.5149    \n"
     ]
    },
    {
     "name": "stderr",
     "output_type": "stream",
     "text": [
      "/anaconda3/lib/python3.7/site-packages/sklearn/linear_model/logistic.py:432: FutureWarning: Default solver will be changed to 'lbfgs' in 0.22. Specify a solver to silence this warning.\n",
      "  FutureWarning)\n"
     ]
    },
    {
     "name": "stdout",
     "output_type": "stream",
     "text": [
      "\n",
      "---------------------Classification Report--------------------\n",
      "\n",
      "              precision    recall  f1-score   support\n",
      "\n",
      "           0       0.98      1.00      0.99      7013\n",
      "           1       0.53      0.12      0.20       147\n",
      "\n",
      "    accuracy                           0.98      7160\n",
      "   macro avg       0.76      0.56      0.59      7160\n",
      "weighted avg       0.97      0.98      0.97      7160\n",
      "\n",
      "\n",
      "-----------------------Confusion Matrix-----------------------\n",
      "\n",
      "[[6997   16]\n",
      " [ 129   18]]\n",
      "\n",
      "------------------------ROC/AUC SCORE-------------------------\n",
      "\n",
      "0.5601    \n"
     ]
    },
    {
     "name": "stderr",
     "output_type": "stream",
     "text": [
      "/anaconda3/lib/python3.7/site-packages/sklearn/linear_model/logistic.py:432: FutureWarning: Default solver will be changed to 'lbfgs' in 0.22. Specify a solver to silence this warning.\n",
      "  FutureWarning)\n"
     ]
    },
    {
     "name": "stdout",
     "output_type": "stream",
     "text": [
      "\n",
      "---------------------Classification Report--------------------\n",
      "\n",
      "              precision    recall  f1-score   support\n",
      "\n",
      "           0       0.98      1.00      0.99      7025\n",
      "           1       0.24      0.04      0.06       135\n",
      "\n",
      "    accuracy                           0.98      7160\n",
      "   macro avg       0.61      0.52      0.53      7160\n",
      "weighted avg       0.97      0.98      0.97      7160\n",
      "\n",
      "\n",
      "-----------------------Confusion Matrix-----------------------\n",
      "\n",
      "[[7009   16]\n",
      " [ 130    5]]\n",
      "\n",
      "------------------------ROC/AUC SCORE-------------------------\n",
      "\n",
      "0.5174    \n"
     ]
    },
    {
     "name": "stderr",
     "output_type": "stream",
     "text": [
      "/anaconda3/lib/python3.7/site-packages/sklearn/linear_model/logistic.py:432: FutureWarning: Default solver will be changed to 'lbfgs' in 0.22. Specify a solver to silence this warning.\n",
      "  FutureWarning)\n"
     ]
    },
    {
     "name": "stdout",
     "output_type": "stream",
     "text": [
      "\n",
      "---------------------Classification Report--------------------\n",
      "\n",
      "              precision    recall  f1-score   support\n",
      "\n",
      "           0       0.98      1.00      0.99      7012\n",
      "           1       0.43      0.02      0.04       148\n",
      "\n",
      "    accuracy                           0.98      7160\n",
      "   macro avg       0.70      0.51      0.51      7160\n",
      "weighted avg       0.97      0.98      0.97      7160\n",
      "\n",
      "\n",
      "-----------------------Confusion Matrix-----------------------\n",
      "\n",
      "[[7008    4]\n",
      " [ 145    3]]\n",
      "\n",
      "------------------------ROC/AUC SCORE-------------------------\n",
      "\n",
      "0.5098    \n"
     ]
    },
    {
     "name": "stderr",
     "output_type": "stream",
     "text": [
      "/anaconda3/lib/python3.7/site-packages/sklearn/linear_model/logistic.py:432: FutureWarning: Default solver will be changed to 'lbfgs' in 0.22. Specify a solver to silence this warning.\n",
      "  FutureWarning)\n"
     ]
    },
    {
     "name": "stdout",
     "output_type": "stream",
     "text": [
      "\n",
      "---------------------Classification Report--------------------\n",
      "\n",
      "              precision    recall  f1-score   support\n",
      "\n",
      "           0       0.97      1.00      0.99      6974\n",
      "           1       0.30      0.02      0.03       186\n",
      "\n",
      "    accuracy                           0.97      7160\n",
      "   macro avg       0.64      0.51      0.51      7160\n",
      "weighted avg       0.96      0.97      0.96      7160\n",
      "\n",
      "\n",
      "-----------------------Confusion Matrix-----------------------\n",
      "\n",
      "[[6967    7]\n",
      " [ 183    3]]\n",
      "\n",
      "------------------------ROC/AUC SCORE-------------------------\n",
      "\n",
      "0.5076    \n"
     ]
    },
    {
     "name": "stderr",
     "output_type": "stream",
     "text": [
      "/anaconda3/lib/python3.7/site-packages/sklearn/linear_model/logistic.py:432: FutureWarning: Default solver will be changed to 'lbfgs' in 0.22. Specify a solver to silence this warning.\n",
      "  FutureWarning)\n"
     ]
    },
    {
     "name": "stdout",
     "output_type": "stream",
     "text": [
      "\n",
      "---------------------Classification Report--------------------\n",
      "\n",
      "              precision    recall  f1-score   support\n",
      "\n",
      "           0       0.97      1.00      0.99      6963\n",
      "           1       0.37      0.09      0.15       197\n",
      "\n",
      "    accuracy                           0.97      7160\n",
      "   macro avg       0.67      0.54      0.57      7160\n",
      "weighted avg       0.96      0.97      0.96      7160\n",
      "\n",
      "\n",
      "-----------------------Confusion Matrix-----------------------\n",
      "\n",
      "[[6932   31]\n",
      " [ 179   18]]\n",
      "\n",
      "------------------------ROC/AUC SCORE-------------------------\n",
      "\n",
      "0.5435    \n"
     ]
    },
    {
     "name": "stderr",
     "output_type": "stream",
     "text": [
      "/anaconda3/lib/python3.7/site-packages/sklearn/linear_model/logistic.py:432: FutureWarning: Default solver will be changed to 'lbfgs' in 0.22. Specify a solver to silence this warning.\n",
      "  FutureWarning)\n"
     ]
    },
    {
     "name": "stdout",
     "output_type": "stream",
     "text": [
      "\n",
      "---------------------Classification Report--------------------\n",
      "\n",
      "              precision    recall  f1-score   support\n",
      "\n",
      "           0       0.98      1.00      0.99      7001\n",
      "           1       0.57      0.05      0.09       159\n",
      "\n",
      "    accuracy                           0.98      7160\n",
      "   macro avg       0.78      0.52      0.54      7160\n",
      "weighted avg       0.97      0.98      0.97      7160\n",
      "\n",
      "\n",
      "-----------------------Confusion Matrix-----------------------\n",
      "\n",
      "[[6995    6]\n",
      " [ 151    8]]\n",
      "\n",
      "------------------------ROC/AUC SCORE-------------------------\n",
      "\n",
      "0.5247    \n"
     ]
    },
    {
     "name": "stderr",
     "output_type": "stream",
     "text": [
      "/anaconda3/lib/python3.7/site-packages/sklearn/linear_model/logistic.py:432: FutureWarning: Default solver will be changed to 'lbfgs' in 0.22. Specify a solver to silence this warning.\n",
      "  FutureWarning)\n"
     ]
    },
    {
     "name": "stdout",
     "output_type": "stream",
     "text": [
      "\n",
      "---------------------Classification Report--------------------\n",
      "\n",
      "              precision    recall  f1-score   support\n",
      "\n",
      "           0       0.98      1.00      0.99      7023\n",
      "           1       0.12      0.01      0.01       137\n",
      "\n",
      "    accuracy                           0.98      7160\n",
      "   macro avg       0.55      0.50      0.50      7160\n",
      "weighted avg       0.96      0.98      0.97      7160\n",
      "\n",
      "\n",
      "-----------------------Confusion Matrix-----------------------\n",
      "\n",
      "[[7016    7]\n",
      " [ 136    1]]\n",
      "\n",
      "------------------------ROC/AUC SCORE-------------------------\n",
      "\n",
      "0.5032    \n"
     ]
    },
    {
     "name": "stderr",
     "output_type": "stream",
     "text": [
      "/anaconda3/lib/python3.7/site-packages/sklearn/linear_model/logistic.py:432: FutureWarning: Default solver will be changed to 'lbfgs' in 0.22. Specify a solver to silence this warning.\n",
      "  FutureWarning)\n"
     ]
    },
    {
     "name": "stdout",
     "output_type": "stream",
     "text": [
      "\n",
      "---------------------Classification Report--------------------\n",
      "\n",
      "              precision    recall  f1-score   support\n",
      "\n",
      "           0       0.98      1.00      0.99      6998\n",
      "           1       0.67      0.05      0.09       162\n",
      "\n",
      "    accuracy                           0.98      7160\n",
      "   macro avg       0.82      0.52      0.54      7160\n",
      "weighted avg       0.97      0.98      0.97      7160\n",
      "\n",
      "\n",
      "-----------------------Confusion Matrix-----------------------\n",
      "\n",
      "[[6994    4]\n",
      " [ 154    8]]\n",
      "\n",
      "------------------------ROC/AUC SCORE-------------------------\n",
      "\n",
      "0.5244    \n"
     ]
    },
    {
     "name": "stderr",
     "output_type": "stream",
     "text": [
      "/anaconda3/lib/python3.7/site-packages/sklearn/linear_model/logistic.py:432: FutureWarning: Default solver will be changed to 'lbfgs' in 0.22. Specify a solver to silence this warning.\n",
      "  FutureWarning)\n"
     ]
    },
    {
     "name": "stdout",
     "output_type": "stream",
     "text": [
      "\n",
      "---------------------Classification Report--------------------\n",
      "\n",
      "              precision    recall  f1-score   support\n",
      "\n",
      "           0       0.98      1.00      0.99      7020\n",
      "           1       0.32      0.09      0.13       140\n",
      "\n",
      "    accuracy                           0.98      7160\n",
      "   macro avg       0.65      0.54      0.56      7160\n",
      "weighted avg       0.97      0.98      0.97      7160\n",
      "\n",
      "\n",
      "-----------------------Confusion Matrix-----------------------\n",
      "\n",
      "[[6994   26]\n",
      " [ 128   12]]\n",
      "\n",
      "------------------------ROC/AUC SCORE-------------------------\n",
      "\n",
      "0.5410    \n"
     ]
    },
    {
     "name": "stderr",
     "output_type": "stream",
     "text": [
      "/anaconda3/lib/python3.7/site-packages/sklearn/linear_model/logistic.py:432: FutureWarning: Default solver will be changed to 'lbfgs' in 0.22. Specify a solver to silence this warning.\n",
      "  FutureWarning)\n"
     ]
    },
    {
     "name": "stdout",
     "output_type": "stream",
     "text": [
      "\n",
      "---------------------Classification Report--------------------\n",
      "\n",
      "              precision    recall  f1-score   support\n",
      "\n",
      "           0       0.98      1.00      0.99      7009\n",
      "           1       0.17      0.01      0.02       151\n",
      "\n",
      "    accuracy                           0.98      7160\n",
      "   macro avg       0.57      0.51      0.51      7160\n",
      "weighted avg       0.96      0.98      0.97      7160\n",
      "\n",
      "\n",
      "-----------------------Confusion Matrix-----------------------\n",
      "\n",
      "[[6999   10]\n",
      " [ 149    2]]\n",
      "\n",
      "------------------------ROC/AUC SCORE-------------------------\n",
      "\n",
      "0.5059    \n"
     ]
    },
    {
     "name": "stderr",
     "output_type": "stream",
     "text": [
      "/anaconda3/lib/python3.7/site-packages/sklearn/linear_model/logistic.py:432: FutureWarning: Default solver will be changed to 'lbfgs' in 0.22. Specify a solver to silence this warning.\n",
      "  FutureWarning)\n"
     ]
    },
    {
     "name": "stdout",
     "output_type": "stream",
     "text": [
      "\n",
      "---------------------Classification Report--------------------\n",
      "\n",
      "              precision    recall  f1-score   support\n",
      "\n",
      "           0       0.98      1.00      0.99      7013\n",
      "           1       0.45      0.06      0.11       147\n",
      "\n",
      "    accuracy                           0.98      7160\n",
      "   macro avg       0.72      0.53      0.55      7160\n",
      "weighted avg       0.97      0.98      0.97      7160\n",
      "\n",
      "\n",
      "-----------------------Confusion Matrix-----------------------\n",
      "\n",
      "[[7002   11]\n",
      " [ 138    9]]\n",
      "\n",
      "------------------------ROC/AUC SCORE-------------------------\n",
      "\n",
      "0.5298    \n"
     ]
    },
    {
     "name": "stderr",
     "output_type": "stream",
     "text": [
      "/anaconda3/lib/python3.7/site-packages/sklearn/linear_model/logistic.py:432: FutureWarning: Default solver will be changed to 'lbfgs' in 0.22. Specify a solver to silence this warning.\n",
      "  FutureWarning)\n"
     ]
    },
    {
     "name": "stdout",
     "output_type": "stream",
     "text": [
      "\n",
      "---------------------Classification Report--------------------\n",
      "\n",
      "              precision    recall  f1-score   support\n",
      "\n",
      "           0       0.98      1.00      0.99      7019\n",
      "           1       0.14      0.01      0.03       141\n",
      "\n",
      "    accuracy                           0.98      7160\n",
      "   macro avg       0.56      0.51      0.51      7160\n",
      "weighted avg       0.96      0.98      0.97      7160\n",
      "\n",
      "\n",
      "-----------------------Confusion Matrix-----------------------\n",
      "\n",
      "[[7007   12]\n",
      " [ 139    2]]\n",
      "\n",
      "------------------------ROC/AUC SCORE-------------------------\n",
      "\n",
      "0.5062    \n"
     ]
    },
    {
     "name": "stderr",
     "output_type": "stream",
     "text": [
      "/anaconda3/lib/python3.7/site-packages/sklearn/linear_model/logistic.py:432: FutureWarning: Default solver will be changed to 'lbfgs' in 0.22. Specify a solver to silence this warning.\n",
      "  FutureWarning)\n"
     ]
    },
    {
     "name": "stdout",
     "output_type": "stream",
     "text": [
      "\n",
      "---------------------Classification Report--------------------\n",
      "\n",
      "              precision    recall  f1-score   support\n",
      "\n",
      "           0       0.98      1.00      0.99      7035\n",
      "           1       0.30      0.06      0.09       125\n",
      "\n",
      "    accuracy                           0.98      7160\n",
      "   macro avg       0.64      0.53      0.54      7160\n",
      "weighted avg       0.97      0.98      0.97      7160\n",
      "\n",
      "\n",
      "-----------------------Confusion Matrix-----------------------\n",
      "\n",
      "[[7019   16]\n",
      " [ 118    7]]\n",
      "\n",
      "------------------------ROC/AUC SCORE-------------------------\n",
      "\n",
      "0.5269    \n"
     ]
    },
    {
     "name": "stderr",
     "output_type": "stream",
     "text": [
      "/anaconda3/lib/python3.7/site-packages/sklearn/linear_model/logistic.py:432: FutureWarning: Default solver will be changed to 'lbfgs' in 0.22. Specify a solver to silence this warning.\n",
      "  FutureWarning)\n"
     ]
    },
    {
     "name": "stdout",
     "output_type": "stream",
     "text": [
      "\n",
      "---------------------Classification Report--------------------\n",
      "\n",
      "              precision    recall  f1-score   support\n",
      "\n",
      "           0       0.98      1.00      0.99      6999\n",
      "           1       0.00      0.00      0.00       161\n",
      "\n",
      "    accuracy                           0.98      7160\n",
      "   macro avg       0.49      0.50      0.49      7160\n",
      "weighted avg       0.96      0.98      0.97      7160\n",
      "\n",
      "\n",
      "-----------------------Confusion Matrix-----------------------\n",
      "\n",
      "[[6992    7]\n",
      " [ 161    0]]\n",
      "\n",
      "------------------------ROC/AUC SCORE-------------------------\n",
      "\n",
      "0.4995    \n"
     ]
    },
    {
     "name": "stderr",
     "output_type": "stream",
     "text": [
      "/anaconda3/lib/python3.7/site-packages/sklearn/linear_model/logistic.py:432: FutureWarning: Default solver will be changed to 'lbfgs' in 0.22. Specify a solver to silence this warning.\n",
      "  FutureWarning)\n"
     ]
    },
    {
     "name": "stdout",
     "output_type": "stream",
     "text": [
      "\n",
      "---------------------Classification Report--------------------\n",
      "\n",
      "              precision    recall  f1-score   support\n",
      "\n",
      "           0       0.98      0.99      0.99      7003\n",
      "           1       0.45      0.19      0.27       157\n",
      "\n",
      "    accuracy                           0.98      7160\n",
      "   macro avg       0.72      0.59      0.63      7160\n",
      "weighted avg       0.97      0.98      0.97      7160\n",
      "\n",
      "\n",
      "-----------------------Confusion Matrix-----------------------\n",
      "\n",
      "[[6967   36]\n",
      " [ 127   30]]\n",
      "\n",
      "------------------------ROC/AUC SCORE-------------------------\n",
      "\n",
      "0.5930    \n"
     ]
    },
    {
     "name": "stderr",
     "output_type": "stream",
     "text": [
      "/anaconda3/lib/python3.7/site-packages/sklearn/linear_model/logistic.py:432: FutureWarning: Default solver will be changed to 'lbfgs' in 0.22. Specify a solver to silence this warning.\n",
      "  FutureWarning)\n"
     ]
    },
    {
     "name": "stdout",
     "output_type": "stream",
     "text": [
      "\n",
      "---------------------Classification Report--------------------\n",
      "\n",
      "              precision    recall  f1-score   support\n",
      "\n",
      "           0       0.98      1.00      0.99      7012\n",
      "           1       0.25      0.04      0.07       148\n",
      "\n",
      "    accuracy                           0.98      7160\n",
      "   macro avg       0.62      0.52      0.53      7160\n",
      "weighted avg       0.97      0.98      0.97      7160\n",
      "\n",
      "\n",
      "-----------------------Confusion Matrix-----------------------\n",
      "\n",
      "[[6994   18]\n",
      " [ 142    6]]\n",
      "\n",
      "------------------------ROC/AUC SCORE-------------------------\n",
      "\n",
      "0.5190    \n"
     ]
    },
    {
     "name": "stderr",
     "output_type": "stream",
     "text": [
      "/anaconda3/lib/python3.7/site-packages/sklearn/linear_model/logistic.py:432: FutureWarning: Default solver will be changed to 'lbfgs' in 0.22. Specify a solver to silence this warning.\n",
      "  FutureWarning)\n"
     ]
    },
    {
     "name": "stdout",
     "output_type": "stream",
     "text": [
      "\n",
      "---------------------Classification Report--------------------\n",
      "\n",
      "              precision    recall  f1-score   support\n",
      "\n",
      "           0       0.98      0.99      0.99      7029\n",
      "           1       0.28      0.11      0.15       131\n",
      "\n",
      "    accuracy                           0.98      7160\n",
      "   macro avg       0.63      0.55      0.57      7160\n",
      "weighted avg       0.97      0.98      0.97      7160\n",
      "\n",
      "\n",
      "-----------------------Confusion Matrix-----------------------\n",
      "\n",
      "[[6993   36]\n",
      " [ 117   14]]\n",
      "\n",
      "------------------------ROC/AUC SCORE-------------------------\n",
      "\n",
      "0.5509    \n"
     ]
    },
    {
     "name": "stderr",
     "output_type": "stream",
     "text": [
      "/anaconda3/lib/python3.7/site-packages/sklearn/linear_model/logistic.py:432: FutureWarning: Default solver will be changed to 'lbfgs' in 0.22. Specify a solver to silence this warning.\n",
      "  FutureWarning)\n"
     ]
    },
    {
     "name": "stdout",
     "output_type": "stream",
     "text": [
      "\n",
      "---------------------Classification Report--------------------\n",
      "\n",
      "              precision    recall  f1-score   support\n",
      "\n",
      "           0       0.98      1.00      0.99      6999\n",
      "           1       0.29      0.03      0.06       161\n",
      "\n",
      "    accuracy                           0.98      7160\n",
      "   macro avg       0.64      0.51      0.52      7160\n",
      "weighted avg       0.96      0.98      0.97      7160\n",
      "\n",
      "\n",
      "-----------------------Confusion Matrix-----------------------\n",
      "\n",
      "[[6987   12]\n",
      " [ 156    5]]\n",
      "\n",
      "------------------------ROC/AUC SCORE-------------------------\n",
      "\n",
      "0.5147    \n"
     ]
    },
    {
     "name": "stderr",
     "output_type": "stream",
     "text": [
      "/anaconda3/lib/python3.7/site-packages/sklearn/linear_model/logistic.py:432: FutureWarning: Default solver will be changed to 'lbfgs' in 0.22. Specify a solver to silence this warning.\n",
      "  FutureWarning)\n"
     ]
    },
    {
     "name": "stdout",
     "output_type": "stream",
     "text": [
      "\n",
      "---------------------Classification Report--------------------\n",
      "\n",
      "              precision    recall  f1-score   support\n",
      "\n",
      "           0       0.98      1.00      0.99      7000\n",
      "           1       0.27      0.07      0.12       160\n",
      "\n",
      "    accuracy                           0.97      7160\n",
      "   macro avg       0.63      0.54      0.55      7160\n",
      "weighted avg       0.96      0.97      0.97      7160\n",
      "\n",
      "\n",
      "-----------------------Confusion Matrix-----------------------\n",
      "\n",
      "[[6968   32]\n",
      " [ 148   12]]\n",
      "\n",
      "------------------------ROC/AUC SCORE-------------------------\n",
      "\n",
      "0.5352    \n"
     ]
    },
    {
     "name": "stderr",
     "output_type": "stream",
     "text": [
      "/anaconda3/lib/python3.7/site-packages/sklearn/linear_model/logistic.py:432: FutureWarning: Default solver will be changed to 'lbfgs' in 0.22. Specify a solver to silence this warning.\n",
      "  FutureWarning)\n"
     ]
    },
    {
     "name": "stdout",
     "output_type": "stream",
     "text": [
      "\n",
      "---------------------Classification Report--------------------\n",
      "\n",
      "              precision    recall  f1-score   support\n",
      "\n",
      "           0       0.98      1.00      0.99      7007\n",
      "           1       0.13      0.03      0.04       153\n",
      "\n",
      "    accuracy                           0.98      7160\n",
      "   macro avg       0.55      0.51      0.52      7160\n",
      "weighted avg       0.96      0.98      0.97      7160\n",
      "\n",
      "\n",
      "-----------------------Confusion Matrix-----------------------\n",
      "\n",
      "[[6980   27]\n",
      " [ 149    4]]\n",
      "\n",
      "------------------------ROC/AUC SCORE-------------------------\n",
      "\n",
      "0.5111    \n"
     ]
    },
    {
     "name": "stderr",
     "output_type": "stream",
     "text": [
      "/anaconda3/lib/python3.7/site-packages/sklearn/linear_model/logistic.py:432: FutureWarning: Default solver will be changed to 'lbfgs' in 0.22. Specify a solver to silence this warning.\n",
      "  FutureWarning)\n"
     ]
    },
    {
     "name": "stdout",
     "output_type": "stream",
     "text": [
      "\n",
      "---------------------Classification Report--------------------\n",
      "\n",
      "              precision    recall  f1-score   support\n",
      "\n",
      "           0       0.98      1.00      0.99      7008\n",
      "           1       0.44      0.16      0.24       152\n",
      "\n",
      "    accuracy                           0.98      7160\n",
      "   macro avg       0.71      0.58      0.61      7160\n",
      "weighted avg       0.97      0.98      0.97      7160\n",
      "\n",
      "\n",
      "-----------------------Confusion Matrix-----------------------\n",
      "\n",
      "[[6976   32]\n",
      " [ 127   25]]\n",
      "\n",
      "------------------------ROC/AUC SCORE-------------------------\n",
      "\n",
      "0.5800    \n"
     ]
    },
    {
     "name": "stderr",
     "output_type": "stream",
     "text": [
      "/anaconda3/lib/python3.7/site-packages/sklearn/linear_model/logistic.py:432: FutureWarning: Default solver will be changed to 'lbfgs' in 0.22. Specify a solver to silence this warning.\n",
      "  FutureWarning)\n"
     ]
    },
    {
     "name": "stdout",
     "output_type": "stream",
     "text": [
      "\n",
      "---------------------Classification Report--------------------\n",
      "\n",
      "              precision    recall  f1-score   support\n",
      "\n",
      "           0       0.98      1.00      0.99      7043\n",
      "           1       0.12      0.02      0.03       117\n",
      "\n",
      "    accuracy                           0.98      7160\n",
      "   macro avg       0.55      0.51      0.51      7160\n",
      "weighted avg       0.97      0.98      0.98      7160\n",
      "\n",
      "\n",
      "-----------------------Confusion Matrix-----------------------\n",
      "\n",
      "[[7029   14]\n",
      " [ 115    2]]\n",
      "\n",
      "------------------------ROC/AUC SCORE-------------------------\n",
      "\n",
      "0.5076    \n"
     ]
    },
    {
     "name": "stderr",
     "output_type": "stream",
     "text": [
      "/anaconda3/lib/python3.7/site-packages/sklearn/linear_model/logistic.py:432: FutureWarning: Default solver will be changed to 'lbfgs' in 0.22. Specify a solver to silence this warning.\n",
      "  FutureWarning)\n"
     ]
    },
    {
     "name": "stdout",
     "output_type": "stream",
     "text": [
      "\n",
      "---------------------Classification Report--------------------\n",
      "\n",
      "              precision    recall  f1-score   support\n",
      "\n",
      "           0       0.99      1.00      0.99      7054\n",
      "           1       0.40      0.11      0.18       106\n",
      "\n",
      "    accuracy                           0.98      7160\n",
      "   macro avg       0.69      0.56      0.58      7160\n",
      "weighted avg       0.98      0.98      0.98      7160\n",
      "\n",
      "\n",
      "-----------------------Confusion Matrix-----------------------\n",
      "\n",
      "[[7036   18]\n",
      " [  94   12]]\n",
      "\n",
      "------------------------ROC/AUC SCORE-------------------------\n",
      "\n",
      "0.5553    \n"
     ]
    },
    {
     "name": "stderr",
     "output_type": "stream",
     "text": [
      "/anaconda3/lib/python3.7/site-packages/sklearn/linear_model/logistic.py:432: FutureWarning: Default solver will be changed to 'lbfgs' in 0.22. Specify a solver to silence this warning.\n",
      "  FutureWarning)\n"
     ]
    },
    {
     "name": "stdout",
     "output_type": "stream",
     "text": [
      "\n",
      "---------------------Classification Report--------------------\n",
      "\n",
      "              precision    recall  f1-score   support\n",
      "\n",
      "           0       0.98      0.99      0.99      6997\n",
      "           1       0.25      0.08      0.12       163\n",
      "\n",
      "    accuracy                           0.97      7160\n",
      "   macro avg       0.61      0.54      0.55      7160\n",
      "weighted avg       0.96      0.97      0.97      7160\n",
      "\n",
      "\n",
      "-----------------------Confusion Matrix-----------------------\n",
      "\n",
      "[[6957   40]\n",
      " [ 150   13]]\n",
      "\n",
      "------------------------ROC/AUC SCORE-------------------------\n",
      "\n",
      "0.5370    \n"
     ]
    },
    {
     "name": "stderr",
     "output_type": "stream",
     "text": [
      "/anaconda3/lib/python3.7/site-packages/sklearn/linear_model/logistic.py:432: FutureWarning: Default solver will be changed to 'lbfgs' in 0.22. Specify a solver to silence this warning.\n",
      "  FutureWarning)\n"
     ]
    },
    {
     "name": "stdout",
     "output_type": "stream",
     "text": [
      "\n",
      "---------------------Classification Report--------------------\n",
      "\n",
      "              precision    recall  f1-score   support\n",
      "\n",
      "           0       0.98      1.00      0.99      7030\n",
      "           1       0.00      0.00      0.00       130\n",
      "\n",
      "    accuracy                           0.98      7160\n",
      "   macro avg       0.49      0.50      0.49      7160\n",
      "weighted avg       0.96      0.98      0.97      7160\n",
      "\n",
      "\n",
      "-----------------------Confusion Matrix-----------------------\n",
      "\n",
      "[[7016   14]\n",
      " [ 130    0]]\n",
      "\n",
      "------------------------ROC/AUC SCORE-------------------------\n",
      "\n",
      "0.4990    \n"
     ]
    },
    {
     "name": "stderr",
     "output_type": "stream",
     "text": [
      "/anaconda3/lib/python3.7/site-packages/sklearn/linear_model/logistic.py:432: FutureWarning: Default solver will be changed to 'lbfgs' in 0.22. Specify a solver to silence this warning.\n",
      "  FutureWarning)\n"
     ]
    },
    {
     "name": "stdout",
     "output_type": "stream",
     "text": [
      "\n",
      "---------------------Classification Report--------------------\n",
      "\n",
      "              precision    recall  f1-score   support\n",
      "\n",
      "           0       0.99      1.00      0.99      7053\n",
      "           1       0.33      0.02      0.04       107\n",
      "\n",
      "    accuracy                           0.98      7160\n",
      "   macro avg       0.66      0.51      0.51      7160\n",
      "weighted avg       0.98      0.98      0.98      7160\n",
      "\n",
      "\n",
      "-----------------------Confusion Matrix-----------------------\n",
      "\n",
      "[[7049    4]\n",
      " [ 105    2]]\n",
      "\n",
      "------------------------ROC/AUC SCORE-------------------------\n",
      "\n",
      "0.5091    \n"
     ]
    },
    {
     "name": "stderr",
     "output_type": "stream",
     "text": [
      "/anaconda3/lib/python3.7/site-packages/sklearn/linear_model/logistic.py:432: FutureWarning: Default solver will be changed to 'lbfgs' in 0.22. Specify a solver to silence this warning.\n",
      "  FutureWarning)\n"
     ]
    },
    {
     "name": "stdout",
     "output_type": "stream",
     "text": [
      "\n",
      "---------------------Classification Report--------------------\n",
      "\n",
      "              precision    recall  f1-score   support\n",
      "\n",
      "           0       0.98      1.00      0.99      7043\n",
      "           1       0.41      0.06      0.10       117\n",
      "\n",
      "    accuracy                           0.98      7160\n",
      "   macro avg       0.70      0.53      0.55      7160\n",
      "weighted avg       0.98      0.98      0.98      7160\n",
      "\n",
      "\n",
      "-----------------------Confusion Matrix-----------------------\n",
      "\n",
      "[[7033   10]\n",
      " [ 110    7]]\n",
      "\n",
      "------------------------ROC/AUC SCORE-------------------------\n",
      "\n",
      "0.5292    \n"
     ]
    },
    {
     "name": "stderr",
     "output_type": "stream",
     "text": [
      "/anaconda3/lib/python3.7/site-packages/sklearn/linear_model/logistic.py:432: FutureWarning: Default solver will be changed to 'lbfgs' in 0.22. Specify a solver to silence this warning.\n",
      "  FutureWarning)\n"
     ]
    },
    {
     "name": "stdout",
     "output_type": "stream",
     "text": [
      "\n",
      "---------------------Classification Report--------------------\n",
      "\n",
      "              precision    recall  f1-score   support\n",
      "\n",
      "           0       0.99      1.00      0.99      7038\n",
      "           1       0.40      0.13      0.20       122\n",
      "\n",
      "    accuracy                           0.98      7160\n",
      "   macro avg       0.69      0.56      0.59      7160\n",
      "weighted avg       0.98      0.98      0.98      7160\n",
      "\n",
      "\n",
      "-----------------------Confusion Matrix-----------------------\n",
      "\n",
      "[[7014   24]\n",
      " [ 106   16]]\n",
      "\n",
      "------------------------ROC/AUC SCORE-------------------------\n",
      "\n",
      "0.5639    \n"
     ]
    },
    {
     "name": "stderr",
     "output_type": "stream",
     "text": [
      "/anaconda3/lib/python3.7/site-packages/sklearn/linear_model/logistic.py:432: FutureWarning: Default solver will be changed to 'lbfgs' in 0.22. Specify a solver to silence this warning.\n",
      "  FutureWarning)\n"
     ]
    },
    {
     "name": "stdout",
     "output_type": "stream",
     "text": [
      "\n",
      "---------------------Classification Report--------------------\n",
      "\n",
      "              precision    recall  f1-score   support\n",
      "\n",
      "           0       0.98      1.00      0.99      7012\n",
      "           1       0.36      0.11      0.17       148\n",
      "\n",
      "    accuracy                           0.98      7160\n",
      "   macro avg       0.67      0.55      0.58      7160\n",
      "weighted avg       0.97      0.98      0.97      7160\n",
      "\n",
      "\n",
      "-----------------------Confusion Matrix-----------------------\n",
      "\n",
      "[[6984   28]\n",
      " [ 132   16]]\n",
      "\n",
      "------------------------ROC/AUC SCORE-------------------------\n",
      "\n",
      "0.5521    \n"
     ]
    },
    {
     "name": "stderr",
     "output_type": "stream",
     "text": [
      "/anaconda3/lib/python3.7/site-packages/sklearn/linear_model/logistic.py:432: FutureWarning: Default solver will be changed to 'lbfgs' in 0.22. Specify a solver to silence this warning.\n",
      "  FutureWarning)\n"
     ]
    },
    {
     "name": "stdout",
     "output_type": "stream",
     "text": [
      "\n",
      "---------------------Classification Report--------------------\n",
      "\n",
      "              precision    recall  f1-score   support\n",
      "\n",
      "           0       0.98      1.00      0.99      7045\n",
      "           1       0.00      0.00      0.00       115\n",
      "\n",
      "    accuracy                           0.98      7160\n",
      "   macro avg       0.49      0.50      0.50      7160\n",
      "weighted avg       0.97      0.98      0.98      7160\n",
      "\n",
      "\n",
      "-----------------------Confusion Matrix-----------------------\n",
      "\n",
      "[[7043    2]\n",
      " [ 115    0]]\n",
      "\n",
      "------------------------ROC/AUC SCORE-------------------------\n",
      "\n",
      "0.4999    \n"
     ]
    },
    {
     "name": "stderr",
     "output_type": "stream",
     "text": [
      "/anaconda3/lib/python3.7/site-packages/sklearn/linear_model/logistic.py:432: FutureWarning: Default solver will be changed to 'lbfgs' in 0.22. Specify a solver to silence this warning.\n",
      "  FutureWarning)\n"
     ]
    },
    {
     "name": "stdout",
     "output_type": "stream",
     "text": [
      "\n",
      "---------------------Classification Report--------------------\n",
      "\n",
      "              precision    recall  f1-score   support\n",
      "\n",
      "           0       0.99      1.00      0.99      7047\n",
      "           1       0.59      0.36      0.45       113\n",
      "\n",
      "    accuracy                           0.99      7160\n",
      "   macro avg       0.79      0.68      0.72      7160\n",
      "weighted avg       0.98      0.99      0.98      7160\n",
      "\n",
      "\n",
      "-----------------------Confusion Matrix-----------------------\n",
      "\n",
      "[[7019   28]\n",
      " [  72   41]]\n",
      "\n",
      "------------------------ROC/AUC SCORE-------------------------\n",
      "\n",
      "0.6794    \n"
     ]
    },
    {
     "name": "stderr",
     "output_type": "stream",
     "text": [
      "/anaconda3/lib/python3.7/site-packages/sklearn/linear_model/logistic.py:432: FutureWarning: Default solver will be changed to 'lbfgs' in 0.22. Specify a solver to silence this warning.\n",
      "  FutureWarning)\n"
     ]
    },
    {
     "name": "stdout",
     "output_type": "stream",
     "text": [
      "\n",
      "---------------------Classification Report--------------------\n",
      "\n",
      "              precision    recall  f1-score   support\n",
      "\n",
      "           0       0.98      1.00      0.99      7014\n",
      "           1       0.27      0.05      0.08       146\n",
      "\n",
      "    accuracy                           0.98      7160\n",
      "   macro avg       0.62      0.52      0.54      7160\n",
      "weighted avg       0.97      0.98      0.97      7160\n",
      "\n",
      "\n",
      "-----------------------Confusion Matrix-----------------------\n",
      "\n",
      "[[6995   19]\n",
      " [ 139    7]]\n",
      "\n",
      "------------------------ROC/AUC SCORE-------------------------\n",
      "\n",
      "0.5226    \n"
     ]
    },
    {
     "name": "stderr",
     "output_type": "stream",
     "text": [
      "/anaconda3/lib/python3.7/site-packages/sklearn/linear_model/logistic.py:432: FutureWarning: Default solver will be changed to 'lbfgs' in 0.22. Specify a solver to silence this warning.\n",
      "  FutureWarning)\n"
     ]
    },
    {
     "name": "stdout",
     "output_type": "stream",
     "text": [
      "\n",
      "---------------------Classification Report--------------------\n",
      "\n",
      "              precision    recall  f1-score   support\n",
      "\n",
      "           0       0.98      1.00      0.99      7036\n",
      "           1       0.37      0.10      0.16       124\n",
      "\n",
      "    accuracy                           0.98      7160\n",
      "   macro avg       0.68      0.55      0.58      7160\n",
      "weighted avg       0.97      0.98      0.98      7160\n",
      "\n",
      "\n",
      "-----------------------Confusion Matrix-----------------------\n",
      "\n",
      "[[7014   22]\n",
      " [ 111   13]]\n",
      "\n",
      "------------------------ROC/AUC SCORE-------------------------\n",
      "\n",
      "0.5509    \n"
     ]
    },
    {
     "name": "stderr",
     "output_type": "stream",
     "text": [
      "/anaconda3/lib/python3.7/site-packages/sklearn/linear_model/logistic.py:432: FutureWarning: Default solver will be changed to 'lbfgs' in 0.22. Specify a solver to silence this warning.\n",
      "  FutureWarning)\n"
     ]
    },
    {
     "name": "stdout",
     "output_type": "stream",
     "text": [
      "\n",
      "---------------------Classification Report--------------------\n",
      "\n",
      "              precision    recall  f1-score   support\n",
      "\n",
      "           0       0.98      0.99      0.99      7014\n",
      "           1       0.31      0.11      0.16       146\n",
      "\n",
      "    accuracy                           0.98      7160\n",
      "   macro avg       0.64      0.55      0.57      7160\n",
      "weighted avg       0.97      0.98      0.97      7160\n",
      "\n",
      "\n",
      "-----------------------Confusion Matrix-----------------------\n",
      "\n",
      "[[6978   36]\n",
      " [ 130   16]]\n",
      "\n",
      "------------------------ROC/AUC SCORE-------------------------\n",
      "\n",
      "0.5522    \n"
     ]
    },
    {
     "name": "stderr",
     "output_type": "stream",
     "text": [
      "/anaconda3/lib/python3.7/site-packages/sklearn/linear_model/logistic.py:432: FutureWarning: Default solver will be changed to 'lbfgs' in 0.22. Specify a solver to silence this warning.\n",
      "  FutureWarning)\n"
     ]
    },
    {
     "name": "stdout",
     "output_type": "stream",
     "text": [
      "\n",
      "---------------------Classification Report--------------------\n",
      "\n",
      "              precision    recall  f1-score   support\n",
      "\n",
      "           0       0.98      1.00      0.99      7029\n",
      "           1       0.25      0.04      0.07       131\n",
      "\n",
      "    accuracy                           0.98      7160\n",
      "   macro avg       0.62      0.52      0.53      7160\n",
      "weighted avg       0.97      0.98      0.97      7160\n",
      "\n",
      "\n",
      "-----------------------Confusion Matrix-----------------------\n",
      "\n",
      "[[7014   15]\n",
      " [ 126    5]]\n",
      "\n",
      "------------------------ROC/AUC SCORE-------------------------\n",
      "\n",
      "0.5180    \n"
     ]
    },
    {
     "name": "stderr",
     "output_type": "stream",
     "text": [
      "/anaconda3/lib/python3.7/site-packages/sklearn/linear_model/logistic.py:432: FutureWarning: Default solver will be changed to 'lbfgs' in 0.22. Specify a solver to silence this warning.\n",
      "  FutureWarning)\n"
     ]
    },
    {
     "name": "stdout",
     "output_type": "stream",
     "text": [
      "\n",
      "---------------------Classification Report--------------------\n",
      "\n",
      "              precision    recall  f1-score   support\n",
      "\n",
      "           0       0.98      1.00      0.99      7050\n",
      "           1       0.00      0.00      0.00       110\n",
      "\n",
      "    accuracy                           0.98      7160\n",
      "   macro avg       0.49      0.50      0.50      7160\n",
      "weighted avg       0.97      0.98      0.98      7160\n",
      "\n",
      "\n",
      "-----------------------Confusion Matrix-----------------------\n",
      "\n",
      "[[7046    4]\n",
      " [ 110    0]]\n",
      "\n",
      "------------------------ROC/AUC SCORE-------------------------\n",
      "\n",
      "0.4997    \n"
     ]
    },
    {
     "name": "stderr",
     "output_type": "stream",
     "text": [
      "/anaconda3/lib/python3.7/site-packages/sklearn/linear_model/logistic.py:432: FutureWarning: Default solver will be changed to 'lbfgs' in 0.22. Specify a solver to silence this warning.\n",
      "  FutureWarning)\n"
     ]
    },
    {
     "name": "stdout",
     "output_type": "stream",
     "text": [
      "\n",
      "---------------------Classification Report--------------------\n",
      "\n",
      "              precision    recall  f1-score   support\n",
      "\n",
      "           0       0.99      1.00      0.99      7058\n",
      "           1       0.42      0.05      0.09       102\n",
      "\n",
      "    accuracy                           0.99      7160\n",
      "   macro avg       0.70      0.52      0.54      7160\n",
      "weighted avg       0.98      0.99      0.98      7160\n",
      "\n",
      "\n",
      "-----------------------Confusion Matrix-----------------------\n",
      "\n",
      "[[7051    7]\n",
      " [  97    5]]\n",
      "\n",
      "------------------------ROC/AUC SCORE-------------------------\n",
      "\n",
      "0.5240    \n"
     ]
    },
    {
     "name": "stderr",
     "output_type": "stream",
     "text": [
      "/anaconda3/lib/python3.7/site-packages/sklearn/linear_model/logistic.py:432: FutureWarning: Default solver will be changed to 'lbfgs' in 0.22. Specify a solver to silence this warning.\n",
      "  FutureWarning)\n"
     ]
    },
    {
     "name": "stdout",
     "output_type": "stream",
     "text": [
      "\n",
      "---------------------Classification Report--------------------\n",
      "\n",
      "              precision    recall  f1-score   support\n",
      "\n",
      "           0       0.98      1.00      0.99      7021\n",
      "           1       0.21      0.04      0.07       139\n",
      "\n",
      "    accuracy                           0.98      7160\n",
      "   macro avg       0.60      0.52      0.53      7160\n",
      "weighted avg       0.97      0.98      0.97      7160\n",
      "\n",
      "\n",
      "-----------------------Confusion Matrix-----------------------\n",
      "\n",
      "[[6999   22]\n",
      " [ 133    6]]\n",
      "\n",
      "------------------------ROC/AUC SCORE-------------------------\n",
      "\n",
      "0.5200    \n"
     ]
    },
    {
     "name": "stderr",
     "output_type": "stream",
     "text": [
      "/anaconda3/lib/python3.7/site-packages/sklearn/linear_model/logistic.py:432: FutureWarning: Default solver will be changed to 'lbfgs' in 0.22. Specify a solver to silence this warning.\n",
      "  FutureWarning)\n"
     ]
    },
    {
     "name": "stdout",
     "output_type": "stream",
     "text": [
      "\n",
      "---------------------Classification Report--------------------\n",
      "\n",
      "              precision    recall  f1-score   support\n",
      "\n",
      "           0       0.98      1.00      0.99      7024\n",
      "           1       0.42      0.10      0.16       136\n",
      "\n",
      "    accuracy                           0.98      7160\n",
      "   macro avg       0.70      0.55      0.57      7160\n",
      "weighted avg       0.97      0.98      0.97      7160\n",
      "\n",
      "\n",
      "-----------------------Confusion Matrix-----------------------\n",
      "\n",
      "[[7006   18]\n",
      " [ 123   13]]\n",
      "\n",
      "------------------------ROC/AUC SCORE-------------------------\n",
      "\n",
      "0.5465    \n"
     ]
    },
    {
     "name": "stderr",
     "output_type": "stream",
     "text": [
      "/anaconda3/lib/python3.7/site-packages/sklearn/linear_model/logistic.py:432: FutureWarning: Default solver will be changed to 'lbfgs' in 0.22. Specify a solver to silence this warning.\n",
      "  FutureWarning)\n"
     ]
    },
    {
     "name": "stdout",
     "output_type": "stream",
     "text": [
      "\n",
      "---------------------Classification Report--------------------\n",
      "\n",
      "              precision    recall  f1-score   support\n",
      "\n",
      "           0       0.98      1.00      0.99      7026\n",
      "           1       0.28      0.05      0.09       134\n",
      "\n",
      "    accuracy                           0.98      7160\n",
      "   macro avg       0.63      0.52      0.54      7160\n",
      "weighted avg       0.97      0.98      0.97      7160\n",
      "\n",
      "\n",
      "-----------------------Confusion Matrix-----------------------\n",
      "\n",
      "[[7008   18]\n",
      " [ 127    7]]\n",
      "\n",
      "------------------------ROC/AUC SCORE-------------------------\n",
      "\n",
      "0.5248    \n"
     ]
    },
    {
     "name": "stderr",
     "output_type": "stream",
     "text": [
      "/anaconda3/lib/python3.7/site-packages/sklearn/linear_model/logistic.py:432: FutureWarning: Default solver will be changed to 'lbfgs' in 0.22. Specify a solver to silence this warning.\n",
      "  FutureWarning)\n"
     ]
    },
    {
     "name": "stdout",
     "output_type": "stream",
     "text": [
      "\n",
      "---------------------Classification Report--------------------\n",
      "\n",
      "              precision    recall  f1-score   support\n",
      "\n",
      "           0       0.98      1.00      0.99      7008\n",
      "           1       0.30      0.05      0.08       152\n",
      "\n",
      "    accuracy                           0.98      7160\n",
      "   macro avg       0.64      0.52      0.53      7160\n",
      "weighted avg       0.97      0.98      0.97      7160\n",
      "\n",
      "\n",
      "-----------------------Confusion Matrix-----------------------\n",
      "\n",
      "[[6992   16]\n",
      " [ 145    7]]\n",
      "\n",
      "------------------------ROC/AUC SCORE-------------------------\n",
      "\n",
      "0.5219    \n"
     ]
    },
    {
     "name": "stderr",
     "output_type": "stream",
     "text": [
      "/anaconda3/lib/python3.7/site-packages/sklearn/linear_model/logistic.py:432: FutureWarning: Default solver will be changed to 'lbfgs' in 0.22. Specify a solver to silence this warning.\n",
      "  FutureWarning)\n"
     ]
    },
    {
     "name": "stdout",
     "output_type": "stream",
     "text": [
      "\n",
      "---------------------Classification Report--------------------\n",
      "\n",
      "              precision    recall  f1-score   support\n",
      "\n",
      "           0       0.98      0.99      0.99      7021\n",
      "           1       0.37      0.16      0.22       139\n",
      "\n",
      "    accuracy                           0.98      7160\n",
      "   macro avg       0.68      0.58      0.61      7160\n",
      "weighted avg       0.97      0.98      0.97      7160\n",
      "\n",
      "\n",
      "-----------------------Confusion Matrix-----------------------\n",
      "\n",
      "[[6984   37]\n",
      " [ 117   22]]\n",
      "\n",
      "------------------------ROC/AUC SCORE-------------------------\n",
      "\n",
      "0.5765    \n"
     ]
    },
    {
     "name": "stderr",
     "output_type": "stream",
     "text": [
      "/anaconda3/lib/python3.7/site-packages/sklearn/linear_model/logistic.py:432: FutureWarning: Default solver will be changed to 'lbfgs' in 0.22. Specify a solver to silence this warning.\n",
      "  FutureWarning)\n"
     ]
    },
    {
     "name": "stdout",
     "output_type": "stream",
     "text": [
      "\n",
      "---------------------Classification Report--------------------\n",
      "\n",
      "              precision    recall  f1-score   support\n",
      "\n",
      "           0       0.99      1.00      0.99      7053\n",
      "           1       0.00      0.00      0.00       107\n",
      "\n",
      "    accuracy                           0.98      7160\n",
      "   macro avg       0.49      0.50      0.50      7160\n",
      "weighted avg       0.97      0.98      0.98      7160\n",
      "\n",
      "\n",
      "-----------------------Confusion Matrix-----------------------\n",
      "\n",
      "[[7050    3]\n",
      " [ 107    0]]\n",
      "\n",
      "------------------------ROC/AUC SCORE-------------------------\n",
      "\n",
      "0.4998    \n"
     ]
    },
    {
     "name": "stderr",
     "output_type": "stream",
     "text": [
      "/anaconda3/lib/python3.7/site-packages/sklearn/linear_model/logistic.py:432: FutureWarning: Default solver will be changed to 'lbfgs' in 0.22. Specify a solver to silence this warning.\n",
      "  FutureWarning)\n"
     ]
    },
    {
     "name": "stdout",
     "output_type": "stream",
     "text": [
      "\n",
      "---------------------Classification Report--------------------\n",
      "\n",
      "              precision    recall  f1-score   support\n",
      "\n",
      "           0       0.98      1.00      0.99      7032\n",
      "           1       0.17      0.02      0.03       128\n",
      "\n",
      "    accuracy                           0.98      7160\n",
      "   macro avg       0.57      0.51      0.51      7160\n",
      "weighted avg       0.97      0.98      0.97      7160\n",
      "\n",
      "\n",
      "-----------------------Confusion Matrix-----------------------\n",
      "\n",
      "[[7022   10]\n",
      " [ 126    2]]\n",
      "\n",
      "------------------------ROC/AUC SCORE-------------------------\n",
      "\n",
      "0.5071    \n"
     ]
    },
    {
     "name": "stderr",
     "output_type": "stream",
     "text": [
      "/anaconda3/lib/python3.7/site-packages/sklearn/linear_model/logistic.py:432: FutureWarning: Default solver will be changed to 'lbfgs' in 0.22. Specify a solver to silence this warning.\n",
      "  FutureWarning)\n"
     ]
    },
    {
     "name": "stdout",
     "output_type": "stream",
     "text": [
      "\n",
      "---------------------Classification Report--------------------\n",
      "\n",
      "              precision    recall  f1-score   support\n",
      "\n",
      "           0       0.98      1.00      0.99      7041\n",
      "           1       0.50      0.07      0.12       119\n",
      "\n",
      "    accuracy                           0.98      7160\n",
      "   macro avg       0.74      0.53      0.56      7160\n",
      "weighted avg       0.98      0.98      0.98      7160\n",
      "\n",
      "\n",
      "-----------------------Confusion Matrix-----------------------\n",
      "\n",
      "[[7033    8]\n",
      " [ 111    8]]\n",
      "\n",
      "------------------------ROC/AUC SCORE-------------------------\n",
      "\n",
      "0.5330    \n"
     ]
    },
    {
     "name": "stderr",
     "output_type": "stream",
     "text": [
      "/anaconda3/lib/python3.7/site-packages/sklearn/linear_model/logistic.py:432: FutureWarning: Default solver will be changed to 'lbfgs' in 0.22. Specify a solver to silence this warning.\n",
      "  FutureWarning)\n"
     ]
    },
    {
     "name": "stdout",
     "output_type": "stream",
     "text": [
      "\n",
      "---------------------Classification Report--------------------\n",
      "\n",
      "              precision    recall  f1-score   support\n",
      "\n",
      "           0       0.98      1.00      0.99      7028\n",
      "           1       0.19      0.06      0.09       132\n",
      "\n",
      "    accuracy                           0.98      7160\n",
      "   macro avg       0.58      0.53      0.54      7160\n",
      "weighted avg       0.97      0.98      0.97      7160\n",
      "\n",
      "\n",
      "-----------------------Confusion Matrix-----------------------\n",
      "\n",
      "[[6993   35]\n",
      " [ 124    8]]\n",
      "\n",
      "------------------------ROC/AUC SCORE-------------------------\n",
      "\n",
      "0.5278    \n"
     ]
    },
    {
     "name": "stderr",
     "output_type": "stream",
     "text": [
      "/anaconda3/lib/python3.7/site-packages/sklearn/linear_model/logistic.py:432: FutureWarning: Default solver will be changed to 'lbfgs' in 0.22. Specify a solver to silence this warning.\n",
      "  FutureWarning)\n"
     ]
    },
    {
     "name": "stdout",
     "output_type": "stream",
     "text": [
      "\n",
      "---------------------Classification Report--------------------\n",
      "\n",
      "              precision    recall  f1-score   support\n",
      "\n",
      "           0       0.98      1.00      0.99      7037\n",
      "           1       0.00      0.00      0.00       123\n",
      "\n",
      "    accuracy                           0.98      7160\n",
      "   macro avg       0.49      0.50      0.50      7160\n",
      "weighted avg       0.97      0.98      0.97      7160\n",
      "\n",
      "\n",
      "-----------------------Confusion Matrix-----------------------\n",
      "\n",
      "[[7035    2]\n",
      " [ 123    0]]\n",
      "\n",
      "------------------------ROC/AUC SCORE-------------------------\n",
      "\n",
      "0.4999    \n"
     ]
    },
    {
     "name": "stderr",
     "output_type": "stream",
     "text": [
      "/anaconda3/lib/python3.7/site-packages/sklearn/linear_model/logistic.py:432: FutureWarning: Default solver will be changed to 'lbfgs' in 0.22. Specify a solver to silence this warning.\n",
      "  FutureWarning)\n"
     ]
    },
    {
     "name": "stdout",
     "output_type": "stream",
     "text": [
      "\n",
      "---------------------Classification Report--------------------\n",
      "\n",
      "              precision    recall  f1-score   support\n",
      "\n",
      "           0       0.98      1.00      0.99      7030\n",
      "           1       0.19      0.05      0.07       130\n",
      "\n",
      "    accuracy                           0.98      7160\n",
      "   macro avg       0.59      0.52      0.53      7160\n",
      "weighted avg       0.97      0.98      0.97      7160\n",
      "\n",
      "\n",
      "-----------------------Confusion Matrix-----------------------\n",
      "\n",
      "[[7005   25]\n",
      " [ 124    6]]\n",
      "\n",
      "------------------------ROC/AUC SCORE-------------------------\n",
      "\n",
      "0.5213    \n"
     ]
    },
    {
     "name": "stderr",
     "output_type": "stream",
     "text": [
      "/anaconda3/lib/python3.7/site-packages/sklearn/linear_model/logistic.py:432: FutureWarning: Default solver will be changed to 'lbfgs' in 0.22. Specify a solver to silence this warning.\n",
      "  FutureWarning)\n"
     ]
    },
    {
     "name": "stdout",
     "output_type": "stream",
     "text": [
      "\n",
      "---------------------Classification Report--------------------\n",
      "\n",
      "              precision    recall  f1-score   support\n",
      "\n",
      "           0       0.98      1.00      0.99      7026\n",
      "           1       0.11      0.01      0.01       134\n",
      "\n",
      "    accuracy                           0.98      7160\n",
      "   macro avg       0.55      0.50      0.50      7160\n",
      "weighted avg       0.97      0.98      0.97      7160\n",
      "\n",
      "\n",
      "-----------------------Confusion Matrix-----------------------\n",
      "\n",
      "[[7018    8]\n",
      " [ 133    1]]\n",
      "\n",
      "------------------------ROC/AUC SCORE-------------------------\n",
      "\n",
      "0.5032    \n"
     ]
    },
    {
     "name": "stderr",
     "output_type": "stream",
     "text": [
      "/anaconda3/lib/python3.7/site-packages/sklearn/linear_model/logistic.py:432: FutureWarning: Default solver will be changed to 'lbfgs' in 0.22. Specify a solver to silence this warning.\n",
      "  FutureWarning)\n"
     ]
    },
    {
     "name": "stdout",
     "output_type": "stream",
     "text": [
      "\n",
      "---------------------Classification Report--------------------\n",
      "\n",
      "              precision    recall  f1-score   support\n",
      "\n",
      "           0       0.98      1.00      0.99      7046\n",
      "           1       0.00      0.00      0.00       114\n",
      "\n",
      "    accuracy                           0.98      7160\n",
      "   macro avg       0.49      0.50      0.50      7160\n",
      "weighted avg       0.97      0.98      0.98      7160\n",
      "\n",
      "\n",
      "-----------------------Confusion Matrix-----------------------\n",
      "\n",
      "[[7040    6]\n",
      " [ 114    0]]\n",
      "\n",
      "------------------------ROC/AUC SCORE-------------------------\n",
      "\n",
      "0.4996    \n"
     ]
    },
    {
     "name": "stderr",
     "output_type": "stream",
     "text": [
      "/anaconda3/lib/python3.7/site-packages/sklearn/linear_model/logistic.py:432: FutureWarning: Default solver will be changed to 'lbfgs' in 0.22. Specify a solver to silence this warning.\n",
      "  FutureWarning)\n"
     ]
    },
    {
     "name": "stdout",
     "output_type": "stream",
     "text": [
      "\n",
      "---------------------Classification Report--------------------\n",
      "\n",
      "              precision    recall  f1-score   support\n",
      "\n",
      "           0       0.98      1.00      0.99      7024\n",
      "           1       0.36      0.06      0.10       136\n",
      "\n",
      "    accuracy                           0.98      7160\n",
      "   macro avg       0.67      0.53      0.55      7160\n",
      "weighted avg       0.97      0.98      0.97      7160\n",
      "\n",
      "\n",
      "-----------------------Confusion Matrix-----------------------\n",
      "\n",
      "[[7010   14]\n",
      " [ 128    8]]\n",
      "\n",
      "------------------------ROC/AUC SCORE-------------------------\n",
      "\n",
      "0.5284    \n"
     ]
    },
    {
     "name": "stderr",
     "output_type": "stream",
     "text": [
      "/anaconda3/lib/python3.7/site-packages/sklearn/linear_model/logistic.py:432: FutureWarning: Default solver will be changed to 'lbfgs' in 0.22. Specify a solver to silence this warning.\n",
      "  FutureWarning)\n"
     ]
    },
    {
     "name": "stdout",
     "output_type": "stream",
     "text": [
      "\n",
      "---------------------Classification Report--------------------\n",
      "\n",
      "              precision    recall  f1-score   support\n",
      "\n",
      "           0       0.99      1.00      0.99      7043\n",
      "           1       0.45      0.12      0.19       117\n",
      "\n",
      "    accuracy                           0.98      7160\n",
      "   macro avg       0.72      0.56      0.59      7160\n",
      "weighted avg       0.98      0.98      0.98      7160\n",
      "\n",
      "\n",
      "-----------------------Confusion Matrix-----------------------\n",
      "\n",
      "[[7026   17]\n",
      " [ 103   14]]\n",
      "\n",
      "------------------------ROC/AUC SCORE-------------------------\n",
      "\n",
      "0.5586    \n"
     ]
    },
    {
     "name": "stderr",
     "output_type": "stream",
     "text": [
      "/anaconda3/lib/python3.7/site-packages/sklearn/linear_model/logistic.py:432: FutureWarning: Default solver will be changed to 'lbfgs' in 0.22. Specify a solver to silence this warning.\n",
      "  FutureWarning)\n"
     ]
    },
    {
     "name": "stdout",
     "output_type": "stream",
     "text": [
      "\n",
      "---------------------Classification Report--------------------\n",
      "\n",
      "              precision    recall  f1-score   support\n",
      "\n",
      "           0       0.98      1.00      0.99      7022\n",
      "           1       0.14      0.01      0.01       138\n",
      "\n",
      "    accuracy                           0.98      7160\n",
      "   macro avg       0.56      0.50      0.50      7160\n",
      "weighted avg       0.96      0.98      0.97      7160\n",
      "\n",
      "\n",
      "-----------------------Confusion Matrix-----------------------\n",
      "\n",
      "[[7016    6]\n",
      " [ 137    1]]\n",
      "\n",
      "------------------------ROC/AUC SCORE-------------------------\n",
      "\n",
      "0.5032    \n"
     ]
    },
    {
     "name": "stderr",
     "output_type": "stream",
     "text": [
      "/anaconda3/lib/python3.7/site-packages/sklearn/linear_model/logistic.py:432: FutureWarning: Default solver will be changed to 'lbfgs' in 0.22. Specify a solver to silence this warning.\n",
      "  FutureWarning)\n"
     ]
    },
    {
     "name": "stdout",
     "output_type": "stream",
     "text": [
      "\n",
      "---------------------Classification Report--------------------\n",
      "\n",
      "              precision    recall  f1-score   support\n",
      "\n",
      "           0       0.98      1.00      0.99      7027\n",
      "           1       0.17      0.01      0.01       133\n",
      "\n",
      "    accuracy                           0.98      7160\n",
      "   macro avg       0.57      0.50      0.50      7160\n",
      "weighted avg       0.97      0.98      0.97      7160\n",
      "\n",
      "\n",
      "-----------------------Confusion Matrix-----------------------\n",
      "\n",
      "[[7022    5]\n",
      " [ 132    1]]\n",
      "\n",
      "------------------------ROC/AUC SCORE-------------------------\n",
      "\n",
      "0.5034    \n"
     ]
    },
    {
     "name": "stderr",
     "output_type": "stream",
     "text": [
      "/anaconda3/lib/python3.7/site-packages/sklearn/linear_model/logistic.py:432: FutureWarning: Default solver will be changed to 'lbfgs' in 0.22. Specify a solver to silence this warning.\n",
      "  FutureWarning)\n"
     ]
    },
    {
     "name": "stdout",
     "output_type": "stream",
     "text": [
      "\n",
      "---------------------Classification Report--------------------\n",
      "\n",
      "              precision    recall  f1-score   support\n",
      "\n",
      "           0       0.98      1.00      0.99      7034\n",
      "           1       0.42      0.06      0.11       126\n",
      "\n",
      "    accuracy                           0.98      7160\n",
      "   macro avg       0.70      0.53      0.55      7160\n",
      "weighted avg       0.97      0.98      0.98      7160\n",
      "\n",
      "\n",
      "-----------------------Confusion Matrix-----------------------\n",
      "\n",
      "[[7023   11]\n",
      " [ 118    8]]\n",
      "\n",
      "------------------------ROC/AUC SCORE-------------------------\n",
      "\n",
      "0.5310    \n"
     ]
    },
    {
     "name": "stderr",
     "output_type": "stream",
     "text": [
      "/anaconda3/lib/python3.7/site-packages/sklearn/linear_model/logistic.py:432: FutureWarning: Default solver will be changed to 'lbfgs' in 0.22. Specify a solver to silence this warning.\n",
      "  FutureWarning)\n"
     ]
    },
    {
     "name": "stdout",
     "output_type": "stream",
     "text": [
      "\n",
      "---------------------Classification Report--------------------\n",
      "\n",
      "              precision    recall  f1-score   support\n",
      "\n",
      "           0       0.98      1.00      0.99      7038\n",
      "           1       0.27      0.03      0.06       122\n",
      "\n",
      "    accuracy                           0.98      7160\n",
      "   macro avg       0.63      0.52      0.52      7160\n",
      "weighted avg       0.97      0.98      0.98      7160\n",
      "\n",
      "\n",
      "-----------------------Confusion Matrix-----------------------\n",
      "\n",
      "[[7027   11]\n",
      " [ 118    4]]\n",
      "\n",
      "------------------------ROC/AUC SCORE-------------------------\n",
      "\n",
      "0.5156    \n"
     ]
    },
    {
     "name": "stderr",
     "output_type": "stream",
     "text": [
      "/anaconda3/lib/python3.7/site-packages/sklearn/linear_model/logistic.py:432: FutureWarning: Default solver will be changed to 'lbfgs' in 0.22. Specify a solver to silence this warning.\n",
      "  FutureWarning)\n"
     ]
    },
    {
     "name": "stdout",
     "output_type": "stream",
     "text": [
      "\n",
      "---------------------Classification Report--------------------\n",
      "\n",
      "              precision    recall  f1-score   support\n",
      "\n",
      "           0       0.98      1.00      0.99      7036\n",
      "           1       0.00      0.00      0.00       124\n",
      "\n",
      "    accuracy                           0.98      7160\n",
      "   macro avg       0.49      0.50      0.50      7160\n",
      "weighted avg       0.97      0.98      0.97      7160\n",
      "\n",
      "\n",
      "-----------------------Confusion Matrix-----------------------\n",
      "\n",
      "[[7035    1]\n",
      " [ 124    0]]\n",
      "\n",
      "------------------------ROC/AUC SCORE-------------------------\n",
      "\n",
      "0.4999    \n"
     ]
    },
    {
     "name": "stderr",
     "output_type": "stream",
     "text": [
      "/anaconda3/lib/python3.7/site-packages/sklearn/linear_model/logistic.py:432: FutureWarning: Default solver will be changed to 'lbfgs' in 0.22. Specify a solver to silence this warning.\n",
      "  FutureWarning)\n"
     ]
    },
    {
     "name": "stdout",
     "output_type": "stream",
     "text": [
      "\n",
      "---------------------Classification Report--------------------\n",
      "\n",
      "              precision    recall  f1-score   support\n",
      "\n",
      "           0       0.99      1.00      0.99      7053\n",
      "           1       0.22      0.02      0.03       107\n",
      "\n",
      "    accuracy                           0.98      7160\n",
      "   macro avg       0.60      0.51      0.51      7160\n",
      "weighted avg       0.97      0.98      0.98      7160\n",
      "\n",
      "\n",
      "-----------------------Confusion Matrix-----------------------\n",
      "\n",
      "[[7046    7]\n",
      " [ 105    2]]\n",
      "\n",
      "------------------------ROC/AUC SCORE-------------------------\n",
      "\n",
      "0.5088    \n"
     ]
    },
    {
     "name": "stderr",
     "output_type": "stream",
     "text": [
      "/anaconda3/lib/python3.7/site-packages/sklearn/linear_model/logistic.py:432: FutureWarning: Default solver will be changed to 'lbfgs' in 0.22. Specify a solver to silence this warning.\n",
      "  FutureWarning)\n"
     ]
    },
    {
     "name": "stdout",
     "output_type": "stream",
     "text": [
      "\n",
      "---------------------Classification Report--------------------\n",
      "\n",
      "              precision    recall  f1-score   support\n",
      "\n",
      "           0       0.99      1.00      0.99      7043\n",
      "           1       0.61      0.37      0.46       117\n",
      "\n",
      "    accuracy                           0.99      7160\n",
      "   macro avg       0.80      0.68      0.73      7160\n",
      "weighted avg       0.98      0.99      0.98      7160\n",
      "\n",
      "\n",
      "-----------------------Confusion Matrix-----------------------\n",
      "\n",
      "[[7016   27]\n",
      " [  74   43]]\n",
      "\n",
      "------------------------ROC/AUC SCORE-------------------------\n",
      "\n",
      "0.6818    \n"
     ]
    },
    {
     "name": "stderr",
     "output_type": "stream",
     "text": [
      "/anaconda3/lib/python3.7/site-packages/sklearn/linear_model/logistic.py:432: FutureWarning: Default solver will be changed to 'lbfgs' in 0.22. Specify a solver to silence this warning.\n",
      "  FutureWarning)\n"
     ]
    },
    {
     "name": "stdout",
     "output_type": "stream",
     "text": [
      "\n",
      "---------------------Classification Report--------------------\n",
      "\n",
      "              precision    recall  f1-score   support\n",
      "\n",
      "           0       0.98      1.00      0.99      7044\n",
      "           1       0.40      0.02      0.03       116\n",
      "\n",
      "    accuracy                           0.98      7160\n",
      "   macro avg       0.69      0.51      0.51      7160\n",
      "weighted avg       0.97      0.98      0.98      7160\n",
      "\n",
      "\n",
      "-----------------------Confusion Matrix-----------------------\n",
      "\n",
      "[[7041    3]\n",
      " [ 114    2]]\n",
      "\n",
      "------------------------ROC/AUC SCORE-------------------------\n",
      "\n",
      "0.5084    \n"
     ]
    },
    {
     "name": "stderr",
     "output_type": "stream",
     "text": [
      "/anaconda3/lib/python3.7/site-packages/sklearn/linear_model/logistic.py:432: FutureWarning: Default solver will be changed to 'lbfgs' in 0.22. Specify a solver to silence this warning.\n",
      "  FutureWarning)\n"
     ]
    },
    {
     "name": "stdout",
     "output_type": "stream",
     "text": [
      "\n",
      "---------------------Classification Report--------------------\n",
      "\n",
      "              precision    recall  f1-score   support\n",
      "\n",
      "           0       0.98      1.00      0.99      7039\n",
      "           1       0.16      0.02      0.04       121\n",
      "\n",
      "    accuracy                           0.98      7160\n",
      "   macro avg       0.57      0.51      0.52      7160\n",
      "weighted avg       0.97      0.98      0.97      7160\n",
      "\n",
      "\n",
      "-----------------------Confusion Matrix-----------------------\n",
      "\n",
      "[[7023   16]\n",
      " [ 118    3]]\n",
      "\n",
      "------------------------ROC/AUC SCORE-------------------------\n",
      "\n",
      "0.5113    \n"
     ]
    },
    {
     "name": "stderr",
     "output_type": "stream",
     "text": [
      "/anaconda3/lib/python3.7/site-packages/sklearn/linear_model/logistic.py:432: FutureWarning: Default solver will be changed to 'lbfgs' in 0.22. Specify a solver to silence this warning.\n",
      "  FutureWarning)\n"
     ]
    },
    {
     "name": "stdout",
     "output_type": "stream",
     "text": [
      "\n",
      "---------------------Classification Report--------------------\n",
      "\n",
      "              precision    recall  f1-score   support\n",
      "\n",
      "           0       0.98      1.00      0.99      7008\n",
      "           1       0.45      0.11      0.18       152\n",
      "\n",
      "    accuracy                           0.98      7160\n",
      "   macro avg       0.71      0.55      0.58      7160\n",
      "weighted avg       0.97      0.98      0.97      7160\n",
      "\n",
      "\n",
      "-----------------------Confusion Matrix-----------------------\n",
      "\n",
      "[[6987   21]\n",
      " [ 135   17]]\n",
      "\n",
      "------------------------ROC/AUC SCORE-------------------------\n",
      "\n",
      "0.5544    \n"
     ]
    },
    {
     "name": "stderr",
     "output_type": "stream",
     "text": [
      "/anaconda3/lib/python3.7/site-packages/sklearn/linear_model/logistic.py:432: FutureWarning: Default solver will be changed to 'lbfgs' in 0.22. Specify a solver to silence this warning.\n",
      "  FutureWarning)\n"
     ]
    },
    {
     "name": "stdout",
     "output_type": "stream",
     "text": [
      "\n",
      "---------------------Classification Report--------------------\n",
      "\n",
      "              precision    recall  f1-score   support\n",
      "\n",
      "           0       0.99      1.00      0.99      7030\n",
      "           1       0.45      0.21      0.28       130\n",
      "\n",
      "    accuracy                           0.98      7160\n",
      "   macro avg       0.72      0.60      0.64      7160\n",
      "weighted avg       0.98      0.98      0.98      7160\n",
      "\n",
      "\n",
      "-----------------------Confusion Matrix-----------------------\n",
      "\n",
      "[[6997   33]\n",
      " [ 103   27]]\n",
      "\n",
      "------------------------ROC/AUC SCORE-------------------------\n",
      "\n",
      "0.6015    \n"
     ]
    },
    {
     "name": "stderr",
     "output_type": "stream",
     "text": [
      "/anaconda3/lib/python3.7/site-packages/sklearn/linear_model/logistic.py:432: FutureWarning: Default solver will be changed to 'lbfgs' in 0.22. Specify a solver to silence this warning.\n",
      "  FutureWarning)\n"
     ]
    },
    {
     "name": "stdout",
     "output_type": "stream",
     "text": [
      "\n",
      "---------------------Classification Report--------------------\n",
      "\n",
      "              precision    recall  f1-score   support\n",
      "\n",
      "           0       0.98      1.00      0.99      7044\n",
      "           1       0.31      0.03      0.06       116\n",
      "\n",
      "    accuracy                           0.98      7160\n",
      "   macro avg       0.65      0.52      0.53      7160\n",
      "weighted avg       0.97      0.98      0.98      7160\n",
      "\n",
      "\n",
      "-----------------------Confusion Matrix-----------------------\n",
      "\n",
      "[[7035    9]\n",
      " [ 112    4]]\n",
      "\n",
      "------------------------ROC/AUC SCORE-------------------------\n",
      "\n",
      "0.5166    \n"
     ]
    },
    {
     "name": "stderr",
     "output_type": "stream",
     "text": [
      "/anaconda3/lib/python3.7/site-packages/sklearn/linear_model/logistic.py:432: FutureWarning: Default solver will be changed to 'lbfgs' in 0.22. Specify a solver to silence this warning.\n",
      "  FutureWarning)\n"
     ]
    },
    {
     "name": "stdout",
     "output_type": "stream",
     "text": [
      "\n",
      "---------------------Classification Report--------------------\n",
      "\n",
      "              precision    recall  f1-score   support\n",
      "\n",
      "           0       0.98      1.00      0.99      7037\n",
      "           1       0.00      0.00      0.00       123\n",
      "\n",
      "    accuracy                           0.98      7160\n",
      "   macro avg       0.49      0.50      0.50      7160\n",
      "weighted avg       0.97      0.98      0.97      7160\n",
      "\n",
      "\n",
      "-----------------------Confusion Matrix-----------------------\n",
      "\n",
      "[[7035    2]\n",
      " [ 123    0]]\n",
      "\n",
      "------------------------ROC/AUC SCORE-------------------------\n",
      "\n",
      "0.4999    \n"
     ]
    },
    {
     "name": "stderr",
     "output_type": "stream",
     "text": [
      "/anaconda3/lib/python3.7/site-packages/sklearn/linear_model/logistic.py:432: FutureWarning: Default solver will be changed to 'lbfgs' in 0.22. Specify a solver to silence this warning.\n",
      "  FutureWarning)\n"
     ]
    },
    {
     "name": "stdout",
     "output_type": "stream",
     "text": [
      "\n",
      "---------------------Classification Report--------------------\n",
      "\n",
      "              precision    recall  f1-score   support\n",
      "\n",
      "           0       0.98      1.00      0.99      7026\n",
      "           1       0.00      0.00      0.00       134\n",
      "\n",
      "    accuracy                           0.98      7160\n",
      "   macro avg       0.49      0.50      0.49      7160\n",
      "weighted avg       0.96      0.98      0.97      7160\n",
      "\n",
      "\n",
      "-----------------------Confusion Matrix-----------------------\n",
      "\n",
      "[[7012   14]\n",
      " [ 134    0]]\n",
      "\n",
      "------------------------ROC/AUC SCORE-------------------------\n",
      "\n",
      "0.4990    \n"
     ]
    },
    {
     "name": "stderr",
     "output_type": "stream",
     "text": [
      "/anaconda3/lib/python3.7/site-packages/sklearn/linear_model/logistic.py:432: FutureWarning: Default solver will be changed to 'lbfgs' in 0.22. Specify a solver to silence this warning.\n",
      "  FutureWarning)\n"
     ]
    },
    {
     "name": "stdout",
     "output_type": "stream",
     "text": [
      "\n",
      "---------------------Classification Report--------------------\n",
      "\n",
      "              precision    recall  f1-score   support\n",
      "\n",
      "           0       0.99      1.00      0.99      7057\n",
      "           1       0.23      0.06      0.09       103\n",
      "\n",
      "    accuracy                           0.98      7160\n",
      "   macro avg       0.61      0.53      0.54      7160\n",
      "weighted avg       0.98      0.98      0.98      7160\n",
      "\n",
      "\n",
      "-----------------------Confusion Matrix-----------------------\n",
      "\n",
      "[[7037   20]\n",
      " [  97    6]]\n",
      "\n",
      "------------------------ROC/AUC SCORE-------------------------\n",
      "\n",
      "0.5277    \n"
     ]
    },
    {
     "name": "stderr",
     "output_type": "stream",
     "text": [
      "/anaconda3/lib/python3.7/site-packages/sklearn/linear_model/logistic.py:432: FutureWarning: Default solver will be changed to 'lbfgs' in 0.22. Specify a solver to silence this warning.\n",
      "  FutureWarning)\n"
     ]
    },
    {
     "name": "stdout",
     "output_type": "stream",
     "text": [
      "\n",
      "---------------------Classification Report--------------------\n",
      "\n",
      "              precision    recall  f1-score   support\n",
      "\n",
      "           0       0.99      1.00      0.99      7056\n",
      "           1       0.10      0.01      0.02       104\n",
      "\n",
      "    accuracy                           0.98      7160\n",
      "   macro avg       0.54      0.50      0.50      7160\n",
      "weighted avg       0.97      0.98      0.98      7160\n",
      "\n",
      "\n",
      "-----------------------Confusion Matrix-----------------------\n",
      "\n",
      "[[7047    9]\n",
      " [ 103    1]]\n",
      "\n",
      "------------------------ROC/AUC SCORE-------------------------\n",
      "\n",
      "0.5042    \n"
     ]
    },
    {
     "name": "stderr",
     "output_type": "stream",
     "text": [
      "/anaconda3/lib/python3.7/site-packages/sklearn/linear_model/logistic.py:432: FutureWarning: Default solver will be changed to 'lbfgs' in 0.22. Specify a solver to silence this warning.\n",
      "  FutureWarning)\n"
     ]
    },
    {
     "name": "stdout",
     "output_type": "stream",
     "text": [
      "\n",
      "---------------------Classification Report--------------------\n",
      "\n",
      "              precision    recall  f1-score   support\n",
      "\n",
      "           0       0.98      1.00      0.99      7025\n",
      "           1       0.00      0.00      0.00       135\n",
      "\n",
      "    accuracy                           0.98      7160\n",
      "   macro avg       0.49      0.50      0.50      7160\n",
      "weighted avg       0.96      0.98      0.97      7160\n",
      "\n",
      "\n",
      "-----------------------Confusion Matrix-----------------------\n",
      "\n",
      "[[7019    6]\n",
      " [ 135    0]]\n",
      "\n",
      "------------------------ROC/AUC SCORE-------------------------\n",
      "\n",
      "0.4996    \n"
     ]
    },
    {
     "name": "stderr",
     "output_type": "stream",
     "text": [
      "/anaconda3/lib/python3.7/site-packages/sklearn/linear_model/logistic.py:432: FutureWarning: Default solver will be changed to 'lbfgs' in 0.22. Specify a solver to silence this warning.\n",
      "  FutureWarning)\n"
     ]
    },
    {
     "name": "stdout",
     "output_type": "stream",
     "text": [
      "\n",
      "---------------------Classification Report--------------------\n",
      "\n",
      "              precision    recall  f1-score   support\n",
      "\n",
      "           0       0.98      1.00      0.99      7025\n",
      "           1       0.00      0.00      0.00       135\n",
      "\n",
      "    accuracy                           0.98      7160\n",
      "   macro avg       0.49      0.50      0.50      7160\n",
      "weighted avg       0.96      0.98      0.97      7160\n",
      "\n",
      "\n",
      "-----------------------Confusion Matrix-----------------------\n",
      "\n",
      "[[7020    5]\n",
      " [ 135    0]]\n",
      "\n",
      "------------------------ROC/AUC SCORE-------------------------\n",
      "\n",
      "0.4996    \n"
     ]
    },
    {
     "name": "stderr",
     "output_type": "stream",
     "text": [
      "/anaconda3/lib/python3.7/site-packages/sklearn/linear_model/logistic.py:432: FutureWarning: Default solver will be changed to 'lbfgs' in 0.22. Specify a solver to silence this warning.\n",
      "  FutureWarning)\n"
     ]
    },
    {
     "name": "stdout",
     "output_type": "stream",
     "text": [
      "\n",
      "---------------------Classification Report--------------------\n",
      "\n",
      "              precision    recall  f1-score   support\n",
      "\n",
      "           0       0.99      0.99      0.99      7050\n",
      "           1       0.42      0.24      0.30       110\n",
      "\n",
      "    accuracy                           0.98      7160\n",
      "   macro avg       0.70      0.62      0.65      7160\n",
      "weighted avg       0.98      0.98      0.98      7160\n",
      "\n",
      "\n",
      "-----------------------Confusion Matrix-----------------------\n",
      "\n",
      "[[7014   36]\n",
      " [  84   26]]\n",
      "\n",
      "------------------------ROC/AUC SCORE-------------------------\n",
      "\n",
      "0.6156    \n"
     ]
    },
    {
     "name": "stderr",
     "output_type": "stream",
     "text": [
      "/anaconda3/lib/python3.7/site-packages/sklearn/linear_model/logistic.py:432: FutureWarning: Default solver will be changed to 'lbfgs' in 0.22. Specify a solver to silence this warning.\n",
      "  FutureWarning)\n"
     ]
    },
    {
     "name": "stdout",
     "output_type": "stream",
     "text": [
      "\n",
      "---------------------Classification Report--------------------\n",
      "\n",
      "              precision    recall  f1-score   support\n",
      "\n",
      "           0       0.98      1.00      0.99      7030\n",
      "           1       0.00      0.00      0.00       130\n",
      "\n",
      "    accuracy                           0.98      7160\n",
      "   macro avg       0.49      0.50      0.50      7160\n",
      "weighted avg       0.96      0.98      0.97      7160\n",
      "\n",
      "\n",
      "-----------------------Confusion Matrix-----------------------\n",
      "\n",
      "[[7021    9]\n",
      " [ 130    0]]\n",
      "\n",
      "------------------------ROC/AUC SCORE-------------------------\n",
      "\n",
      "0.4994    \n"
     ]
    },
    {
     "name": "stderr",
     "output_type": "stream",
     "text": [
      "/anaconda3/lib/python3.7/site-packages/sklearn/linear_model/logistic.py:432: FutureWarning: Default solver will be changed to 'lbfgs' in 0.22. Specify a solver to silence this warning.\n",
      "  FutureWarning)\n"
     ]
    },
    {
     "name": "stdout",
     "output_type": "stream",
     "text": [
      "\n",
      "---------------------Classification Report--------------------\n",
      "\n",
      "              precision    recall  f1-score   support\n",
      "\n",
      "           0       0.98      1.00      0.99      7043\n",
      "           1       0.25      0.02      0.03       117\n",
      "\n",
      "    accuracy                           0.98      7160\n",
      "   macro avg       0.62      0.51      0.51      7160\n",
      "weighted avg       0.97      0.98      0.98      7160\n",
      "\n",
      "\n",
      "-----------------------Confusion Matrix-----------------------\n",
      "\n",
      "[[7037    6]\n",
      " [ 115    2]]\n",
      "\n",
      "------------------------ROC/AUC SCORE-------------------------\n",
      "\n",
      "0.5081    \n"
     ]
    },
    {
     "name": "stderr",
     "output_type": "stream",
     "text": [
      "/anaconda3/lib/python3.7/site-packages/sklearn/linear_model/logistic.py:432: FutureWarning: Default solver will be changed to 'lbfgs' in 0.22. Specify a solver to silence this warning.\n",
      "  FutureWarning)\n"
     ]
    },
    {
     "name": "stdout",
     "output_type": "stream",
     "text": [
      "\n",
      "---------------------Classification Report--------------------\n",
      "\n",
      "              precision    recall  f1-score   support\n",
      "\n",
      "           0       0.98      1.00      0.99      7042\n",
      "           1       0.27      0.03      0.06       118\n",
      "\n",
      "    accuracy                           0.98      7160\n",
      "   macro avg       0.63      0.52      0.53      7160\n",
      "weighted avg       0.97      0.98      0.98      7160\n",
      "\n",
      "\n",
      "-----------------------Confusion Matrix-----------------------\n",
      "\n",
      "[[7031   11]\n",
      " [ 114    4]]\n",
      "\n",
      "------------------------ROC/AUC SCORE-------------------------\n",
      "\n",
      "0.5162    \n"
     ]
    },
    {
     "name": "stderr",
     "output_type": "stream",
     "text": [
      "/anaconda3/lib/python3.7/site-packages/sklearn/linear_model/logistic.py:432: FutureWarning: Default solver will be changed to 'lbfgs' in 0.22. Specify a solver to silence this warning.\n",
      "  FutureWarning)\n"
     ]
    },
    {
     "name": "stdout",
     "output_type": "stream",
     "text": [
      "\n",
      "---------------------Classification Report--------------------\n",
      "\n",
      "              precision    recall  f1-score   support\n",
      "\n",
      "           0       0.99      1.00      0.99      7052\n",
      "           1       0.10      0.01      0.02       108\n",
      "\n",
      "    accuracy                           0.98      7160\n",
      "   macro avg       0.54      0.50      0.50      7160\n",
      "weighted avg       0.97      0.98      0.98      7160\n",
      "\n",
      "\n",
      "-----------------------Confusion Matrix-----------------------\n",
      "\n",
      "[[7043    9]\n",
      " [ 107    1]]\n",
      "\n",
      "------------------------ROC/AUC SCORE-------------------------\n",
      "\n",
      "0.5040    \n"
     ]
    },
    {
     "name": "stderr",
     "output_type": "stream",
     "text": [
      "/anaconda3/lib/python3.7/site-packages/sklearn/linear_model/logistic.py:432: FutureWarning: Default solver will be changed to 'lbfgs' in 0.22. Specify a solver to silence this warning.\n",
      "  FutureWarning)\n"
     ]
    },
    {
     "name": "stdout",
     "output_type": "stream",
     "text": [
      "\n",
      "---------------------Classification Report--------------------\n",
      "\n",
      "              precision    recall  f1-score   support\n",
      "\n",
      "           0       0.99      1.00      0.99      7055\n",
      "           1       0.25      0.05      0.08       105\n",
      "\n",
      "    accuracy                           0.98      7160\n",
      "   macro avg       0.62      0.52      0.54      7160\n",
      "weighted avg       0.98      0.98      0.98      7160\n",
      "\n",
      "\n",
      "-----------------------Confusion Matrix-----------------------\n",
      "\n",
      "[[7040   15]\n",
      " [ 100    5]]\n",
      "\n",
      "------------------------ROC/AUC SCORE-------------------------\n",
      "\n",
      "0.5227    \n"
     ]
    },
    {
     "name": "stderr",
     "output_type": "stream",
     "text": [
      "/anaconda3/lib/python3.7/site-packages/sklearn/linear_model/logistic.py:432: FutureWarning: Default solver will be changed to 'lbfgs' in 0.22. Specify a solver to silence this warning.\n",
      "  FutureWarning)\n"
     ]
    },
    {
     "name": "stdout",
     "output_type": "stream",
     "text": [
      "\n",
      "---------------------Classification Report--------------------\n",
      "\n",
      "              precision    recall  f1-score   support\n",
      "\n",
      "           0       0.99      1.00      0.99      7058\n",
      "           1       0.43      0.13      0.20       102\n",
      "\n",
      "    accuracy                           0.99      7160\n",
      "   macro avg       0.71      0.56      0.59      7160\n",
      "weighted avg       0.98      0.99      0.98      7160\n",
      "\n",
      "\n",
      "-----------------------Confusion Matrix-----------------------\n",
      "\n",
      "[[7041   17]\n",
      " [  89   13]]\n",
      "\n",
      "------------------------ROC/AUC SCORE-------------------------\n",
      "\n",
      "0.5625    \n"
     ]
    },
    {
     "name": "stderr",
     "output_type": "stream",
     "text": [
      "/anaconda3/lib/python3.7/site-packages/sklearn/linear_model/logistic.py:432: FutureWarning: Default solver will be changed to 'lbfgs' in 0.22. Specify a solver to silence this warning.\n",
      "  FutureWarning)\n"
     ]
    },
    {
     "name": "stdout",
     "output_type": "stream",
     "text": [
      "\n",
      "---------------------Classification Report--------------------\n",
      "\n",
      "              precision    recall  f1-score   support\n",
      "\n",
      "           0       0.99      1.00      0.99      7050\n",
      "           1       0.12      0.03      0.04       110\n",
      "\n",
      "    accuracy                           0.98      7160\n",
      "   macro avg       0.56      0.51      0.52      7160\n",
      "weighted avg       0.97      0.98      0.98      7160\n",
      "\n",
      "\n",
      "-----------------------Confusion Matrix-----------------------\n",
      "\n",
      "[[7029   21]\n",
      " [ 107    3]]\n",
      "\n",
      "------------------------ROC/AUC SCORE-------------------------\n",
      "\n",
      "0.5121    \n"
     ]
    },
    {
     "name": "stderr",
     "output_type": "stream",
     "text": [
      "/anaconda3/lib/python3.7/site-packages/sklearn/linear_model/logistic.py:432: FutureWarning: Default solver will be changed to 'lbfgs' in 0.22. Specify a solver to silence this warning.\n",
      "  FutureWarning)\n"
     ]
    },
    {
     "name": "stdout",
     "output_type": "stream",
     "text": [
      "\n",
      "---------------------Classification Report--------------------\n",
      "\n",
      "              precision    recall  f1-score   support\n",
      "\n",
      "           0       0.99      1.00      0.99      7054\n",
      "           1       0.23      0.03      0.05       106\n",
      "\n",
      "    accuracy                           0.98      7160\n",
      "   macro avg       0.61      0.51      0.52      7160\n",
      "weighted avg       0.97      0.98      0.98      7160\n",
      "\n",
      "\n",
      "-----------------------Confusion Matrix-----------------------\n",
      "\n",
      "[[7044   10]\n",
      " [ 103    3]]\n",
      "\n",
      "------------------------ROC/AUC SCORE-------------------------\n",
      "\n",
      "0.5134    \n"
     ]
    },
    {
     "name": "stderr",
     "output_type": "stream",
     "text": [
      "/anaconda3/lib/python3.7/site-packages/sklearn/linear_model/logistic.py:432: FutureWarning: Default solver will be changed to 'lbfgs' in 0.22. Specify a solver to silence this warning.\n",
      "  FutureWarning)\n"
     ]
    },
    {
     "name": "stdout",
     "output_type": "stream",
     "text": [
      "\n",
      "---------------------Classification Report--------------------\n",
      "\n",
      "              precision    recall  f1-score   support\n",
      "\n",
      "           0       0.98      1.00      0.99      7027\n",
      "           1       0.20      0.01      0.01       133\n",
      "\n",
      "    accuracy                           0.98      7160\n",
      "   macro avg       0.59      0.50      0.50      7160\n",
      "weighted avg       0.97      0.98      0.97      7160\n",
      "\n",
      "\n",
      "-----------------------Confusion Matrix-----------------------\n",
      "\n",
      "[[7023    4]\n",
      " [ 132    1]]\n",
      "\n",
      "------------------------ROC/AUC SCORE-------------------------\n",
      "\n",
      "0.5035    \n"
     ]
    },
    {
     "name": "stderr",
     "output_type": "stream",
     "text": [
      "/anaconda3/lib/python3.7/site-packages/sklearn/linear_model/logistic.py:432: FutureWarning: Default solver will be changed to 'lbfgs' in 0.22. Specify a solver to silence this warning.\n",
      "  FutureWarning)\n"
     ]
    },
    {
     "name": "stdout",
     "output_type": "stream",
     "text": [
      "\n",
      "---------------------Classification Report--------------------\n",
      "\n",
      "              precision    recall  f1-score   support\n",
      "\n",
      "           0       0.99      1.00      0.99      7046\n",
      "           1       0.28      0.07      0.11       114\n",
      "\n",
      "    accuracy                           0.98      7160\n",
      "   macro avg       0.63      0.53      0.55      7160\n",
      "weighted avg       0.97      0.98      0.98      7160\n",
      "\n",
      "\n",
      "-----------------------Confusion Matrix-----------------------\n",
      "\n",
      "[[7025   21]\n",
      " [ 106    8]]\n",
      "\n",
      "------------------------ROC/AUC SCORE-------------------------\n",
      "\n",
      "0.5336    \n"
     ]
    },
    {
     "name": "stderr",
     "output_type": "stream",
     "text": [
      "/anaconda3/lib/python3.7/site-packages/sklearn/linear_model/logistic.py:432: FutureWarning: Default solver will be changed to 'lbfgs' in 0.22. Specify a solver to silence this warning.\n",
      "  FutureWarning)\n"
     ]
    },
    {
     "name": "stdout",
     "output_type": "stream",
     "text": [
      "\n",
      "---------------------Classification Report--------------------\n",
      "\n",
      "              precision    recall  f1-score   support\n",
      "\n",
      "           0       0.99      1.00      0.99      7063\n",
      "           1       0.18      0.03      0.05        97\n",
      "\n",
      "    accuracy                           0.98      7160\n",
      "   macro avg       0.58      0.51      0.52      7160\n",
      "weighted avg       0.98      0.98      0.98      7160\n",
      "\n",
      "\n",
      "-----------------------Confusion Matrix-----------------------\n",
      "\n",
      "[[7049   14]\n",
      " [  94    3]]\n",
      "\n",
      "------------------------ROC/AUC SCORE-------------------------\n",
      "\n",
      "0.5145    \n"
     ]
    },
    {
     "name": "stderr",
     "output_type": "stream",
     "text": [
      "/anaconda3/lib/python3.7/site-packages/sklearn/linear_model/logistic.py:432: FutureWarning: Default solver will be changed to 'lbfgs' in 0.22. Specify a solver to silence this warning.\n",
      "  FutureWarning)\n"
     ]
    },
    {
     "name": "stdout",
     "output_type": "stream",
     "text": [
      "\n",
      "---------------------Classification Report--------------------\n",
      "\n",
      "              precision    recall  f1-score   support\n",
      "\n",
      "           0       0.99      1.00      0.99      7047\n",
      "           1       0.24      0.08      0.12       113\n",
      "\n",
      "    accuracy                           0.98      7160\n",
      "   macro avg       0.61      0.54      0.55      7160\n",
      "weighted avg       0.97      0.98      0.98      7160\n",
      "\n",
      "\n",
      "-----------------------Confusion Matrix-----------------------\n",
      "\n",
      "[[7018   29]\n",
      " [ 104    9]]\n",
      "\n",
      "------------------------ROC/AUC SCORE-------------------------\n",
      "\n",
      "0.5378    \n"
     ]
    },
    {
     "name": "stderr",
     "output_type": "stream",
     "text": [
      "/anaconda3/lib/python3.7/site-packages/sklearn/linear_model/logistic.py:432: FutureWarning: Default solver will be changed to 'lbfgs' in 0.22. Specify a solver to silence this warning.\n",
      "  FutureWarning)\n"
     ]
    },
    {
     "name": "stdout",
     "output_type": "stream",
     "text": [
      "\n",
      "---------------------Classification Report--------------------\n",
      "\n",
      "              precision    recall  f1-score   support\n",
      "\n",
      "           0       0.99      1.00      0.99      7057\n",
      "           1       0.14      0.03      0.05       103\n",
      "\n",
      "    accuracy                           0.98      7160\n",
      "   macro avg       0.56      0.51      0.52      7160\n",
      "weighted avg       0.97      0.98      0.98      7160\n",
      "\n",
      "\n",
      "-----------------------Confusion Matrix-----------------------\n",
      "\n",
      "[[7039   18]\n",
      " [ 100    3]]\n",
      "\n",
      "------------------------ROC/AUC SCORE-------------------------\n",
      "\n",
      "0.5133    \n"
     ]
    },
    {
     "name": "stderr",
     "output_type": "stream",
     "text": [
      "/anaconda3/lib/python3.7/site-packages/sklearn/linear_model/logistic.py:432: FutureWarning: Default solver will be changed to 'lbfgs' in 0.22. Specify a solver to silence this warning.\n",
      "  FutureWarning)\n"
     ]
    },
    {
     "name": "stdout",
     "output_type": "stream",
     "text": [
      "\n",
      "---------------------Classification Report--------------------\n",
      "\n",
      "              precision    recall  f1-score   support\n",
      "\n",
      "           0       0.98      1.00      0.99      7044\n",
      "           1       0.12      0.01      0.02       116\n",
      "\n",
      "    accuracy                           0.98      7160\n",
      "   macro avg       0.55      0.50      0.50      7160\n",
      "weighted avg       0.97      0.98      0.98      7160\n",
      "\n",
      "\n",
      "-----------------------Confusion Matrix-----------------------\n",
      "\n",
      "[[7037    7]\n",
      " [ 115    1]]\n",
      "\n",
      "------------------------ROC/AUC SCORE-------------------------\n",
      "\n",
      "0.5038    \n"
     ]
    },
    {
     "name": "stderr",
     "output_type": "stream",
     "text": [
      "/anaconda3/lib/python3.7/site-packages/sklearn/linear_model/logistic.py:432: FutureWarning: Default solver will be changed to 'lbfgs' in 0.22. Specify a solver to silence this warning.\n",
      "  FutureWarning)\n"
     ]
    },
    {
     "name": "stdout",
     "output_type": "stream",
     "text": [
      "\n",
      "---------------------Classification Report--------------------\n",
      "\n",
      "              precision    recall  f1-score   support\n",
      "\n",
      "           0       0.99      1.00      0.99      7066\n",
      "           1       0.00      0.00      0.00        94\n",
      "\n",
      "    accuracy                           0.99      7160\n",
      "   macro avg       0.49      0.50      0.50      7160\n",
      "weighted avg       0.97      0.99      0.98      7160\n",
      "\n",
      "\n",
      "-----------------------Confusion Matrix-----------------------\n",
      "\n",
      "[[7064    2]\n",
      " [  94    0]]\n",
      "\n",
      "------------------------ROC/AUC SCORE-------------------------\n",
      "\n",
      "0.4999    \n"
     ]
    },
    {
     "name": "stderr",
     "output_type": "stream",
     "text": [
      "/anaconda3/lib/python3.7/site-packages/sklearn/linear_model/logistic.py:432: FutureWarning: Default solver will be changed to 'lbfgs' in 0.22. Specify a solver to silence this warning.\n",
      "  FutureWarning)\n"
     ]
    },
    {
     "name": "stdout",
     "output_type": "stream",
     "text": [
      "\n",
      "---------------------Classification Report--------------------\n",
      "\n",
      "              precision    recall  f1-score   support\n",
      "\n",
      "           0       0.99      1.00      0.99      7066\n",
      "           1       0.25      0.04      0.07        94\n",
      "\n",
      "    accuracy                           0.99      7160\n",
      "   macro avg       0.62      0.52      0.53      7160\n",
      "weighted avg       0.98      0.99      0.98      7160\n",
      "\n",
      "\n",
      "-----------------------Confusion Matrix-----------------------\n",
      "\n",
      "[[7054   12]\n",
      " [  90    4]]\n",
      "\n",
      "------------------------ROC/AUC SCORE-------------------------\n",
      "\n",
      "0.5204    \n"
     ]
    },
    {
     "name": "stderr",
     "output_type": "stream",
     "text": [
      "/anaconda3/lib/python3.7/site-packages/sklearn/linear_model/logistic.py:432: FutureWarning: Default solver will be changed to 'lbfgs' in 0.22. Specify a solver to silence this warning.\n",
      "  FutureWarning)\n"
     ]
    },
    {
     "name": "stdout",
     "output_type": "stream",
     "text": [
      "\n",
      "---------------------Classification Report--------------------\n",
      "\n",
      "              precision    recall  f1-score   support\n",
      "\n",
      "           0       0.99      1.00      0.99      7060\n",
      "           1       0.28      0.08      0.12       100\n",
      "\n",
      "    accuracy                           0.98      7160\n",
      "   macro avg       0.63      0.54      0.56      7160\n",
      "weighted avg       0.98      0.98      0.98      7160\n",
      "\n",
      "\n",
      "-----------------------Confusion Matrix-----------------------\n",
      "\n",
      "[[7039   21]\n",
      " [  92    8]]\n",
      "\n",
      "------------------------ROC/AUC SCORE-------------------------\n",
      "\n",
      "0.5385    \n"
     ]
    },
    {
     "name": "stderr",
     "output_type": "stream",
     "text": [
      "/anaconda3/lib/python3.7/site-packages/sklearn/linear_model/logistic.py:432: FutureWarning: Default solver will be changed to 'lbfgs' in 0.22. Specify a solver to silence this warning.\n",
      "  FutureWarning)\n"
     ]
    },
    {
     "name": "stdout",
     "output_type": "stream",
     "text": [
      "\n",
      "---------------------Classification Report--------------------\n",
      "\n",
      "              precision    recall  f1-score   support\n",
      "\n",
      "           0       0.99      1.00      0.99      7071\n",
      "           1       0.24      0.06      0.09        89\n",
      "\n",
      "    accuracy                           0.99      7160\n",
      "   macro avg       0.61      0.53      0.54      7160\n",
      "weighted avg       0.98      0.99      0.98      7160\n",
      "\n",
      "\n",
      "-----------------------Confusion Matrix-----------------------\n",
      "\n",
      "[[7055   16]\n",
      " [  84    5]]\n",
      "\n",
      "------------------------ROC/AUC SCORE-------------------------\n",
      "\n",
      "0.5270    \n"
     ]
    },
    {
     "name": "stderr",
     "output_type": "stream",
     "text": [
      "/anaconda3/lib/python3.7/site-packages/sklearn/linear_model/logistic.py:432: FutureWarning: Default solver will be changed to 'lbfgs' in 0.22. Specify a solver to silence this warning.\n",
      "  FutureWarning)\n"
     ]
    },
    {
     "name": "stdout",
     "output_type": "stream",
     "text": [
      "\n",
      "---------------------Classification Report--------------------\n",
      "\n",
      "              precision    recall  f1-score   support\n",
      "\n",
      "           0       0.98      1.00      0.99      7043\n",
      "           1       0.25      0.01      0.02       117\n",
      "\n",
      "    accuracy                           0.98      7160\n",
      "   macro avg       0.62      0.50      0.50      7160\n",
      "weighted avg       0.97      0.98      0.98      7160\n",
      "\n",
      "\n",
      "-----------------------Confusion Matrix-----------------------\n",
      "\n",
      "[[7040    3]\n",
      " [ 116    1]]\n",
      "\n",
      "------------------------ROC/AUC SCORE-------------------------\n",
      "\n",
      "0.5041    \n"
     ]
    },
    {
     "name": "stderr",
     "output_type": "stream",
     "text": [
      "/anaconda3/lib/python3.7/site-packages/sklearn/linear_model/logistic.py:432: FutureWarning: Default solver will be changed to 'lbfgs' in 0.22. Specify a solver to silence this warning.\n",
      "  FutureWarning)\n"
     ]
    },
    {
     "name": "stdout",
     "output_type": "stream",
     "text": [
      "\n",
      "---------------------Classification Report--------------------\n",
      "\n",
      "              precision    recall  f1-score   support\n",
      "\n",
      "           0       0.98      1.00      0.99      7041\n",
      "           1       0.17      0.02      0.03       119\n",
      "\n",
      "    accuracy                           0.98      7160\n",
      "   macro avg       0.58      0.51      0.51      7160\n",
      "weighted avg       0.97      0.98      0.98      7160\n",
      "\n",
      "\n",
      "-----------------------Confusion Matrix-----------------------\n",
      "\n",
      "[[7031   10]\n",
      " [ 117    2]]\n",
      "\n",
      "------------------------ROC/AUC SCORE-------------------------\n",
      "\n",
      "0.5077    \n"
     ]
    },
    {
     "name": "stderr",
     "output_type": "stream",
     "text": [
      "/anaconda3/lib/python3.7/site-packages/sklearn/linear_model/logistic.py:432: FutureWarning: Default solver will be changed to 'lbfgs' in 0.22. Specify a solver to silence this warning.\n",
      "  FutureWarning)\n"
     ]
    },
    {
     "name": "stdout",
     "output_type": "stream",
     "text": [
      "\n",
      "---------------------Classification Report--------------------\n",
      "\n",
      "              precision    recall  f1-score   support\n",
      "\n",
      "           0       0.98      1.00      0.99      7046\n",
      "           1       0.00      0.00      0.00       114\n",
      "\n",
      "    accuracy                           0.98      7160\n",
      "   macro avg       0.49      0.50      0.50      7160\n",
      "weighted avg       0.97      0.98      0.98      7160\n",
      "\n",
      "\n",
      "-----------------------Confusion Matrix-----------------------\n",
      "\n",
      "[[7046    0]\n",
      " [ 114    0]]\n",
      "\n",
      "------------------------ROC/AUC SCORE-------------------------\n",
      "\n",
      "0.5000    \n"
     ]
    },
    {
     "name": "stderr",
     "output_type": "stream",
     "text": [
      "/anaconda3/lib/python3.7/site-packages/sklearn/metrics/classification.py:1437: UndefinedMetricWarning: Precision and F-score are ill-defined and being set to 0.0 in labels with no predicted samples.\n",
      "  'precision', 'predicted', average, warn_for)\n",
      "/anaconda3/lib/python3.7/site-packages/sklearn/metrics/classification.py:1437: UndefinedMetricWarning: Precision is ill-defined and being set to 0.0 due to no predicted samples.\n",
      "  'precision', 'predicted', average, warn_for)\n"
     ]
    },
    {
     "name": "stdout",
     "output_type": "stream",
     "text": [
      "\n",
      "---------------------Classification Report--------------------\n",
      "\n",
      "              precision    recall  f1-score   support\n",
      "\n",
      "           0       0.98      1.00      0.99      7047\n",
      "           1       0.00      0.00      0.00       113\n",
      "\n",
      "    accuracy                           0.98      7160\n",
      "   macro avg       0.49      0.50      0.50      7160\n",
      "weighted avg       0.97      0.98      0.98      7160\n",
      "\n",
      "\n",
      "-----------------------Confusion Matrix-----------------------\n",
      "\n",
      "[[7041    6]\n",
      " [ 113    0]]\n",
      "\n",
      "------------------------ROC/AUC SCORE-------------------------\n",
      "\n",
      "0.4996    \n"
     ]
    },
    {
     "name": "stderr",
     "output_type": "stream",
     "text": [
      "/anaconda3/lib/python3.7/site-packages/sklearn/linear_model/logistic.py:432: FutureWarning: Default solver will be changed to 'lbfgs' in 0.22. Specify a solver to silence this warning.\n",
      "  FutureWarning)\n",
      "/anaconda3/lib/python3.7/site-packages/sklearn/linear_model/logistic.py:432: FutureWarning: Default solver will be changed to 'lbfgs' in 0.22. Specify a solver to silence this warning.\n",
      "  FutureWarning)\n"
     ]
    },
    {
     "name": "stdout",
     "output_type": "stream",
     "text": [
      "\n",
      "---------------------Classification Report--------------------\n",
      "\n",
      "              precision    recall  f1-score   support\n",
      "\n",
      "           0       0.98      1.00      0.99      7042\n",
      "           1       0.20      0.03      0.06       118\n",
      "\n",
      "    accuracy                           0.98      7160\n",
      "   macro avg       0.59      0.52      0.52      7160\n",
      "weighted avg       0.97      0.98      0.98      7160\n",
      "\n",
      "\n",
      "-----------------------Confusion Matrix-----------------------\n",
      "\n",
      "[[7026   16]\n",
      " [ 114    4]]\n",
      "\n",
      "------------------------ROC/AUC SCORE-------------------------\n",
      "\n",
      "0.5158    \n"
     ]
    },
    {
     "name": "stderr",
     "output_type": "stream",
     "text": [
      "/anaconda3/lib/python3.7/site-packages/sklearn/linear_model/logistic.py:432: FutureWarning: Default solver will be changed to 'lbfgs' in 0.22. Specify a solver to silence this warning.\n",
      "  FutureWarning)\n"
     ]
    },
    {
     "name": "stdout",
     "output_type": "stream",
     "text": [
      "\n",
      "---------------------Classification Report--------------------\n",
      "\n",
      "              precision    recall  f1-score   support\n",
      "\n",
      "           0       0.98      1.00      0.99      7041\n",
      "           1       0.50      0.03      0.05       119\n",
      "\n",
      "    accuracy                           0.98      7160\n",
      "   macro avg       0.74      0.51      0.52      7160\n",
      "weighted avg       0.98      0.98      0.98      7160\n",
      "\n",
      "\n",
      "-----------------------Confusion Matrix-----------------------\n",
      "\n",
      "[[7038    3]\n",
      " [ 116    3]]\n",
      "\n",
      "------------------------ROC/AUC SCORE-------------------------\n",
      "\n",
      "0.5124    \n"
     ]
    },
    {
     "name": "stderr",
     "output_type": "stream",
     "text": [
      "/anaconda3/lib/python3.7/site-packages/sklearn/linear_model/logistic.py:432: FutureWarning: Default solver will be changed to 'lbfgs' in 0.22. Specify a solver to silence this warning.\n",
      "  FutureWarning)\n"
     ]
    },
    {
     "name": "stdout",
     "output_type": "stream",
     "text": [
      "\n",
      "---------------------Classification Report--------------------\n",
      "\n",
      "              precision    recall  f1-score   support\n",
      "\n",
      "           0       0.98      1.00      0.99      7045\n",
      "           1       0.18      0.02      0.03       115\n",
      "\n",
      "    accuracy                           0.98      7160\n",
      "   macro avg       0.58      0.51      0.51      7160\n",
      "weighted avg       0.97      0.98      0.98      7160\n",
      "\n",
      "\n",
      "-----------------------Confusion Matrix-----------------------\n",
      "\n",
      "[[7036    9]\n",
      " [ 113    2]]\n",
      "\n",
      "------------------------ROC/AUC SCORE-------------------------\n",
      "\n",
      "0.5081    \n"
     ]
    },
    {
     "name": "stderr",
     "output_type": "stream",
     "text": [
      "/anaconda3/lib/python3.7/site-packages/sklearn/linear_model/logistic.py:432: FutureWarning: Default solver will be changed to 'lbfgs' in 0.22. Specify a solver to silence this warning.\n",
      "  FutureWarning)\n"
     ]
    },
    {
     "name": "stdout",
     "output_type": "stream",
     "text": [
      "\n",
      "---------------------Classification Report--------------------\n",
      "\n",
      "              precision    recall  f1-score   support\n",
      "\n",
      "           0       0.98      1.00      0.99      7030\n",
      "           1       0.14      0.02      0.03       130\n",
      "\n",
      "    accuracy                           0.98      7160\n",
      "   macro avg       0.56      0.51      0.51      7160\n",
      "weighted avg       0.97      0.98      0.97      7160\n",
      "\n",
      "\n",
      "-----------------------Confusion Matrix-----------------------\n",
      "\n",
      "[[7018   12]\n",
      " [ 128    2]]\n",
      "\n",
      "------------------------ROC/AUC SCORE-------------------------\n",
      "\n",
      "0.5068    \n"
     ]
    },
    {
     "name": "stderr",
     "output_type": "stream",
     "text": [
      "/anaconda3/lib/python3.7/site-packages/sklearn/linear_model/logistic.py:432: FutureWarning: Default solver will be changed to 'lbfgs' in 0.22. Specify a solver to silence this warning.\n",
      "  FutureWarning)\n"
     ]
    },
    {
     "name": "stdout",
     "output_type": "stream",
     "text": [
      "\n",
      "---------------------Classification Report--------------------\n",
      "\n",
      "              precision    recall  f1-score   support\n",
      "\n",
      "           0       0.98      1.00      0.99      7033\n",
      "           1       0.14      0.02      0.03       127\n",
      "\n",
      "    accuracy                           0.98      7160\n",
      "   macro avg       0.56      0.51      0.51      7160\n",
      "weighted avg       0.97      0.98      0.97      7160\n",
      "\n",
      "\n",
      "-----------------------Confusion Matrix-----------------------\n",
      "\n",
      "[[7021   12]\n",
      " [ 125    2]]\n",
      "\n",
      "------------------------ROC/AUC SCORE-------------------------\n",
      "\n",
      "0.5070    \n"
     ]
    },
    {
     "name": "stderr",
     "output_type": "stream",
     "text": [
      "/anaconda3/lib/python3.7/site-packages/sklearn/linear_model/logistic.py:432: FutureWarning: Default solver will be changed to 'lbfgs' in 0.22. Specify a solver to silence this warning.\n",
      "  FutureWarning)\n"
     ]
    },
    {
     "name": "stdout",
     "output_type": "stream",
     "text": [
      "\n",
      "---------------------Classification Report--------------------\n",
      "\n",
      "              precision    recall  f1-score   support\n",
      "\n",
      "           0       0.99      1.00      0.99      7048\n",
      "           1       0.17      0.06      0.09       112\n",
      "\n",
      "    accuracy                           0.98      7160\n",
      "   macro avg       0.58      0.53      0.54      7160\n",
      "weighted avg       0.97      0.98      0.98      7160\n",
      "\n",
      "\n",
      "-----------------------Confusion Matrix-----------------------\n",
      "\n",
      "[[7015   33]\n",
      " [ 105    7]]\n",
      "\n",
      "------------------------ROC/AUC SCORE-------------------------\n",
      "\n",
      "0.5289    \n"
     ]
    },
    {
     "name": "stderr",
     "output_type": "stream",
     "text": [
      "/anaconda3/lib/python3.7/site-packages/sklearn/linear_model/logistic.py:432: FutureWarning: Default solver will be changed to 'lbfgs' in 0.22. Specify a solver to silence this warning.\n",
      "  FutureWarning)\n"
     ]
    },
    {
     "name": "stdout",
     "output_type": "stream",
     "text": [
      "\n",
      "---------------------Classification Report--------------------\n",
      "\n",
      "              precision    recall  f1-score   support\n",
      "\n",
      "           0       0.98      1.00      0.99      7050\n",
      "           1       0.00      0.00      0.00       110\n",
      "\n",
      "    accuracy                           0.98      7160\n",
      "   macro avg       0.49      0.50      0.50      7160\n",
      "weighted avg       0.97      0.98      0.98      7160\n",
      "\n",
      "\n",
      "-----------------------Confusion Matrix-----------------------\n",
      "\n",
      "[[7043    7]\n",
      " [ 110    0]]\n",
      "\n",
      "------------------------ROC/AUC SCORE-------------------------\n",
      "\n",
      "0.4995    \n"
     ]
    },
    {
     "name": "stderr",
     "output_type": "stream",
     "text": [
      "/anaconda3/lib/python3.7/site-packages/sklearn/linear_model/logistic.py:432: FutureWarning: Default solver will be changed to 'lbfgs' in 0.22. Specify a solver to silence this warning.\n",
      "  FutureWarning)\n"
     ]
    },
    {
     "name": "stdout",
     "output_type": "stream",
     "text": [
      "\n",
      "---------------------Classification Report--------------------\n",
      "\n",
      "              precision    recall  f1-score   support\n",
      "\n",
      "           0       0.99      0.99      0.99      7051\n",
      "           1       0.36      0.21      0.27       109\n",
      "\n",
      "    accuracy                           0.98      7160\n",
      "   macro avg       0.67      0.60      0.63      7160\n",
      "weighted avg       0.98      0.98      0.98      7160\n",
      "\n",
      "\n",
      "-----------------------Confusion Matrix-----------------------\n",
      "\n",
      "[[7010   41]\n",
      " [  86   23]]\n",
      "\n",
      "------------------------ROC/AUC SCORE-------------------------\n",
      "\n",
      "0.6026    \n"
     ]
    },
    {
     "name": "stderr",
     "output_type": "stream",
     "text": [
      "/anaconda3/lib/python3.7/site-packages/sklearn/linear_model/logistic.py:432: FutureWarning: Default solver will be changed to 'lbfgs' in 0.22. Specify a solver to silence this warning.\n",
      "  FutureWarning)\n"
     ]
    },
    {
     "name": "stdout",
     "output_type": "stream",
     "text": [
      "\n",
      "---------------------Classification Report--------------------\n",
      "\n",
      "              precision    recall  f1-score   support\n",
      "\n",
      "           0       0.98      1.00      0.99      7050\n",
      "           1       0.11      0.01      0.02       110\n",
      "\n",
      "    accuracy                           0.98      7160\n",
      "   macro avg       0.55      0.50      0.50      7160\n",
      "weighted avg       0.97      0.98      0.98      7160\n",
      "\n",
      "\n",
      "-----------------------Confusion Matrix-----------------------\n",
      "\n",
      "[[7042    8]\n",
      " [ 109    1]]\n",
      "\n",
      "------------------------ROC/AUC SCORE-------------------------\n",
      "\n",
      "0.5040    \n"
     ]
    },
    {
     "name": "stderr",
     "output_type": "stream",
     "text": [
      "/anaconda3/lib/python3.7/site-packages/sklearn/linear_model/logistic.py:432: FutureWarning: Default solver will be changed to 'lbfgs' in 0.22. Specify a solver to silence this warning.\n",
      "  FutureWarning)\n"
     ]
    },
    {
     "name": "stdout",
     "output_type": "stream",
     "text": [
      "\n",
      "---------------------Classification Report--------------------\n",
      "\n",
      "              precision    recall  f1-score   support\n",
      "\n",
      "           0       0.99      1.00      0.99      7058\n",
      "           1       0.00      0.00      0.00       102\n",
      "\n",
      "    accuracy                           0.99      7160\n",
      "   macro avg       0.49      0.50      0.50      7160\n",
      "weighted avg       0.97      0.99      0.98      7160\n",
      "\n",
      "\n",
      "-----------------------Confusion Matrix-----------------------\n",
      "\n",
      "[[7057    1]\n",
      " [ 102    0]]\n",
      "\n",
      "------------------------ROC/AUC SCORE-------------------------\n",
      "\n",
      "0.4999    \n"
     ]
    },
    {
     "name": "stderr",
     "output_type": "stream",
     "text": [
      "/anaconda3/lib/python3.7/site-packages/sklearn/linear_model/logistic.py:432: FutureWarning: Default solver will be changed to 'lbfgs' in 0.22. Specify a solver to silence this warning.\n",
      "  FutureWarning)\n"
     ]
    },
    {
     "name": "stdout",
     "output_type": "stream",
     "text": [
      "\n",
      "---------------------Classification Report--------------------\n",
      "\n",
      "              precision    recall  f1-score   support\n",
      "\n",
      "           0       0.99      1.00      0.99      7048\n",
      "           1       0.46      0.12      0.19       112\n",
      "\n",
      "    accuracy                           0.98      7160\n",
      "   macro avg       0.73      0.56      0.59      7160\n",
      "weighted avg       0.98      0.98      0.98      7160\n",
      "\n",
      "\n",
      "-----------------------Confusion Matrix-----------------------\n",
      "\n",
      "[[7033   15]\n",
      " [  99   13]]\n",
      "\n",
      "------------------------ROC/AUC SCORE-------------------------\n",
      "\n",
      "0.5570    \n"
     ]
    },
    {
     "name": "stderr",
     "output_type": "stream",
     "text": [
      "/anaconda3/lib/python3.7/site-packages/sklearn/linear_model/logistic.py:432: FutureWarning: Default solver will be changed to 'lbfgs' in 0.22. Specify a solver to silence this warning.\n",
      "  FutureWarning)\n"
     ]
    },
    {
     "name": "stdout",
     "output_type": "stream",
     "text": [
      "\n",
      "---------------------Classification Report--------------------\n",
      "\n",
      "              precision    recall  f1-score   support\n",
      "\n",
      "           0       0.99      1.00      0.99      7061\n",
      "           1       0.38      0.03      0.06        99\n",
      "\n",
      "    accuracy                           0.99      7160\n",
      "   macro avg       0.68      0.51      0.52      7160\n",
      "weighted avg       0.98      0.99      0.98      7160\n",
      "\n",
      "\n",
      "-----------------------Confusion Matrix-----------------------\n",
      "\n",
      "[[7056    5]\n",
      " [  96    3]]\n",
      "\n",
      "------------------------ROC/AUC SCORE-------------------------\n",
      "\n",
      "0.5148    \n"
     ]
    },
    {
     "name": "stderr",
     "output_type": "stream",
     "text": [
      "/anaconda3/lib/python3.7/site-packages/sklearn/linear_model/logistic.py:432: FutureWarning: Default solver will be changed to 'lbfgs' in 0.22. Specify a solver to silence this warning.\n",
      "  FutureWarning)\n"
     ]
    },
    {
     "name": "stdout",
     "output_type": "stream",
     "text": [
      "\n",
      "---------------------Classification Report--------------------\n",
      "\n",
      "              precision    recall  f1-score   support\n",
      "\n",
      "           0       0.99      1.00      0.99      7063\n",
      "           1       0.11      0.02      0.03        97\n",
      "\n",
      "    accuracy                           0.98      7160\n",
      "   macro avg       0.55      0.51      0.51      7160\n",
      "weighted avg       0.97      0.98      0.98      7160\n",
      "\n",
      "\n",
      "-----------------------Confusion Matrix-----------------------\n",
      "\n",
      "[[7046   17]\n",
      " [  95    2]]\n",
      "\n",
      "------------------------ROC/AUC SCORE-------------------------\n",
      "\n",
      "0.5091    \n"
     ]
    },
    {
     "name": "stderr",
     "output_type": "stream",
     "text": [
      "/anaconda3/lib/python3.7/site-packages/sklearn/linear_model/logistic.py:432: FutureWarning: Default solver will be changed to 'lbfgs' in 0.22. Specify a solver to silence this warning.\n",
      "  FutureWarning)\n"
     ]
    },
    {
     "name": "stdout",
     "output_type": "stream",
     "text": [
      "\n",
      "---------------------Classification Report--------------------\n",
      "\n",
      "              precision    recall  f1-score   support\n",
      "\n",
      "           0       0.99      1.00      0.99      7064\n",
      "           1       0.00      0.00      0.00        96\n",
      "\n",
      "    accuracy                           0.99      7160\n",
      "   macro avg       0.49      0.50      0.50      7160\n",
      "weighted avg       0.97      0.99      0.98      7160\n",
      "\n",
      "\n",
      "-----------------------Confusion Matrix-----------------------\n",
      "\n",
      "[[7059    5]\n",
      " [  96    0]]\n",
      "\n",
      "------------------------ROC/AUC SCORE-------------------------\n",
      "\n",
      "0.4996    \n"
     ]
    },
    {
     "name": "stderr",
     "output_type": "stream",
     "text": [
      "/anaconda3/lib/python3.7/site-packages/sklearn/linear_model/logistic.py:432: FutureWarning: Default solver will be changed to 'lbfgs' in 0.22. Specify a solver to silence this warning.\n",
      "  FutureWarning)\n"
     ]
    },
    {
     "name": "stdout",
     "output_type": "stream",
     "text": [
      "\n",
      "---------------------Classification Report--------------------\n",
      "\n",
      "              precision    recall  f1-score   support\n",
      "\n",
      "           0       0.99      1.00      0.99      7075\n",
      "           1       0.31      0.06      0.10        85\n",
      "\n",
      "    accuracy                           0.99      7160\n",
      "   macro avg       0.65      0.53      0.55      7160\n",
      "weighted avg       0.98      0.99      0.98      7160\n",
      "\n",
      "\n",
      "-----------------------Confusion Matrix-----------------------\n",
      "\n",
      "[[7064   11]\n",
      " [  80    5]]\n",
      "\n",
      "------------------------ROC/AUC SCORE-------------------------\n",
      "\n",
      "0.5286    \n"
     ]
    },
    {
     "name": "stderr",
     "output_type": "stream",
     "text": [
      "/anaconda3/lib/python3.7/site-packages/sklearn/linear_model/logistic.py:432: FutureWarning: Default solver will be changed to 'lbfgs' in 0.22. Specify a solver to silence this warning.\n",
      "  FutureWarning)\n"
     ]
    },
    {
     "name": "stdout",
     "output_type": "stream",
     "text": [
      "\n",
      "---------------------Classification Report--------------------\n",
      "\n",
      "              precision    recall  f1-score   support\n",
      "\n",
      "           0       0.99      1.00      0.99      7062\n",
      "           1       0.11      0.01      0.02        98\n",
      "\n",
      "    accuracy                           0.99      7160\n",
      "   macro avg       0.55      0.50      0.51      7160\n",
      "weighted avg       0.97      0.99      0.98      7160\n",
      "\n",
      "\n",
      "-----------------------Confusion Matrix-----------------------\n",
      "\n",
      "[[7054    8]\n",
      " [  97    1]]\n",
      "\n",
      "------------------------ROC/AUC SCORE-------------------------\n",
      "\n",
      "0.5045    \n"
     ]
    },
    {
     "name": "stderr",
     "output_type": "stream",
     "text": [
      "/anaconda3/lib/python3.7/site-packages/sklearn/linear_model/logistic.py:432: FutureWarning: Default solver will be changed to 'lbfgs' in 0.22. Specify a solver to silence this warning.\n",
      "  FutureWarning)\n"
     ]
    },
    {
     "name": "stdout",
     "output_type": "stream",
     "text": [
      "\n",
      "---------------------Classification Report--------------------\n",
      "\n",
      "              precision    recall  f1-score   support\n",
      "\n",
      "           0       0.99      1.00      0.99      7047\n",
      "           1       0.66      0.24      0.35       113\n",
      "\n",
      "    accuracy                           0.99      7160\n",
      "   macro avg       0.82      0.62      0.67      7160\n",
      "weighted avg       0.98      0.99      0.98      7160\n",
      "\n",
      "\n",
      "-----------------------Confusion Matrix-----------------------\n",
      "\n",
      "[[7033   14]\n",
      " [  86   27]]\n",
      "\n",
      "------------------------ROC/AUC SCORE-------------------------\n",
      "\n",
      "0.6185    \n"
     ]
    },
    {
     "name": "stderr",
     "output_type": "stream",
     "text": [
      "/anaconda3/lib/python3.7/site-packages/sklearn/linear_model/logistic.py:432: FutureWarning: Default solver will be changed to 'lbfgs' in 0.22. Specify a solver to silence this warning.\n",
      "  FutureWarning)\n"
     ]
    },
    {
     "name": "stdout",
     "output_type": "stream",
     "text": [
      "\n",
      "---------------------Classification Report--------------------\n",
      "\n",
      "              precision    recall  f1-score   support\n",
      "\n",
      "           0       0.99      1.00      0.99      7069\n",
      "           1       0.14      0.03      0.05        91\n",
      "\n",
      "    accuracy                           0.99      7160\n",
      "   macro avg       0.57      0.52      0.52      7160\n",
      "weighted avg       0.98      0.99      0.98      7160\n",
      "\n",
      "\n",
      "-----------------------Confusion Matrix-----------------------\n",
      "\n",
      "[[7051   18]\n",
      " [  88    3]]\n",
      "\n",
      "------------------------ROC/AUC SCORE-------------------------\n",
      "\n",
      "0.5152    \n"
     ]
    },
    {
     "name": "stderr",
     "output_type": "stream",
     "text": [
      "/anaconda3/lib/python3.7/site-packages/sklearn/linear_model/logistic.py:432: FutureWarning: Default solver will be changed to 'lbfgs' in 0.22. Specify a solver to silence this warning.\n",
      "  FutureWarning)\n"
     ]
    },
    {
     "name": "stdout",
     "output_type": "stream",
     "text": [
      "\n",
      "---------------------Classification Report--------------------\n",
      "\n",
      "              precision    recall  f1-score   support\n",
      "\n",
      "           0       0.99      1.00      0.99      7078\n",
      "           1       0.10      0.02      0.04        82\n",
      "\n",
      "    accuracy                           0.99      7160\n",
      "   macro avg       0.54      0.51      0.52      7160\n",
      "weighted avg       0.98      0.99      0.98      7160\n",
      "\n",
      "\n",
      "-----------------------Confusion Matrix-----------------------\n",
      "\n",
      "[[7060   18]\n",
      " [  80    2]]\n",
      "\n",
      "------------------------ROC/AUC SCORE-------------------------\n",
      "\n",
      "0.5109    \n"
     ]
    },
    {
     "name": "stderr",
     "output_type": "stream",
     "text": [
      "/anaconda3/lib/python3.7/site-packages/sklearn/linear_model/logistic.py:432: FutureWarning: Default solver will be changed to 'lbfgs' in 0.22. Specify a solver to silence this warning.\n",
      "  FutureWarning)\n"
     ]
    },
    {
     "name": "stdout",
     "output_type": "stream",
     "text": [
      "\n",
      "---------------------Classification Report--------------------\n",
      "\n",
      "              precision    recall  f1-score   support\n",
      "\n",
      "           0       0.99      1.00      0.99      7068\n",
      "           1       0.44      0.08      0.13        92\n",
      "\n",
      "    accuracy                           0.99      7160\n",
      "   macro avg       0.71      0.54      0.56      7160\n",
      "weighted avg       0.98      0.99      0.98      7160\n",
      "\n",
      "\n",
      "-----------------------Confusion Matrix-----------------------\n",
      "\n",
      "[[7059    9]\n",
      " [  85    7]]\n",
      "\n",
      "------------------------ROC/AUC SCORE-------------------------\n",
      "\n",
      "0.5374    \n"
     ]
    },
    {
     "name": "stderr",
     "output_type": "stream",
     "text": [
      "/anaconda3/lib/python3.7/site-packages/sklearn/linear_model/logistic.py:432: FutureWarning: Default solver will be changed to 'lbfgs' in 0.22. Specify a solver to silence this warning.\n",
      "  FutureWarning)\n"
     ]
    },
    {
     "name": "stdout",
     "output_type": "stream",
     "text": [
      "\n",
      "---------------------Classification Report--------------------\n",
      "\n",
      "              precision    recall  f1-score   support\n",
      "\n",
      "           0       0.99      1.00      0.99      7052\n",
      "           1       0.47      0.07      0.13       108\n",
      "\n",
      "    accuracy                           0.98      7160\n",
      "   macro avg       0.73      0.54      0.56      7160\n",
      "weighted avg       0.98      0.98      0.98      7160\n",
      "\n",
      "\n",
      "-----------------------Confusion Matrix-----------------------\n",
      "\n",
      "[[7043    9]\n",
      " [ 100    8]]\n",
      "\n",
      "------------------------ROC/AUC SCORE-------------------------\n",
      "\n",
      "0.5364    \n"
     ]
    },
    {
     "name": "stderr",
     "output_type": "stream",
     "text": [
      "/anaconda3/lib/python3.7/site-packages/sklearn/linear_model/logistic.py:432: FutureWarning: Default solver will be changed to 'lbfgs' in 0.22. Specify a solver to silence this warning.\n",
      "  FutureWarning)\n"
     ]
    },
    {
     "name": "stdout",
     "output_type": "stream",
     "text": [
      "\n",
      "---------------------Classification Report--------------------\n",
      "\n",
      "              precision    recall  f1-score   support\n",
      "\n",
      "           0       0.99      1.00      0.99      7068\n",
      "           1       0.00      0.00      0.00        92\n",
      "\n",
      "    accuracy                           0.99      7160\n",
      "   macro avg       0.49      0.50      0.50      7160\n",
      "weighted avg       0.97      0.99      0.98      7160\n",
      "\n",
      "\n",
      "-----------------------Confusion Matrix-----------------------\n",
      "\n",
      "[[7061    7]\n",
      " [  92    0]]\n",
      "\n",
      "------------------------ROC/AUC SCORE-------------------------\n",
      "\n",
      "0.4995    \n"
     ]
    },
    {
     "name": "stderr",
     "output_type": "stream",
     "text": [
      "/anaconda3/lib/python3.7/site-packages/sklearn/linear_model/logistic.py:432: FutureWarning: Default solver will be changed to 'lbfgs' in 0.22. Specify a solver to silence this warning.\n",
      "  FutureWarning)\n"
     ]
    },
    {
     "name": "stdout",
     "output_type": "stream",
     "text": [
      "\n",
      "---------------------Classification Report--------------------\n",
      "\n",
      "              precision    recall  f1-score   support\n",
      "\n",
      "           0       0.99      1.00      0.99      7067\n",
      "           1       0.53      0.35      0.43        93\n",
      "\n",
      "    accuracy                           0.99      7160\n",
      "   macro avg       0.76      0.68      0.71      7160\n",
      "weighted avg       0.99      0.99      0.99      7160\n",
      "\n",
      "\n",
      "-----------------------Confusion Matrix-----------------------\n",
      "\n",
      "[[7038   29]\n",
      " [  60   33]]\n",
      "\n",
      "------------------------ROC/AUC SCORE-------------------------\n",
      "\n",
      "0.6754    \n"
     ]
    },
    {
     "name": "stderr",
     "output_type": "stream",
     "text": [
      "/anaconda3/lib/python3.7/site-packages/sklearn/linear_model/logistic.py:432: FutureWarning: Default solver will be changed to 'lbfgs' in 0.22. Specify a solver to silence this warning.\n",
      "  FutureWarning)\n"
     ]
    },
    {
     "name": "stdout",
     "output_type": "stream",
     "text": [
      "\n",
      "---------------------Classification Report--------------------\n",
      "\n",
      "              precision    recall  f1-score   support\n",
      "\n",
      "           0       0.98      1.00      0.99      7042\n",
      "           1       0.12      0.01      0.02       118\n",
      "\n",
      "    accuracy                           0.98      7160\n",
      "   macro avg       0.55      0.50      0.50      7160\n",
      "weighted avg       0.97      0.98      0.98      7160\n",
      "\n",
      "\n",
      "-----------------------Confusion Matrix-----------------------\n",
      "\n",
      "[[7035    7]\n",
      " [ 117    1]]\n",
      "\n",
      "------------------------ROC/AUC SCORE-------------------------\n",
      "\n",
      "0.5037    \n"
     ]
    },
    {
     "name": "stderr",
     "output_type": "stream",
     "text": [
      "/anaconda3/lib/python3.7/site-packages/sklearn/linear_model/logistic.py:432: FutureWarning: Default solver will be changed to 'lbfgs' in 0.22. Specify a solver to silence this warning.\n",
      "  FutureWarning)\n"
     ]
    },
    {
     "name": "stdout",
     "output_type": "stream",
     "text": [
      "\n",
      "---------------------Classification Report--------------------\n",
      "\n",
      "              precision    recall  f1-score   support\n",
      "\n",
      "           0       0.99      1.00      0.99      7063\n",
      "           1       0.00      0.00      0.00        97\n",
      "\n",
      "    accuracy                           0.99      7160\n",
      "   macro avg       0.49      0.50      0.50      7160\n",
      "weighted avg       0.97      0.99      0.98      7160\n",
      "\n",
      "\n",
      "-----------------------Confusion Matrix-----------------------\n",
      "\n",
      "[[7057    6]\n",
      " [  97    0]]\n",
      "\n",
      "------------------------ROC/AUC SCORE-------------------------\n",
      "\n",
      "0.4996    \n"
     ]
    },
    {
     "name": "stderr",
     "output_type": "stream",
     "text": [
      "/anaconda3/lib/python3.7/site-packages/sklearn/linear_model/logistic.py:432: FutureWarning: Default solver will be changed to 'lbfgs' in 0.22. Specify a solver to silence this warning.\n",
      "  FutureWarning)\n"
     ]
    },
    {
     "name": "stdout",
     "output_type": "stream",
     "text": [
      "\n",
      "---------------------Classification Report--------------------\n",
      "\n",
      "              precision    recall  f1-score   support\n",
      "\n",
      "           0       0.99      1.00      0.99      7069\n",
      "           1       0.26      0.09      0.13        91\n",
      "\n",
      "    accuracy                           0.99      7160\n",
      "   macro avg       0.62      0.54      0.56      7160\n",
      "weighted avg       0.98      0.99      0.98      7160\n",
      "\n",
      "\n",
      "-----------------------Confusion Matrix-----------------------\n",
      "\n",
      "[[7046   23]\n",
      " [  83    8]]\n",
      "\n",
      "------------------------ROC/AUC SCORE-------------------------\n",
      "\n",
      "0.5423    \n"
     ]
    },
    {
     "name": "stderr",
     "output_type": "stream",
     "text": [
      "/anaconda3/lib/python3.7/site-packages/sklearn/linear_model/logistic.py:432: FutureWarning: Default solver will be changed to 'lbfgs' in 0.22. Specify a solver to silence this warning.\n",
      "  FutureWarning)\n"
     ]
    },
    {
     "name": "stdout",
     "output_type": "stream",
     "text": [
      "\n",
      "---------------------Classification Report--------------------\n",
      "\n",
      "              precision    recall  f1-score   support\n",
      "\n",
      "           0       0.98      1.00      0.99      7035\n",
      "           1       0.48      0.12      0.19       125\n",
      "\n",
      "    accuracy                           0.98      7160\n",
      "   macro avg       0.73      0.56      0.59      7160\n",
      "weighted avg       0.98      0.98      0.98      7160\n",
      "\n",
      "\n",
      "-----------------------Confusion Matrix-----------------------\n",
      "\n",
      "[[7019   16]\n",
      " [ 110   15]]\n",
      "\n",
      "------------------------ROC/AUC SCORE-------------------------\n",
      "\n",
      "0.5589    \n"
     ]
    },
    {
     "name": "stderr",
     "output_type": "stream",
     "text": [
      "/anaconda3/lib/python3.7/site-packages/sklearn/linear_model/logistic.py:432: FutureWarning: Default solver will be changed to 'lbfgs' in 0.22. Specify a solver to silence this warning.\n",
      "  FutureWarning)\n"
     ]
    },
    {
     "name": "stdout",
     "output_type": "stream",
     "text": [
      "\n",
      "---------------------Classification Report--------------------\n",
      "\n",
      "              precision    recall  f1-score   support\n",
      "\n",
      "           0       0.99      1.00      0.99      7066\n",
      "           1       0.00      0.00      0.00        94\n",
      "\n",
      "    accuracy                           0.99      7160\n",
      "   macro avg       0.49      0.50      0.50      7160\n",
      "weighted avg       0.97      0.99      0.98      7160\n",
      "\n",
      "\n",
      "-----------------------Confusion Matrix-----------------------\n",
      "\n",
      "[[7065    1]\n",
      " [  94    0]]\n",
      "\n",
      "------------------------ROC/AUC SCORE-------------------------\n",
      "\n",
      "0.4999    \n"
     ]
    },
    {
     "name": "stderr",
     "output_type": "stream",
     "text": [
      "/anaconda3/lib/python3.7/site-packages/sklearn/linear_model/logistic.py:432: FutureWarning: Default solver will be changed to 'lbfgs' in 0.22. Specify a solver to silence this warning.\n",
      "  FutureWarning)\n"
     ]
    },
    {
     "name": "stdout",
     "output_type": "stream",
     "text": [
      "\n",
      "---------------------Classification Report--------------------\n",
      "\n",
      "              precision    recall  f1-score   support\n",
      "\n",
      "           0       0.99      1.00      0.99      7059\n",
      "           1       0.50      0.04      0.07       101\n",
      "\n",
      "    accuracy                           0.99      7160\n",
      "   macro avg       0.74      0.52      0.53      7160\n",
      "weighted avg       0.98      0.99      0.98      7160\n",
      "\n",
      "\n",
      "-----------------------Confusion Matrix-----------------------\n",
      "\n",
      "[[7055    4]\n",
      " [  97    4]]\n",
      "\n",
      "------------------------ROC/AUC SCORE-------------------------\n",
      "\n",
      "0.5195    \n"
     ]
    },
    {
     "name": "stderr",
     "output_type": "stream",
     "text": [
      "/anaconda3/lib/python3.7/site-packages/sklearn/linear_model/logistic.py:432: FutureWarning: Default solver will be changed to 'lbfgs' in 0.22. Specify a solver to silence this warning.\n",
      "  FutureWarning)\n"
     ]
    },
    {
     "name": "stdout",
     "output_type": "stream",
     "text": [
      "\n",
      "---------------------Classification Report--------------------\n",
      "\n",
      "              precision    recall  f1-score   support\n",
      "\n",
      "           0       0.99      1.00      0.99      7091\n",
      "           1       0.13      0.03      0.05        69\n",
      "\n",
      "    accuracy                           0.99      7160\n",
      "   macro avg       0.56      0.51      0.52      7160\n",
      "weighted avg       0.98      0.99      0.99      7160\n",
      "\n",
      "\n",
      "-----------------------Confusion Matrix-----------------------\n",
      "\n",
      "[[7078   13]\n",
      " [  67    2]]\n",
      "\n",
      "------------------------ROC/AUC SCORE-------------------------\n",
      "\n",
      "0.5136    \n"
     ]
    },
    {
     "name": "stderr",
     "output_type": "stream",
     "text": [
      "/anaconda3/lib/python3.7/site-packages/sklearn/linear_model/logistic.py:432: FutureWarning: Default solver will be changed to 'lbfgs' in 0.22. Specify a solver to silence this warning.\n",
      "  FutureWarning)\n"
     ]
    },
    {
     "name": "stdout",
     "output_type": "stream",
     "text": [
      "\n",
      "---------------------Classification Report--------------------\n",
      "\n",
      "              precision    recall  f1-score   support\n",
      "\n",
      "           0       0.98      1.00      0.99      7049\n",
      "           1       0.00      0.00      0.00       111\n",
      "\n",
      "    accuracy                           0.98      7160\n",
      "   macro avg       0.49      0.50      0.50      7160\n",
      "weighted avg       0.97      0.98      0.98      7160\n",
      "\n",
      "\n",
      "-----------------------Confusion Matrix-----------------------\n",
      "\n",
      "[[7041    8]\n",
      " [ 111    0]]\n",
      "\n",
      "------------------------ROC/AUC SCORE-------------------------\n",
      "\n",
      "0.4994    \n"
     ]
    },
    {
     "name": "stderr",
     "output_type": "stream",
     "text": [
      "/anaconda3/lib/python3.7/site-packages/sklearn/linear_model/logistic.py:432: FutureWarning: Default solver will be changed to 'lbfgs' in 0.22. Specify a solver to silence this warning.\n",
      "  FutureWarning)\n"
     ]
    },
    {
     "name": "stdout",
     "output_type": "stream",
     "text": [
      "\n",
      "---------------------Classification Report--------------------\n",
      "\n",
      "              precision    recall  f1-score   support\n",
      "\n",
      "           0       0.99      1.00      0.99      7062\n",
      "           1       0.32      0.06      0.10        98\n",
      "\n",
      "    accuracy                           0.99      7160\n",
      "   macro avg       0.65      0.53      0.55      7160\n",
      "weighted avg       0.98      0.99      0.98      7160\n",
      "\n",
      "\n",
      "-----------------------Confusion Matrix-----------------------\n",
      "\n",
      "[[7049   13]\n",
      " [  92    6]]\n",
      "\n",
      "------------------------ROC/AUC SCORE-------------------------\n",
      "\n",
      "0.5297    \n"
     ]
    },
    {
     "name": "stderr",
     "output_type": "stream",
     "text": [
      "/anaconda3/lib/python3.7/site-packages/sklearn/linear_model/logistic.py:432: FutureWarning: Default solver will be changed to 'lbfgs' in 0.22. Specify a solver to silence this warning.\n",
      "  FutureWarning)\n"
     ]
    },
    {
     "name": "stdout",
     "output_type": "stream",
     "text": [
      "\n",
      "---------------------Classification Report--------------------\n",
      "\n",
      "              precision    recall  f1-score   support\n",
      "\n",
      "           0       0.99      1.00      0.99      7076\n",
      "           1       0.00      0.00      0.00        84\n",
      "\n",
      "    accuracy                           0.99      7160\n",
      "   macro avg       0.49      0.50      0.50      7160\n",
      "weighted avg       0.98      0.99      0.98      7160\n",
      "\n",
      "\n",
      "-----------------------Confusion Matrix-----------------------\n",
      "\n",
      "[[7074    2]\n",
      " [  84    0]]\n",
      "\n",
      "------------------------ROC/AUC SCORE-------------------------\n",
      "\n",
      "0.4999    \n"
     ]
    },
    {
     "name": "stderr",
     "output_type": "stream",
     "text": [
      "/anaconda3/lib/python3.7/site-packages/sklearn/linear_model/logistic.py:432: FutureWarning: Default solver will be changed to 'lbfgs' in 0.22. Specify a solver to silence this warning.\n",
      "  FutureWarning)\n"
     ]
    },
    {
     "name": "stdout",
     "output_type": "stream",
     "text": [
      "\n",
      "---------------------Classification Report--------------------\n",
      "\n",
      "              precision    recall  f1-score   support\n",
      "\n",
      "           0       0.99      1.00      0.99      7066\n",
      "           1       0.09      0.01      0.02        94\n",
      "\n",
      "    accuracy                           0.99      7160\n",
      "   macro avg       0.54      0.50      0.51      7160\n",
      "weighted avg       0.98      0.99      0.98      7160\n",
      "\n",
      "\n",
      "-----------------------Confusion Matrix-----------------------\n",
      "\n",
      "[[7056   10]\n",
      " [  93    1]]\n",
      "\n",
      "------------------------ROC/AUC SCORE-------------------------\n",
      "\n",
      "0.5046    \n"
     ]
    },
    {
     "name": "stderr",
     "output_type": "stream",
     "text": [
      "/anaconda3/lib/python3.7/site-packages/sklearn/linear_model/logistic.py:432: FutureWarning: Default solver will be changed to 'lbfgs' in 0.22. Specify a solver to silence this warning.\n",
      "  FutureWarning)\n"
     ]
    },
    {
     "name": "stdout",
     "output_type": "stream",
     "text": [
      "\n",
      "---------------------Classification Report--------------------\n",
      "\n",
      "              precision    recall  f1-score   support\n",
      "\n",
      "           0       0.99      1.00      0.99      7069\n",
      "           1       0.38      0.07      0.11        91\n",
      "\n",
      "    accuracy                           0.99      7160\n",
      "   macro avg       0.68      0.53      0.55      7160\n",
      "weighted avg       0.98      0.99      0.98      7160\n",
      "\n",
      "\n",
      "-----------------------Confusion Matrix-----------------------\n",
      "\n",
      "[[7059   10]\n",
      " [  85    6]]\n",
      "\n",
      "------------------------ROC/AUC SCORE-------------------------\n",
      "\n",
      "0.5323    \n"
     ]
    },
    {
     "name": "stderr",
     "output_type": "stream",
     "text": [
      "/anaconda3/lib/python3.7/site-packages/sklearn/linear_model/logistic.py:432: FutureWarning: Default solver will be changed to 'lbfgs' in 0.22. Specify a solver to silence this warning.\n",
      "  FutureWarning)\n"
     ]
    },
    {
     "name": "stdout",
     "output_type": "stream",
     "text": [
      "\n",
      "---------------------Classification Report--------------------\n",
      "\n",
      "              precision    recall  f1-score   support\n",
      "\n",
      "           0       0.99      1.00      0.99      7056\n",
      "           1       0.00      0.00      0.00       104\n",
      "\n",
      "    accuracy                           0.99      7160\n",
      "   macro avg       0.49      0.50      0.50      7160\n",
      "weighted avg       0.97      0.99      0.98      7160\n",
      "\n",
      "\n",
      "-----------------------Confusion Matrix-----------------------\n",
      "\n",
      "[[7055    1]\n",
      " [ 104    0]]\n",
      "\n",
      "------------------------ROC/AUC SCORE-------------------------\n",
      "\n",
      "0.4999    \n"
     ]
    },
    {
     "name": "stderr",
     "output_type": "stream",
     "text": [
      "/anaconda3/lib/python3.7/site-packages/sklearn/linear_model/logistic.py:432: FutureWarning: Default solver will be changed to 'lbfgs' in 0.22. Specify a solver to silence this warning.\n",
      "  FutureWarning)\n"
     ]
    },
    {
     "name": "stdout",
     "output_type": "stream",
     "text": [
      "\n",
      "---------------------Classification Report--------------------\n",
      "\n",
      "              precision    recall  f1-score   support\n",
      "\n",
      "           0       0.99      1.00      0.99      7073\n",
      "           1       0.09      0.01      0.02        87\n",
      "\n",
      "    accuracy                           0.99      7160\n",
      "   macro avg       0.54      0.51      0.51      7160\n",
      "weighted avg       0.98      0.99      0.98      7160\n",
      "\n",
      "\n",
      "-----------------------Confusion Matrix-----------------------\n",
      "\n",
      "[[7063   10]\n",
      " [  86    1]]\n",
      "\n",
      "------------------------ROC/AUC SCORE-------------------------\n",
      "\n",
      "0.5050    \n"
     ]
    },
    {
     "name": "stderr",
     "output_type": "stream",
     "text": [
      "/anaconda3/lib/python3.7/site-packages/sklearn/linear_model/logistic.py:432: FutureWarning: Default solver will be changed to 'lbfgs' in 0.22. Specify a solver to silence this warning.\n",
      "  FutureWarning)\n"
     ]
    },
    {
     "name": "stdout",
     "output_type": "stream",
     "text": [
      "\n",
      "---------------------Classification Report--------------------\n",
      "\n",
      "              precision    recall  f1-score   support\n",
      "\n",
      "           0       0.99      1.00      0.99      7091\n",
      "           1       0.00      0.00      0.00        69\n",
      "\n",
      "    accuracy                           0.99      7160\n",
      "   macro avg       0.50      0.50      0.50      7160\n",
      "weighted avg       0.98      0.99      0.99      7160\n",
      "\n",
      "\n",
      "-----------------------Confusion Matrix-----------------------\n",
      "\n",
      "[[7087    4]\n",
      " [  69    0]]\n",
      "\n",
      "------------------------ROC/AUC SCORE-------------------------\n",
      "\n",
      "0.4997    \n"
     ]
    },
    {
     "name": "stderr",
     "output_type": "stream",
     "text": [
      "/anaconda3/lib/python3.7/site-packages/sklearn/linear_model/logistic.py:432: FutureWarning: Default solver will be changed to 'lbfgs' in 0.22. Specify a solver to silence this warning.\n",
      "  FutureWarning)\n"
     ]
    },
    {
     "name": "stdout",
     "output_type": "stream",
     "text": [
      "\n",
      "---------------------Classification Report--------------------\n",
      "\n",
      "              precision    recall  f1-score   support\n",
      "\n",
      "           0       0.99      1.00      0.99      7067\n",
      "           1       0.00      0.00      0.00        93\n",
      "\n",
      "    accuracy                           0.99      7160\n",
      "   macro avg       0.49      0.50      0.50      7160\n",
      "weighted avg       0.97      0.99      0.98      7160\n",
      "\n",
      "\n",
      "-----------------------Confusion Matrix-----------------------\n",
      "\n",
      "[[7059    8]\n",
      " [  93    0]]\n",
      "\n",
      "------------------------ROC/AUC SCORE-------------------------\n",
      "\n",
      "0.4994    \n"
     ]
    },
    {
     "name": "stderr",
     "output_type": "stream",
     "text": [
      "/anaconda3/lib/python3.7/site-packages/sklearn/linear_model/logistic.py:432: FutureWarning: Default solver will be changed to 'lbfgs' in 0.22. Specify a solver to silence this warning.\n",
      "  FutureWarning)\n"
     ]
    },
    {
     "name": "stdout",
     "output_type": "stream",
     "text": [
      "\n",
      "---------------------Classification Report--------------------\n",
      "\n",
      "              precision    recall  f1-score   support\n",
      "\n",
      "           0       0.99      1.00      0.99      7078\n",
      "           1       0.00      0.00      0.00        82\n",
      "\n",
      "    accuracy                           0.99      7160\n",
      "   macro avg       0.49      0.50      0.50      7160\n",
      "weighted avg       0.98      0.99      0.98      7160\n",
      "\n",
      "\n",
      "-----------------------Confusion Matrix-----------------------\n",
      "\n",
      "[[7073    5]\n",
      " [  82    0]]\n",
      "\n",
      "------------------------ROC/AUC SCORE-------------------------\n",
      "\n",
      "0.4996    \n"
     ]
    },
    {
     "name": "stderr",
     "output_type": "stream",
     "text": [
      "/anaconda3/lib/python3.7/site-packages/sklearn/linear_model/logistic.py:432: FutureWarning: Default solver will be changed to 'lbfgs' in 0.22. Specify a solver to silence this warning.\n",
      "  FutureWarning)\n"
     ]
    },
    {
     "name": "stdout",
     "output_type": "stream",
     "text": [
      "\n",
      "---------------------Classification Report--------------------\n",
      "\n",
      "              precision    recall  f1-score   support\n",
      "\n",
      "           0       0.99      1.00      0.99      7054\n",
      "           1       0.11      0.02      0.03       106\n",
      "\n",
      "    accuracy                           0.98      7160\n",
      "   macro avg       0.55      0.51      0.51      7160\n",
      "weighted avg       0.97      0.98      0.98      7160\n",
      "\n",
      "\n",
      "-----------------------Confusion Matrix-----------------------\n",
      "\n",
      "[[7037   17]\n",
      " [ 104    2]]\n",
      "\n",
      "------------------------ROC/AUC SCORE-------------------------\n",
      "\n",
      "0.5082    \n"
     ]
    },
    {
     "name": "stderr",
     "output_type": "stream",
     "text": [
      "/anaconda3/lib/python3.7/site-packages/sklearn/linear_model/logistic.py:432: FutureWarning: Default solver will be changed to 'lbfgs' in 0.22. Specify a solver to silence this warning.\n",
      "  FutureWarning)\n"
     ]
    },
    {
     "name": "stdout",
     "output_type": "stream",
     "text": [
      "\n",
      "---------------------Classification Report--------------------\n",
      "\n",
      "              precision    recall  f1-score   support\n",
      "\n",
      "           0       0.99      1.00      0.99      7072\n",
      "           1       0.14      0.02      0.04        88\n",
      "\n",
      "    accuracy                           0.99      7160\n",
      "   macro avg       0.57      0.51      0.52      7160\n",
      "weighted avg       0.98      0.99      0.98      7160\n",
      "\n",
      "\n",
      "-----------------------Confusion Matrix-----------------------\n",
      "\n",
      "[[7060   12]\n",
      " [  86    2]]\n",
      "\n",
      "------------------------ROC/AUC SCORE-------------------------\n",
      "\n",
      "0.5105    \n"
     ]
    },
    {
     "name": "stderr",
     "output_type": "stream",
     "text": [
      "/anaconda3/lib/python3.7/site-packages/sklearn/linear_model/logistic.py:432: FutureWarning: Default solver will be changed to 'lbfgs' in 0.22. Specify a solver to silence this warning.\n",
      "  FutureWarning)\n"
     ]
    },
    {
     "name": "stdout",
     "output_type": "stream",
     "text": [
      "\n",
      "---------------------Classification Report--------------------\n",
      "\n",
      "              precision    recall  f1-score   support\n",
      "\n",
      "           0       0.99      1.00      0.99      7072\n",
      "           1       0.56      0.20      0.30        88\n",
      "\n",
      "    accuracy                           0.99      7160\n",
      "   macro avg       0.78      0.60      0.65      7160\n",
      "weighted avg       0.98      0.99      0.99      7160\n",
      "\n",
      "\n",
      "-----------------------Confusion Matrix-----------------------\n",
      "\n",
      "[[7058   14]\n",
      " [  70   18]]\n",
      "\n",
      "------------------------ROC/AUC SCORE-------------------------\n",
      "\n",
      "0.6013    \n"
     ]
    },
    {
     "name": "stderr",
     "output_type": "stream",
     "text": [
      "/anaconda3/lib/python3.7/site-packages/sklearn/linear_model/logistic.py:432: FutureWarning: Default solver will be changed to 'lbfgs' in 0.22. Specify a solver to silence this warning.\n",
      "  FutureWarning)\n"
     ]
    },
    {
     "name": "stdout",
     "output_type": "stream",
     "text": [
      "\n",
      "---------------------Classification Report--------------------\n",
      "\n",
      "              precision    recall  f1-score   support\n",
      "\n",
      "           0       0.99      1.00      0.99      7051\n",
      "           1       0.27      0.06      0.09       109\n",
      "\n",
      "    accuracy                           0.98      7160\n",
      "   macro avg       0.63      0.53      0.54      7160\n",
      "weighted avg       0.97      0.98      0.98      7160\n",
      "\n",
      "\n",
      "-----------------------Confusion Matrix-----------------------\n",
      "\n",
      "[[7035   16]\n",
      " [ 103    6]]\n",
      "\n",
      "------------------------ROC/AUC SCORE-------------------------\n",
      "\n",
      "0.5264    \n"
     ]
    },
    {
     "name": "stderr",
     "output_type": "stream",
     "text": [
      "/anaconda3/lib/python3.7/site-packages/sklearn/linear_model/logistic.py:432: FutureWarning: Default solver will be changed to 'lbfgs' in 0.22. Specify a solver to silence this warning.\n",
      "  FutureWarning)\n"
     ]
    },
    {
     "name": "stdout",
     "output_type": "stream",
     "text": [
      "\n",
      "---------------------Classification Report--------------------\n",
      "\n",
      "              precision    recall  f1-score   support\n",
      "\n",
      "           0       0.99      1.00      0.99      7076\n",
      "           1       0.00      0.00      0.00        84\n",
      "\n",
      "    accuracy                           0.99      7160\n",
      "   macro avg       0.49      0.50      0.50      7160\n",
      "weighted avg       0.98      0.99      0.98      7160\n",
      "\n",
      "\n",
      "-----------------------Confusion Matrix-----------------------\n",
      "\n",
      "[[7073    3]\n",
      " [  84    0]]\n",
      "\n",
      "------------------------ROC/AUC SCORE-------------------------\n",
      "\n",
      "0.4998    \n"
     ]
    },
    {
     "name": "stderr",
     "output_type": "stream",
     "text": [
      "/anaconda3/lib/python3.7/site-packages/sklearn/linear_model/logistic.py:432: FutureWarning: Default solver will be changed to 'lbfgs' in 0.22. Specify a solver to silence this warning.\n",
      "  FutureWarning)\n"
     ]
    },
    {
     "name": "stdout",
     "output_type": "stream",
     "text": [
      "\n",
      "---------------------Classification Report--------------------\n",
      "\n",
      "              precision    recall  f1-score   support\n",
      "\n",
      "           0       0.99      1.00      0.99      7061\n",
      "           1       0.32      0.07      0.12        99\n",
      "\n",
      "    accuracy                           0.99      7160\n",
      "   macro avg       0.65      0.53      0.55      7160\n",
      "weighted avg       0.98      0.99      0.98      7160\n",
      "\n",
      "\n",
      "-----------------------Confusion Matrix-----------------------\n",
      "\n",
      "[[7046   15]\n",
      " [  92    7]]\n",
      "\n",
      "------------------------ROC/AUC SCORE-------------------------\n",
      "\n",
      "0.5343    \n"
     ]
    },
    {
     "name": "stderr",
     "output_type": "stream",
     "text": [
      "/anaconda3/lib/python3.7/site-packages/sklearn/linear_model/logistic.py:432: FutureWarning: Default solver will be changed to 'lbfgs' in 0.22. Specify a solver to silence this warning.\n",
      "  FutureWarning)\n"
     ]
    },
    {
     "name": "stdout",
     "output_type": "stream",
     "text": [
      "\n",
      "---------------------Classification Report--------------------\n",
      "\n",
      "              precision    recall  f1-score   support\n",
      "\n",
      "           0       0.99      1.00      0.99      7065\n",
      "           1       0.67      0.04      0.08        95\n",
      "\n",
      "    accuracy                           0.99      7160\n",
      "   macro avg       0.83      0.52      0.54      7160\n",
      "weighted avg       0.98      0.99      0.98      7160\n",
      "\n",
      "\n",
      "-----------------------Confusion Matrix-----------------------\n",
      "\n",
      "[[7063    2]\n",
      " [  91    4]]\n",
      "\n",
      "------------------------ROC/AUC SCORE-------------------------\n",
      "\n",
      "0.5209    \n"
     ]
    },
    {
     "name": "stderr",
     "output_type": "stream",
     "text": [
      "/anaconda3/lib/python3.7/site-packages/sklearn/linear_model/logistic.py:432: FutureWarning: Default solver will be changed to 'lbfgs' in 0.22. Specify a solver to silence this warning.\n",
      "  FutureWarning)\n"
     ]
    },
    {
     "name": "stdout",
     "output_type": "stream",
     "text": [
      "\n",
      "---------------------Classification Report--------------------\n",
      "\n",
      "              precision    recall  f1-score   support\n",
      "\n",
      "           0       0.98      1.00      0.99      7037\n",
      "           1       0.46      0.05      0.09       123\n",
      "\n",
      "    accuracy                           0.98      7160\n",
      "   macro avg       0.72      0.52      0.54      7160\n",
      "weighted avg       0.97      0.98      0.98      7160\n",
      "\n",
      "\n",
      "-----------------------Confusion Matrix-----------------------\n",
      "\n",
      "[[7030    7]\n",
      " [ 117    6]]\n",
      "\n",
      "------------------------ROC/AUC SCORE-------------------------\n",
      "\n",
      "0.5239    \n"
     ]
    },
    {
     "name": "stderr",
     "output_type": "stream",
     "text": [
      "/anaconda3/lib/python3.7/site-packages/sklearn/linear_model/logistic.py:432: FutureWarning: Default solver will be changed to 'lbfgs' in 0.22. Specify a solver to silence this warning.\n",
      "  FutureWarning)\n"
     ]
    },
    {
     "name": "stdout",
     "output_type": "stream",
     "text": [
      "\n",
      "---------------------Classification Report--------------------\n",
      "\n",
      "              precision    recall  f1-score   support\n",
      "\n",
      "           0       0.99      1.00      0.99      7058\n",
      "           1       0.00      0.00      0.00       102\n",
      "\n",
      "    accuracy                           0.99      7160\n",
      "   macro avg       0.49      0.50      0.50      7160\n",
      "weighted avg       0.97      0.99      0.98      7160\n",
      "\n",
      "\n",
      "-----------------------Confusion Matrix-----------------------\n",
      "\n",
      "[[7055    3]\n",
      " [ 102    0]]\n",
      "\n",
      "------------------------ROC/AUC SCORE-------------------------\n",
      "\n",
      "0.4998    \n"
     ]
    },
    {
     "name": "stderr",
     "output_type": "stream",
     "text": [
      "/anaconda3/lib/python3.7/site-packages/sklearn/linear_model/logistic.py:432: FutureWarning: Default solver will be changed to 'lbfgs' in 0.22. Specify a solver to silence this warning.\n",
      "  FutureWarning)\n"
     ]
    },
    {
     "name": "stdout",
     "output_type": "stream",
     "text": [
      "\n",
      "---------------------Classification Report--------------------\n",
      "\n",
      "              precision    recall  f1-score   support\n",
      "\n",
      "           0       0.99      1.00      0.99      7076\n",
      "           1       0.14      0.02      0.04        84\n",
      "\n",
      "    accuracy                           0.99      7160\n",
      "   macro avg       0.57      0.51      0.52      7160\n",
      "weighted avg       0.98      0.99      0.98      7160\n",
      "\n",
      "\n",
      "-----------------------Confusion Matrix-----------------------\n",
      "\n",
      "[[7064   12]\n",
      " [  82    2]]\n",
      "\n",
      "------------------------ROC/AUC SCORE-------------------------\n",
      "\n",
      "0.5111    \n"
     ]
    },
    {
     "name": "stderr",
     "output_type": "stream",
     "text": [
      "/anaconda3/lib/python3.7/site-packages/sklearn/linear_model/logistic.py:432: FutureWarning: Default solver will be changed to 'lbfgs' in 0.22. Specify a solver to silence this warning.\n",
      "  FutureWarning)\n"
     ]
    },
    {
     "name": "stdout",
     "output_type": "stream",
     "text": [
      "\n",
      "---------------------Classification Report--------------------\n",
      "\n",
      "              precision    recall  f1-score   support\n",
      "\n",
      "           0       0.99      1.00      0.99      7067\n",
      "           1       0.29      0.09      0.13        93\n",
      "\n",
      "    accuracy                           0.99      7160\n",
      "   macro avg       0.64      0.54      0.56      7160\n",
      "weighted avg       0.98      0.99      0.98      7160\n",
      "\n",
      "\n",
      "-----------------------Confusion Matrix-----------------------\n",
      "\n",
      "[[7047   20]\n",
      " [  85    8]]\n",
      "\n",
      "------------------------ROC/AUC SCORE-------------------------\n",
      "\n",
      "0.5416    \n"
     ]
    },
    {
     "name": "stderr",
     "output_type": "stream",
     "text": [
      "/anaconda3/lib/python3.7/site-packages/sklearn/linear_model/logistic.py:432: FutureWarning: Default solver will be changed to 'lbfgs' in 0.22. Specify a solver to silence this warning.\n",
      "  FutureWarning)\n"
     ]
    },
    {
     "name": "stdout",
     "output_type": "stream",
     "text": [
      "\n",
      "---------------------Classification Report--------------------\n",
      "\n",
      "              precision    recall  f1-score   support\n",
      "\n",
      "           0       0.99      1.00      0.99      7083\n",
      "           1       0.67      0.05      0.10        77\n",
      "\n",
      "    accuracy                           0.99      7160\n",
      "   macro avg       0.83      0.53      0.55      7160\n",
      "weighted avg       0.99      0.99      0.99      7160\n",
      "\n",
      "\n",
      "-----------------------Confusion Matrix-----------------------\n",
      "\n",
      "[[7081    2]\n",
      " [  73    4]]\n",
      "\n",
      "------------------------ROC/AUC SCORE-------------------------\n",
      "\n",
      "0.5258    \n"
     ]
    },
    {
     "name": "stderr",
     "output_type": "stream",
     "text": [
      "/anaconda3/lib/python3.7/site-packages/sklearn/linear_model/logistic.py:432: FutureWarning: Default solver will be changed to 'lbfgs' in 0.22. Specify a solver to silence this warning.\n",
      "  FutureWarning)\n"
     ]
    },
    {
     "name": "stdout",
     "output_type": "stream",
     "text": [
      "\n",
      "---------------------Classification Report--------------------\n",
      "\n",
      "              precision    recall  f1-score   support\n",
      "\n",
      "           0       0.99      1.00      1.00      7090\n",
      "           1       0.69      0.39      0.50        70\n",
      "\n",
      "    accuracy                           0.99      7160\n",
      "   macro avg       0.84      0.69      0.75      7160\n",
      "weighted avg       0.99      0.99      0.99      7160\n",
      "\n",
      "\n",
      "-----------------------Confusion Matrix-----------------------\n",
      "\n",
      "[[7078   12]\n",
      " [  43   27]]\n",
      "\n",
      "------------------------ROC/AUC SCORE-------------------------\n",
      "\n",
      "0.6920    \n"
     ]
    },
    {
     "name": "stderr",
     "output_type": "stream",
     "text": [
      "/anaconda3/lib/python3.7/site-packages/sklearn/linear_model/logistic.py:432: FutureWarning: Default solver will be changed to 'lbfgs' in 0.22. Specify a solver to silence this warning.\n",
      "  FutureWarning)\n"
     ]
    },
    {
     "name": "stdout",
     "output_type": "stream",
     "text": [
      "\n",
      "---------------------Classification Report--------------------\n",
      "\n",
      "              precision    recall  f1-score   support\n",
      "\n",
      "           0       0.99      1.00      1.00      7098\n",
      "           1       0.28      0.08      0.12        62\n",
      "\n",
      "    accuracy                           0.99      7160\n",
      "   macro avg       0.63      0.54      0.56      7160\n",
      "weighted avg       0.99      0.99      0.99      7160\n",
      "\n",
      "\n",
      "-----------------------Confusion Matrix-----------------------\n",
      "\n",
      "[[7085   13]\n",
      " [  57    5]]\n",
      "\n",
      "------------------------ROC/AUC SCORE-------------------------\n",
      "\n",
      "0.5394    \n"
     ]
    },
    {
     "name": "stderr",
     "output_type": "stream",
     "text": [
      "/anaconda3/lib/python3.7/site-packages/sklearn/linear_model/logistic.py:432: FutureWarning: Default solver will be changed to 'lbfgs' in 0.22. Specify a solver to silence this warning.\n",
      "  FutureWarning)\n"
     ]
    },
    {
     "name": "stdout",
     "output_type": "stream",
     "text": [
      "\n",
      "---------------------Classification Report--------------------\n",
      "\n",
      "              precision    recall  f1-score   support\n",
      "\n",
      "           0       0.99      1.00      0.99      7079\n",
      "           1       0.27      0.05      0.08        81\n",
      "\n",
      "    accuracy                           0.99      7160\n",
      "   macro avg       0.63      0.52      0.54      7160\n",
      "weighted avg       0.98      0.99      0.98      7160\n",
      "\n",
      "\n",
      "-----------------------Confusion Matrix-----------------------\n",
      "\n",
      "[[7068   11]\n",
      " [  77    4]]\n",
      "\n",
      "------------------------ROC/AUC SCORE-------------------------\n",
      "\n",
      "0.5239    \n"
     ]
    },
    {
     "name": "stderr",
     "output_type": "stream",
     "text": [
      "/anaconda3/lib/python3.7/site-packages/sklearn/linear_model/logistic.py:432: FutureWarning: Default solver will be changed to 'lbfgs' in 0.22. Specify a solver to silence this warning.\n",
      "  FutureWarning)\n"
     ]
    },
    {
     "name": "stdout",
     "output_type": "stream",
     "text": [
      "\n",
      "---------------------Classification Report--------------------\n",
      "\n",
      "              precision    recall  f1-score   support\n",
      "\n",
      "           0       0.99      1.00      0.99      7060\n",
      "           1       0.31      0.05      0.09       100\n",
      "\n",
      "    accuracy                           0.99      7160\n",
      "   macro avg       0.65      0.52      0.54      7160\n",
      "weighted avg       0.98      0.99      0.98      7160\n",
      "\n",
      "\n",
      "-----------------------Confusion Matrix-----------------------\n",
      "\n",
      "[[7049   11]\n",
      " [  95    5]]\n",
      "\n",
      "------------------------ROC/AUC SCORE-------------------------\n",
      "\n",
      "0.5242    \n"
     ]
    },
    {
     "name": "stderr",
     "output_type": "stream",
     "text": [
      "/anaconda3/lib/python3.7/site-packages/sklearn/linear_model/logistic.py:432: FutureWarning: Default solver will be changed to 'lbfgs' in 0.22. Specify a solver to silence this warning.\n",
      "  FutureWarning)\n"
     ]
    },
    {
     "name": "stdout",
     "output_type": "stream",
     "text": [
      "\n",
      "---------------------Classification Report--------------------\n",
      "\n",
      "              precision    recall  f1-score   support\n",
      "\n",
      "           0       0.99      1.00      0.99      7058\n",
      "           1       0.00      0.00      0.00       102\n",
      "\n",
      "    accuracy                           0.99      7160\n",
      "   macro avg       0.49      0.50      0.50      7160\n",
      "weighted avg       0.97      0.99      0.98      7160\n",
      "\n",
      "\n",
      "-----------------------Confusion Matrix-----------------------\n",
      "\n",
      "[[7055    3]\n",
      " [ 102    0]]\n",
      "\n",
      "------------------------ROC/AUC SCORE-------------------------\n",
      "\n",
      "0.4998    \n"
     ]
    },
    {
     "name": "stderr",
     "output_type": "stream",
     "text": [
      "/anaconda3/lib/python3.7/site-packages/sklearn/linear_model/logistic.py:432: FutureWarning: Default solver will be changed to 'lbfgs' in 0.22. Specify a solver to silence this warning.\n",
      "  FutureWarning)\n"
     ]
    },
    {
     "name": "stdout",
     "output_type": "stream",
     "text": [
      "\n",
      "---------------------Classification Report--------------------\n",
      "\n",
      "              precision    recall  f1-score   support\n",
      "\n",
      "           0       0.99      1.00      0.99      7080\n",
      "           1       0.07      0.01      0.02        80\n",
      "\n",
      "    accuracy                           0.99      7160\n",
      "   macro avg       0.53      0.51      0.51      7160\n",
      "weighted avg       0.98      0.99      0.98      7160\n",
      "\n",
      "\n",
      "-----------------------Confusion Matrix-----------------------\n",
      "\n",
      "[[7067   13]\n",
      " [  79    1]]\n",
      "\n",
      "------------------------ROC/AUC SCORE-------------------------\n",
      "\n",
      "0.5053    \n"
     ]
    },
    {
     "name": "stderr",
     "output_type": "stream",
     "text": [
      "/anaconda3/lib/python3.7/site-packages/sklearn/linear_model/logistic.py:432: FutureWarning: Default solver will be changed to 'lbfgs' in 0.22. Specify a solver to silence this warning.\n",
      "  FutureWarning)\n"
     ]
    },
    {
     "name": "stdout",
     "output_type": "stream",
     "text": [
      "\n",
      "---------------------Classification Report--------------------\n",
      "\n",
      "              precision    recall  f1-score   support\n",
      "\n",
      "           0       0.99      1.00      0.99      7055\n",
      "           1       0.25      0.01      0.02       105\n",
      "\n",
      "    accuracy                           0.99      7160\n",
      "   macro avg       0.62      0.50      0.51      7160\n",
      "weighted avg       0.97      0.99      0.98      7160\n",
      "\n",
      "\n",
      "-----------------------Confusion Matrix-----------------------\n",
      "\n",
      "[[7052    3]\n",
      " [ 104    1]]\n",
      "\n",
      "------------------------ROC/AUC SCORE-------------------------\n",
      "\n",
      "0.5045    \n"
     ]
    },
    {
     "name": "stderr",
     "output_type": "stream",
     "text": [
      "/anaconda3/lib/python3.7/site-packages/sklearn/linear_model/logistic.py:432: FutureWarning: Default solver will be changed to 'lbfgs' in 0.22. Specify a solver to silence this warning.\n",
      "  FutureWarning)\n"
     ]
    },
    {
     "name": "stdout",
     "output_type": "stream",
     "text": [
      "\n",
      "---------------------Classification Report--------------------\n",
      "\n",
      "              precision    recall  f1-score   support\n",
      "\n",
      "           0       0.99      1.00      0.99      7064\n",
      "           1       0.29      0.07      0.12        96\n",
      "\n",
      "    accuracy                           0.99      7160\n",
      "   macro avg       0.64      0.54      0.55      7160\n",
      "weighted avg       0.98      0.99      0.98      7160\n",
      "\n",
      "\n",
      "-----------------------Confusion Matrix-----------------------\n",
      "\n",
      "[[7047   17]\n",
      " [  89    7]]\n",
      "\n",
      "------------------------ROC/AUC SCORE-------------------------\n",
      "\n",
      "0.5353    \n"
     ]
    },
    {
     "name": "stderr",
     "output_type": "stream",
     "text": [
      "/anaconda3/lib/python3.7/site-packages/sklearn/linear_model/logistic.py:432: FutureWarning: Default solver will be changed to 'lbfgs' in 0.22. Specify a solver to silence this warning.\n",
      "  FutureWarning)\n"
     ]
    },
    {
     "name": "stdout",
     "output_type": "stream",
     "text": [
      "\n",
      "---------------------Classification Report--------------------\n",
      "\n",
      "              precision    recall  f1-score   support\n",
      "\n",
      "           0       0.99      1.00      0.99      7065\n",
      "           1       0.00      0.00      0.00        95\n",
      "\n",
      "    accuracy                           0.99      7160\n",
      "   macro avg       0.49      0.50      0.50      7160\n",
      "weighted avg       0.97      0.99      0.98      7160\n",
      "\n",
      "\n",
      "-----------------------Confusion Matrix-----------------------\n",
      "\n",
      "[[7055   10]\n",
      " [  95    0]]\n",
      "\n",
      "------------------------ROC/AUC SCORE-------------------------\n",
      "\n",
      "0.4993    \n"
     ]
    },
    {
     "name": "stderr",
     "output_type": "stream",
     "text": [
      "/anaconda3/lib/python3.7/site-packages/sklearn/linear_model/logistic.py:432: FutureWarning: Default solver will be changed to 'lbfgs' in 0.22. Specify a solver to silence this warning.\n",
      "  FutureWarning)\n"
     ]
    },
    {
     "name": "stdout",
     "output_type": "stream",
     "text": [
      "\n",
      "---------------------Classification Report--------------------\n",
      "\n",
      "              precision    recall  f1-score   support\n",
      "\n",
      "           0       0.99      1.00      0.99      7057\n",
      "           1       0.48      0.10      0.16       103\n",
      "\n",
      "    accuracy                           0.99      7160\n",
      "   macro avg       0.73      0.55      0.58      7160\n",
      "weighted avg       0.98      0.99      0.98      7160\n",
      "\n",
      "\n",
      "-----------------------Confusion Matrix-----------------------\n",
      "\n",
      "[[7046   11]\n",
      " [  93   10]]\n",
      "\n",
      "------------------------ROC/AUC SCORE-------------------------\n",
      "\n",
      "0.5478    \n"
     ]
    },
    {
     "name": "stderr",
     "output_type": "stream",
     "text": [
      "/anaconda3/lib/python3.7/site-packages/sklearn/linear_model/logistic.py:432: FutureWarning: Default solver will be changed to 'lbfgs' in 0.22. Specify a solver to silence this warning.\n",
      "  FutureWarning)\n"
     ]
    },
    {
     "name": "stdout",
     "output_type": "stream",
     "text": [
      "\n",
      "---------------------Classification Report--------------------\n",
      "\n",
      "              precision    recall  f1-score   support\n",
      "\n",
      "           0       0.99      1.00      0.99      7075\n",
      "           1       0.08      0.01      0.02        85\n",
      "\n",
      "    accuracy                           0.99      7160\n",
      "   macro avg       0.54      0.51      0.51      7160\n",
      "weighted avg       0.98      0.99      0.98      7160\n",
      "\n",
      "\n",
      "-----------------------Confusion Matrix-----------------------\n",
      "\n",
      "[[7064   11]\n",
      " [  84    1]]\n",
      "\n",
      "------------------------ROC/AUC SCORE-------------------------\n",
      "\n",
      "0.5051    \n"
     ]
    }
   ],
   "source": [
    "# Write models\n",
    "diag_matrix = feature_matrix(visit_mappings, diag_order)\n",
    "train, test = split_indices(visit_mappings, '2181')\n",
    "model_index = 0\n",
    "with open('diag_drug_top538.txt', \"w\") as f:\n",
    "    for drug in sorted_drug_list[:538]:\n",
    "        drug_vector = feature_vector(visit_mappings, drug)\n",
    "        key_info = logistic_regression(diag_matrix, drug_vector, train, test)\n",
    "\n",
    "        relation = {}\n",
    "        relation[\"drug_name\"] = drug[0]\n",
    "        relation[\"precision\"] = key_info[0]\n",
    "        relation[\"recall\"] = key_info[1]\n",
    "        relation[\"AUC\"] = key_info[2]\n",
    "\n",
    "        lr = key_info[3]\n",
    "        joblib.dump(lr, \"logistic_models_top538/model\" + str(model_index) + \".m\")\n",
    "        model_index += 1\n",
    "\n",
    "        f.write(json.dumps(relation, ensure_ascii=False) + \"\\n\")"
   ]
  },
  {
   "cell_type": "code",
   "execution_count": 75,
   "metadata": {},
   "outputs": [],
   "source": [
    "with open('logistic_models_top538/matrix.pkl', 'wb') as f:\n",
    "        pickle.dump(diag_matrix, f)\n",
    "\n",
    "with open('logistic_models_top538/train.pkl', 'wb') as f:\n",
    "        pickle.dump(train, f)\n",
    "\n",
    "with open('logistic_models_top538/test.pkl', 'wb') as f:\n",
    "        pickle.dump(test, f)"
   ]
  },
  {
   "cell_type": "code",
   "execution_count": null,
   "metadata": {},
   "outputs": [],
   "source": []
  }
 ],
 "metadata": {
  "kernelspec": {
   "display_name": "Python 3",
   "language": "python",
   "name": "python3"
  },
  "language_info": {
   "codemirror_mode": {
    "name": "ipython",
    "version": 3
   },
   "file_extension": ".py",
   "mimetype": "text/x-python",
   "name": "python",
   "nbconvert_exporter": "python",
   "pygments_lexer": "ipython3",
   "version": "3.7.3"
  }
 },
 "nbformat": 4,
 "nbformat_minor": 2
}
