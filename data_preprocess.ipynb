{
 "cells": [
  {
   "cell_type": "code",
   "execution_count": 183,
   "metadata": {},
   "outputs": [],
   "source": [
    "import sys\n",
    "import pickle\n",
    "from datetime import datetime\n",
    "from collections import Counter\n",
    "from operator import itemgetter"
   ]
  },
  {
   "cell_type": "code",
   "execution_count": 184,
   "metadata": {},
   "outputs": [],
   "source": [
    "def convert_to_icd9(dxStr):\n",
    "\tif dxStr.startswith('E'):\n",
    "\t\tif len(dxStr) > 4: return dxStr[:4] + '.' + dxStr[4:]\n",
    "\t\telse: return dxStr\n",
    "\telse:\n",
    "\t\tif len(dxStr) > 3: return dxStr[:3] + '.' + dxStr[3:]\n",
    "\t\telse: return dxStr\n",
    "\t\n",
    "def convert_to_3digit_icd9(dxStr):\n",
    "\tif dxStr.startswith('E'):\n",
    "\t\tif len(dxStr) > 4: return dxStr[:4]\n",
    "\t\telse: return dxStr\n",
    "\telse:\n",
    "\t\tif len(dxStr) > 3: return dxStr[:3]\n",
    "\t\telse: return dxStr"
   ]
  },
  {
   "cell_type": "code",
   "execution_count": 185,
   "metadata": {},
   "outputs": [],
   "source": [
    "admissionFile = 'MIMIC3/ADMISSIONS.csv'\n",
    "diagnosisFile = 'MIMIC3/DIAGNOSES_ICD.csv'\n",
    "drugFile = 'MIMIC3/PRESCRIPTIONS.csv'"
   ]
  },
  {
   "cell_type": "code",
   "execution_count": 222,
   "metadata": {},
   "outputs": [],
   "source": [
    "icd_converter = 'icd_converter.txt'"
   ]
  },
  {
   "cell_type": "code",
   "execution_count": 228,
   "metadata": {},
   "outputs": [],
   "source": [
    "icd9_to_icd10 = {}\n",
    "converter = open(icd_converter, 'r')\n",
    "converter.readline()\n",
    "for line in converter:\n",
    "    icd10 = line[:8].strip(' ')\n",
    "    icd9 = line[8:14].strip(' ')\n",
    "    icd9_to_icd10[icd9] = icd10"
   ]
  },
  {
   "cell_type": "code",
   "execution_count": 186,
   "metadata": {},
   "outputs": [
    {
     "name": "stdout",
     "output_type": "stream",
     "text": [
      "Building admission-year mapping\n"
     ]
    }
   ],
   "source": [
    "print('Building admission-year mapping')\n",
    "\n",
    "admYearMap = {}\n",
    "infd = open(admissionFile, 'r')\n",
    "infd.readline()\n",
    "for line in infd:\n",
    "    tokens = line.strip().split(',')\n",
    "    admId = int(tokens[2])\n",
    "    admTime = datetime.strptime(tokens[3], '%Y-%m-%d %H:%M:%S')\n",
    "    admYear = admTime.strftime(\"%Y-%m-%d %H:%M:%S\")[:4]\n",
    "    admYearMap[admId] = admYear\n",
    "infd.close()"
   ]
  },
  {
   "cell_type": "code",
   "execution_count": 230,
   "metadata": {},
   "outputs": [
    {
     "name": "stdout",
     "output_type": "stream",
     "text": [
      "Building admission-dxList mapping\n"
     ]
    }
   ],
   "source": [
    "print('Building admission-dxList mapping')\n",
    "\"\"\"\n",
    "{admId:[diseas1,diseas2],#icd9\n",
    "...}\n",
    "\"\"\"\n",
    "admDxMap = {}\n",
    "disease_to_icd10 = {}\n",
    "infd = open(diagnosisFile, 'r')\n",
    "infd.readline()\n",
    "for line in infd:\n",
    "    tokens = line.strip().split(',')\n",
    "    admId = int(tokens[2])\n",
    "    origin = tokens[4][1:-1]\n",
    "    dxStr = 'D_' + convert_to_icd9(origin)\n",
    "    if origin in icd9_to_icd10:\n",
    "        disease_to_icd10[dxStr] = icd9_to_icd10[origin]\n",
    "    if admId in admDxMap: admDxMap[admId].append(dxStr)\n",
    "    else: admDxMap[admId] = [dxStr]\n",
    "infd.close()"
   ]
  },
  {
   "cell_type": "code",
   "execution_count": 188,
   "metadata": {},
   "outputs": [
    {
     "name": "stdout",
     "output_type": "stream",
     "text": [
      "Building admission-drugList mapping\n"
     ]
    }
   ],
   "source": [
    "print('Building admission-drugList mapping')\n",
    "\"\"\"\n",
    "{admId:[drug1,drug2],#icd9\n",
    "...}\n",
    "\"\"\"\n",
    "admDrugMap = {}\n",
    "infd = open(drugFile, 'r')\n",
    "infd.readline()\n",
    "for line in infd:\n",
    "    tokens = line.strip().split(',')\n",
    "    admId = int(tokens[2])\n",
    "    drugStr = str(tokens[12])\n",
    "    if not drugStr or drugStr == '\"0\"':\n",
    "        continue\n",
    "    if admId in admDrugMap: admDrugMap[admId].append(drugStr)\n",
    "    else: admDrugMap[admId] = [drugStr]\n",
    "infd.close()"
   ]
  },
  {
   "cell_type": "code",
   "execution_count": 189,
   "metadata": {},
   "outputs": [
    {
     "name": "stdout",
     "output_type": "stream",
     "text": [
      "Building visit-year-dxList-drugList mapping; Statistics\n"
     ]
    }
   ],
   "source": [
    "print('Building visit-year-dxList-drugList mapping; Statistics')\n",
    "\"\"\"\n",
    "{'visit_id': admId, 'diag_list': [disease1, disease2], 'drug_list':[drug1,drug2], 'visit_year': year}\n",
    "\"\"\"\n",
    "visit_mappings = []\n",
    "total_diag_list = []\n",
    "total_year_list = []\n",
    "for visit, year in admYearMap.items():\n",
    "    visit_mapping = {}\n",
    "    visit_mapping['visit_id'] = visit\n",
    "    visit_mapping['visit_year'] = year\n",
    "    if visit in admDxMap and visit in admDrugMap:\n",
    "        visit_mapping['diag_list'] = list(set(admDxMap[visit]))\n",
    "        visit_mapping['drug_list'] = list(set(admDrugMap[visit]))\n",
    "        total_diag_list.extend(visit_mapping['diag_list'])\n",
    "        total_year_list.append(year)\n",
    "        visit_mappings.append(visit_mapping)  "
   ]
  },
  {
   "cell_type": "code",
   "execution_count": 190,
   "metadata": {},
   "outputs": [],
   "source": [
    "# Count the frequency of each item\n",
    "diag_list_count = Counter(total_diag_list)\n",
    "year_list_count = Counter(total_year_list)"
   ]
  },
  {
   "cell_type": "code",
   "execution_count": 191,
   "metadata": {},
   "outputs": [],
   "source": [
    "# Sort list according to frequency\n",
    "sorted_diag_list = sorted(diag_list_count.items(), key=itemgetter(1), reverse=True)\n",
    "sorted_year_list = sorted(year_list_count.items(), key=itemgetter(1), reverse=True)"
   ]
  },
  {
   "cell_type": "code",
   "execution_count": 192,
   "metadata": {},
   "outputs": [],
   "source": [
    "# Record the index of sorted diagnosis and drugs\n",
    "diag_order = {}\n",
    "for index, diag in enumerate(sorted_diag_list):\n",
    "    diag_order[diag[0]] = index"
   ]
  },
  {
   "cell_type": "code",
   "execution_count": 208,
   "metadata": {},
   "outputs": [],
   "source": [
    "# Clean visit data by filtering diseases\n",
    "visits = []\n",
    "for visit in visit_mappings:\n",
    "    flag = True\n",
    "    for diag in visit['diag_list']:\n",
    "        if diag_order[diag] > 2000:\n",
    "            flag = False\n",
    "            break\n",
    "    if flag:\n",
    "        visits.append(visit)"
   ]
  },
  {
   "cell_type": "code",
   "execution_count": 209,
   "metadata": {},
   "outputs": [],
   "source": [
    "# Split data by year and generate indices\n",
    "def split_indices(visits, year):\n",
    "    train = list()\n",
    "    test = list()\n",
    "    for i in range(len(visits)):\n",
    "        if int(visits[i]['visit_year']) >= int(year):\n",
    "            test.append(i)\n",
    "        else:\n",
    "            train.append(i)\n",
    "    return train, test"
   ]
  },
  {
   "cell_type": "code",
   "execution_count": 210,
   "metadata": {},
   "outputs": [],
   "source": [
    "train, test = split_indices(visits, '2181')"
   ]
  },
  {
   "cell_type": "code",
   "execution_count": 211,
   "metadata": {},
   "outputs": [],
   "source": [
    "X_train = [visits[i] for i in train]\n",
    "total_drug_list = []\n",
    "for visit in X_train:\n",
    "    total_drug_list.extend(visit['drug_list'])"
   ]
  },
  {
   "cell_type": "code",
   "execution_count": 212,
   "metadata": {},
   "outputs": [],
   "source": [
    "drug_list_count = Counter(total_drug_list)\n",
    "sorted_drug_list = sorted(drug_list_count.items(), key=itemgetter(1), reverse=True)\n",
    "drug_order = {}\n",
    "for index, drug in enumerate(sorted_drug_list):\n",
    "    drug_order[drug[0]] = index"
   ]
  },
  {
   "cell_type": "code",
   "execution_count": 213,
   "metadata": {},
   "outputs": [],
   "source": [
    "# Write files\n",
    "with open('clean_data_leap/visit_mappings.pkl', 'wb') as f:\n",
    "        pickle.dump(visits, f)\n",
    "\n",
    "with open('clean_data_leap/sorted_diag_list.pkl', 'wb') as f:\n",
    "        pickle.dump(sorted_diag_list, f)\n",
    "\n",
    "with open('clean_data_leap/sorted_drug_list.pkl', 'wb') as f:\n",
    "        pickle.dump(sorted_drug_list, f)\n",
    "        \n",
    "with open('clean_data_leap/diag_order.pkl', 'wb') as f:\n",
    "        pickle.dump(diag_order, f)\n",
    "\n",
    "with open('clean_data_leap/drug_order.pkl', 'wb') as f:\n",
    "        pickle.dump(drug_order, f)\n",
    "\n",
    "with open('clean_data_leap/diag_list.txt', \"w\") as f:\n",
    "    for diag in sorted_diag_list:\n",
    "        f.write(\"%-20s%-20d\\n\" %(diag[0], diag[1]))\n",
    "\n",
    "with open('clean_data_leap/drug_list.txt', \"w\") as f:\n",
    "    for drug in sorted_drug_list:\n",
    "        f.write(\"%-45s%-20d\\n\" %(drug[0], drug[1]))"
   ]
  },
  {
   "cell_type": "code",
   "execution_count": 214,
   "metadata": {},
   "outputs": [],
   "source": [
    "sorted_year_list = sorted(year_list_count.items(), key=itemgetter(0))\n",
    "with open('clean_data_leap/year_list.txt', \"w\") as f:\n",
    "    for year in sorted_year_list:\n",
    "        f.write(\"%-10s%-20d\\n\" %(year[0], year[1]))"
   ]
  },
  {
   "cell_type": "code",
   "execution_count": 218,
   "metadata": {},
   "outputs": [
    {
     "data": {
      "text/plain": [
       "50209"
      ]
     },
     "execution_count": 218,
     "metadata": {},
     "output_type": "execute_result"
    }
   ],
   "source": [
    "len(visit_mappings)"
   ]
  },
  {
   "cell_type": "code",
   "execution_count": 162,
   "metadata": {},
   "outputs": [],
   "source": [
    "visits = []\n",
    "for visit in visit_mappings:\n",
    "    diag_list = visit['diag_list']\n",
    "    drug_list = visit['drug_list']\n",
    "    visit_year = visit['visit_year']\n",
    "    visits.append([diag_list, drug_list, visit_year])"
   ]
  },
  {
   "cell_type": "code",
   "execution_count": 164,
   "metadata": {},
   "outputs": [],
   "source": [
    "with open('mimic_episodes.pkl', 'wb') as f:\n",
    "        pickle.dump(visits, f, protocol=2)"
   ]
  },
  {
   "cell_type": "code",
   "execution_count": 165,
   "metadata": {},
   "outputs": [
    {
     "data": {
      "text/plain": [
       "50209"
      ]
     },
     "execution_count": 165,
     "metadata": {},
     "output_type": "execute_result"
    }
   ],
   "source": [
    "len(visits)"
   ]
  },
  {
   "cell_type": "code",
   "execution_count": 231,
   "metadata": {},
   "outputs": [],
   "source": [
    "with open('clean_data_leap/disease_to_icd10.pkl', 'wb') as f:\n",
    "        pickle.dump(disease_to_icd10, f)"
   ]
  },
  {
   "cell_type": "code",
   "execution_count": null,
   "metadata": {},
   "outputs": [],
   "source": []
  }
 ],
 "metadata": {
  "kernelspec": {
   "display_name": "Python 3",
   "language": "python",
   "name": "python3"
  },
  "language_info": {
   "codemirror_mode": {
    "name": "ipython",
    "version": 3
   },
   "file_extension": ".py",
   "mimetype": "text/x-python",
   "name": "python",
   "nbconvert_exporter": "python",
   "pygments_lexer": "ipython3",
   "version": "3.7.3"
  }
 },
 "nbformat": 4,
 "nbformat_minor": 2
}
