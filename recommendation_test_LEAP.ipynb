{
 "cells": [
  {
   "cell_type": "code",
   "execution_count": 1,
   "metadata": {},
   "outputs": [],
   "source": [
    "import math\n",
    "import pickle\n",
    "from operator import itemgetter"
   ]
  },
  {
   "cell_type": "code",
   "execution_count": 2,
   "metadata": {},
   "outputs": [],
   "source": [
    "# Read files\n",
    "with open('mimic_2_freq_result_seq2seq_e84_s0_jacc0.16841_acc0.00097.pkl', 'rb') as f:\n",
    "    rec_leap = pickle.load(f)"
   ]
  },
  {
   "cell_type": "code",
   "execution_count": 26,
   "metadata": {},
   "outputs": [],
   "source": [
    "with open('clean_data_leap/disease_to_icd10.pkl', 'rb') as f:\n",
    "        disease_to_icd10 = pickle.load(f)"
   ]
  },
  {
   "cell_type": "code",
   "execution_count": 20,
   "metadata": {},
   "outputs": [],
   "source": [
    "# Measure validity of recommendation: NDCG algorithm\n",
    "def dcg(result, ref):\n",
    "    dcg = 0\n",
    "    for i in range(len(result)):\n",
    "        if result[i] in ref:\n",
    "            dcg += (2 ** 1 - 1)/math.log(i + 2, 2)\n",
    "        else:\n",
    "            dcg += (2 ** 0 - 1)/math.log(i + 2, 2)\n",
    "    return dcg\n",
    "\n",
    "def idcg(result, ref):\n",
    "    idcg = 0\n",
    "    for i in range(len(result)):\n",
    "        if i < len(ref):\n",
    "            idcg += (2 ** 1 - 1)/math.log(i + 2, 2)\n",
    "        else:\n",
    "            idcg += (2 ** 0 - 1)/math.log(i + 2, 2)\n",
    "    return idcg\n",
    "\n",
    "def ndcg(result, ref):\n",
    "    res_dcg = dcg(result, ref)\n",
    "    res_idcg = idcg(result, ref)\n",
    "    if res_idcg <= 0:\n",
    "        return 0\n",
    "    ndcg = res_dcg / res_idcg\n",
    "    return ndcg"
   ]
  },
  {
   "cell_type": "code",
   "execution_count": 24,
   "metadata": {},
   "outputs": [
    {
     "name": "stdout",
     "output_type": "stream",
     "text": [
      "0.305405937342264\n"
     ]
    }
   ],
   "source": [
    "sum_ndcg = 0\n",
    "for visit in rec_leap:\n",
    "    drug_list = visit[1]\n",
    "    recommendation = list(visit[2])\n",
    "    \n",
    "    rec_ndcg = ndcg(recommendation, drug_list)\n",
    "    sum_ndcg += rec_ndcg\n",
    "\n",
    "mean_ndcg = sum_ndcg / len(rec_leap)\n",
    "print(mean_ndcg)"
   ]
  },
  {
   "cell_type": "code",
   "execution_count": 12,
   "metadata": {},
   "outputs": [],
   "source": [
    "diag_len_jaccard = {}\n",
    "for visit in rec_leap:\n",
    "    drug_list = set(visit[1])\n",
    "    recommendation = visit[2]\n",
    "    \n",
    "    intersection = list(drug_list.intersection(recommendation))\n",
    "    union = list(drug_list.union(recommendation))\n",
    "    jaccard = len(intersection) / len(union)\n",
    "    \n",
    "    diag_list = visit[0]\n",
    "    diag_len = len(diag_list)\n",
    "    if diag_len in diag_len_jaccard:\n",
    "        diag_len_jaccard[diag_len].append(jaccard)\n",
    "    else:\n",
    "        diag_len_jaccard[diag_len] = [jaccard]\n"
   ]
  },
  {
   "cell_type": "code",
   "execution_count": 14,
   "metadata": {},
   "outputs": [],
   "source": [
    "for length in diag_len_jaccard:\n",
    "    jac_list = diag_len_jaccard[length]\n",
    "    avg = sum(jac_list) / len(jac_list)\n",
    "    diag_len_jaccard[length] = avg"
   ]
  },
  {
   "cell_type": "code",
   "execution_count": 15,
   "metadata": {},
   "outputs": [
    {
     "name": "stdout",
     "output_type": "stream",
     "text": [
      "[(1, 0.032078503314777775), (2, 0.053592606208891454), (3, 0.07656724869953788), (4, 0.12097220323725622), (5, 0.14390405052713634), (6, 0.16918761785144265), (7, 0.16169166525502252), (8, 0.16772838001089413), (9, 0.15699161340681309), (10, 0.1731417769571914), (11, 0.1658214867907907), (12, 0.17555354510117854), (13, 0.1715552775969158), (14, 0.17367915793325475), (15, 0.17439515306874145), (16, 0.1899685157136412), (17, 0.1917558339017834), (18, 0.20280995247765027), (19, 0.2191713178933478), (20, 0.2136701627481766), (21, 0.22360469888124154), (22, 0.22438346850792956), (23, 0.22715995651655183), (24, 0.24663996115432074), (25, 0.23143953363772465), (26, 0.2592273014165731), (27, 0.2361670405391722), (28, 0.2617100607018859), (29, 0.24123552460977582), (30, 0.29023276989993924), (31, 0.26577015469504744), (32, 0.25469244816821013), (33, 0.2568534783036851), (34, 0.2604956085694013), (35, 0.26888873707928646), (36, 0.2606012975863163), (37, 0.2676564495530013), (38, 0.3135593220338983), (39, 0.26605303249574996)]\n"
     ]
    }
   ],
   "source": [
    "sorted_len_jacaard = sorted(diag_len_jaccard.items(), key=itemgetter(0))\n",
    "print(sorted_len_jacaard)"
   ]
  },
  {
   "cell_type": "code",
   "execution_count": 18,
   "metadata": {},
   "outputs": [],
   "source": [
    "with open('recommendation_leap/leap_len_jaccard.txt', \"w\") as f:\n",
    "    for pair in sorted_len_jacaard:\n",
    "        f.write('%-.4f\\n' %(pair[1]))"
   ]
  },
  {
   "cell_type": "code",
   "execution_count": 32,
   "metadata": {},
   "outputs": [],
   "source": [
    "# Measure jaccard coefficient of recommendation\n",
    "def jaccard_coef(result, ref):\n",
    "    result, ref = set(result), set(ref)\n",
    "    intersection = result & ref\n",
    "    union = result | ref\n",
    "    jaccard = len(intersection) / float(len(union))\n",
    "    return jaccard"
   ]
  },
  {
   "cell_type": "code",
   "execution_count": 33,
   "metadata": {},
   "outputs": [],
   "source": [
    "sum_recall = sum_ndcg = sum_jaccard = 0\n",
    "avg_length = 0\n",
    "index = count = 0"
   ]
  },
  {
   "cell_type": "code",
   "execution_count": 34,
   "metadata": {},
   "outputs": [],
   "source": [
    "# Write files\n",
    "with open('recommendation_leap/rec_test_LEAP.txt', \"w\") as f:\n",
    "    for visit in rec_leap:\n",
    "        real_drugs = list()\n",
    "        for diag in visit[0]:\n",
    "            if diag in disease_to_icd10:\n",
    "                f.write(\"%s \" %(disease_to_icd10[diag]))\n",
    "            else:\n",
    "                f.write(\"%s \" %(diag))\n",
    "        \n",
    "        f.write(\"\\nMIMIC: \")\n",
    "        for drug in visit[1]:\n",
    "            f.write(\"%s \" %(drug))\n",
    "            real_drugs.append(drug)\n",
    "\n",
    "        drug_rec = list(visit[2])\n",
    "        f.write(\"\\nLEAP Recommendation: \")\n",
    "        for drug in drug_rec:\n",
    "            f.write(\"%s / \" %(drug))\n",
    "        \n",
    "        recall_LEAP = 0\n",
    "        for drug in drug_rec:\n",
    "            if drug in real_drugs:\n",
    "                recall_LEAP += 1\n",
    "        f.write(\"\\nRecall Rate: \")\n",
    "        recall_rate = recall_LEAP * 1.0 / (len(real_drugs))\n",
    "        f.write(\"%.4f\\t\" %(recall_rate))\n",
    "        sum_recall += recall_rate\n",
    "\n",
    "        f.write(\"NDCG: \")\n",
    "        ndcg_LEAP = ndcg(drug_rec, real_drugs)\n",
    "        f.write(\"%.4f\\t\" %(ndcg_LEAP))\n",
    "        sum_ndcg += ndcg_LEAP\n",
    "\n",
    "        f.write(\"Jaccard: \")\n",
    "        jaccard_LEAP = jaccard_coef(drug_rec, real_drugs)\n",
    "        f.write(\"%.4f\\t\" %(jaccard_LEAP))\n",
    "        sum_jaccard += jaccard_LEAP\n",
    "\n",
    "        avg_length += len(drug_rec)\n",
    "        \n",
    "        index += 1\n",
    "        count += 1\n",
    "        f.write(\"\\n---------------------------------------------------------------------------------------\\n\")\n",
    "\n",
    "    f.write(\"%-10s%-10s\" %(\" \", \"Single\"))\n",
    "    f.write(\"\\n%-10s%-10.4f\" %(\"Recall\", sum_recall/count))\n",
    "    f.write(\"\\n%-10s%-10.4f\" %(\"NDCG\", sum_ndcg/count))\n",
    "    f.write(\"\\n%-10s%-10.4f\" %(\"Jaccard\", sum_jaccard/count))\n",
    "    f.write(\"\\n%-10s%-10.4f\" %(\"Length\", avg_length/count))"
   ]
  },
  {
   "cell_type": "code",
   "execution_count": null,
   "metadata": {},
   "outputs": [],
   "source": []
  }
 ],
 "metadata": {
  "kernelspec": {
   "display_name": "Python 3",
   "language": "python",
   "name": "python3"
  },
  "language_info": {
   "codemirror_mode": {
    "name": "ipython",
    "version": 3
   },
   "file_extension": ".py",
   "mimetype": "text/x-python",
   "name": "python",
   "nbconvert_exporter": "python",
   "pygments_lexer": "ipython3",
   "version": "3.7.3"
  }
 },
 "nbformat": 4,
 "nbformat_minor": 2
}
