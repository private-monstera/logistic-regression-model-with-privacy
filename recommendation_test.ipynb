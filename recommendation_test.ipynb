{
 "cells": [
  {
   "cell_type": "code",
   "execution_count": 170,
   "metadata": {},
   "outputs": [],
   "source": [
    "import math\n",
    "import pickle\n",
    "from operator import itemgetter"
   ]
  },
  {
   "cell_type": "code",
   "execution_count": 87,
   "metadata": {},
   "outputs": [],
   "source": [
    "# Read files\n",
    "with open('clean_data_leap/visit_mappings.pkl', 'rb') as f:\n",
    "        visit_mappings = pickle.load(f)\n",
    "\n",
    "with open('clean_data_leap/sorted_drug_list.pkl', 'rb') as f:\n",
    "        sorted_drug_list = pickle.load(f)\n",
    "\n",
    "with open('recommendation_leap/single_rec_50.pkl', 'rb') as f:\n",
    "        single = pickle.load(f)\n",
    "\n",
    "with open('recommendation_leap/mul_rec_50.pkl', 'rb') as f:\n",
    "        multiple = pickle.load(f)\n",
    "\n",
    "with open('logistic_models_top538/test.pkl', 'rb') as f:\n",
    "        test = pickle.load(f)\n",
    "\n",
    "with open('clean_data_leap/diag_order.pkl', 'rb') as f:\n",
    "        diag_order = pickle.load(f)"
   ]
  },
  {
   "cell_type": "code",
   "execution_count": 202,
   "metadata": {},
   "outputs": [],
   "source": [
    "with open('clean_data_leap/disease_to_icd10.pkl', 'rb') as f:\n",
    "        disease_to_icd10 = pickle.load(f)"
   ]
  },
  {
   "cell_type": "code",
   "execution_count": 88,
   "metadata": {},
   "outputs": [],
   "source": [
    "valid_drugs = list()\n",
    "for ele in sorted_drug_list[:50]:\n",
    "    valid_drugs.append(ele[0])"
   ]
  },
  {
   "cell_type": "code",
   "execution_count": 89,
   "metadata": {},
   "outputs": [],
   "source": [
    "test_visits = [visit_mappings[i] for i in test]"
   ]
  },
  {
   "cell_type": "code",
   "execution_count": 92,
   "metadata": {},
   "outputs": [],
   "source": [
    "# Measure validity of recommendation: NDCG algorithm\n",
    "def dcg(result, ref):\n",
    "    dcg = 0\n",
    "    for i in range(len(result)):\n",
    "        if result[i] in ref:\n",
    "            dcg += (2 ** 1 - 1)/math.log(i + 2, 2)\n",
    "        else:\n",
    "            dcg += (2 ** 0 - 1)/math.log(i + 2, 2)\n",
    "    return dcg\n",
    "\n",
    "def idcg(result, ref):\n",
    "    idcg = 0\n",
    "    for i in range(len(result)):\n",
    "        if i < len(ref):\n",
    "            idcg += (2 ** 1 - 1)/math.log(i + 2, 2)\n",
    "        else:\n",
    "            idcg += (2 ** 0 - 1)/math.log(i + 2, 2)\n",
    "    return idcg\n",
    "\n",
    "def ndcg(result, ref):\n",
    "    res_dcg = dcg(result, ref)\n",
    "    res_idcg = idcg(result, ref)\n",
    "    if res_idcg <= 0:\n",
    "        return 0\n",
    "    ndcg = res_dcg / res_idcg\n",
    "    return ndcg"
   ]
  },
  {
   "cell_type": "code",
   "execution_count": 93,
   "metadata": {},
   "outputs": [],
   "source": [
    "# Measure jaccard coefficient of recommendation\n",
    "def jaccard_coef(result, ref):\n",
    "    result, ref = set(result), set(ref)\n",
    "    intersection = result & ref\n",
    "    union = result | ref\n",
    "    jaccard = len(intersection) / float(len(union))\n",
    "    return jaccard"
   ]
  },
  {
   "cell_type": "code",
   "execution_count": 203,
   "metadata": {},
   "outputs": [],
   "source": [
    "with open('recommendation_leap/thresholds_50_50.pkl', 'rb') as f:\n",
    "    thresholds = pickle.load(f)"
   ]
  },
  {
   "cell_type": "code",
   "execution_count": 204,
   "metadata": {},
   "outputs": [],
   "source": [
    "drug_thresholds = {}\n",
    "for index, threshold in enumerate(thresholds):\n",
    "    drug_name = sorted_drug_list[index][0]\n",
    "    if not isinstance(threshold, float):\n",
    "        threshold = 0.0\n",
    "    drug_thresholds[drug_name] = threshold"
   ]
  },
  {
   "cell_type": "code",
   "execution_count": 205,
   "metadata": {},
   "outputs": [],
   "source": [
    "sum_recall_single = sum_recall_mul = 0\n",
    "sum_ndcg_single = sum_ndcg_mul = 0\n",
    "sum_jaccard_single = sum_jaccard_mul = 0"
   ]
  },
  {
   "cell_type": "code",
   "execution_count": 206,
   "metadata": {},
   "outputs": [],
   "source": [
    "avg_length_single = avg_length_mul = 0"
   ]
  },
  {
   "cell_type": "code",
   "execution_count": 207,
   "metadata": {},
   "outputs": [],
   "source": [
    "mul_diag_len_jaccard = {}\n",
    "single_diag_len_jaccard = {}"
   ]
  },
  {
   "cell_type": "code",
   "execution_count": 208,
   "metadata": {},
   "outputs": [],
   "source": [
    "# Write files\n",
    "with open('recommendation_leap/rec_test_top50_threshold50.txt', \"w\") as f:\n",
    "    index = count = 0\n",
    "    for visit in test_visits:\n",
    "        real_drugs = list()\n",
    "        for diag in visit['diag_list']:\n",
    "            if diag in disease_to_icd10:\n",
    "                f.write(\"%s \" %(disease_to_icd10[diag]))\n",
    "            else:\n",
    "                f.write(\"%s \" %(diag))\n",
    "        \n",
    "        f.write(\"\\nMIMIC: \")\n",
    "        for drug in visit['drug_list']:\n",
    "            if drug in valid_drugs:\n",
    "                f.write(\"%s \" %(drug))\n",
    "                real_drugs.append(drug)\n",
    "\n",
    "        if len(real_drugs) == 0:\n",
    "            index += 1\n",
    "            continue\n",
    "        \n",
    "        recall_single = recall_mul = 0\n",
    "        \n",
    "        single_rec = {}\n",
    "        drug_rec = list()\n",
    "        for diag in visit['diag_list']:\n",
    "            for drug in single[diag]:\n",
    "                if sorted_drug_list[drug[0]][0] in single_rec and drug[1] <= single_rec[sorted_drug_list[drug[0]][0]]:\n",
    "                    continue\n",
    "                single_rec[sorted_drug_list[drug[0]][0]] = drug[1]\n",
    "        f.write(\"\\nSingle Factor Recommendation: \")\n",
    "        sorted_single_rec = sorted(single_rec.items(), key=itemgetter(1), reverse=True)\n",
    "        for rec in sorted_single_rec:\n",
    "            if rec[0] in drug_thresholds:\n",
    "                if rec[1] >= drug_thresholds[rec[0]]:\n",
    "                    f.write(\"%s, %.4f / \" %(rec[0], rec[1]))\n",
    "                    drug_rec.append(rec[0])\n",
    "\n",
    "        for drug in drug_rec:\n",
    "            if drug in real_drugs:\n",
    "                recall_single += 1\n",
    "        f.write(\"\\nRecall Rate: \")\n",
    "        recall_rate_single = recall_single * 1.0 / (len(real_drugs))\n",
    "        f.write(\"%.4f\\t\" %(recall_rate_single))\n",
    "        sum_recall_single += recall_rate_single\n",
    "\n",
    "        f.write(\"NDCG: \")\n",
    "        ndcg_single = ndcg(drug_rec, real_drugs)\n",
    "        f.write(\"%.4f\\t\" %(ndcg_single))\n",
    "        sum_ndcg_single += ndcg_single\n",
    "\n",
    "        f.write(\"Jaccard: \")\n",
    "        jaccard_single = jaccard_coef(drug_rec, real_drugs)\n",
    "        f.write(\"%.4f\\t\" %(jaccard_single))\n",
    "        sum_jaccard_single += jaccard_single\n",
    "\n",
    "        avg_length_single += len(drug_rec)\n",
    "\n",
    "        f.write(\"\\nMultiple Factor Recommendation: \")\n",
    "        multi_rec = multiple[index]\n",
    "        drug_rec_mul = list()\n",
    "        for rec in multi_rec:\n",
    "            key = sorted_drug_list[rec[0]][0]\n",
    "            if key in drug_thresholds:\n",
    "                if rec[1] >= drug_thresholds[key]:\n",
    "                    f.write(\"%s, %.4f / \" %(sorted_drug_list[rec[0]][0], rec[1]))\n",
    "                    drug_rec_mul.append(sorted_drug_list[rec[0]][0])\n",
    "\n",
    "        for drug in drug_rec_mul:\n",
    "            if drug in real_drugs:\n",
    "                recall_mul += 1\n",
    "        f.write(\"\\nRecall Rate: \")\n",
    "        recall_rate_mul = recall_mul * 1.0 / (len(real_drugs))\n",
    "        f.write(\"%.4f\\t\" %(recall_rate_mul))\n",
    "        sum_recall_mul += recall_rate_mul\n",
    "\n",
    "        f.write(\"NDCG: \")\n",
    "        ndcg_mul = ndcg(drug_rec_mul, real_drugs)\n",
    "        f.write(\"%.4f\\t\" %(ndcg_mul))\n",
    "        sum_ndcg_mul += ndcg_mul\n",
    "\n",
    "        f.write(\"Jaccard: \")\n",
    "        jaccard_mul = jaccard_coef(drug_rec_mul, real_drugs)\n",
    "        f.write(\"%.4f\\t\" %(jaccard_mul))\n",
    "        sum_jaccard_mul += jaccard_mul\n",
    "\n",
    "        avg_length_mul += len(drug_rec_mul)\n",
    "        \n",
    "        diag_len = len(visit['diag_list'])\n",
    "        if diag_len in mul_diag_len_jaccard:\n",
    "            mul_diag_len_jaccard[diag_len].append(jaccard_mul)\n",
    "        else:\n",
    "            mul_diag_len_jaccard[diag_len] = [jaccard_mul]\n",
    "        if diag_len in single_diag_len_jaccard:\n",
    "            single_diag_len_jaccard[diag_len].append(jaccard_single)\n",
    "        else:\n",
    "            single_diag_len_jaccard[diag_len] = [jaccard_single]\n",
    "        \n",
    "        index += 1\n",
    "        count += 1\n",
    "        f.write(\"\\n---------------------------------------------------------------------------------------\\n\")\n",
    "\n",
    "    f.write(\"%-10s%-10s%-10s\" %(\" \", \"Single\", \"Multiple\"))\n",
    "    f.write(\"\\n%-10s%-10.4f%-10.4f\" %(\"Recall\", sum_recall_single/count, sum_recall_mul/count))\n",
    "    f.write(\"\\n%-10s%-10.4f%-10.4f\" %(\"NDCG\", sum_ndcg_single/count, sum_ndcg_mul/count))\n",
    "    f.write(\"\\n%-10s%-10.4f%-10.4f\" %(\"Jaccard\", sum_jaccard_single/count, sum_jaccard_mul/count))\n",
    "    f.write(\"\\n%-10s%-10.4f%-10.4f\" %(\"Length\", avg_length_single/count, avg_length_mul/count))"
   ]
  },
  {
   "cell_type": "code",
   "execution_count": 190,
   "metadata": {},
   "outputs": [],
   "source": [
    "for length in mul_diag_len_jaccard:\n",
    "    jac_list = mul_diag_len_jaccard[length]\n",
    "    avg = sum(jac_list) / len(jac_list)\n",
    "    mul_diag_len_jaccard[length] = avg"
   ]
  },
  {
   "cell_type": "code",
   "execution_count": 191,
   "metadata": {},
   "outputs": [
    {
     "name": "stdout",
     "output_type": "stream",
     "text": [
      "[(1, 0.1874692821798085), (2, 0.2059424716250963), (3, 0.2318094603339046), (4, 0.2578659768568519), (5, 0.28738186746379585), (6, 0.28514814799472094), (7, 0.27937887302354775), (8, 0.30830278012562395), (9, 0.28732815383488636), (10, 0.35066589689132915), (11, 0.36308895582216144), (12, 0.3798562379077928), (13, 0.3796786631444079), (14, 0.37673880599515086), (15, 0.3776795613491196), (16, 0.4131026304833303), (17, 0.40095773572665816), (18, 0.405564683994855), (19, 0.4428282803662178), (20, 0.4299398514711865), (21, 0.43732310757538106), (22, 0.474949383305282), (23, 0.453037220126799), (24, 0.476696234729102), (25, 0.4459807949043059), (26, 0.5081994922507135), (27, 0.45913467693263776), (28, 0.5148535572983789), (29, 0.5427317002884986), (30, 0.5859230693105925), (31, 0.5187492778147428), (32, 0.6209771834829884), (33, 0.4896499556466945), (34, 0.5652777777777778), (35, 0.5532432024367507), (36, 0.46781708211143697), (37, 0.7095959595959596), (38, 0.6875), (39, 0.5859518450981865)]\n"
     ]
    }
   ],
   "source": [
    "sorted_mul_len_jacaard = sorted(mul_diag_len_jaccard.items(), key=itemgetter(0))\n",
    "print(sorted_mul_len_jacaard)"
   ]
  },
  {
   "cell_type": "code",
   "execution_count": 197,
   "metadata": {},
   "outputs": [],
   "source": [
    "with open('recommendation_leap/mul_len_jaccard.txt', \"w\") as f:\n",
    "    for pair in sorted_mul_len_jacaard:\n",
    "        f.write('%-.4f\\n' %(pair[1]))"
   ]
  },
  {
   "cell_type": "code",
   "execution_count": 194,
   "metadata": {},
   "outputs": [],
   "source": [
    "for length in single_diag_len_jaccard:\n",
    "    jac_list = single_diag_len_jaccard[length]\n",
    "    avg = sum(jac_list) / len(jac_list)\n",
    "    single_diag_len_jaccard[length] = avg"
   ]
  },
  {
   "cell_type": "code",
   "execution_count": 195,
   "metadata": {},
   "outputs": [
    {
     "name": "stdout",
     "output_type": "stream",
     "text": [
      "[(1, 0.1874692821798085), (2, 0.18567572728773027), (3, 0.18402648307621683), (4, 0.19651618867656667), (5, 0.20266024960764908), (6, 0.20834630004305243), (7, 0.187437358300273), (8, 0.20476292815560426), (9, 0.20229700590760746), (10, 0.21755716070256786), (11, 0.2230874168710433), (12, 0.22835966476549124), (13, 0.23074741078663408), (14, 0.22986372539994557), (15, 0.22994141191353412), (16, 0.24830290464939608), (17, 0.23970816596737998), (18, 0.24497223467602078), (19, 0.2484644412553355), (20, 0.2512396583391832), (21, 0.24750466614066588), (22, 0.2770976790175407), (23, 0.2638967825989434), (24, 0.27493487402711764), (25, 0.26895024289120933), (26, 0.2758062712199876), (27, 0.28162454433908346), (28, 0.292451064581297), (29, 0.30779931181458786), (30, 0.3529864473645033), (31, 0.3000970738697776), (32, 0.32423962453613064), (33, 0.29510304366991913), (34, 0.2727272727272727), (35, 0.3234707171123119), (36, 0.24372412008281572), (37, 0.396640826873385), (38, 0.4897959183673469), (39, 0.32444841373533373)]\n"
     ]
    }
   ],
   "source": [
    "sorted_single_len_jacaard = sorted(single_diag_len_jaccard.items(), key=itemgetter(0))\n",
    "print(sorted_single_len_jacaard)"
   ]
  },
  {
   "cell_type": "code",
   "execution_count": 198,
   "metadata": {},
   "outputs": [],
   "source": [
    "with open('recommendation_leap/single_len_jaccard.txt', \"w\") as f:\n",
    "    for pair in sorted_single_len_jacaard:\n",
    "        f.write('%-.4f\\n' %(pair[1]))"
   ]
  },
  {
   "cell_type": "code",
   "execution_count": null,
   "metadata": {},
   "outputs": [],
   "source": []
  }
 ],
 "metadata": {
  "kernelspec": {
   "display_name": "Python 3",
   "language": "python",
   "name": "python3"
  },
  "language_info": {
   "codemirror_mode": {
    "name": "ipython",
    "version": 3
   },
   "file_extension": ".py",
   "mimetype": "text/x-python",
   "name": "python",
   "nbconvert_exporter": "python",
   "pygments_lexer": "ipython3",
   "version": "3.7.3"
  }
 },
 "nbformat": 4,
 "nbformat_minor": 2
}
