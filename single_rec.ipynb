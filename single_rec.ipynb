{
 "cells": [
  {
   "cell_type": "code",
   "execution_count": 18,
   "metadata": {},
   "outputs": [],
   "source": [
    "import json\n",
    "import pickle\n",
    "import numpy as np\n",
    "from operator import itemgetter\n",
    "from sklearn.linear_model import LogisticRegression\n",
    "from sklearn.externals import joblib"
   ]
  },
  {
   "cell_type": "code",
   "execution_count": 19,
   "metadata": {},
   "outputs": [],
   "source": [
    "# Read files\n",
    "with open('clean_data_leap/sorted_diag_list.pkl', 'rb') as f:\n",
    "        sorted_diag_list = pickle.load(f)\n",
    "\n",
    "with open('clean_data_leap/sorted_drug_list.pkl', 'rb') as f:\n",
    "        sorted_drug_list = pickle.load(f)"
   ]
  },
  {
   "cell_type": "code",
   "execution_count": 20,
   "metadata": {},
   "outputs": [],
   "source": [
    "# Read models & generate probability matrix\n",
    "prob_list = list()\n",
    "for i in range(50):\n",
    "    lr = joblib.load('logistic_models_top538/model' + str(i) + '.m')\n",
    "    diag_iden_matrix = np.eye(len(sorted_diag_list[:2001]))\n",
    "    diag_predict = lr.predict_proba(diag_iden_matrix)\n",
    "    prob = list()\n",
    "    for predict in diag_predict:\n",
    "        prob.append(predict[1])\n",
    "    prob_list.append(prob)\n",
    "prob_matrix = np.matrix(prob_list)"
   ]
  },
  {
   "cell_type": "code",
   "execution_count": 21,
   "metadata": {},
   "outputs": [],
   "source": [
    "# Drug recommendation for each disease\n",
    "count = 0\n",
    "single_rec = {}\n",
    "with open('recommendation_leap/single_rec_50.txt', \"w\") as f:\n",
    "    for j in range(np.size(prob_matrix, axis=1)):\n",
    "        diag = prob_matrix[:,j].tolist()\n",
    "        drug_prob = {}\n",
    "        for i in range(len(diag)):\n",
    "            drug_prob[i] = diag[i][0]\n",
    "        sorted_prob = sorted(drug_prob.items(), key=itemgetter(1), reverse=True)\n",
    "        f.write('%s:' %(sorted_diag_list[count][0]))\n",
    "        single_rec[sorted_diag_list[count][0]] = sorted_prob\n",
    "        for drug in sorted_prob:\n",
    "            f.write('%s,%.4f; ' %(sorted_drug_list[drug[0]][0], drug[1]))\n",
    "        f.write('\\n------------------------------------------------------\\n')\n",
    "        count += 1"
   ]
  },
  {
   "cell_type": "code",
   "execution_count": 22,
   "metadata": {},
   "outputs": [],
   "source": [
    "# Save single disease drug recommendation dict\n",
    "with open('recommendation_leap/single_rec_50.pkl', 'wb') as f:\n",
    "        pickle.dump(single_rec, f)"
   ]
  },
  {
   "cell_type": "code",
   "execution_count": null,
   "metadata": {},
   "outputs": [],
   "source": []
  }
 ],
 "metadata": {
  "kernelspec": {
   "display_name": "Python 3",
   "language": "python",
   "name": "python3"
  },
  "language_info": {
   "codemirror_mode": {
    "name": "ipython",
    "version": 3
   },
   "file_extension": ".py",
   "mimetype": "text/x-python",
   "name": "python",
   "nbconvert_exporter": "python",
   "pygments_lexer": "ipython3",
   "version": "3.7.3"
  }
 },
 "nbformat": 4,
 "nbformat_minor": 2
}
