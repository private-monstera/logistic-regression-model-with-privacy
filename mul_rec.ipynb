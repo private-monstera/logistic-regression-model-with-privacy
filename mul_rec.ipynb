{
 "cells": [
  {
   "cell_type": "code",
   "execution_count": 29,
   "metadata": {},
   "outputs": [],
   "source": [
    "import json\n",
    "import pickle\n",
    "import numpy as np\n",
    "from operator import itemgetter\n",
    "from sklearn.linear_model import LogisticRegression\n",
    "from sklearn.externals import joblib"
   ]
  },
  {
   "cell_type": "code",
   "execution_count": 31,
   "metadata": {},
   "outputs": [],
   "source": [
    "# Read files\n",
    "with open('clean_data_leap/sorted_diag_list.pkl', 'rb') as f:\n",
    "        sorted_diag_list = pickle.load(f)\n",
    "\n",
    "with open('clean_data_leap/sorted_drug_list.pkl', 'rb') as f:\n",
    "        sorted_drug_list = pickle.load(f)\n",
    "\n",
    "with open('logistic_models_top538/matrix.pkl', 'rb') as f:\n",
    "        feature_matrix = pickle.load(f)\n",
    "\n",
    "with open('logistic_models_top538/test.pkl', 'rb') as f:\n",
    "        test = pickle.load(f)"
   ]
  },
  {
   "cell_type": "code",
   "execution_count": 32,
   "metadata": {},
   "outputs": [],
   "source": [
    "# Read models & generate probability matrix\n",
    "prob_list = list()\n",
    "for i in range(50):\n",
    "    lr = joblib.load('logistic_models_top538/model' + str(i) + '.m')\n",
    "    diag_matrix = np.matrix([feature_matrix[i] for i in test])\n",
    "    diag_predict = lr.predict_proba(diag_matrix)\n",
    "    prob = list()\n",
    "    for predict in diag_predict:\n",
    "        prob.append(predict[1])\n",
    "    prob_list.append(prob)\n",
    "prob_matrix = np.matrix(prob_list)"
   ]
  },
  {
   "cell_type": "code",
   "execution_count": 33,
   "metadata": {},
   "outputs": [],
   "source": [
    "# Drug recommendation for test visits\n",
    "mul_rec = []\n",
    "with open('recommendation_leap/mul_rec_50.txt', \"w\") as f:\n",
    "    prob_matrix_T = prob_matrix.T.tolist()\n",
    "    for row in prob_matrix_T:\n",
    "        drug_prob = {}\n",
    "        for i in range(len(row)):\n",
    "            drug_prob[i] = row[i]\n",
    "        sorted_prob = sorted(drug_prob.items(), key=itemgetter(1), reverse=True)\n",
    "        mul_rec.append(sorted_prob)\n",
    "        for drug in sorted_prob:\n",
    "            f.write(\"%s,%.4f;\" %(sorted_drug_list[drug[0]][0], drug[1]))\n",
    "        f.write('\\n------------------------------------------------------\\n')"
   ]
  },
  {
   "cell_type": "code",
   "execution_count": 34,
   "metadata": {},
   "outputs": [],
   "source": [
    "# Save single disease drug recommendation dict\n",
    "with open('recommendation_leap/mul_rec_50.pkl', 'wb') as f:\n",
    "        pickle.dump(mul_rec, f)"
   ]
  },
  {
   "cell_type": "code",
   "execution_count": null,
   "metadata": {},
   "outputs": [],
   "source": []
  }
 ],
 "metadata": {
  "kernelspec": {
   "display_name": "Python 3",
   "language": "python",
   "name": "python3"
  },
  "language_info": {
   "codemirror_mode": {
    "name": "ipython",
    "version": 3
   },
   "file_extension": ".py",
   "mimetype": "text/x-python",
   "name": "python",
   "nbconvert_exporter": "python",
   "pygments_lexer": "ipython3",
   "version": "3.7.3"
  }
 },
 "nbformat": 4,
 "nbformat_minor": 2
}
