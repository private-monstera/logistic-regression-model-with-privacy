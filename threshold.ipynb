{
 "cells": [
  {
   "cell_type": "code",
   "execution_count": 36,
   "metadata": {},
   "outputs": [],
   "source": [
    "import json\n",
    "import pickle\n",
    "import numpy as np\n",
    "from operator import itemgetter\n",
    "from sklearn.linear_model import LogisticRegression\n",
    "from sklearn.metrics import roc_curve\n",
    "from sklearn.externals import joblib"
   ]
  },
  {
   "cell_type": "code",
   "execution_count": 37,
   "metadata": {},
   "outputs": [],
   "source": [
    "# Read files\n",
    "with open('clean_data_leap/visit_mappings.pkl', 'rb') as f:\n",
    "        visit_mappings = pickle.load(f)\n",
    "\n",
    "with open('clean_data_leap/sorted_drug_list.pkl', 'rb') as f:\n",
    "        sorted_drug_list = pickle.load(f)\n",
    "\n",
    "with open('logistic_models_top538/matrix.pkl', 'rb') as f:\n",
    "        matrix = pickle.load(f)\n",
    "\n",
    "with open('logistic_models_top538/train.pkl', 'rb') as f:\n",
    "        train = pickle.load(f)\n",
    "\n",
    "with open('logistic_models_top538/test.pkl', 'rb') as f:\n",
    "        test = pickle.load(f)"
   ]
  },
  {
   "cell_type": "code",
   "execution_count": 38,
   "metadata": {},
   "outputs": [],
   "source": [
    "# One hot encoding and buid vector\n",
    "def feature_vector(visit_mappings, label):\n",
    "    one_hot_vec = [0 for _ in range(len(visit_mappings))]\n",
    "    for i in range(len(one_hot_vec)):\n",
    "        if label[0] in visit_mappings[i]['drug_list']:\n",
    "            one_hot_vec[i] = 1\n",
    "    return one_hot_vec"
   ]
  },
  {
   "cell_type": "code",
   "execution_count": 39,
   "metadata": {},
   "outputs": [],
   "source": [
    "# Find the first position of the num that is larger than or equal to target\n",
    "def binary_search(nums, target):\n",
    "    start, end = 0, len(nums) - 1\n",
    "    while start + 1 < end:\n",
    "        mid = start + (end - start) // 2\n",
    "        if nums[mid] >= target:\n",
    "            end = mid\n",
    "        else:\n",
    "            start = mid\n",
    "\n",
    "    if nums[start] >= target:\n",
    "        return start\n",
    "    if nums[end] >= target:\n",
    "        return end\n",
    "    return end"
   ]
  },
  {
   "cell_type": "code",
   "execution_count": 56,
   "metadata": {},
   "outputs": [
    {
     "name": "stderr",
     "output_type": "stream",
     "text": [
      "/anaconda3/lib/python3.7/site-packages/sklearn/metrics/ranking.py:659: UndefinedMetricWarning: No positive samples in y_true, true positive value should be meaningless\n",
      "  UndefinedMetricWarning)\n"
     ]
    }
   ],
   "source": [
    "# Read models and check the threshold\n",
    "selected_thresholds = []\n",
    "X_test = np.matrix([matrix[i] for i in test])\n",
    "with open('recommendation_leap/threshold_50_60.txt', 'w') as f:\n",
    "    for i in range(50):\n",
    "        lr = joblib.load(\"logistic_models_top538/model\" + str(i) + \".m\")\n",
    "        drug_vector = feature_vector(visit_mappings, sorted_drug_list[i - 1])\n",
    "        y_test = [drug_vector[i] for i in test]\n",
    "        probs = lr.predict_proba(X_test)\n",
    "        y_score = list()\n",
    "        for prob in probs:\n",
    "            y_score.append(prob[1])\n",
    "        fpr, tpr, thresholds = roc_curve(y_test, y_score, pos_label=1)\n",
    "        index = binary_search(list(tpr), 0.60)\n",
    "        selected_thresholds.append(thresholds[index])\n",
    "        f.write('\\nFPR:')\n",
    "        for ele in fpr:\n",
    "            f.write('%.4f; ' %(ele))\n",
    "        f.write('\\nTPR:')\n",
    "        for ele in tpr:\n",
    "            f.write('%.4f; ' %(ele))\n",
    "        f.write('\\nTHRESHOLD:')\n",
    "        for ele in thresholds:\n",
    "            f.write('%.4f; ' %(ele))\n",
    "        f.write('\\n-------------------------------------------------------\\n')"
   ]
  },
  {
   "cell_type": "code",
   "execution_count": 57,
   "metadata": {},
   "outputs": [],
   "source": [
    "# Write files\n",
    "with open('recommendation_leap/thresholds_50_60.pkl', 'wb') as f:\n",
    "        pickle.dump(selected_thresholds, f)"
   ]
  },
  {
   "cell_type": "code",
   "execution_count": null,
   "metadata": {},
   "outputs": [],
   "source": []
  }
 ],
 "metadata": {
  "kernelspec": {
   "display_name": "Python 3",
   "language": "python",
   "name": "python3"
  },
  "language_info": {
   "codemirror_mode": {
    "name": "ipython",
    "version": 3
   },
   "file_extension": ".py",
   "mimetype": "text/x-python",
   "name": "python",
   "nbconvert_exporter": "python",
   "pygments_lexer": "ipython3",
   "version": "3.7.3"
  }
 },
 "nbformat": 4,
 "nbformat_minor": 2
}
